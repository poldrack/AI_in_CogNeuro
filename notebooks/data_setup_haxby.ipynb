{
 "cells": [
  {
   "cell_type": "markdown",
   "metadata": {},
   "source": [
    "## Data preparation for encoding/decoding models\n",
    "\n",
    "For this example, we will use the data from Haxby et al., 2001., which are shared via OpenNeuro:\n",
    "\n",
    "https://openneuro.org/datasets/ds000105/versions/3.0.0\n",
    "\n",
    "The data are formatted according to the BIDS standard: https://bids-specification.readthedocs.io/en/stable/index.html\n",
    "\n",
    "First, import required dependencies. You can install these using `pip install -r requirements.txt` from the main repo directory."
   ]
  },
  {
   "cell_type": "code",
   "execution_count": 32,
   "metadata": {},
   "outputs": [
    {
     "name": "stdout",
     "output_type": "stream",
     "text": [
      "The autoreload extension is already loaded. To reload it, use:\n",
      "  %reload_ext autoreload\n"
     ]
    }
   ],
   "source": [
    "%load_ext autoreload\n",
    "%autoreload 2\n",
    "\n",
    "import os\n",
    "import nilearn\n",
    "from nilearn import datasets, plotting\n",
    "from nilearn.image import load_img, mean_img, resample_img\n",
    "from nilearn.maskers import NiftiMasker\n",
    "from nilearn.glm.first_level import FirstLevelModel\n",
    "from nilearn.glm.second_level import SecondLevelModel\n",
    "from nilearn.plotting import plot_stat_map, plot_design_matrix\n",
    "import h5py\n",
    "import numpy as np\n",
    "import nibabel as nib\n",
    "import datalad.api as dl\n",
    "from bids import BIDSLayout\n",
    "from nilearn.glm.first_level import make_first_level_design_matrix\n",
    "import pandas as pd\n",
    "import matplotlib.pyplot as plt\n",
    "from templateflow import api as tflow\n",
    "import templateflow\n",
    "from utils import (get_difumo_mask, \n",
    "                   get_subject_common_brain_mask,\n",
    "                   get_group_common_mask,\n",
    "                   get_subject_runs)"
   ]
  },
  {
   "cell_type": "markdown",
   "metadata": {},
   "source": [
    "#### Get the data using datalad\n",
    "\n",
    "We will use a tool called [Datalad](https://www.datalad.org/) to obtain the data from openneuro. \n",
    "\n",
    "We will download the raw data, as well as the processed data (using [fMRIPrep](https://fmriprep.org/en/stable/).  Note that downloading these derivative data can take quite a while depending on the speed of one's connection.  "
   ]
  },
  {
   "cell_type": "code",
   "execution_count": 20,
   "metadata": {},
   "outputs": [
    {
     "name": "stderr",
     "output_type": "stream",
     "text": [
      "[INFO] Ensuring presence of Dataset(/Users/poldrack/data_unsynced/ds000105) to get /Users/poldrack/data_unsynced/ds000105 \n"
     ]
    }
   ],
   "source": [
    "data_dir = \"/Users/poldrack/data_unsynced/ds000105\"\n",
    "assert os.path.exists(data_dir), \"Data directory not found: %s\" % data_dir\n",
    "\n",
    "# get the raw data\n",
    "ds = dl.clone(\n",
    "    path=data_dir,\n",
    "    source=\"https://github.com/OpenNeuroDatasets/ds000105.git\",\n",
    ")\n",
    "dl.get(dataset=data_dir, recursive=True)\n",
    "\n",
    "get_fmriprep = False  #set to false after downloading fmriprep once\n",
    "fmriprep_dir = os.path.join(data_dir, 'derivatives', 'fmriprep')\n",
    "\n",
    "# get the preprocessed derivatives - this takes some time!\n",
    "if get_fmriprep:\n",
    "    dl.clone(\n",
    "        path=fmriprep_dir,\n",
    "        source='https://github.com/OpenNeuroDerivatives/ds000105-fmriprep.git')\n",
    "    dl.get(dataset=fmriprep_dir, recursive=True)"
   ]
  },
  {
   "cell_type": "markdown",
   "metadata": {},
   "source": [
    "### Query the dataset using PyBIDS\n",
    "\n",
    "Because the dataset is organized using the BIDS standard, we can use the [PyBIDS](https://bids-standard.github.io/pybids/) tool to query the dataset and obtain useful metadata.\n"
   ]
  },
  {
   "cell_type": "code",
   "execution_count": 3,
   "metadata": {},
   "outputs": [
    {
     "name": "stderr",
     "output_type": "stream",
     "text": [
      "/Users/poldrack/micromamba/envs/aineuro/lib/python3.12/site-packages/bids/layout/layout.py:516: UserWarning: Derivative indexing was requested, but no valid datasets were found in the specified locations ([PosixPath('/Users/poldrack/data_unsynced/ds000105/derivatives/fmriprep/derivatives')]). Note that all BIDS-Derivatives datasets must meet all the requirements for BIDS-Raw datasets (a common problem is to fail to include a 'dataset_description.json' file in derivatives datasets).\n",
      "Example contents of 'dataset_description.json':\n",
      "{\"Name\": \"Example dataset\", \"BIDSVersion\": \"1.0.2\", \"GeneratedBy\": [{\"Name\": \"Example pipeline\"}]}\n",
      "  warnings.warn(\"Derivative indexing was requested, but no valid \"\n"
     ]
    }
   ],
   "source": [
    "# load the dataset using pybids and get runs for each subject\n",
    "\n",
    "def get_layouts(data_dir, fmriprep_dir):\n",
    "    \n",
    "    layout = BIDSLayout(data_dir)\n",
    "    deriv_layout = BIDSLayout(fmriprep_dir, derivatives=True, validate=False)\n",
    "    return layout, deriv_layout\n",
    "\n",
    "layout, deriv_layout = get_layouts(data_dir, fmriprep_dir)\n"
   ]
  },
  {
   "cell_type": "code",
   "execution_count": 5,
   "metadata": {},
   "outputs": [
    {
     "data": {
      "text/plain": [
       "BIDS Layout: .../ds000105/derivatives/fmriprep | Subjects: 6 | Sessions: 0 | Runs: 71"
      ]
     },
     "execution_count": 5,
     "metadata": {},
     "output_type": "execute_result"
    }
   ],
   "source": [
    "deriv_layout"
   ]
  },
  {
   "cell_type": "markdown",
   "metadata": {},
   "source": [
    "### Create common mask for each subject\n",
    "\n",
    "Each run will have slightly different voxels included in its brain mask, but we want to have a common mask across all runs, so we will generate a mask that includes the intersection of masks across all of the individual subs/runs."
   ]
  },
  {
   "cell_type": "code",
   "execution_count": 4,
   "metadata": {},
   "outputs": [],
   "source": [
    "group_mask = get_group_common_mask(layout)"
   ]
  },
  {
   "cell_type": "markdown",
   "metadata": {},
   "source": [
    "### Confound regression\n",
    "\n",
    "Use the outputs from fMRIPrep to generate a denoised version of the data.\n",
    "\n"
   ]
  },
  {
   "cell_type": "code",
   "execution_count": 37,
   "metadata": {},
   "outputs": [
    {
     "name": "stdout",
     "output_type": "stream",
     "text": [
      "Subject 1 has 12 runs\n",
      "Subject 2 has 12 runs\n",
      "Subject 3 has 12 runs\n",
      "Subject 4 has 12 runs\n",
      "Subject 5 has 11 runs\n",
      "Subject 6 has 12 runs\n"
     ]
    }
   ],
   "source": [
    "subjects = [int(sub) for sub in layout.get_subjects()]\n",
    "for subject in subject:\n",
    "    runs = get_subject_runs(subject, data_dir)\n",
    "    print(f'Subject {subject} has {len(runs)} runs')\n",
    "    mask_img = get_subject_common_brain_mask(subject, data_dir)\n",
    "    for run in runs:\n",
    "        preproc_file = deriv_layout.get(subject=subject, run=run, \n",
    "                                        desc='preproc', space='MNI152NLin2009cAsym',\n",
    "                                        suffix='bold', extension='nii.gz', \n",
    "                                        return_type='file')\n",
    "        preproc_img = nib.load(preproc_file[0])\n",
    "        t_r = deriv_layout.get_metadata(preproc_file[0])['RepetitionTime']\n",
    "\n",
    "        assert len(preproc_file) == 1, f\"Found {len(preproc_file)} preproc files for subject {subject} run {run}\"\n",
    "        confound_file = deriv_layout.get(subject=subject, run=run, \n",
    "                                        desc='confounds', \n",
    "                                        suffix='timeseries', extension='tsv', \n",
    "                                        return_type='file')\n",
    "        assert len(confound_file) == 1, f\"Found {len(confound_file)} confound files for subject {subject} run {run}\"\n",
    "        confounds = pd.read_csv(confound_file[0], sep='\\t').bfill()\n",
    "        # need to include cosine with acompcor\n",
    "        confound_prefixes = ['trans_', 'rot_', 'a_comp_cor_', 'cosine_']\n",
    "        confound_cols = [c for c in list(confounds.columns) if any([c.startswith(p) for p in confound_prefixes])]\n",
    "        confounds_selected = confounds[confound_cols]\n",
    "        cleaned_img = nilearn.image.clean_img(preproc_img,\n",
    "                                confounds=confounds_selected,\n",
    "                                t_r=t_r,mask_img=mask_img)\n",
    "        cleaned_img_file = preproc_file[0].replace('preproc','cleaned')\n",
    "        assert cleaned_img_file != preproc_file[0]\n",
    "        cleaned_img.to_filename(os.path.join(cleaned_img_file))\n",
    "                                "
   ]
  },
  {
   "cell_type": "markdown",
   "metadata": {},
   "source": [
    "### select task block timepoints\n",
    "\n",
    "drop the first two TRs from each task block, and generate task labels for each timepoint"
   ]
  },
  {
   "cell_type": "code",
   "execution_count": 39,
   "metadata": {},
   "outputs": [],
   "source": [
    "for subject in [1]: # subjects:\n",
    "    events_file = layout.get(subject=subject, run=run, datatype='func', extension='tsv', \n",
    "                             return_type='file')[0]\n",
    "    events = pd.read_csv(events_file, sep='\\t')\n"
   ]
  },
  {
   "cell_type": "code",
   "execution_count": 66,
   "metadata": {},
   "outputs": [
    {
     "name": "stdout",
     "output_type": "stream",
     "text": [
      "['bottle', 'cat', 'chair', 'face', 'house', 'scissors', 'scrambledpix', 'shoe']\n",
      "Condition bottle starts at 12.0 secs\n",
      "Condition bottle starts at timepoint 7 (17.5 secs)\n",
      "Condition cat starts at 228.0 secs\n",
      "Condition cat starts at timepoint 93 (232.5 secs)\n",
      "Condition chair starts at 84.0 secs\n",
      "Condition chair starts at timepoint 36 (90.0 secs)\n",
      "Condition face starts at 156.0 secs\n",
      "Condition face starts at timepoint 64 (160.0 secs)\n",
      "Condition house starts at 48.0 secs\n",
      "Condition house starts at timepoint 21 (52.5 secs)\n",
      "Condition scissors starts at 264.0 secs\n",
      "Condition scissors starts at timepoint 108 (270.0 secs)\n",
      "Condition scrambledpix starts at 120.0 secs\n",
      "Condition scrambledpix starts at timepoint 50 (125.0 secs)\n",
      "Condition shoe starts at 192.0 secs\n",
      "Condition shoe starts at timepoint 79 (197.5 secs)\n"
     ]
    }
   ],
   "source": [
    "conditions = events.trial_type.unique().tolist()\n",
    "conditions.sort()\n",
    "print(conditions)\n",
    "blocklen = int(np.floor(24 / t_r)) - 2 # # of timepoints after removing 2 TRs\n",
    "\n",
    "timepoints = np.arange(0, preproc_img.shape[3]*t_r, t_r)\n",
    "offset = 4 # offset from beginning of block in secs\n",
    "\n",
    "for condition in conditions:\n",
    "    match_df = events[events.trial_type == condition]\n",
    "    onset = match_df.onset.tolist()[0]\n",
    "    print(f'Condition {condition} starts at {onset} secs')\n",
    "    onset_timepoint = np.where(timepoints >= (onset + offset) )[0][0]\n",
    "    print(f'Condition {condition} starts at timepoint {onset_timepoint} ({timepoints[onset_timepoint]} secs)')\n",
    "\n",
    "\n"
   ]
  },
  {
   "cell_type": "code",
   "execution_count": 53,
   "metadata": {},
   "outputs": [
    {
     "data": {
      "text/html": [
       "<div>\n",
       "<style scoped>\n",
       "    .dataframe tbody tr th:only-of-type {\n",
       "        vertical-align: middle;\n",
       "    }\n",
       "\n",
       "    .dataframe tbody tr th {\n",
       "        vertical-align: top;\n",
       "    }\n",
       "\n",
       "    .dataframe thead th {\n",
       "        text-align: right;\n",
       "    }\n",
       "</style>\n",
       "<table border=\"1\" class=\"dataframe\">\n",
       "  <thead>\n",
       "    <tr style=\"text-align: right;\">\n",
       "      <th></th>\n",
       "      <th>onset</th>\n",
       "      <th>duration</th>\n",
       "      <th>trial_type</th>\n",
       "    </tr>\n",
       "  </thead>\n",
       "  <tbody>\n",
       "    <tr>\n",
       "      <th>0</th>\n",
       "      <td>12.0</td>\n",
       "      <td>0.5</td>\n",
       "      <td>bottle</td>\n",
       "    </tr>\n",
       "    <tr>\n",
       "      <th>1</th>\n",
       "      <td>14.0</td>\n",
       "      <td>0.5</td>\n",
       "      <td>bottle</td>\n",
       "    </tr>\n",
       "    <tr>\n",
       "      <th>2</th>\n",
       "      <td>16.0</td>\n",
       "      <td>0.5</td>\n",
       "      <td>bottle</td>\n",
       "    </tr>\n",
       "    <tr>\n",
       "      <th>3</th>\n",
       "      <td>18.0</td>\n",
       "      <td>0.5</td>\n",
       "      <td>bottle</td>\n",
       "    </tr>\n",
       "    <tr>\n",
       "      <th>4</th>\n",
       "      <td>20.0</td>\n",
       "      <td>0.5</td>\n",
       "      <td>bottle</td>\n",
       "    </tr>\n",
       "    <tr>\n",
       "      <th>5</th>\n",
       "      <td>22.0</td>\n",
       "      <td>0.5</td>\n",
       "      <td>bottle</td>\n",
       "    </tr>\n",
       "    <tr>\n",
       "      <th>6</th>\n",
       "      <td>24.0</td>\n",
       "      <td>0.5</td>\n",
       "      <td>bottle</td>\n",
       "    </tr>\n",
       "    <tr>\n",
       "      <th>7</th>\n",
       "      <td>26.0</td>\n",
       "      <td>0.5</td>\n",
       "      <td>bottle</td>\n",
       "    </tr>\n",
       "    <tr>\n",
       "      <th>8</th>\n",
       "      <td>28.0</td>\n",
       "      <td>0.5</td>\n",
       "      <td>bottle</td>\n",
       "    </tr>\n",
       "    <tr>\n",
       "      <th>9</th>\n",
       "      <td>30.0</td>\n",
       "      <td>0.5</td>\n",
       "      <td>bottle</td>\n",
       "    </tr>\n",
       "    <tr>\n",
       "      <th>10</th>\n",
       "      <td>32.0</td>\n",
       "      <td>0.5</td>\n",
       "      <td>bottle</td>\n",
       "    </tr>\n",
       "    <tr>\n",
       "      <th>11</th>\n",
       "      <td>34.0</td>\n",
       "      <td>0.5</td>\n",
       "      <td>bottle</td>\n",
       "    </tr>\n",
       "    <tr>\n",
       "      <th>12</th>\n",
       "      <td>48.0</td>\n",
       "      <td>0.5</td>\n",
       "      <td>house</td>\n",
       "    </tr>\n",
       "    <tr>\n",
       "      <th>13</th>\n",
       "      <td>50.0</td>\n",
       "      <td>0.5</td>\n",
       "      <td>house</td>\n",
       "    </tr>\n",
       "    <tr>\n",
       "      <th>14</th>\n",
       "      <td>52.0</td>\n",
       "      <td>0.5</td>\n",
       "      <td>house</td>\n",
       "    </tr>\n",
       "    <tr>\n",
       "      <th>15</th>\n",
       "      <td>54.0</td>\n",
       "      <td>0.5</td>\n",
       "      <td>house</td>\n",
       "    </tr>\n",
       "    <tr>\n",
       "      <th>16</th>\n",
       "      <td>56.0</td>\n",
       "      <td>0.5</td>\n",
       "      <td>house</td>\n",
       "    </tr>\n",
       "    <tr>\n",
       "      <th>17</th>\n",
       "      <td>58.0</td>\n",
       "      <td>0.5</td>\n",
       "      <td>house</td>\n",
       "    </tr>\n",
       "    <tr>\n",
       "      <th>18</th>\n",
       "      <td>60.0</td>\n",
       "      <td>0.5</td>\n",
       "      <td>house</td>\n",
       "    </tr>\n",
       "    <tr>\n",
       "      <th>19</th>\n",
       "      <td>62.0</td>\n",
       "      <td>0.5</td>\n",
       "      <td>house</td>\n",
       "    </tr>\n",
       "  </tbody>\n",
       "</table>\n",
       "</div>"
      ],
      "text/plain": [
       "    onset  duration trial_type\n",
       "0    12.0       0.5     bottle\n",
       "1    14.0       0.5     bottle\n",
       "2    16.0       0.5     bottle\n",
       "3    18.0       0.5     bottle\n",
       "4    20.0       0.5     bottle\n",
       "5    22.0       0.5     bottle\n",
       "6    24.0       0.5     bottle\n",
       "7    26.0       0.5     bottle\n",
       "8    28.0       0.5     bottle\n",
       "9    30.0       0.5     bottle\n",
       "10   32.0       0.5     bottle\n",
       "11   34.0       0.5     bottle\n",
       "12   48.0       0.5      house\n",
       "13   50.0       0.5      house\n",
       "14   52.0       0.5      house\n",
       "15   54.0       0.5      house\n",
       "16   56.0       0.5      house\n",
       "17   58.0       0.5      house\n",
       "18   60.0       0.5      house\n",
       "19   62.0       0.5      house"
      ]
     },
     "execution_count": 53,
     "metadata": {},
     "output_type": "execute_result"
    }
   ],
   "source": [
    "events[:20]"
   ]
  }
 ],
 "metadata": {
  "kernelspec": {
   "display_name": "Python 3",
   "language": "python",
   "name": "python3"
  },
  "language_info": {
   "codemirror_mode": {
    "name": "ipython",
    "version": 3
   },
   "file_extension": ".py",
   "mimetype": "text/x-python",
   "name": "python",
   "nbconvert_exporter": "python",
   "pygments_lexer": "ipython3",
   "version": "3.12.4"
  }
 },
 "nbformat": 4,
 "nbformat_minor": 2
}
