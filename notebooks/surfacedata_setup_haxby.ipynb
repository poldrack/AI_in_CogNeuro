{
 "cells": [
  {
   "cell_type": "markdown",
   "id": "d8dfa354",
   "metadata": {},
   "source": [
    "## Surface data preparation for encoding/decoding models\n",
    "\n",
    "For this example, we will use the data from Haxby et al., 2001., which are shared via OpenNeuro:\n",
    "\n",
    "https://openneuro.org/datasets/ds000105/versions/3.0.0\n",
    "\n",
    "The surface data were generated using fMRIPrep.\n",
    "\n",
    "The data are formatted according to the BIDS standard: https://bids-specification.readthedocs.io/en/stable/index.html\n",
    "\n",
    "First, import required dependencies. You can install these using `pip install -r requirements.txt` from the main repo directory."
   ]
  },
  {
   "cell_type": "code",
   "execution_count": 29,
   "id": "19ba6348",
   "metadata": {},
   "outputs": [
    {
     "name": "stdout",
     "output_type": "stream",
     "text": [
      "The autoreload extension is already loaded. To reload it, use:\n",
      "  %reload_ext autoreload\n"
     ]
    }
   ],
   "source": [
    "%load_ext autoreload\n",
    "%autoreload 2\n",
    "\n",
    "import os\n",
    "import nilearn\n",
    "from nilearn import datasets\n",
    "from nilearn.maskers import NiftiMasker\n",
    "from nilearn.maskers import MultiNiftiMapsMasker\n",
    "import h5py\n",
    "import numpy as np\n",
    "import nibabel as nib\n",
    "import datalad.api as dl\n",
    "import pandas as pd\n",
    "import tqdm\n",
    "import templateflow.api as tflow\n",
    "from utils import (\n",
    "    get_subject_common_brain_mask,\n",
    "    get_group_common_mask,\n",
    "    get_subject_runs,\n",
    "    get_layouts,\n",
    ")"
   ]
  },
  {
   "cell_type": "markdown",
   "id": "a8ef9986",
   "metadata": {},
   "source": [
    "#### Get the data using datalad\n",
    "\n",
    "We will use a tool called [Datalad](https://www.datalad.org/) to obtain the data from openneuro.\n",
    "\n",
    "We will download the raw data, as well as the processed data (using [fMRIPrep](https://fmriprep.org/en/stable/).  Note that downloading these derivative data can take quite a while depending on the speed of one's connection."
   ]
  },
  {
   "cell_type": "code",
   "execution_count": 2,
   "id": "7f66a0e3",
   "metadata": {},
   "outputs": [
    {
     "name": "stderr",
     "output_type": "stream",
     "text": [
      "[INFO] Ensuring presence of Dataset(/Users/poldrack/data_unsynced/ds000105) to get /Users/poldrack/data_unsynced/ds000105 \n"
     ]
    }
   ],
   "source": [
    "data_dir = '/Users/poldrack/data_unsynced/ds000105'\n",
    "assert os.path.exists(data_dir), 'Data directory not found: %s' % data_dir\n",
    "fmriprep_dir = os.path.join(data_dir, 'derivatives', 'fmriprep')\n",
    "\n",
    "output_dir = os.path.join(data_dir, 'derivatives', 'cleaned')\n",
    "if not os.path.exists(output_dir):\n",
    "    os.makedirs(output_dir)\n",
    "\n",
    "\n",
    "# get the raw data\n",
    "ds = dl.clone(\n",
    "    path=data_dir,\n",
    "    source='https://github.com/OpenNeuroDatasets/ds000105.git',\n",
    ")\n",
    "dl.get(dataset=data_dir, recursive=True)\n",
    "\n",
    "get_fmriprep = False  # set to false after downloading fmriprep once\n",
    "\n",
    "# get the preprocessed derivatives - this takes some time!\n",
    "if get_fmriprep:\n",
    "    dl.clone(\n",
    "        path=fmriprep_dir,\n",
    "        source='https://github.com/OpenNeuroDerivatives/ds000105-fmriprep.git',\n",
    "    )\n",
    "    dl.get(dataset=fmriprep_dir, recursive=True)"
   ]
  },
  {
   "cell_type": "markdown",
   "id": "a3eb4068",
   "metadata": {},
   "source": [
    "### Get fsaverage5 surface\n",
    "\n",
    "We need the surface files in order to visualize things.  We will use templateflow to get them."
   ]
  },
  {
   "cell_type": "code",
   "execution_count": 41,
   "id": "d52dec71",
   "metadata": {},
   "outputs": [
    {
     "name": "stdout",
     "output_type": "stream",
     "text": [
      "(10242, 3)\n"
     ]
    }
   ],
   "source": [
    "fsavg = tflow.get('fsaverage', density='10k')\n",
    "# confirm that this matches the fmriprep data\n",
    "pial_files = [i for i in fsavg if 'pial' in i.name]\n",
    "assert len(pial_files) == 2, 'Did not find 2 pial files in fsaverage'\n",
    "\n",
    "pial_img = nib.load(pial_files[0])\n",
    "print(pial_img.darrays[0].data.shape)\n"
   ]
  },
  {
   "cell_type": "markdown",
   "id": "cc5748c0",
   "metadata": {},
   "source": [
    "### Query the dataset using PyBIDS\n",
    "\n",
    "Because the dataset is organized using the BIDS standard, we can use the [PyBIDS](https://bids-standard.github.io/pybids/) tool to query the dataset and obtain useful metadata.\n"
   ]
  },
  {
   "cell_type": "code",
   "execution_count": 3,
   "id": "fad1ecee",
   "metadata": {
    "lines_to_next_cell": 2
   },
   "outputs": [
    {
     "name": "stderr",
     "output_type": "stream",
     "text": [
      "/Users/poldrack/micromamba/envs/aineuro/lib/python3.12/site-packages/bids/layout/layout.py:516: UserWarning: Derivative indexing was requested, but no valid datasets were found in the specified locations ([PosixPath('/Users/poldrack/data_unsynced/ds000105/derivatives/fmriprep/derivatives')]). Note that all BIDS-Derivatives datasets must meet all the requirements for BIDS-Raw datasets (a common problem is to fail to include a 'dataset_description.json' file in derivatives datasets).\n",
      "Example contents of 'dataset_description.json':\n",
      "{\"Name\": \"Example dataset\", \"BIDSVersion\": \"1.0.2\", \"GeneratedBy\": [{\"Name\": \"Example pipeline\"}]}\n",
      "  warnings.warn(\"Derivative indexing was requested, but no valid \"\n"
     ]
    }
   ],
   "source": [
    "# load the dataset using pybids and get runs for each subject\n",
    "\n",
    "\n",
    "layout, deriv_layout = get_layouts(data_dir, fmriprep_dir)"
   ]
  },
  {
   "cell_type": "markdown",
   "id": "7b055d4f",
   "metadata": {},
   "source": [
    "### Confound regression\n",
    "\n",
    "Use the outputs from fMRIPrep to generate a denoised version of the data.\n",
    "\n"
   ]
  },
  {
   "cell_type": "code",
   "execution_count": 56,
   "id": "f6874301",
   "metadata": {},
   "outputs": [
    {
     "name": "stdout",
     "output_type": "stream",
     "text": [
      "(121, 10242)\n",
      "(121, 10242)\n"
     ]
    }
   ],
   "source": [
    "subject = 1\n",
    "run = 1\n",
    "\n",
    "def get_surface_files(subject, run):\n",
    "    preproc_surf_files = {}\n",
    "    preproc_surf_data = {}\n",
    "\n",
    "    for hemis in ['L', 'R']:\n",
    "        preproc_surf_files[hemis] = deriv_layout.get(\n",
    "            subject=subject,\n",
    "            run=run,\n",
    "            hemi=hemis,\n",
    "            space='fsaverage5',\n",
    "            extension='func.gii',\n",
    "            return_type='file')[0]\n",
    "        preproc_surf_img = nib.load(preproc_surf_files[hemis])\n",
    "        for i in range(len(preproc_surf_img.darrays)):\n",
    "            if i == 0:\n",
    "                preproc_surf_data[hemis] = preproc_surf_img.darrays[i].data\n",
    "            else:\n",
    "                preproc_surf_data[hemis] = np.vstack(\n",
    "                    (preproc_surf_data[hemis], preproc_surf_img.darrays[i].data))\n",
    "\n",
    "        print(preproc_surf_data[hemis].shape)\n",
    "    return preproc_surf_files, preproc_surf_data\n",
    "\n",
    "# make sure we have the correct fsaverage surface\n",
    "preproc_surf_files, preproc_surf_data = get_surface_files(subject, run)\n",
    "assert pial_img.darrays[0].data.shape[0] == preproc_surf_data['L'].shape[1]\n"
   ]
  },
  {
   "cell_type": "code",
   "execution_count": 62,
   "id": "ad9be120",
   "metadata": {},
   "outputs": [
    {
     "name": "stderr",
     "output_type": "stream",
     "text": [
      "/Users/poldrack/micromamba/envs/aineuro/lib/python3.12/site-packages/bids/layout/layout.py:516: UserWarning: Derivative indexing was requested, but no valid datasets were found in the specified locations ([PosixPath('/Users/poldrack/data_unsynced/ds000105/derivatives/fmriprep/derivatives')]). Note that all BIDS-Derivatives datasets must meet all the requirements for BIDS-Raw datasets (a common problem is to fail to include a 'dataset_description.json' file in derivatives datasets).\n",
      "Example contents of 'dataset_description.json':\n",
      "{\"Name\": \"Example dataset\", \"BIDSVersion\": \"1.0.2\", \"GeneratedBy\": [{\"Name\": \"Example pipeline\"}]}\n",
      "  warnings.warn(\"Derivative indexing was requested, but no valid \"\n"
     ]
    },
    {
     "name": "stdout",
     "output_type": "stream",
     "text": [
      "Subject 1 has 12 runs\n",
      "(121, 10242)\n",
      "(121, 10242)\n"
     ]
    },
    {
     "name": "stderr",
     "output_type": "stream",
     "text": [
      "/var/folders/r2/f85nyfr1785fj4257wkdj7480000gn/T/ipykernel_77676/957068756.py:49: DeprecationWarning: The default strategy for standardize is currently 'zscore' which incorrectly uses population std to calculate sample zscores. The new strategy 'zscore_sample' corrects this behavior by using the sample std. In release 0.13, the default strategy will be replaced by the new strategy and the 'zscore' option will be removed. Please use 'zscore_sample' instead.\n",
      "  cleaned_data = nilearn.signal.clean(\n"
     ]
    },
    {
     "name": "stdout",
     "output_type": "stream",
     "text": [
      "(121, 10242)\n",
      "(121, 10242)\n"
     ]
    },
    {
     "name": "stderr",
     "output_type": "stream",
     "text": [
      "/var/folders/r2/f85nyfr1785fj4257wkdj7480000gn/T/ipykernel_77676/957068756.py:49: DeprecationWarning: The default strategy for standardize is currently 'zscore' which incorrectly uses population std to calculate sample zscores. The new strategy 'zscore_sample' corrects this behavior by using the sample std. In release 0.13, the default strategy will be replaced by the new strategy and the 'zscore' option will be removed. Please use 'zscore_sample' instead.\n",
      "  cleaned_data = nilearn.signal.clean(\n"
     ]
    },
    {
     "name": "stdout",
     "output_type": "stream",
     "text": [
      "(121, 10242)\n",
      "(121, 10242)\n"
     ]
    },
    {
     "name": "stderr",
     "output_type": "stream",
     "text": [
      "/var/folders/r2/f85nyfr1785fj4257wkdj7480000gn/T/ipykernel_77676/957068756.py:49: DeprecationWarning: The default strategy for standardize is currently 'zscore' which incorrectly uses population std to calculate sample zscores. The new strategy 'zscore_sample' corrects this behavior by using the sample std. In release 0.13, the default strategy will be replaced by the new strategy and the 'zscore' option will be removed. Please use 'zscore_sample' instead.\n",
      "  cleaned_data = nilearn.signal.clean(\n"
     ]
    },
    {
     "name": "stdout",
     "output_type": "stream",
     "text": [
      "(121, 10242)\n",
      "(121, 10242)\n"
     ]
    },
    {
     "name": "stderr",
     "output_type": "stream",
     "text": [
      "/var/folders/r2/f85nyfr1785fj4257wkdj7480000gn/T/ipykernel_77676/957068756.py:49: DeprecationWarning: The default strategy for standardize is currently 'zscore' which incorrectly uses population std to calculate sample zscores. The new strategy 'zscore_sample' corrects this behavior by using the sample std. In release 0.13, the default strategy will be replaced by the new strategy and the 'zscore' option will be removed. Please use 'zscore_sample' instead.\n",
      "  cleaned_data = nilearn.signal.clean(\n"
     ]
    },
    {
     "name": "stdout",
     "output_type": "stream",
     "text": [
      "(121, 10242)\n",
      "(121, 10242)\n"
     ]
    },
    {
     "name": "stderr",
     "output_type": "stream",
     "text": [
      "/var/folders/r2/f85nyfr1785fj4257wkdj7480000gn/T/ipykernel_77676/957068756.py:49: DeprecationWarning: The default strategy for standardize is currently 'zscore' which incorrectly uses population std to calculate sample zscores. The new strategy 'zscore_sample' corrects this behavior by using the sample std. In release 0.13, the default strategy will be replaced by the new strategy and the 'zscore' option will be removed. Please use 'zscore_sample' instead.\n",
      "  cleaned_data = nilearn.signal.clean(\n"
     ]
    },
    {
     "name": "stdout",
     "output_type": "stream",
     "text": [
      "(121, 10242)\n",
      "(121, 10242)\n"
     ]
    },
    {
     "name": "stderr",
     "output_type": "stream",
     "text": [
      "/var/folders/r2/f85nyfr1785fj4257wkdj7480000gn/T/ipykernel_77676/957068756.py:49: DeprecationWarning: The default strategy for standardize is currently 'zscore' which incorrectly uses population std to calculate sample zscores. The new strategy 'zscore_sample' corrects this behavior by using the sample std. In release 0.13, the default strategy will be replaced by the new strategy and the 'zscore' option will be removed. Please use 'zscore_sample' instead.\n",
      "  cleaned_data = nilearn.signal.clean(\n"
     ]
    },
    {
     "name": "stdout",
     "output_type": "stream",
     "text": [
      "(121, 10242)\n",
      "(121, 10242)\n"
     ]
    },
    {
     "name": "stderr",
     "output_type": "stream",
     "text": [
      "/var/folders/r2/f85nyfr1785fj4257wkdj7480000gn/T/ipykernel_77676/957068756.py:49: DeprecationWarning: The default strategy for standardize is currently 'zscore' which incorrectly uses population std to calculate sample zscores. The new strategy 'zscore_sample' corrects this behavior by using the sample std. In release 0.13, the default strategy will be replaced by the new strategy and the 'zscore' option will be removed. Please use 'zscore_sample' instead.\n",
      "  cleaned_data = nilearn.signal.clean(\n"
     ]
    },
    {
     "name": "stdout",
     "output_type": "stream",
     "text": [
      "(121, 10242)\n",
      "(121, 10242)\n"
     ]
    },
    {
     "name": "stderr",
     "output_type": "stream",
     "text": [
      "/var/folders/r2/f85nyfr1785fj4257wkdj7480000gn/T/ipykernel_77676/957068756.py:49: DeprecationWarning: The default strategy for standardize is currently 'zscore' which incorrectly uses population std to calculate sample zscores. The new strategy 'zscore_sample' corrects this behavior by using the sample std. In release 0.13, the default strategy will be replaced by the new strategy and the 'zscore' option will be removed. Please use 'zscore_sample' instead.\n",
      "  cleaned_data = nilearn.signal.clean(\n"
     ]
    },
    {
     "name": "stdout",
     "output_type": "stream",
     "text": [
      "(121, 10242)\n",
      "(121, 10242)\n"
     ]
    },
    {
     "name": "stderr",
     "output_type": "stream",
     "text": [
      "/var/folders/r2/f85nyfr1785fj4257wkdj7480000gn/T/ipykernel_77676/957068756.py:49: DeprecationWarning: The default strategy for standardize is currently 'zscore' which incorrectly uses population std to calculate sample zscores. The new strategy 'zscore_sample' corrects this behavior by using the sample std. In release 0.13, the default strategy will be replaced by the new strategy and the 'zscore' option will be removed. Please use 'zscore_sample' instead.\n",
      "  cleaned_data = nilearn.signal.clean(\n"
     ]
    },
    {
     "name": "stdout",
     "output_type": "stream",
     "text": [
      "(121, 10242)\n",
      "(121, 10242)\n"
     ]
    },
    {
     "name": "stderr",
     "output_type": "stream",
     "text": [
      "/var/folders/r2/f85nyfr1785fj4257wkdj7480000gn/T/ipykernel_77676/957068756.py:49: DeprecationWarning: The default strategy for standardize is currently 'zscore' which incorrectly uses population std to calculate sample zscores. The new strategy 'zscore_sample' corrects this behavior by using the sample std. In release 0.13, the default strategy will be replaced by the new strategy and the 'zscore' option will be removed. Please use 'zscore_sample' instead.\n",
      "  cleaned_data = nilearn.signal.clean(\n"
     ]
    },
    {
     "name": "stdout",
     "output_type": "stream",
     "text": [
      "(121, 10242)\n",
      "(121, 10242)\n"
     ]
    },
    {
     "name": "stderr",
     "output_type": "stream",
     "text": [
      "/var/folders/r2/f85nyfr1785fj4257wkdj7480000gn/T/ipykernel_77676/957068756.py:49: DeprecationWarning: The default strategy for standardize is currently 'zscore' which incorrectly uses population std to calculate sample zscores. The new strategy 'zscore_sample' corrects this behavior by using the sample std. In release 0.13, the default strategy will be replaced by the new strategy and the 'zscore' option will be removed. Please use 'zscore_sample' instead.\n",
      "  cleaned_data = nilearn.signal.clean(\n"
     ]
    },
    {
     "name": "stdout",
     "output_type": "stream",
     "text": [
      "(121, 10242)\n",
      "(121, 10242)\n"
     ]
    },
    {
     "name": "stderr",
     "output_type": "stream",
     "text": [
      "/var/folders/r2/f85nyfr1785fj4257wkdj7480000gn/T/ipykernel_77676/957068756.py:49: DeprecationWarning: The default strategy for standardize is currently 'zscore' which incorrectly uses population std to calculate sample zscores. The new strategy 'zscore_sample' corrects this behavior by using the sample std. In release 0.13, the default strategy will be replaced by the new strategy and the 'zscore' option will be removed. Please use 'zscore_sample' instead.\n",
      "  cleaned_data = nilearn.signal.clean(\n"
     ]
    },
    {
     "name": "stdout",
     "output_type": "stream",
     "text": [
      "Subject 2 has 12 runs\n",
      "(121, 10242)\n",
      "(121, 10242)\n"
     ]
    },
    {
     "name": "stderr",
     "output_type": "stream",
     "text": [
      "/var/folders/r2/f85nyfr1785fj4257wkdj7480000gn/T/ipykernel_77676/957068756.py:49: DeprecationWarning: The default strategy for standardize is currently 'zscore' which incorrectly uses population std to calculate sample zscores. The new strategy 'zscore_sample' corrects this behavior by using the sample std. In release 0.13, the default strategy will be replaced by the new strategy and the 'zscore' option will be removed. Please use 'zscore_sample' instead.\n",
      "  cleaned_data = nilearn.signal.clean(\n"
     ]
    },
    {
     "name": "stdout",
     "output_type": "stream",
     "text": [
      "(121, 10242)\n",
      "(121, 10242)\n"
     ]
    },
    {
     "name": "stderr",
     "output_type": "stream",
     "text": [
      "/var/folders/r2/f85nyfr1785fj4257wkdj7480000gn/T/ipykernel_77676/957068756.py:49: DeprecationWarning: The default strategy for standardize is currently 'zscore' which incorrectly uses population std to calculate sample zscores. The new strategy 'zscore_sample' corrects this behavior by using the sample std. In release 0.13, the default strategy will be replaced by the new strategy and the 'zscore' option will be removed. Please use 'zscore_sample' instead.\n",
      "  cleaned_data = nilearn.signal.clean(\n"
     ]
    },
    {
     "name": "stdout",
     "output_type": "stream",
     "text": [
      "(121, 10242)\n",
      "(121, 10242)\n"
     ]
    },
    {
     "name": "stderr",
     "output_type": "stream",
     "text": [
      "/var/folders/r2/f85nyfr1785fj4257wkdj7480000gn/T/ipykernel_77676/957068756.py:49: DeprecationWarning: The default strategy for standardize is currently 'zscore' which incorrectly uses population std to calculate sample zscores. The new strategy 'zscore_sample' corrects this behavior by using the sample std. In release 0.13, the default strategy will be replaced by the new strategy and the 'zscore' option will be removed. Please use 'zscore_sample' instead.\n",
      "  cleaned_data = nilearn.signal.clean(\n"
     ]
    },
    {
     "name": "stdout",
     "output_type": "stream",
     "text": [
      "(121, 10242)\n",
      "(121, 10242)\n"
     ]
    },
    {
     "name": "stderr",
     "output_type": "stream",
     "text": [
      "/var/folders/r2/f85nyfr1785fj4257wkdj7480000gn/T/ipykernel_77676/957068756.py:49: DeprecationWarning: The default strategy for standardize is currently 'zscore' which incorrectly uses population std to calculate sample zscores. The new strategy 'zscore_sample' corrects this behavior by using the sample std. In release 0.13, the default strategy will be replaced by the new strategy and the 'zscore' option will be removed. Please use 'zscore_sample' instead.\n",
      "  cleaned_data = nilearn.signal.clean(\n"
     ]
    },
    {
     "name": "stdout",
     "output_type": "stream",
     "text": [
      "(121, 10242)\n",
      "(121, 10242)\n"
     ]
    },
    {
     "name": "stderr",
     "output_type": "stream",
     "text": [
      "/var/folders/r2/f85nyfr1785fj4257wkdj7480000gn/T/ipykernel_77676/957068756.py:49: DeprecationWarning: The default strategy for standardize is currently 'zscore' which incorrectly uses population std to calculate sample zscores. The new strategy 'zscore_sample' corrects this behavior by using the sample std. In release 0.13, the default strategy will be replaced by the new strategy and the 'zscore' option will be removed. Please use 'zscore_sample' instead.\n",
      "  cleaned_data = nilearn.signal.clean(\n"
     ]
    },
    {
     "name": "stdout",
     "output_type": "stream",
     "text": [
      "(121, 10242)\n",
      "(121, 10242)\n"
     ]
    },
    {
     "name": "stderr",
     "output_type": "stream",
     "text": [
      "/var/folders/r2/f85nyfr1785fj4257wkdj7480000gn/T/ipykernel_77676/957068756.py:49: DeprecationWarning: The default strategy for standardize is currently 'zscore' which incorrectly uses population std to calculate sample zscores. The new strategy 'zscore_sample' corrects this behavior by using the sample std. In release 0.13, the default strategy will be replaced by the new strategy and the 'zscore' option will be removed. Please use 'zscore_sample' instead.\n",
      "  cleaned_data = nilearn.signal.clean(\n"
     ]
    },
    {
     "name": "stdout",
     "output_type": "stream",
     "text": [
      "(121, 10242)\n",
      "(121, 10242)\n"
     ]
    },
    {
     "name": "stderr",
     "output_type": "stream",
     "text": [
      "/var/folders/r2/f85nyfr1785fj4257wkdj7480000gn/T/ipykernel_77676/957068756.py:49: DeprecationWarning: The default strategy for standardize is currently 'zscore' which incorrectly uses population std to calculate sample zscores. The new strategy 'zscore_sample' corrects this behavior by using the sample std. In release 0.13, the default strategy will be replaced by the new strategy and the 'zscore' option will be removed. Please use 'zscore_sample' instead.\n",
      "  cleaned_data = nilearn.signal.clean(\n"
     ]
    },
    {
     "name": "stdout",
     "output_type": "stream",
     "text": [
      "(121, 10242)\n",
      "(121, 10242)\n"
     ]
    },
    {
     "name": "stderr",
     "output_type": "stream",
     "text": [
      "/var/folders/r2/f85nyfr1785fj4257wkdj7480000gn/T/ipykernel_77676/957068756.py:49: DeprecationWarning: The default strategy for standardize is currently 'zscore' which incorrectly uses population std to calculate sample zscores. The new strategy 'zscore_sample' corrects this behavior by using the sample std. In release 0.13, the default strategy will be replaced by the new strategy and the 'zscore' option will be removed. Please use 'zscore_sample' instead.\n",
      "  cleaned_data = nilearn.signal.clean(\n"
     ]
    },
    {
     "name": "stdout",
     "output_type": "stream",
     "text": [
      "(121, 10242)\n",
      "(121, 10242)\n"
     ]
    },
    {
     "name": "stderr",
     "output_type": "stream",
     "text": [
      "/var/folders/r2/f85nyfr1785fj4257wkdj7480000gn/T/ipykernel_77676/957068756.py:49: DeprecationWarning: The default strategy for standardize is currently 'zscore' which incorrectly uses population std to calculate sample zscores. The new strategy 'zscore_sample' corrects this behavior by using the sample std. In release 0.13, the default strategy will be replaced by the new strategy and the 'zscore' option will be removed. Please use 'zscore_sample' instead.\n",
      "  cleaned_data = nilearn.signal.clean(\n"
     ]
    },
    {
     "name": "stdout",
     "output_type": "stream",
     "text": [
      "(121, 10242)\n",
      "(121, 10242)\n"
     ]
    },
    {
     "name": "stderr",
     "output_type": "stream",
     "text": [
      "/var/folders/r2/f85nyfr1785fj4257wkdj7480000gn/T/ipykernel_77676/957068756.py:49: DeprecationWarning: The default strategy for standardize is currently 'zscore' which incorrectly uses population std to calculate sample zscores. The new strategy 'zscore_sample' corrects this behavior by using the sample std. In release 0.13, the default strategy will be replaced by the new strategy and the 'zscore' option will be removed. Please use 'zscore_sample' instead.\n",
      "  cleaned_data = nilearn.signal.clean(\n"
     ]
    },
    {
     "name": "stdout",
     "output_type": "stream",
     "text": [
      "(121, 10242)\n",
      "(121, 10242)\n"
     ]
    },
    {
     "name": "stderr",
     "output_type": "stream",
     "text": [
      "/var/folders/r2/f85nyfr1785fj4257wkdj7480000gn/T/ipykernel_77676/957068756.py:49: DeprecationWarning: The default strategy for standardize is currently 'zscore' which incorrectly uses population std to calculate sample zscores. The new strategy 'zscore_sample' corrects this behavior by using the sample std. In release 0.13, the default strategy will be replaced by the new strategy and the 'zscore' option will be removed. Please use 'zscore_sample' instead.\n",
      "  cleaned_data = nilearn.signal.clean(\n"
     ]
    },
    {
     "name": "stdout",
     "output_type": "stream",
     "text": [
      "(121, 10242)\n",
      "(121, 10242)\n"
     ]
    },
    {
     "name": "stderr",
     "output_type": "stream",
     "text": [
      "/var/folders/r2/f85nyfr1785fj4257wkdj7480000gn/T/ipykernel_77676/957068756.py:49: DeprecationWarning: The default strategy for standardize is currently 'zscore' which incorrectly uses population std to calculate sample zscores. The new strategy 'zscore_sample' corrects this behavior by using the sample std. In release 0.13, the default strategy will be replaced by the new strategy and the 'zscore' option will be removed. Please use 'zscore_sample' instead.\n",
      "  cleaned_data = nilearn.signal.clean(\n"
     ]
    },
    {
     "name": "stdout",
     "output_type": "stream",
     "text": [
      "Subject 3 has 12 runs\n",
      "(121, 10242)\n",
      "(121, 10242)\n"
     ]
    },
    {
     "name": "stderr",
     "output_type": "stream",
     "text": [
      "/var/folders/r2/f85nyfr1785fj4257wkdj7480000gn/T/ipykernel_77676/957068756.py:49: DeprecationWarning: The default strategy for standardize is currently 'zscore' which incorrectly uses population std to calculate sample zscores. The new strategy 'zscore_sample' corrects this behavior by using the sample std. In release 0.13, the default strategy will be replaced by the new strategy and the 'zscore' option will be removed. Please use 'zscore_sample' instead.\n",
      "  cleaned_data = nilearn.signal.clean(\n"
     ]
    },
    {
     "name": "stdout",
     "output_type": "stream",
     "text": [
      "(121, 10242)\n",
      "(121, 10242)\n"
     ]
    },
    {
     "name": "stderr",
     "output_type": "stream",
     "text": [
      "/var/folders/r2/f85nyfr1785fj4257wkdj7480000gn/T/ipykernel_77676/957068756.py:49: DeprecationWarning: The default strategy for standardize is currently 'zscore' which incorrectly uses population std to calculate sample zscores. The new strategy 'zscore_sample' corrects this behavior by using the sample std. In release 0.13, the default strategy will be replaced by the new strategy and the 'zscore' option will be removed. Please use 'zscore_sample' instead.\n",
      "  cleaned_data = nilearn.signal.clean(\n"
     ]
    },
    {
     "name": "stdout",
     "output_type": "stream",
     "text": [
      "(121, 10242)\n",
      "(121, 10242)\n"
     ]
    },
    {
     "name": "stderr",
     "output_type": "stream",
     "text": [
      "/var/folders/r2/f85nyfr1785fj4257wkdj7480000gn/T/ipykernel_77676/957068756.py:49: DeprecationWarning: The default strategy for standardize is currently 'zscore' which incorrectly uses population std to calculate sample zscores. The new strategy 'zscore_sample' corrects this behavior by using the sample std. In release 0.13, the default strategy will be replaced by the new strategy and the 'zscore' option will be removed. Please use 'zscore_sample' instead.\n",
      "  cleaned_data = nilearn.signal.clean(\n"
     ]
    },
    {
     "name": "stdout",
     "output_type": "stream",
     "text": [
      "(121, 10242)\n",
      "(121, 10242)\n"
     ]
    },
    {
     "name": "stderr",
     "output_type": "stream",
     "text": [
      "/var/folders/r2/f85nyfr1785fj4257wkdj7480000gn/T/ipykernel_77676/957068756.py:49: DeprecationWarning: The default strategy for standardize is currently 'zscore' which incorrectly uses population std to calculate sample zscores. The new strategy 'zscore_sample' corrects this behavior by using the sample std. In release 0.13, the default strategy will be replaced by the new strategy and the 'zscore' option will be removed. Please use 'zscore_sample' instead.\n",
      "  cleaned_data = nilearn.signal.clean(\n"
     ]
    },
    {
     "name": "stdout",
     "output_type": "stream",
     "text": [
      "(121, 10242)\n",
      "(121, 10242)\n"
     ]
    },
    {
     "name": "stderr",
     "output_type": "stream",
     "text": [
      "/var/folders/r2/f85nyfr1785fj4257wkdj7480000gn/T/ipykernel_77676/957068756.py:49: DeprecationWarning: The default strategy for standardize is currently 'zscore' which incorrectly uses population std to calculate sample zscores. The new strategy 'zscore_sample' corrects this behavior by using the sample std. In release 0.13, the default strategy will be replaced by the new strategy and the 'zscore' option will be removed. Please use 'zscore_sample' instead.\n",
      "  cleaned_data = nilearn.signal.clean(\n"
     ]
    },
    {
     "name": "stdout",
     "output_type": "stream",
     "text": [
      "(121, 10242)\n",
      "(121, 10242)\n"
     ]
    },
    {
     "name": "stderr",
     "output_type": "stream",
     "text": [
      "/var/folders/r2/f85nyfr1785fj4257wkdj7480000gn/T/ipykernel_77676/957068756.py:49: DeprecationWarning: The default strategy for standardize is currently 'zscore' which incorrectly uses population std to calculate sample zscores. The new strategy 'zscore_sample' corrects this behavior by using the sample std. In release 0.13, the default strategy will be replaced by the new strategy and the 'zscore' option will be removed. Please use 'zscore_sample' instead.\n",
      "  cleaned_data = nilearn.signal.clean(\n"
     ]
    },
    {
     "name": "stdout",
     "output_type": "stream",
     "text": [
      "(121, 10242)\n",
      "(121, 10242)\n"
     ]
    },
    {
     "name": "stderr",
     "output_type": "stream",
     "text": [
      "/var/folders/r2/f85nyfr1785fj4257wkdj7480000gn/T/ipykernel_77676/957068756.py:49: DeprecationWarning: The default strategy for standardize is currently 'zscore' which incorrectly uses population std to calculate sample zscores. The new strategy 'zscore_sample' corrects this behavior by using the sample std. In release 0.13, the default strategy will be replaced by the new strategy and the 'zscore' option will be removed. Please use 'zscore_sample' instead.\n",
      "  cleaned_data = nilearn.signal.clean(\n"
     ]
    },
    {
     "name": "stdout",
     "output_type": "stream",
     "text": [
      "(121, 10242)\n",
      "(121, 10242)\n"
     ]
    },
    {
     "name": "stderr",
     "output_type": "stream",
     "text": [
      "/var/folders/r2/f85nyfr1785fj4257wkdj7480000gn/T/ipykernel_77676/957068756.py:49: DeprecationWarning: The default strategy for standardize is currently 'zscore' which incorrectly uses population std to calculate sample zscores. The new strategy 'zscore_sample' corrects this behavior by using the sample std. In release 0.13, the default strategy will be replaced by the new strategy and the 'zscore' option will be removed. Please use 'zscore_sample' instead.\n",
      "  cleaned_data = nilearn.signal.clean(\n"
     ]
    },
    {
     "name": "stdout",
     "output_type": "stream",
     "text": [
      "(121, 10242)\n",
      "(121, 10242)\n"
     ]
    },
    {
     "name": "stderr",
     "output_type": "stream",
     "text": [
      "/var/folders/r2/f85nyfr1785fj4257wkdj7480000gn/T/ipykernel_77676/957068756.py:49: DeprecationWarning: The default strategy for standardize is currently 'zscore' which incorrectly uses population std to calculate sample zscores. The new strategy 'zscore_sample' corrects this behavior by using the sample std. In release 0.13, the default strategy will be replaced by the new strategy and the 'zscore' option will be removed. Please use 'zscore_sample' instead.\n",
      "  cleaned_data = nilearn.signal.clean(\n"
     ]
    },
    {
     "name": "stdout",
     "output_type": "stream",
     "text": [
      "(121, 10242)\n",
      "(121, 10242)\n"
     ]
    },
    {
     "name": "stderr",
     "output_type": "stream",
     "text": [
      "/var/folders/r2/f85nyfr1785fj4257wkdj7480000gn/T/ipykernel_77676/957068756.py:49: DeprecationWarning: The default strategy for standardize is currently 'zscore' which incorrectly uses population std to calculate sample zscores. The new strategy 'zscore_sample' corrects this behavior by using the sample std. In release 0.13, the default strategy will be replaced by the new strategy and the 'zscore' option will be removed. Please use 'zscore_sample' instead.\n",
      "  cleaned_data = nilearn.signal.clean(\n"
     ]
    },
    {
     "name": "stdout",
     "output_type": "stream",
     "text": [
      "(121, 10242)\n",
      "(121, 10242)\n"
     ]
    },
    {
     "name": "stderr",
     "output_type": "stream",
     "text": [
      "/var/folders/r2/f85nyfr1785fj4257wkdj7480000gn/T/ipykernel_77676/957068756.py:49: DeprecationWarning: The default strategy for standardize is currently 'zscore' which incorrectly uses population std to calculate sample zscores. The new strategy 'zscore_sample' corrects this behavior by using the sample std. In release 0.13, the default strategy will be replaced by the new strategy and the 'zscore' option will be removed. Please use 'zscore_sample' instead.\n",
      "  cleaned_data = nilearn.signal.clean(\n"
     ]
    },
    {
     "name": "stdout",
     "output_type": "stream",
     "text": [
      "(121, 10242)\n",
      "(121, 10242)\n"
     ]
    },
    {
     "name": "stderr",
     "output_type": "stream",
     "text": [
      "/var/folders/r2/f85nyfr1785fj4257wkdj7480000gn/T/ipykernel_77676/957068756.py:49: DeprecationWarning: The default strategy for standardize is currently 'zscore' which incorrectly uses population std to calculate sample zscores. The new strategy 'zscore_sample' corrects this behavior by using the sample std. In release 0.13, the default strategy will be replaced by the new strategy and the 'zscore' option will be removed. Please use 'zscore_sample' instead.\n",
      "  cleaned_data = nilearn.signal.clean(\n"
     ]
    },
    {
     "name": "stdout",
     "output_type": "stream",
     "text": [
      "Subject 4 has 12 runs\n",
      "(121, 10242)\n",
      "(121, 10242)\n"
     ]
    },
    {
     "name": "stderr",
     "output_type": "stream",
     "text": [
      "/var/folders/r2/f85nyfr1785fj4257wkdj7480000gn/T/ipykernel_77676/957068756.py:49: DeprecationWarning: The default strategy for standardize is currently 'zscore' which incorrectly uses population std to calculate sample zscores. The new strategy 'zscore_sample' corrects this behavior by using the sample std. In release 0.13, the default strategy will be replaced by the new strategy and the 'zscore' option will be removed. Please use 'zscore_sample' instead.\n",
      "  cleaned_data = nilearn.signal.clean(\n"
     ]
    },
    {
     "name": "stdout",
     "output_type": "stream",
     "text": [
      "(121, 10242)\n",
      "(121, 10242)\n"
     ]
    },
    {
     "name": "stderr",
     "output_type": "stream",
     "text": [
      "/var/folders/r2/f85nyfr1785fj4257wkdj7480000gn/T/ipykernel_77676/957068756.py:49: DeprecationWarning: The default strategy for standardize is currently 'zscore' which incorrectly uses population std to calculate sample zscores. The new strategy 'zscore_sample' corrects this behavior by using the sample std. In release 0.13, the default strategy will be replaced by the new strategy and the 'zscore' option will be removed. Please use 'zscore_sample' instead.\n",
      "  cleaned_data = nilearn.signal.clean(\n"
     ]
    },
    {
     "name": "stdout",
     "output_type": "stream",
     "text": [
      "(121, 10242)\n",
      "(121, 10242)\n"
     ]
    },
    {
     "name": "stderr",
     "output_type": "stream",
     "text": [
      "/var/folders/r2/f85nyfr1785fj4257wkdj7480000gn/T/ipykernel_77676/957068756.py:49: DeprecationWarning: The default strategy for standardize is currently 'zscore' which incorrectly uses population std to calculate sample zscores. The new strategy 'zscore_sample' corrects this behavior by using the sample std. In release 0.13, the default strategy will be replaced by the new strategy and the 'zscore' option will be removed. Please use 'zscore_sample' instead.\n",
      "  cleaned_data = nilearn.signal.clean(\n"
     ]
    },
    {
     "name": "stdout",
     "output_type": "stream",
     "text": [
      "(121, 10242)\n",
      "(121, 10242)\n"
     ]
    },
    {
     "name": "stderr",
     "output_type": "stream",
     "text": [
      "/var/folders/r2/f85nyfr1785fj4257wkdj7480000gn/T/ipykernel_77676/957068756.py:49: DeprecationWarning: The default strategy for standardize is currently 'zscore' which incorrectly uses population std to calculate sample zscores. The new strategy 'zscore_sample' corrects this behavior by using the sample std. In release 0.13, the default strategy will be replaced by the new strategy and the 'zscore' option will be removed. Please use 'zscore_sample' instead.\n",
      "  cleaned_data = nilearn.signal.clean(\n"
     ]
    },
    {
     "name": "stdout",
     "output_type": "stream",
     "text": [
      "(121, 10242)\n",
      "(121, 10242)\n"
     ]
    },
    {
     "name": "stderr",
     "output_type": "stream",
     "text": [
      "/var/folders/r2/f85nyfr1785fj4257wkdj7480000gn/T/ipykernel_77676/957068756.py:49: DeprecationWarning: The default strategy for standardize is currently 'zscore' which incorrectly uses population std to calculate sample zscores. The new strategy 'zscore_sample' corrects this behavior by using the sample std. In release 0.13, the default strategy will be replaced by the new strategy and the 'zscore' option will be removed. Please use 'zscore_sample' instead.\n",
      "  cleaned_data = nilearn.signal.clean(\n"
     ]
    },
    {
     "name": "stdout",
     "output_type": "stream",
     "text": [
      "(121, 10242)\n",
      "(121, 10242)\n"
     ]
    },
    {
     "name": "stderr",
     "output_type": "stream",
     "text": [
      "/var/folders/r2/f85nyfr1785fj4257wkdj7480000gn/T/ipykernel_77676/957068756.py:49: DeprecationWarning: The default strategy for standardize is currently 'zscore' which incorrectly uses population std to calculate sample zscores. The new strategy 'zscore_sample' corrects this behavior by using the sample std. In release 0.13, the default strategy will be replaced by the new strategy and the 'zscore' option will be removed. Please use 'zscore_sample' instead.\n",
      "  cleaned_data = nilearn.signal.clean(\n"
     ]
    },
    {
     "name": "stdout",
     "output_type": "stream",
     "text": [
      "(121, 10242)\n",
      "(121, 10242)\n"
     ]
    },
    {
     "name": "stderr",
     "output_type": "stream",
     "text": [
      "/var/folders/r2/f85nyfr1785fj4257wkdj7480000gn/T/ipykernel_77676/957068756.py:49: DeprecationWarning: The default strategy for standardize is currently 'zscore' which incorrectly uses population std to calculate sample zscores. The new strategy 'zscore_sample' corrects this behavior by using the sample std. In release 0.13, the default strategy will be replaced by the new strategy and the 'zscore' option will be removed. Please use 'zscore_sample' instead.\n",
      "  cleaned_data = nilearn.signal.clean(\n"
     ]
    },
    {
     "name": "stdout",
     "output_type": "stream",
     "text": [
      "(121, 10242)\n",
      "(121, 10242)\n"
     ]
    },
    {
     "name": "stderr",
     "output_type": "stream",
     "text": [
      "/var/folders/r2/f85nyfr1785fj4257wkdj7480000gn/T/ipykernel_77676/957068756.py:49: DeprecationWarning: The default strategy for standardize is currently 'zscore' which incorrectly uses population std to calculate sample zscores. The new strategy 'zscore_sample' corrects this behavior by using the sample std. In release 0.13, the default strategy will be replaced by the new strategy and the 'zscore' option will be removed. Please use 'zscore_sample' instead.\n",
      "  cleaned_data = nilearn.signal.clean(\n"
     ]
    },
    {
     "name": "stdout",
     "output_type": "stream",
     "text": [
      "(121, 10242)\n",
      "(121, 10242)\n"
     ]
    },
    {
     "name": "stderr",
     "output_type": "stream",
     "text": [
      "/var/folders/r2/f85nyfr1785fj4257wkdj7480000gn/T/ipykernel_77676/957068756.py:49: DeprecationWarning: The default strategy for standardize is currently 'zscore' which incorrectly uses population std to calculate sample zscores. The new strategy 'zscore_sample' corrects this behavior by using the sample std. In release 0.13, the default strategy will be replaced by the new strategy and the 'zscore' option will be removed. Please use 'zscore_sample' instead.\n",
      "  cleaned_data = nilearn.signal.clean(\n"
     ]
    },
    {
     "name": "stdout",
     "output_type": "stream",
     "text": [
      "(121, 10242)\n",
      "(121, 10242)\n"
     ]
    },
    {
     "name": "stderr",
     "output_type": "stream",
     "text": [
      "/var/folders/r2/f85nyfr1785fj4257wkdj7480000gn/T/ipykernel_77676/957068756.py:49: DeprecationWarning: The default strategy for standardize is currently 'zscore' which incorrectly uses population std to calculate sample zscores. The new strategy 'zscore_sample' corrects this behavior by using the sample std. In release 0.13, the default strategy will be replaced by the new strategy and the 'zscore' option will be removed. Please use 'zscore_sample' instead.\n",
      "  cleaned_data = nilearn.signal.clean(\n"
     ]
    },
    {
     "name": "stdout",
     "output_type": "stream",
     "text": [
      "(121, 10242)\n",
      "(121, 10242)\n"
     ]
    },
    {
     "name": "stderr",
     "output_type": "stream",
     "text": [
      "/var/folders/r2/f85nyfr1785fj4257wkdj7480000gn/T/ipykernel_77676/957068756.py:49: DeprecationWarning: The default strategy for standardize is currently 'zscore' which incorrectly uses population std to calculate sample zscores. The new strategy 'zscore_sample' corrects this behavior by using the sample std. In release 0.13, the default strategy will be replaced by the new strategy and the 'zscore' option will be removed. Please use 'zscore_sample' instead.\n",
      "  cleaned_data = nilearn.signal.clean(\n"
     ]
    },
    {
     "name": "stdout",
     "output_type": "stream",
     "text": [
      "(121, 10242)\n",
      "(121, 10242)\n"
     ]
    },
    {
     "name": "stderr",
     "output_type": "stream",
     "text": [
      "/var/folders/r2/f85nyfr1785fj4257wkdj7480000gn/T/ipykernel_77676/957068756.py:49: DeprecationWarning: The default strategy for standardize is currently 'zscore' which incorrectly uses population std to calculate sample zscores. The new strategy 'zscore_sample' corrects this behavior by using the sample std. In release 0.13, the default strategy will be replaced by the new strategy and the 'zscore' option will be removed. Please use 'zscore_sample' instead.\n",
      "  cleaned_data = nilearn.signal.clean(\n"
     ]
    },
    {
     "name": "stdout",
     "output_type": "stream",
     "text": [
      "Subject 5 has 11 runs\n",
      "(121, 10242)\n",
      "(121, 10242)\n"
     ]
    },
    {
     "name": "stderr",
     "output_type": "stream",
     "text": [
      "/var/folders/r2/f85nyfr1785fj4257wkdj7480000gn/T/ipykernel_77676/957068756.py:49: DeprecationWarning: The default strategy for standardize is currently 'zscore' which incorrectly uses population std to calculate sample zscores. The new strategy 'zscore_sample' corrects this behavior by using the sample std. In release 0.13, the default strategy will be replaced by the new strategy and the 'zscore' option will be removed. Please use 'zscore_sample' instead.\n",
      "  cleaned_data = nilearn.signal.clean(\n"
     ]
    },
    {
     "name": "stdout",
     "output_type": "stream",
     "text": [
      "(121, 10242)\n",
      "(121, 10242)\n"
     ]
    },
    {
     "name": "stderr",
     "output_type": "stream",
     "text": [
      "/var/folders/r2/f85nyfr1785fj4257wkdj7480000gn/T/ipykernel_77676/957068756.py:49: DeprecationWarning: The default strategy for standardize is currently 'zscore' which incorrectly uses population std to calculate sample zscores. The new strategy 'zscore_sample' corrects this behavior by using the sample std. In release 0.13, the default strategy will be replaced by the new strategy and the 'zscore' option will be removed. Please use 'zscore_sample' instead.\n",
      "  cleaned_data = nilearn.signal.clean(\n"
     ]
    },
    {
     "name": "stdout",
     "output_type": "stream",
     "text": [
      "(121, 10242)\n",
      "(121, 10242)\n"
     ]
    },
    {
     "name": "stderr",
     "output_type": "stream",
     "text": [
      "/var/folders/r2/f85nyfr1785fj4257wkdj7480000gn/T/ipykernel_77676/957068756.py:49: DeprecationWarning: The default strategy for standardize is currently 'zscore' which incorrectly uses population std to calculate sample zscores. The new strategy 'zscore_sample' corrects this behavior by using the sample std. In release 0.13, the default strategy will be replaced by the new strategy and the 'zscore' option will be removed. Please use 'zscore_sample' instead.\n",
      "  cleaned_data = nilearn.signal.clean(\n"
     ]
    },
    {
     "name": "stdout",
     "output_type": "stream",
     "text": [
      "(121, 10242)\n",
      "(121, 10242)\n"
     ]
    },
    {
     "name": "stderr",
     "output_type": "stream",
     "text": [
      "/var/folders/r2/f85nyfr1785fj4257wkdj7480000gn/T/ipykernel_77676/957068756.py:49: DeprecationWarning: The default strategy for standardize is currently 'zscore' which incorrectly uses population std to calculate sample zscores. The new strategy 'zscore_sample' corrects this behavior by using the sample std. In release 0.13, the default strategy will be replaced by the new strategy and the 'zscore' option will be removed. Please use 'zscore_sample' instead.\n",
      "  cleaned_data = nilearn.signal.clean(\n"
     ]
    },
    {
     "name": "stdout",
     "output_type": "stream",
     "text": [
      "(121, 10242)\n",
      "(121, 10242)\n"
     ]
    },
    {
     "name": "stderr",
     "output_type": "stream",
     "text": [
      "/var/folders/r2/f85nyfr1785fj4257wkdj7480000gn/T/ipykernel_77676/957068756.py:49: DeprecationWarning: The default strategy for standardize is currently 'zscore' which incorrectly uses population std to calculate sample zscores. The new strategy 'zscore_sample' corrects this behavior by using the sample std. In release 0.13, the default strategy will be replaced by the new strategy and the 'zscore' option will be removed. Please use 'zscore_sample' instead.\n",
      "  cleaned_data = nilearn.signal.clean(\n"
     ]
    },
    {
     "name": "stdout",
     "output_type": "stream",
     "text": [
      "(121, 10242)\n",
      "(121, 10242)\n"
     ]
    },
    {
     "name": "stderr",
     "output_type": "stream",
     "text": [
      "/var/folders/r2/f85nyfr1785fj4257wkdj7480000gn/T/ipykernel_77676/957068756.py:49: DeprecationWarning: The default strategy for standardize is currently 'zscore' which incorrectly uses population std to calculate sample zscores. The new strategy 'zscore_sample' corrects this behavior by using the sample std. In release 0.13, the default strategy will be replaced by the new strategy and the 'zscore' option will be removed. Please use 'zscore_sample' instead.\n",
      "  cleaned_data = nilearn.signal.clean(\n"
     ]
    },
    {
     "name": "stdout",
     "output_type": "stream",
     "text": [
      "(121, 10242)\n",
      "(121, 10242)\n"
     ]
    },
    {
     "name": "stderr",
     "output_type": "stream",
     "text": [
      "/var/folders/r2/f85nyfr1785fj4257wkdj7480000gn/T/ipykernel_77676/957068756.py:49: DeprecationWarning: The default strategy for standardize is currently 'zscore' which incorrectly uses population std to calculate sample zscores. The new strategy 'zscore_sample' corrects this behavior by using the sample std. In release 0.13, the default strategy will be replaced by the new strategy and the 'zscore' option will be removed. Please use 'zscore_sample' instead.\n",
      "  cleaned_data = nilearn.signal.clean(\n"
     ]
    },
    {
     "name": "stdout",
     "output_type": "stream",
     "text": [
      "(121, 10242)\n",
      "(121, 10242)\n"
     ]
    },
    {
     "name": "stderr",
     "output_type": "stream",
     "text": [
      "/var/folders/r2/f85nyfr1785fj4257wkdj7480000gn/T/ipykernel_77676/957068756.py:49: DeprecationWarning: The default strategy for standardize is currently 'zscore' which incorrectly uses population std to calculate sample zscores. The new strategy 'zscore_sample' corrects this behavior by using the sample std. In release 0.13, the default strategy will be replaced by the new strategy and the 'zscore' option will be removed. Please use 'zscore_sample' instead.\n",
      "  cleaned_data = nilearn.signal.clean(\n"
     ]
    },
    {
     "name": "stdout",
     "output_type": "stream",
     "text": [
      "(121, 10242)\n",
      "(121, 10242)\n"
     ]
    },
    {
     "name": "stderr",
     "output_type": "stream",
     "text": [
      "/var/folders/r2/f85nyfr1785fj4257wkdj7480000gn/T/ipykernel_77676/957068756.py:49: DeprecationWarning: The default strategy for standardize is currently 'zscore' which incorrectly uses population std to calculate sample zscores. The new strategy 'zscore_sample' corrects this behavior by using the sample std. In release 0.13, the default strategy will be replaced by the new strategy and the 'zscore' option will be removed. Please use 'zscore_sample' instead.\n",
      "  cleaned_data = nilearn.signal.clean(\n"
     ]
    },
    {
     "name": "stdout",
     "output_type": "stream",
     "text": [
      "(121, 10242)\n",
      "(121, 10242)\n"
     ]
    },
    {
     "name": "stderr",
     "output_type": "stream",
     "text": [
      "/var/folders/r2/f85nyfr1785fj4257wkdj7480000gn/T/ipykernel_77676/957068756.py:49: DeprecationWarning: The default strategy for standardize is currently 'zscore' which incorrectly uses population std to calculate sample zscores. The new strategy 'zscore_sample' corrects this behavior by using the sample std. In release 0.13, the default strategy will be replaced by the new strategy and the 'zscore' option will be removed. Please use 'zscore_sample' instead.\n",
      "  cleaned_data = nilearn.signal.clean(\n"
     ]
    },
    {
     "name": "stdout",
     "output_type": "stream",
     "text": [
      "(121, 10242)\n",
      "(121, 10242)\n"
     ]
    },
    {
     "name": "stderr",
     "output_type": "stream",
     "text": [
      "/var/folders/r2/f85nyfr1785fj4257wkdj7480000gn/T/ipykernel_77676/957068756.py:49: DeprecationWarning: The default strategy for standardize is currently 'zscore' which incorrectly uses population std to calculate sample zscores. The new strategy 'zscore_sample' corrects this behavior by using the sample std. In release 0.13, the default strategy will be replaced by the new strategy and the 'zscore' option will be removed. Please use 'zscore_sample' instead.\n",
      "  cleaned_data = nilearn.signal.clean(\n"
     ]
    },
    {
     "name": "stdout",
     "output_type": "stream",
     "text": [
      "Subject 6 has 12 runs\n",
      "(121, 10242)\n",
      "(121, 10242)\n"
     ]
    },
    {
     "name": "stderr",
     "output_type": "stream",
     "text": [
      "/var/folders/r2/f85nyfr1785fj4257wkdj7480000gn/T/ipykernel_77676/957068756.py:49: DeprecationWarning: The default strategy for standardize is currently 'zscore' which incorrectly uses population std to calculate sample zscores. The new strategy 'zscore_sample' corrects this behavior by using the sample std. In release 0.13, the default strategy will be replaced by the new strategy and the 'zscore' option will be removed. Please use 'zscore_sample' instead.\n",
      "  cleaned_data = nilearn.signal.clean(\n"
     ]
    },
    {
     "name": "stdout",
     "output_type": "stream",
     "text": [
      "(121, 10242)\n",
      "(121, 10242)\n"
     ]
    },
    {
     "name": "stderr",
     "output_type": "stream",
     "text": [
      "/var/folders/r2/f85nyfr1785fj4257wkdj7480000gn/T/ipykernel_77676/957068756.py:49: DeprecationWarning: The default strategy for standardize is currently 'zscore' which incorrectly uses population std to calculate sample zscores. The new strategy 'zscore_sample' corrects this behavior by using the sample std. In release 0.13, the default strategy will be replaced by the new strategy and the 'zscore' option will be removed. Please use 'zscore_sample' instead.\n",
      "  cleaned_data = nilearn.signal.clean(\n"
     ]
    },
    {
     "name": "stdout",
     "output_type": "stream",
     "text": [
      "(121, 10242)\n",
      "(121, 10242)\n"
     ]
    },
    {
     "name": "stderr",
     "output_type": "stream",
     "text": [
      "/var/folders/r2/f85nyfr1785fj4257wkdj7480000gn/T/ipykernel_77676/957068756.py:49: DeprecationWarning: The default strategy for standardize is currently 'zscore' which incorrectly uses population std to calculate sample zscores. The new strategy 'zscore_sample' corrects this behavior by using the sample std. In release 0.13, the default strategy will be replaced by the new strategy and the 'zscore' option will be removed. Please use 'zscore_sample' instead.\n",
      "  cleaned_data = nilearn.signal.clean(\n"
     ]
    },
    {
     "name": "stdout",
     "output_type": "stream",
     "text": [
      "(121, 10242)\n",
      "(121, 10242)\n"
     ]
    },
    {
     "name": "stderr",
     "output_type": "stream",
     "text": [
      "/var/folders/r2/f85nyfr1785fj4257wkdj7480000gn/T/ipykernel_77676/957068756.py:49: DeprecationWarning: The default strategy for standardize is currently 'zscore' which incorrectly uses population std to calculate sample zscores. The new strategy 'zscore_sample' corrects this behavior by using the sample std. In release 0.13, the default strategy will be replaced by the new strategy and the 'zscore' option will be removed. Please use 'zscore_sample' instead.\n",
      "  cleaned_data = nilearn.signal.clean(\n"
     ]
    },
    {
     "name": "stdout",
     "output_type": "stream",
     "text": [
      "(121, 10242)\n",
      "(121, 10242)\n"
     ]
    },
    {
     "name": "stderr",
     "output_type": "stream",
     "text": [
      "/var/folders/r2/f85nyfr1785fj4257wkdj7480000gn/T/ipykernel_77676/957068756.py:49: DeprecationWarning: The default strategy for standardize is currently 'zscore' which incorrectly uses population std to calculate sample zscores. The new strategy 'zscore_sample' corrects this behavior by using the sample std. In release 0.13, the default strategy will be replaced by the new strategy and the 'zscore' option will be removed. Please use 'zscore_sample' instead.\n",
      "  cleaned_data = nilearn.signal.clean(\n"
     ]
    },
    {
     "name": "stdout",
     "output_type": "stream",
     "text": [
      "(121, 10242)\n",
      "(121, 10242)\n"
     ]
    },
    {
     "name": "stderr",
     "output_type": "stream",
     "text": [
      "/var/folders/r2/f85nyfr1785fj4257wkdj7480000gn/T/ipykernel_77676/957068756.py:49: DeprecationWarning: The default strategy for standardize is currently 'zscore' which incorrectly uses population std to calculate sample zscores. The new strategy 'zscore_sample' corrects this behavior by using the sample std. In release 0.13, the default strategy will be replaced by the new strategy and the 'zscore' option will be removed. Please use 'zscore_sample' instead.\n",
      "  cleaned_data = nilearn.signal.clean(\n"
     ]
    },
    {
     "name": "stdout",
     "output_type": "stream",
     "text": [
      "(121, 10242)\n",
      "(121, 10242)\n"
     ]
    },
    {
     "name": "stderr",
     "output_type": "stream",
     "text": [
      "/var/folders/r2/f85nyfr1785fj4257wkdj7480000gn/T/ipykernel_77676/957068756.py:49: DeprecationWarning: The default strategy for standardize is currently 'zscore' which incorrectly uses population std to calculate sample zscores. The new strategy 'zscore_sample' corrects this behavior by using the sample std. In release 0.13, the default strategy will be replaced by the new strategy and the 'zscore' option will be removed. Please use 'zscore_sample' instead.\n",
      "  cleaned_data = nilearn.signal.clean(\n"
     ]
    },
    {
     "name": "stdout",
     "output_type": "stream",
     "text": [
      "(121, 10242)\n",
      "(121, 10242)\n"
     ]
    },
    {
     "name": "stderr",
     "output_type": "stream",
     "text": [
      "/var/folders/r2/f85nyfr1785fj4257wkdj7480000gn/T/ipykernel_77676/957068756.py:49: DeprecationWarning: The default strategy for standardize is currently 'zscore' which incorrectly uses population std to calculate sample zscores. The new strategy 'zscore_sample' corrects this behavior by using the sample std. In release 0.13, the default strategy will be replaced by the new strategy and the 'zscore' option will be removed. Please use 'zscore_sample' instead.\n",
      "  cleaned_data = nilearn.signal.clean(\n"
     ]
    },
    {
     "name": "stdout",
     "output_type": "stream",
     "text": [
      "(121, 10242)\n",
      "(121, 10242)\n"
     ]
    },
    {
     "name": "stderr",
     "output_type": "stream",
     "text": [
      "/var/folders/r2/f85nyfr1785fj4257wkdj7480000gn/T/ipykernel_77676/957068756.py:49: DeprecationWarning: The default strategy for standardize is currently 'zscore' which incorrectly uses population std to calculate sample zscores. The new strategy 'zscore_sample' corrects this behavior by using the sample std. In release 0.13, the default strategy will be replaced by the new strategy and the 'zscore' option will be removed. Please use 'zscore_sample' instead.\n",
      "  cleaned_data = nilearn.signal.clean(\n"
     ]
    },
    {
     "name": "stdout",
     "output_type": "stream",
     "text": [
      "(121, 10242)\n",
      "(121, 10242)\n"
     ]
    },
    {
     "name": "stderr",
     "output_type": "stream",
     "text": [
      "/var/folders/r2/f85nyfr1785fj4257wkdj7480000gn/T/ipykernel_77676/957068756.py:49: DeprecationWarning: The default strategy for standardize is currently 'zscore' which incorrectly uses population std to calculate sample zscores. The new strategy 'zscore_sample' corrects this behavior by using the sample std. In release 0.13, the default strategy will be replaced by the new strategy and the 'zscore' option will be removed. Please use 'zscore_sample' instead.\n",
      "  cleaned_data = nilearn.signal.clean(\n"
     ]
    },
    {
     "name": "stdout",
     "output_type": "stream",
     "text": [
      "(121, 10242)\n",
      "(121, 10242)\n"
     ]
    },
    {
     "name": "stderr",
     "output_type": "stream",
     "text": [
      "/var/folders/r2/f85nyfr1785fj4257wkdj7480000gn/T/ipykernel_77676/957068756.py:49: DeprecationWarning: The default strategy for standardize is currently 'zscore' which incorrectly uses population std to calculate sample zscores. The new strategy 'zscore_sample' corrects this behavior by using the sample std. In release 0.13, the default strategy will be replaced by the new strategy and the 'zscore' option will be removed. Please use 'zscore_sample' instead.\n",
      "  cleaned_data = nilearn.signal.clean(\n"
     ]
    },
    {
     "name": "stdout",
     "output_type": "stream",
     "text": [
      "(121, 10242)\n",
      "(121, 10242)\n"
     ]
    },
    {
     "name": "stderr",
     "output_type": "stream",
     "text": [
      "/var/folders/r2/f85nyfr1785fj4257wkdj7480000gn/T/ipykernel_77676/957068756.py:49: DeprecationWarning: The default strategy for standardize is currently 'zscore' which incorrectly uses population std to calculate sample zscores. The new strategy 'zscore_sample' corrects this behavior by using the sample std. In release 0.13, the default strategy will be replaced by the new strategy and the 'zscore' option will be removed. Please use 'zscore_sample' instead.\n",
      "  cleaned_data = nilearn.signal.clean(\n"
     ]
    }
   ],
   "source": [
    "def run_surface_confound_regression(layout, deriv_layout, data_dir, \n",
    "                                    overwrite=False, t_r=2.5):\n",
    "    cleaned_images = {}\n",
    "\n",
    "    subjects = [int(sub) for sub in layout.get_subjects()]\n",
    "    for subject in subjects:\n",
    "        cleaned_images[subject] = {}\n",
    "        runs = get_subject_runs(subject, data_dir)\n",
    "        print(f'Subject {subject} has {len(runs)} runs')\n",
    "\n",
    "        t_r = None\n",
    "        for run in runs:\n",
    "            # get confounds which are common to run\n",
    "            confound_file = deriv_layout.get(\n",
    "                subject=subject,\n",
    "                run=run,\n",
    "                desc='confounds',\n",
    "                suffix='timeseries',\n",
    "                extension='tsv',\n",
    "                return_type='file',\n",
    "            )\n",
    "            assert (\n",
    "                len(confound_file) == 1\n",
    "            ), f'Found {len(confound_file)} confound files for subject {subject} run {run}'\n",
    "            confounds = pd.read_csv(confound_file[0], sep='\\t').bfill()\n",
    "            # need to include cosine with acompcor\n",
    "            confound_prefixes = ['trans_', 'rot_', 'a_comp_cor_', 'cosine']\n",
    "            confound_cols = [\n",
    "                c\n",
    "                for c in list(confounds.columns)\n",
    "                if any([c.startswith(p) for p in confound_prefixes])\n",
    "            ]\n",
    "            confounds_selected = confounds[confound_cols]\n",
    "\n",
    "            # get data for each hemisphere\n",
    "            cleaned_images[subject][run] = {'L': None, 'R': None}\n",
    "            preproc_surf_files, preproc_surf_data = get_surface_files(subject, run)\n",
    "            for hemis in ['L', 'R']:\n",
    "                cleaned_img_file = preproc_surf_files[hemis].replace('_bold', '_desc-cleaned_bold')\n",
    "                assert cleaned_img_file != preproc_surf_files[hemis]\n",
    "                if os.path.exists(cleaned_img_file) and not overwrite:\n",
    "                    # print(f\"Using existing cleaned file for subject {subject} run {run}\")\n",
    "                    cleaned_img = nib.load(cleaned_img_file)\n",
    "                    cleaned_images[subject][run][hemis] = (cleaned_img_file, cleaned_img)\n",
    "                    continue\n",
    "                assert (\n",
    "                    len(preproc_surf_files) == 2\n",
    "                ), f'Found {len(preproc_file)} preproc files for subject {subject} run {run}'\n",
    "                cleaned_data = nilearn.signal.clean(\n",
    "                    preproc_surf_data[hemis],\n",
    "                    confounds=confounds_selected,\n",
    "                    t_r=t_r,\n",
    "                    standardize='zscore_sample',)\n",
    "                cleaned_img = nib.gifti.GiftiImage()\n",
    "                preproc_surf_img = nib.load(preproc_surf_files[hemis])\n",
    "                for i in range(cleaned_data.shape[0]):\n",
    "                    cleaned_img.add_gifti_data_array(\n",
    "                        nib.gifti.GiftiDataArray(\n",
    "                            cleaned_data[i, :],\n",
    "                            intent=preproc_surf_img.darrays[i].intent,\n",
    "                            datatype=preproc_surf_img.darrays[i].datatype,\n",
    "                            meta=preproc_surf_img.darrays[i].meta,\n",
    "                        )\n",
    "                    )\n",
    "                cleaned_img.to_filename(os.path.join(cleaned_img_file))\n",
    "                cleaned_images[subject][run][hemis] = (cleaned_img_file, cleaned_img)\n",
    "    return cleaned_images, t_r\n",
    "\n",
    "\n",
    "# refresh the layouts to detect the new res-3 files\n",
    "layout, deriv_layout = get_layouts(data_dir, fmriprep_dir)\n",
    "\n",
    "cleaned_images, t_r = run_surface_confound_regression(\n",
    "    layout, deriv_layout, data_dir, overwrite=True\n",
    ")\n"
   ]
  },
  {
   "cell_type": "code",
   "execution_count": 63,
   "id": "846c3c53",
   "metadata": {},
   "outputs": [
    {
     "data": {
      "text/plain": [
       "{1: {1: {'L': ('/Users/poldrack/data_unsynced/ds000105/derivatives/fmriprep/sub-1/func/sub-1_task-objectviewing_run-1_hemi-L_space-fsaverage5_desc-cleaned_bold.func.gii',\n",
       "    <nibabel.gifti.gifti.GiftiImage at 0x3385c8da0>),\n",
       "   'R': ('/Users/poldrack/data_unsynced/ds000105/derivatives/fmriprep/sub-1/func/sub-1_task-objectviewing_run-1_hemi-R_space-fsaverage5_desc-cleaned_bold.func.gii',\n",
       "    <nibabel.gifti.gifti.GiftiImage at 0x330f42b10>)},\n",
       "  2: {'L': ('/Users/poldrack/data_unsynced/ds000105/derivatives/fmriprep/sub-1/func/sub-1_task-objectviewing_run-2_hemi-L_space-fsaverage5_desc-cleaned_bold.func.gii',\n",
       "    <nibabel.gifti.gifti.GiftiImage at 0x33514a750>),\n",
       "   'R': ('/Users/poldrack/data_unsynced/ds000105/derivatives/fmriprep/sub-1/func/sub-1_task-objectviewing_run-2_hemi-R_space-fsaverage5_desc-cleaned_bold.func.gii',\n",
       "    <nibabel.gifti.gifti.GiftiImage at 0x330124c50>)},\n",
       "  3: {'L': ('/Users/poldrack/data_unsynced/ds000105/derivatives/fmriprep/sub-1/func/sub-1_task-objectviewing_run-3_hemi-L_space-fsaverage5_desc-cleaned_bold.func.gii',\n",
       "    <nibabel.gifti.gifti.GiftiImage at 0x330b9d7f0>),\n",
       "   'R': ('/Users/poldrack/data_unsynced/ds000105/derivatives/fmriprep/sub-1/func/sub-1_task-objectviewing_run-3_hemi-R_space-fsaverage5_desc-cleaned_bold.func.gii',\n",
       "    <nibabel.gifti.gifti.GiftiImage at 0x330f42630>)},\n",
       "  4: {'L': ('/Users/poldrack/data_unsynced/ds000105/derivatives/fmriprep/sub-1/func/sub-1_task-objectviewing_run-4_hemi-L_space-fsaverage5_desc-cleaned_bold.func.gii',\n",
       "    <nibabel.gifti.gifti.GiftiImage at 0x33514ac30>),\n",
       "   'R': ('/Users/poldrack/data_unsynced/ds000105/derivatives/fmriprep/sub-1/func/sub-1_task-objectviewing_run-4_hemi-R_space-fsaverage5_desc-cleaned_bold.func.gii',\n",
       "    <nibabel.gifti.gifti.GiftiImage at 0x338579f10>)},\n",
       "  5: {'L': ('/Users/poldrack/data_unsynced/ds000105/derivatives/fmriprep/sub-1/func/sub-1_task-objectviewing_run-5_hemi-L_space-fsaverage5_desc-cleaned_bold.func.gii',\n",
       "    <nibabel.gifti.gifti.GiftiImage at 0x331701ca0>),\n",
       "   'R': ('/Users/poldrack/data_unsynced/ds000105/derivatives/fmriprep/sub-1/func/sub-1_task-objectviewing_run-5_hemi-R_space-fsaverage5_desc-cleaned_bold.func.gii',\n",
       "    <nibabel.gifti.gifti.GiftiImage at 0x33e21b0b0>)},\n",
       "  6: {'L': ('/Users/poldrack/data_unsynced/ds000105/derivatives/fmriprep/sub-1/func/sub-1_task-objectviewing_run-6_hemi-L_space-fsaverage5_desc-cleaned_bold.func.gii',\n",
       "    <nibabel.gifti.gifti.GiftiImage at 0x330f411f0>),\n",
       "   'R': ('/Users/poldrack/data_unsynced/ds000105/derivatives/fmriprep/sub-1/func/sub-1_task-objectviewing_run-6_hemi-R_space-fsaverage5_desc-cleaned_bold.func.gii',\n",
       "    <nibabel.gifti.gifti.GiftiImage at 0x330f418b0>)},\n",
       "  7: {'L': ('/Users/poldrack/data_unsynced/ds000105/derivatives/fmriprep/sub-1/func/sub-1_task-objectviewing_run-7_hemi-L_space-fsaverage5_desc-cleaned_bold.func.gii',\n",
       "    <nibabel.gifti.gifti.GiftiImage at 0x331b511c0>),\n",
       "   'R': ('/Users/poldrack/data_unsynced/ds000105/derivatives/fmriprep/sub-1/func/sub-1_task-objectviewing_run-7_hemi-R_space-fsaverage5_desc-cleaned_bold.func.gii',\n",
       "    <nibabel.gifti.gifti.GiftiImage at 0x330b15dc0>)},\n",
       "  8: {'L': ('/Users/poldrack/data_unsynced/ds000105/derivatives/fmriprep/sub-1/func/sub-1_task-objectviewing_run-8_hemi-L_space-fsaverage5_desc-cleaned_bold.func.gii',\n",
       "    <nibabel.gifti.gifti.GiftiImage at 0x3352bb980>),\n",
       "   'R': ('/Users/poldrack/data_unsynced/ds000105/derivatives/fmriprep/sub-1/func/sub-1_task-objectviewing_run-8_hemi-R_space-fsaverage5_desc-cleaned_bold.func.gii',\n",
       "    <nibabel.gifti.gifti.GiftiImage at 0x33609a1b0>)},\n",
       "  9: {'L': ('/Users/poldrack/data_unsynced/ds000105/derivatives/fmriprep/sub-1/func/sub-1_task-objectviewing_run-9_hemi-L_space-fsaverage5_desc-cleaned_bold.func.gii',\n",
       "    <nibabel.gifti.gifti.GiftiImage at 0x3352ba9c0>),\n",
       "   'R': ('/Users/poldrack/data_unsynced/ds000105/derivatives/fmriprep/sub-1/func/sub-1_task-objectviewing_run-9_hemi-R_space-fsaverage5_desc-cleaned_bold.func.gii',\n",
       "    <nibabel.gifti.gifti.GiftiImage at 0x3306011f0>)},\n",
       "  10: {'L': ('/Users/poldrack/data_unsynced/ds000105/derivatives/fmriprep/sub-1/func/sub-1_task-objectviewing_run-10_hemi-L_space-fsaverage5_desc-cleaned_bold.func.gii',\n",
       "    <nibabel.gifti.gifti.GiftiImage at 0x3351f4920>),\n",
       "   'R': ('/Users/poldrack/data_unsynced/ds000105/derivatives/fmriprep/sub-1/func/sub-1_task-objectviewing_run-10_hemi-R_space-fsaverage5_desc-cleaned_bold.func.gii',\n",
       "    <nibabel.gifti.gifti.GiftiImage at 0x3351f72f0>)},\n",
       "  11: {'L': ('/Users/poldrack/data_unsynced/ds000105/derivatives/fmriprep/sub-1/func/sub-1_task-objectviewing_run-11_hemi-L_space-fsaverage5_desc-cleaned_bold.func.gii',\n",
       "    <nibabel.gifti.gifti.GiftiImage at 0x3352b84a0>),\n",
       "   'R': ('/Users/poldrack/data_unsynced/ds000105/derivatives/fmriprep/sub-1/func/sub-1_task-objectviewing_run-11_hemi-R_space-fsaverage5_desc-cleaned_bold.func.gii',\n",
       "    <nibabel.gifti.gifti.GiftiImage at 0x335648980>)},\n",
       "  12: {'L': ('/Users/poldrack/data_unsynced/ds000105/derivatives/fmriprep/sub-1/func/sub-1_task-objectviewing_run-12_hemi-L_space-fsaverage5_desc-cleaned_bold.func.gii',\n",
       "    <nibabel.gifti.gifti.GiftiImage at 0x334885880>),\n",
       "   'R': ('/Users/poldrack/data_unsynced/ds000105/derivatives/fmriprep/sub-1/func/sub-1_task-objectviewing_run-12_hemi-R_space-fsaverage5_desc-cleaned_bold.func.gii',\n",
       "    <nibabel.gifti.gifti.GiftiImage at 0x361c7ce00>)}},\n",
       " 2: {1: {'L': ('/Users/poldrack/data_unsynced/ds000105/derivatives/fmriprep/sub-2/func/sub-2_task-objectviewing_run-1_hemi-L_space-fsaverage5_desc-cleaned_bold.func.gii',\n",
       "    <nibabel.gifti.gifti.GiftiImage at 0x361a07590>),\n",
       "   'R': ('/Users/poldrack/data_unsynced/ds000105/derivatives/fmriprep/sub-2/func/sub-2_task-objectviewing_run-1_hemi-R_space-fsaverage5_desc-cleaned_bold.func.gii',\n",
       "    <nibabel.gifti.gifti.GiftiImage at 0x361a055b0>)},\n",
       "  2: {'L': ('/Users/poldrack/data_unsynced/ds000105/derivatives/fmriprep/sub-2/func/sub-2_task-objectviewing_run-2_hemi-L_space-fsaverage5_desc-cleaned_bold.func.gii',\n",
       "    <nibabel.gifti.gifti.GiftiImage at 0x361c0b200>),\n",
       "   'R': ('/Users/poldrack/data_unsynced/ds000105/derivatives/fmriprep/sub-2/func/sub-2_task-objectviewing_run-2_hemi-R_space-fsaverage5_desc-cleaned_bold.func.gii',\n",
       "    <nibabel.gifti.gifti.GiftiImage at 0x361aaf6b0>)},\n",
       "  3: {'L': ('/Users/poldrack/data_unsynced/ds000105/derivatives/fmriprep/sub-2/func/sub-2_task-objectviewing_run-3_hemi-L_space-fsaverage5_desc-cleaned_bold.func.gii',\n",
       "    <nibabel.gifti.gifti.GiftiImage at 0x3318575f0>),\n",
       "   'R': ('/Users/poldrack/data_unsynced/ds000105/derivatives/fmriprep/sub-2/func/sub-2_task-objectviewing_run-3_hemi-R_space-fsaverage5_desc-cleaned_bold.func.gii',\n",
       "    <nibabel.gifti.gifti.GiftiImage at 0x361e00f20>)},\n",
       "  4: {'L': ('/Users/poldrack/data_unsynced/ds000105/derivatives/fmriprep/sub-2/func/sub-2_task-objectviewing_run-4_hemi-L_space-fsaverage5_desc-cleaned_bold.func.gii',\n",
       "    <nibabel.gifti.gifti.GiftiImage at 0x3618df170>),\n",
       "   'R': ('/Users/poldrack/data_unsynced/ds000105/derivatives/fmriprep/sub-2/func/sub-2_task-objectviewing_run-4_hemi-R_space-fsaverage5_desc-cleaned_bold.func.gii',\n",
       "    <nibabel.gifti.gifti.GiftiImage at 0x361b65280>)},\n",
       "  5: {'L': ('/Users/poldrack/data_unsynced/ds000105/derivatives/fmriprep/sub-2/func/sub-2_task-objectviewing_run-5_hemi-L_space-fsaverage5_desc-cleaned_bold.func.gii',\n",
       "    <nibabel.gifti.gifti.GiftiImage at 0x361a29c70>),\n",
       "   'R': ('/Users/poldrack/data_unsynced/ds000105/derivatives/fmriprep/sub-2/func/sub-2_task-objectviewing_run-5_hemi-R_space-fsaverage5_desc-cleaned_bold.func.gii',\n",
       "    <nibabel.gifti.gifti.GiftiImage at 0x365b8ecc0>)},\n",
       "  6: {'L': ('/Users/poldrack/data_unsynced/ds000105/derivatives/fmriprep/sub-2/func/sub-2_task-objectviewing_run-6_hemi-L_space-fsaverage5_desc-cleaned_bold.func.gii',\n",
       "    <nibabel.gifti.gifti.GiftiImage at 0x332944f80>),\n",
       "   'R': ('/Users/poldrack/data_unsynced/ds000105/derivatives/fmriprep/sub-2/func/sub-2_task-objectviewing_run-6_hemi-R_space-fsaverage5_desc-cleaned_bold.func.gii',\n",
       "    <nibabel.gifti.gifti.GiftiImage at 0x365b54440>)},\n",
       "  7: {'L': ('/Users/poldrack/data_unsynced/ds000105/derivatives/fmriprep/sub-2/func/sub-2_task-objectviewing_run-7_hemi-L_space-fsaverage5_desc-cleaned_bold.func.gii',\n",
       "    <nibabel.gifti.gifti.GiftiImage at 0x3329469f0>),\n",
       "   'R': ('/Users/poldrack/data_unsynced/ds000105/derivatives/fmriprep/sub-2/func/sub-2_task-objectviewing_run-7_hemi-R_space-fsaverage5_desc-cleaned_bold.func.gii',\n",
       "    <nibabel.gifti.gifti.GiftiImage at 0x365b8e090>)},\n",
       "  8: {'L': ('/Users/poldrack/data_unsynced/ds000105/derivatives/fmriprep/sub-2/func/sub-2_task-objectviewing_run-8_hemi-L_space-fsaverage5_desc-cleaned_bold.func.gii',\n",
       "    <nibabel.gifti.gifti.GiftiImage at 0x365b549b0>),\n",
       "   'R': ('/Users/poldrack/data_unsynced/ds000105/derivatives/fmriprep/sub-2/func/sub-2_task-objectviewing_run-8_hemi-R_space-fsaverage5_desc-cleaned_bold.func.gii',\n",
       "    <nibabel.gifti.gifti.GiftiImage at 0x33128d760>)},\n",
       "  9: {'L': ('/Users/poldrack/data_unsynced/ds000105/derivatives/fmriprep/sub-2/func/sub-2_task-objectviewing_run-9_hemi-L_space-fsaverage5_desc-cleaned_bold.func.gii',\n",
       "    <nibabel.gifti.gifti.GiftiImage at 0x3312f0530>),\n",
       "   'R': ('/Users/poldrack/data_unsynced/ds000105/derivatives/fmriprep/sub-2/func/sub-2_task-objectviewing_run-9_hemi-R_space-fsaverage5_desc-cleaned_bold.func.gii',\n",
       "    <nibabel.gifti.gifti.GiftiImage at 0x3312f0230>)},\n",
       "  10: {'L': ('/Users/poldrack/data_unsynced/ds000105/derivatives/fmriprep/sub-2/func/sub-2_task-objectviewing_run-10_hemi-L_space-fsaverage5_desc-cleaned_bold.func.gii',\n",
       "    <nibabel.gifti.gifti.GiftiImage at 0x3356d1d90>),\n",
       "   'R': ('/Users/poldrack/data_unsynced/ds000105/derivatives/fmriprep/sub-2/func/sub-2_task-objectviewing_run-10_hemi-R_space-fsaverage5_desc-cleaned_bold.func.gii',\n",
       "    <nibabel.gifti.gifti.GiftiImage at 0x3356c0f20>)},\n",
       "  11: {'L': ('/Users/poldrack/data_unsynced/ds000105/derivatives/fmriprep/sub-2/func/sub-2_task-objectviewing_run-11_hemi-L_space-fsaverage5_desc-cleaned_bold.func.gii',\n",
       "    <nibabel.gifti.gifti.GiftiImage at 0x3312f33e0>),\n",
       "   'R': ('/Users/poldrack/data_unsynced/ds000105/derivatives/fmriprep/sub-2/func/sub-2_task-objectviewing_run-11_hemi-R_space-fsaverage5_desc-cleaned_bold.func.gii',\n",
       "    <nibabel.gifti.gifti.GiftiImage at 0x33dd77da0>)},\n",
       "  12: {'L': ('/Users/poldrack/data_unsynced/ds000105/derivatives/fmriprep/sub-2/func/sub-2_task-objectviewing_run-12_hemi-L_space-fsaverage5_desc-cleaned_bold.func.gii',\n",
       "    <nibabel.gifti.gifti.GiftiImage at 0x3327704d0>),\n",
       "   'R': ('/Users/poldrack/data_unsynced/ds000105/derivatives/fmriprep/sub-2/func/sub-2_task-objectviewing_run-12_hemi-R_space-fsaverage5_desc-cleaned_bold.func.gii',\n",
       "    <nibabel.gifti.gifti.GiftiImage at 0x33de15340>)}},\n",
       " 3: {1: {'L': ('/Users/poldrack/data_unsynced/ds000105/derivatives/fmriprep/sub-3/func/sub-3_task-objectviewing_run-1_hemi-L_space-fsaverage5_desc-cleaned_bold.func.gii',\n",
       "    <nibabel.gifti.gifti.GiftiImage at 0x361e8e630>),\n",
       "   'R': ('/Users/poldrack/data_unsynced/ds000105/derivatives/fmriprep/sub-3/func/sub-3_task-objectviewing_run-1_hemi-R_space-fsaverage5_desc-cleaned_bold.func.gii',\n",
       "    <nibabel.gifti.gifti.GiftiImage at 0x33e0e8fe0>)},\n",
       "  2: {'L': ('/Users/poldrack/data_unsynced/ds000105/derivatives/fmriprep/sub-3/func/sub-3_task-objectviewing_run-2_hemi-L_space-fsaverage5_desc-cleaned_bold.func.gii',\n",
       "    <nibabel.gifti.gifti.GiftiImage at 0x336a22cc0>),\n",
       "   'R': ('/Users/poldrack/data_unsynced/ds000105/derivatives/fmriprep/sub-3/func/sub-3_task-objectviewing_run-2_hemi-R_space-fsaverage5_desc-cleaned_bold.func.gii',\n",
       "    <nibabel.gifti.gifti.GiftiImage at 0x33293b080>)},\n",
       "  3: {'L': ('/Users/poldrack/data_unsynced/ds000105/derivatives/fmriprep/sub-3/func/sub-3_task-objectviewing_run-3_hemi-L_space-fsaverage5_desc-cleaned_bold.func.gii',\n",
       "    <nibabel.gifti.gifti.GiftiImage at 0x336d97b60>),\n",
       "   'R': ('/Users/poldrack/data_unsynced/ds000105/derivatives/fmriprep/sub-3/func/sub-3_task-objectviewing_run-3_hemi-R_space-fsaverage5_desc-cleaned_bold.func.gii',\n",
       "    <nibabel.gifti.gifti.GiftiImage at 0x336deda60>)},\n",
       "  4: {'L': ('/Users/poldrack/data_unsynced/ds000105/derivatives/fmriprep/sub-3/func/sub-3_task-objectviewing_run-4_hemi-L_space-fsaverage5_desc-cleaned_bold.func.gii',\n",
       "    <nibabel.gifti.gifti.GiftiImage at 0x361a2b890>),\n",
       "   'R': ('/Users/poldrack/data_unsynced/ds000105/derivatives/fmriprep/sub-3/func/sub-3_task-objectviewing_run-4_hemi-R_space-fsaverage5_desc-cleaned_bold.func.gii',\n",
       "    <nibabel.gifti.gifti.GiftiImage at 0x338580710>)},\n",
       "  5: {'L': ('/Users/poldrack/data_unsynced/ds000105/derivatives/fmriprep/sub-3/func/sub-3_task-objectviewing_run-5_hemi-L_space-fsaverage5_desc-cleaned_bold.func.gii',\n",
       "    <nibabel.gifti.gifti.GiftiImage at 0x330f7ae10>),\n",
       "   'R': ('/Users/poldrack/data_unsynced/ds000105/derivatives/fmriprep/sub-3/func/sub-3_task-objectviewing_run-5_hemi-R_space-fsaverage5_desc-cleaned_bold.func.gii',\n",
       "    <nibabel.gifti.gifti.GiftiImage at 0x330f7a840>)},\n",
       "  6: {'L': ('/Users/poldrack/data_unsynced/ds000105/derivatives/fmriprep/sub-3/func/sub-3_task-objectviewing_run-6_hemi-L_space-fsaverage5_desc-cleaned_bold.func.gii',\n",
       "    <nibabel.gifti.gifti.GiftiImage at 0x330f78170>),\n",
       "   'R': ('/Users/poldrack/data_unsynced/ds000105/derivatives/fmriprep/sub-3/func/sub-3_task-objectviewing_run-6_hemi-R_space-fsaverage5_desc-cleaned_bold.func.gii',\n",
       "    <nibabel.gifti.gifti.GiftiImage at 0x334f868d0>)},\n",
       "  7: {'L': ('/Users/poldrack/data_unsynced/ds000105/derivatives/fmriprep/sub-3/func/sub-3_task-objectviewing_run-7_hemi-L_space-fsaverage5_desc-cleaned_bold.func.gii',\n",
       "    <nibabel.gifti.gifti.GiftiImage at 0x334fa3f80>),\n",
       "   'R': ('/Users/poldrack/data_unsynced/ds000105/derivatives/fmriprep/sub-3/func/sub-3_task-objectviewing_run-7_hemi-R_space-fsaverage5_desc-cleaned_bold.func.gii',\n",
       "    <nibabel.gifti.gifti.GiftiImage at 0x336f4b1d0>)},\n",
       "  8: {'L': ('/Users/poldrack/data_unsynced/ds000105/derivatives/fmriprep/sub-3/func/sub-3_task-objectviewing_run-8_hemi-L_space-fsaverage5_desc-cleaned_bold.func.gii',\n",
       "    <nibabel.gifti.gifti.GiftiImage at 0x334ff0110>),\n",
       "   'R': ('/Users/poldrack/data_unsynced/ds000105/derivatives/fmriprep/sub-3/func/sub-3_task-objectviewing_run-8_hemi-R_space-fsaverage5_desc-cleaned_bold.func.gii',\n",
       "    <nibabel.gifti.gifti.GiftiImage at 0x33586da30>)},\n",
       "  9: {'L': ('/Users/poldrack/data_unsynced/ds000105/derivatives/fmriprep/sub-3/func/sub-3_task-objectviewing_run-9_hemi-L_space-fsaverage5_desc-cleaned_bold.func.gii',\n",
       "    <nibabel.gifti.gifti.GiftiImage at 0x33586d1c0>),\n",
       "   'R': ('/Users/poldrack/data_unsynced/ds000105/derivatives/fmriprep/sub-3/func/sub-3_task-objectviewing_run-9_hemi-R_space-fsaverage5_desc-cleaned_bold.func.gii',\n",
       "    <nibabel.gifti.gifti.GiftiImage at 0x3358d40b0>)},\n",
       "  10: {'L': ('/Users/poldrack/data_unsynced/ds000105/derivatives/fmriprep/sub-3/func/sub-3_task-objectviewing_run-10_hemi-L_space-fsaverage5_desc-cleaned_bold.func.gii',\n",
       "    <nibabel.gifti.gifti.GiftiImage at 0x3358eeae0>),\n",
       "   'R': ('/Users/poldrack/data_unsynced/ds000105/derivatives/fmriprep/sub-3/func/sub-3_task-objectviewing_run-10_hemi-R_space-fsaverage5_desc-cleaned_bold.func.gii',\n",
       "    <nibabel.gifti.gifti.GiftiImage at 0x331750dd0>)},\n",
       "  11: {'L': ('/Users/poldrack/data_unsynced/ds000105/derivatives/fmriprep/sub-3/func/sub-3_task-objectviewing_run-11_hemi-L_space-fsaverage5_desc-cleaned_bold.func.gii',\n",
       "    <nibabel.gifti.gifti.GiftiImage at 0x3317437a0>),\n",
       "   'R': ('/Users/poldrack/data_unsynced/ds000105/derivatives/fmriprep/sub-3/func/sub-3_task-objectviewing_run-11_hemi-R_space-fsaverage5_desc-cleaned_bold.func.gii',\n",
       "    <nibabel.gifti.gifti.GiftiImage at 0x3328bc470>)},\n",
       "  12: {'L': ('/Users/poldrack/data_unsynced/ds000105/derivatives/fmriprep/sub-3/func/sub-3_task-objectviewing_run-12_hemi-L_space-fsaverage5_desc-cleaned_bold.func.gii',\n",
       "    <nibabel.gifti.gifti.GiftiImage at 0x330f432f0>),\n",
       "   'R': ('/Users/poldrack/data_unsynced/ds000105/derivatives/fmriprep/sub-3/func/sub-3_task-objectviewing_run-12_hemi-R_space-fsaverage5_desc-cleaned_bold.func.gii',\n",
       "    <nibabel.gifti.gifti.GiftiImage at 0x330b16f60>)}},\n",
       " 4: {1: {'L': ('/Users/poldrack/data_unsynced/ds000105/derivatives/fmriprep/sub-4/func/sub-4_task-objectviewing_run-1_hemi-L_space-fsaverage5_desc-cleaned_bold.func.gii',\n",
       "    <nibabel.gifti.gifti.GiftiImage at 0x338763f50>),\n",
       "   'R': ('/Users/poldrack/data_unsynced/ds000105/derivatives/fmriprep/sub-4/func/sub-4_task-objectviewing_run-1_hemi-R_space-fsaverage5_desc-cleaned_bold.func.gii',\n",
       "    <nibabel.gifti.gifti.GiftiImage at 0x336d34950>)},\n",
       "  2: {'L': ('/Users/poldrack/data_unsynced/ds000105/derivatives/fmriprep/sub-4/func/sub-4_task-objectviewing_run-2_hemi-L_space-fsaverage5_desc-cleaned_bold.func.gii',\n",
       "    <nibabel.gifti.gifti.GiftiImage at 0x3372df8c0>),\n",
       "   'R': ('/Users/poldrack/data_unsynced/ds000105/derivatives/fmriprep/sub-4/func/sub-4_task-objectviewing_run-2_hemi-R_space-fsaverage5_desc-cleaned_bold.func.gii',\n",
       "    <nibabel.gifti.gifti.GiftiImage at 0x334d5cd10>)},\n",
       "  3: {'L': ('/Users/poldrack/data_unsynced/ds000105/derivatives/fmriprep/sub-4/func/sub-4_task-objectviewing_run-3_hemi-L_space-fsaverage5_desc-cleaned_bold.func.gii',\n",
       "    <nibabel.gifti.gifti.GiftiImage at 0x3305c5040>),\n",
       "   'R': ('/Users/poldrack/data_unsynced/ds000105/derivatives/fmriprep/sub-4/func/sub-4_task-objectviewing_run-3_hemi-R_space-fsaverage5_desc-cleaned_bold.func.gii',\n",
       "    <nibabel.gifti.gifti.GiftiImage at 0x332e39fd0>)},\n",
       "  4: {'L': ('/Users/poldrack/data_unsynced/ds000105/derivatives/fmriprep/sub-4/func/sub-4_task-objectviewing_run-4_hemi-L_space-fsaverage5_desc-cleaned_bold.func.gii',\n",
       "    <nibabel.gifti.gifti.GiftiImage at 0x336b06210>),\n",
       "   'R': ('/Users/poldrack/data_unsynced/ds000105/derivatives/fmriprep/sub-4/func/sub-4_task-objectviewing_run-4_hemi-R_space-fsaverage5_desc-cleaned_bold.func.gii',\n",
       "    <nibabel.gifti.gifti.GiftiImage at 0x336b07c20>)},\n",
       "  5: {'L': ('/Users/poldrack/data_unsynced/ds000105/derivatives/fmriprep/sub-4/func/sub-4_task-objectviewing_run-5_hemi-L_space-fsaverage5_desc-cleaned_bold.func.gii',\n",
       "    <nibabel.gifti.gifti.GiftiImage at 0x336f8c830>),\n",
       "   'R': ('/Users/poldrack/data_unsynced/ds000105/derivatives/fmriprep/sub-4/func/sub-4_task-objectviewing_run-5_hemi-R_space-fsaverage5_desc-cleaned_bold.func.gii',\n",
       "    <nibabel.gifti.gifti.GiftiImage at 0x336f8cc50>)},\n",
       "  6: {'L': ('/Users/poldrack/data_unsynced/ds000105/derivatives/fmriprep/sub-4/func/sub-4_task-objectviewing_run-6_hemi-L_space-fsaverage5_desc-cleaned_bold.func.gii',\n",
       "    <nibabel.gifti.gifti.GiftiImage at 0x330fbaae0>),\n",
       "   'R': ('/Users/poldrack/data_unsynced/ds000105/derivatives/fmriprep/sub-4/func/sub-4_task-objectviewing_run-6_hemi-R_space-fsaverage5_desc-cleaned_bold.func.gii',\n",
       "    <nibabel.gifti.gifti.GiftiImage at 0x336fa1ee0>)},\n",
       "  7: {'L': ('/Users/poldrack/data_unsynced/ds000105/derivatives/fmriprep/sub-4/func/sub-4_task-objectviewing_run-7_hemi-L_space-fsaverage5_desc-cleaned_bold.func.gii',\n",
       "    <nibabel.gifti.gifti.GiftiImage at 0x3385ba570>),\n",
       "   'R': ('/Users/poldrack/data_unsynced/ds000105/derivatives/fmriprep/sub-4/func/sub-4_task-objectviewing_run-7_hemi-R_space-fsaverage5_desc-cleaned_bold.func.gii',\n",
       "    <nibabel.gifti.gifti.GiftiImage at 0x3385b98b0>)},\n",
       "  8: {'L': ('/Users/poldrack/data_unsynced/ds000105/derivatives/fmriprep/sub-4/func/sub-4_task-objectviewing_run-8_hemi-L_space-fsaverage5_desc-cleaned_bold.func.gii',\n",
       "    <nibabel.gifti.gifti.GiftiImage at 0x336f8e7b0>),\n",
       "   'R': ('/Users/poldrack/data_unsynced/ds000105/derivatives/fmriprep/sub-4/func/sub-4_task-objectviewing_run-8_hemi-R_space-fsaverage5_desc-cleaned_bold.func.gii',\n",
       "    <nibabel.gifti.gifti.GiftiImage at 0x330fbb3b0>)},\n",
       "  9: {'L': ('/Users/poldrack/data_unsynced/ds000105/derivatives/fmriprep/sub-4/func/sub-4_task-objectviewing_run-9_hemi-L_space-fsaverage5_desc-cleaned_bold.func.gii',\n",
       "    <nibabel.gifti.gifti.GiftiImage at 0x332700680>),\n",
       "   'R': ('/Users/poldrack/data_unsynced/ds000105/derivatives/fmriprep/sub-4/func/sub-4_task-objectviewing_run-9_hemi-R_space-fsaverage5_desc-cleaned_bold.func.gii',\n",
       "    <nibabel.gifti.gifti.GiftiImage at 0x332700a10>)},\n",
       "  10: {'L': ('/Users/poldrack/data_unsynced/ds000105/derivatives/fmriprep/sub-4/func/sub-4_task-objectviewing_run-10_hemi-L_space-fsaverage5_desc-cleaned_bold.func.gii',\n",
       "    <nibabel.gifti.gifti.GiftiImage at 0x33de16f30>),\n",
       "   'R': ('/Users/poldrack/data_unsynced/ds000105/derivatives/fmriprep/sub-4/func/sub-4_task-objectviewing_run-10_hemi-R_space-fsaverage5_desc-cleaned_bold.func.gii',\n",
       "    <nibabel.gifti.gifti.GiftiImage at 0x3329028a0>)},\n",
       "  11: {'L': ('/Users/poldrack/data_unsynced/ds000105/derivatives/fmriprep/sub-4/func/sub-4_task-objectviewing_run-11_hemi-L_space-fsaverage5_desc-cleaned_bold.func.gii',\n",
       "    <nibabel.gifti.gifti.GiftiImage at 0x332899850>),\n",
       "   'R': ('/Users/poldrack/data_unsynced/ds000105/derivatives/fmriprep/sub-4/func/sub-4_task-objectviewing_run-11_hemi-R_space-fsaverage5_desc-cleaned_bold.func.gii',\n",
       "    <nibabel.gifti.gifti.GiftiImage at 0x332912450>)},\n",
       "  12: {'L': ('/Users/poldrack/data_unsynced/ds000105/derivatives/fmriprep/sub-4/func/sub-4_task-objectviewing_run-12_hemi-L_space-fsaverage5_desc-cleaned_bold.func.gii',\n",
       "    <nibabel.gifti.gifti.GiftiImage at 0x3618da660>),\n",
       "   'R': ('/Users/poldrack/data_unsynced/ds000105/derivatives/fmriprep/sub-4/func/sub-4_task-objectviewing_run-12_hemi-R_space-fsaverage5_desc-cleaned_bold.func.gii',\n",
       "    <nibabel.gifti.gifti.GiftiImage at 0x3618d9fd0>)}},\n",
       " 5: {1: {'L': ('/Users/poldrack/data_unsynced/ds000105/derivatives/fmriprep/sub-5/func/sub-5_task-objectviewing_run-1_hemi-L_space-fsaverage5_desc-cleaned_bold.func.gii',\n",
       "    <nibabel.gifti.gifti.GiftiImage at 0x3372dc680>),\n",
       "   'R': ('/Users/poldrack/data_unsynced/ds000105/derivatives/fmriprep/sub-5/func/sub-5_task-objectviewing_run-1_hemi-R_space-fsaverage5_desc-cleaned_bold.func.gii',\n",
       "    <nibabel.gifti.gifti.GiftiImage at 0x33e1d39e0>)},\n",
       "  2: {'L': ('/Users/poldrack/data_unsynced/ds000105/derivatives/fmriprep/sub-5/func/sub-5_task-objectviewing_run-2_hemi-L_space-fsaverage5_desc-cleaned_bold.func.gii',\n",
       "    <nibabel.gifti.gifti.GiftiImage at 0x361dd0f50>),\n",
       "   'R': ('/Users/poldrack/data_unsynced/ds000105/derivatives/fmriprep/sub-5/func/sub-5_task-objectviewing_run-2_hemi-R_space-fsaverage5_desc-cleaned_bold.func.gii',\n",
       "    <nibabel.gifti.gifti.GiftiImage at 0x3312b3c80>)},\n",
       "  3: {'L': ('/Users/poldrack/data_unsynced/ds000105/derivatives/fmriprep/sub-5/func/sub-5_task-objectviewing_run-3_hemi-L_space-fsaverage5_desc-cleaned_bold.func.gii',\n",
       "    <nibabel.gifti.gifti.GiftiImage at 0x361cb5d30>),\n",
       "   'R': ('/Users/poldrack/data_unsynced/ds000105/derivatives/fmriprep/sub-5/func/sub-5_task-objectviewing_run-3_hemi-R_space-fsaverage5_desc-cleaned_bold.func.gii',\n",
       "    <nibabel.gifti.gifti.GiftiImage at 0x338578a70>)},\n",
       "  4: {'L': ('/Users/poldrack/data_unsynced/ds000105/derivatives/fmriprep/sub-5/func/sub-5_task-objectviewing_run-4_hemi-L_space-fsaverage5_desc-cleaned_bold.func.gii',\n",
       "    <nibabel.gifti.gifti.GiftiImage at 0x3305c7020>),\n",
       "   'R': ('/Users/poldrack/data_unsynced/ds000105/derivatives/fmriprep/sub-5/func/sub-5_task-objectviewing_run-4_hemi-R_space-fsaverage5_desc-cleaned_bold.func.gii',\n",
       "    <nibabel.gifti.gifti.GiftiImage at 0x361beefc0>)},\n",
       "  5: {'L': ('/Users/poldrack/data_unsynced/ds000105/derivatives/fmriprep/sub-5/func/sub-5_task-objectviewing_run-5_hemi-L_space-fsaverage5_desc-cleaned_bold.func.gii',\n",
       "    <nibabel.gifti.gifti.GiftiImage at 0x361bee030>),\n",
       "   'R': ('/Users/poldrack/data_unsynced/ds000105/derivatives/fmriprep/sub-5/func/sub-5_task-objectviewing_run-5_hemi-R_space-fsaverage5_desc-cleaned_bold.func.gii',\n",
       "    <nibabel.gifti.gifti.GiftiImage at 0x33da722a0>)},\n",
       "  6: {'L': ('/Users/poldrack/data_unsynced/ds000105/derivatives/fmriprep/sub-5/func/sub-5_task-objectviewing_run-6_hemi-L_space-fsaverage5_desc-cleaned_bold.func.gii',\n",
       "    <nibabel.gifti.gifti.GiftiImage at 0x361da3320>),\n",
       "   'R': ('/Users/poldrack/data_unsynced/ds000105/derivatives/fmriprep/sub-5/func/sub-5_task-objectviewing_run-6_hemi-R_space-fsaverage5_desc-cleaned_bold.func.gii',\n",
       "    <nibabel.gifti.gifti.GiftiImage at 0x330b17d70>)},\n",
       "  7: {'L': ('/Users/poldrack/data_unsynced/ds000105/derivatives/fmriprep/sub-5/func/sub-5_task-objectviewing_run-7_hemi-L_space-fsaverage5_desc-cleaned_bold.func.gii',\n",
       "    <nibabel.gifti.gifti.GiftiImage at 0x33db5ef30>),\n",
       "   'R': ('/Users/poldrack/data_unsynced/ds000105/derivatives/fmriprep/sub-5/func/sub-5_task-objectviewing_run-7_hemi-R_space-fsaverage5_desc-cleaned_bold.func.gii',\n",
       "    <nibabel.gifti.gifti.GiftiImage at 0x331cbf380>)},\n",
       "  8: {'L': ('/Users/poldrack/data_unsynced/ds000105/derivatives/fmriprep/sub-5/func/sub-5_task-objectviewing_run-8_hemi-L_space-fsaverage5_desc-cleaned_bold.func.gii',\n",
       "    <nibabel.gifti.gifti.GiftiImage at 0x334b87170>),\n",
       "   'R': ('/Users/poldrack/data_unsynced/ds000105/derivatives/fmriprep/sub-5/func/sub-5_task-objectviewing_run-8_hemi-R_space-fsaverage5_desc-cleaned_bold.func.gii',\n",
       "    <nibabel.gifti.gifti.GiftiImage at 0x334b85a00>)},\n",
       "  9: {'L': ('/Users/poldrack/data_unsynced/ds000105/derivatives/fmriprep/sub-5/func/sub-5_task-objectviewing_run-9_hemi-L_space-fsaverage5_desc-cleaned_bold.func.gii',\n",
       "    <nibabel.gifti.gifti.GiftiImage at 0x331cf6420>),\n",
       "   'R': ('/Users/poldrack/data_unsynced/ds000105/derivatives/fmriprep/sub-5/func/sub-5_task-objectviewing_run-9_hemi-R_space-fsaverage5_desc-cleaned_bold.func.gii',\n",
       "    <nibabel.gifti.gifti.GiftiImage at 0x33dbb3410>)},\n",
       "  10: {'L': ('/Users/poldrack/data_unsynced/ds000105/derivatives/fmriprep/sub-5/func/sub-5_task-objectviewing_run-10_hemi-L_space-fsaverage5_desc-cleaned_bold.func.gii',\n",
       "    <nibabel.gifti.gifti.GiftiImage at 0x332eceed0>),\n",
       "   'R': ('/Users/poldrack/data_unsynced/ds000105/derivatives/fmriprep/sub-5/func/sub-5_task-objectviewing_run-10_hemi-R_space-fsaverage5_desc-cleaned_bold.func.gii',\n",
       "    <nibabel.gifti.gifti.GiftiImage at 0x332ecdb50>)},\n",
       "  11: {'L': ('/Users/poldrack/data_unsynced/ds000105/derivatives/fmriprep/sub-5/func/sub-5_task-objectviewing_run-11_hemi-L_space-fsaverage5_desc-cleaned_bold.func.gii',\n",
       "    <nibabel.gifti.gifti.GiftiImage at 0x33dbb2e70>),\n",
       "   'R': ('/Users/poldrack/data_unsynced/ds000105/derivatives/fmriprep/sub-5/func/sub-5_task-objectviewing_run-11_hemi-R_space-fsaverage5_desc-cleaned_bold.func.gii',\n",
       "    <nibabel.gifti.gifti.GiftiImage at 0x332ecd670>)}},\n",
       " 6: {1: {'L': ('/Users/poldrack/data_unsynced/ds000105/derivatives/fmriprep/sub-6/func/sub-6_task-objectviewing_run-1_hemi-L_space-fsaverage5_desc-cleaned_bold.func.gii',\n",
       "    <nibabel.gifti.gifti.GiftiImage at 0x361da2660>),\n",
       "   'R': ('/Users/poldrack/data_unsynced/ds000105/derivatives/fmriprep/sub-6/func/sub-6_task-objectviewing_run-1_hemi-R_space-fsaverage5_desc-cleaned_bold.func.gii',\n",
       "    <nibabel.gifti.gifti.GiftiImage at 0x334840290>)},\n",
       "  2: {'L': ('/Users/poldrack/data_unsynced/ds000105/derivatives/fmriprep/sub-6/func/sub-6_task-objectviewing_run-2_hemi-L_space-fsaverage5_desc-cleaned_bold.func.gii',\n",
       "    <nibabel.gifti.gifti.GiftiImage at 0x3325ab1a0>),\n",
       "   'R': ('/Users/poldrack/data_unsynced/ds000105/derivatives/fmriprep/sub-6/func/sub-6_task-objectviewing_run-2_hemi-R_space-fsaverage5_desc-cleaned_bold.func.gii',\n",
       "    <nibabel.gifti.gifti.GiftiImage at 0x330c67320>)},\n",
       "  3: {'L': ('/Users/poldrack/data_unsynced/ds000105/derivatives/fmriprep/sub-6/func/sub-6_task-objectviewing_run-3_hemi-L_space-fsaverage5_desc-cleaned_bold.func.gii',\n",
       "    <nibabel.gifti.gifti.GiftiImage at 0x361af6120>),\n",
       "   'R': ('/Users/poldrack/data_unsynced/ds000105/derivatives/fmriprep/sub-6/func/sub-6_task-objectviewing_run-3_hemi-R_space-fsaverage5_desc-cleaned_bold.func.gii',\n",
       "    <nibabel.gifti.gifti.GiftiImage at 0x336e1b3e0>)},\n",
       "  4: {'L': ('/Users/poldrack/data_unsynced/ds000105/derivatives/fmriprep/sub-6/func/sub-6_task-objectviewing_run-4_hemi-L_space-fsaverage5_desc-cleaned_bold.func.gii',\n",
       "    <nibabel.gifti.gifti.GiftiImage at 0x3350b75f0>),\n",
       "   'R': ('/Users/poldrack/data_unsynced/ds000105/derivatives/fmriprep/sub-6/func/sub-6_task-objectviewing_run-4_hemi-R_space-fsaverage5_desc-cleaned_bold.func.gii',\n",
       "    <nibabel.gifti.gifti.GiftiImage at 0x3350b7500>)},\n",
       "  5: {'L': ('/Users/poldrack/data_unsynced/ds000105/derivatives/fmriprep/sub-6/func/sub-6_task-objectviewing_run-5_hemi-L_space-fsaverage5_desc-cleaned_bold.func.gii',\n",
       "    <nibabel.gifti.gifti.GiftiImage at 0x33560b830>),\n",
       "   'R': ('/Users/poldrack/data_unsynced/ds000105/derivatives/fmriprep/sub-6/func/sub-6_task-objectviewing_run-5_hemi-R_space-fsaverage5_desc-cleaned_bold.func.gii',\n",
       "    <nibabel.gifti.gifti.GiftiImage at 0x33813b230>)},\n",
       "  6: {'L': ('/Users/poldrack/data_unsynced/ds000105/derivatives/fmriprep/sub-6/func/sub-6_task-objectviewing_run-6_hemi-L_space-fsaverage5_desc-cleaned_bold.func.gii',\n",
       "    <nibabel.gifti.gifti.GiftiImage at 0x334b842c0>),\n",
       "   'R': ('/Users/poldrack/data_unsynced/ds000105/derivatives/fmriprep/sub-6/func/sub-6_task-objectviewing_run-6_hemi-R_space-fsaverage5_desc-cleaned_bold.func.gii',\n",
       "    <nibabel.gifti.gifti.GiftiImage at 0x336d6d1c0>)},\n",
       "  7: {'L': ('/Users/poldrack/data_unsynced/ds000105/derivatives/fmriprep/sub-6/func/sub-6_task-objectviewing_run-7_hemi-L_space-fsaverage5_desc-cleaned_bold.func.gii',\n",
       "    <nibabel.gifti.gifti.GiftiImage at 0x3358d3050>),\n",
       "   'R': ('/Users/poldrack/data_unsynced/ds000105/derivatives/fmriprep/sub-6/func/sub-6_task-objectviewing_run-7_hemi-R_space-fsaverage5_desc-cleaned_bold.func.gii',\n",
       "    <nibabel.gifti.gifti.GiftiImage at 0x3311be5a0>)},\n",
       "  8: {'L': ('/Users/poldrack/data_unsynced/ds000105/derivatives/fmriprep/sub-6/func/sub-6_task-objectviewing_run-8_hemi-L_space-fsaverage5_desc-cleaned_bold.func.gii',\n",
       "    <nibabel.gifti.gifti.GiftiImage at 0x33da3fa70>),\n",
       "   'R': ('/Users/poldrack/data_unsynced/ds000105/derivatives/fmriprep/sub-6/func/sub-6_task-objectviewing_run-8_hemi-R_space-fsaverage5_desc-cleaned_bold.func.gii',\n",
       "    <nibabel.gifti.gifti.GiftiImage at 0x335648a70>)},\n",
       "  9: {'L': ('/Users/poldrack/data_unsynced/ds000105/derivatives/fmriprep/sub-6/func/sub-6_task-objectviewing_run-9_hemi-L_space-fsaverage5_desc-cleaned_bold.func.gii',\n",
       "    <nibabel.gifti.gifti.GiftiImage at 0x361bef5f0>),\n",
       "   'R': ('/Users/poldrack/data_unsynced/ds000105/derivatives/fmriprep/sub-6/func/sub-6_task-objectviewing_run-9_hemi-R_space-fsaverage5_desc-cleaned_bold.func.gii',\n",
       "    <nibabel.gifti.gifti.GiftiImage at 0x33db0b4d0>)},\n",
       "  10: {'L': ('/Users/poldrack/data_unsynced/ds000105/derivatives/fmriprep/sub-6/func/sub-6_task-objectviewing_run-10_hemi-L_space-fsaverage5_desc-cleaned_bold.func.gii',\n",
       "    <nibabel.gifti.gifti.GiftiImage at 0x335be4a10>),\n",
       "   'R': ('/Users/poldrack/data_unsynced/ds000105/derivatives/fmriprep/sub-6/func/sub-6_task-objectviewing_run-10_hemi-R_space-fsaverage5_desc-cleaned_bold.func.gii',\n",
       "    <nibabel.gifti.gifti.GiftiImage at 0x33db57110>)},\n",
       "  11: {'L': ('/Users/poldrack/data_unsynced/ds000105/derivatives/fmriprep/sub-6/func/sub-6_task-objectviewing_run-11_hemi-L_space-fsaverage5_desc-cleaned_bold.func.gii',\n",
       "    <nibabel.gifti.gifti.GiftiImage at 0x335be4290>),\n",
       "   'R': ('/Users/poldrack/data_unsynced/ds000105/derivatives/fmriprep/sub-6/func/sub-6_task-objectviewing_run-11_hemi-R_space-fsaverage5_desc-cleaned_bold.func.gii',\n",
       "    <nibabel.gifti.gifti.GiftiImage at 0x17fb462a0>)},\n",
       "  12: {'L': ('/Users/poldrack/data_unsynced/ds000105/derivatives/fmriprep/sub-6/func/sub-6_task-objectviewing_run-12_hemi-L_space-fsaverage5_desc-cleaned_bold.func.gii',\n",
       "    <nibabel.gifti.gifti.GiftiImage at 0x33da73c80>),\n",
       "   'R': ('/Users/poldrack/data_unsynced/ds000105/derivatives/fmriprep/sub-6/func/sub-6_task-objectviewing_run-12_hemi-R_space-fsaverage5_desc-cleaned_bold.func.gii',\n",
       "    <nibabel.gifti.gifti.GiftiImage at 0x17fb45c70>)}}}"
      ]
     },
     "execution_count": 63,
     "metadata": {},
     "output_type": "execute_result"
    }
   ],
   "source": [
    "cleaned_images"
   ]
  },
  {
   "cell_type": "markdown",
   "id": "8b7cab62",
   "metadata": {},
   "source": [
    "### select task block timepoints\n",
    "\n",
    "drop the first two TRs from each task block, and generate task labels for each timepoint"
   ]
  },
  {
   "cell_type": "code",
   "execution_count": 64,
   "id": "9df6707a",
   "metadata": {
    "lines_to_next_cell": 2
   },
   "outputs": [],
   "source": [
    "# find the condition label for timepoints that are beyond the intial 4 seconds\n",
    "def get_cond_info(\n",
    "    layout, deriv_layout, cleaned_images, blocklen=20, n_trials_to_skip=2,\n",
    "    n_timepoints=121, t_r=2.5 \n",
    "):\n",
    "    cond_info = {}\n",
    "\n",
    "    subjects = [int(sub) for sub in layout.get_subjects()]\n",
    "    for subject in subjects:\n",
    "        runs = get_subject_runs(subject, data_dir)\n",
    "        cond_info[subject] = {}\n",
    "        for run in runs:\n",
    "            events_file = layout.get(\n",
    "                subject=subject,\n",
    "                run=run,\n",
    "                datatype='func',\n",
    "                extension='tsv',\n",
    "                return_type='file',\n",
    "            )[0]\n",
    "            events = pd.read_csv(events_file, sep='\\t')\n",
    "            timepoints = np.arange(0, n_timepoints * t_r, t_r)\n",
    "\n",
    "            # find task onsets in the events file\n",
    "            # skip 2 trials i.e. 4 seconds\n",
    "            blocklen = (\n",
    "                20  # block length in seconds after removing first 4 seconds\n",
    "            )\n",
    "\n",
    "            conditions = events.trial_type.unique().tolist()\n",
    "            conditions.sort()\n",
    "            onsets = {}\n",
    "            for condition in conditions:\n",
    "                match_df = events[events.trial_type == condition]\n",
    "                onsets[condition] = match_df.onset.tolist()[n_trials_to_skip]\n",
    "            cond_df = pd.DataFrame(\n",
    "                {'timepoint': timepoints, 'condition': None}\n",
    "            )\n",
    "            for idx in cond_df.index:\n",
    "                for condition in conditions:\n",
    "                    if cond_df.loc[idx, 'timepoint'] >= onsets[\n",
    "                        condition\n",
    "                    ] and cond_df.loc[idx, 'timepoint'] < (\n",
    "                        onsets[condition] + blocklen\n",
    "                    ):\n",
    "                        cond_df.loc[idx, 'condition'] = condition\n",
    "            for cond in cond_df.condition.unique():\n",
    "                if cond is None:\n",
    "                    continue\n",
    "                assert len(cond_df[cond_df.condition == cond]) == 8\n",
    "            cond_info[subject][run] = cond_df\n",
    "    return cond_info\n",
    "\n",
    "\n",
    "cond_info = get_cond_info(layout, deriv_layout, t_r, cleaned_images)"
   ]
  },
  {
   "cell_type": "code",
   "execution_count": 67,
   "id": "8911d8aa",
   "metadata": {},
   "outputs": [],
   "source": [
    "def get_gifti_subset(gifti_img, timepoints):\n",
    "    new_gifti_img = nib.gifti.GiftiImage()\n",
    "    for i in timepoints:\n",
    "        new_gifti_img.add_gifti_data_array(\n",
    "            nib.gifti.GiftiDataArray(\n",
    "                gifti_img.darrays[i].data,\n",
    "                intent=gifti_img.darrays[i].intent,\n",
    "                datatype=gifti_img.darrays[i].datatype,\n",
    "                meta=gifti_img.darrays[i].meta,\n",
    "            )\n",
    "        )\n",
    "    return new_gifti_img\n",
    "\n",
    "timepoints = [0,1,2,3]\n",
    "assert len(get_gifti_subset(cleaned_images[1][1]['L'][1], timepoints).darrays) == len(timepoints)"
   ]
  },
  {
   "cell_type": "code",
   "execution_count": 78,
   "id": "07f9813a",
   "metadata": {
    "lines_to_next_cell": 2
   },
   "outputs": [],
   "source": [
    "\n",
    "\n",
    "def get_task_images(cond_info, cleaned_images):\n",
    "    task_images = {}\n",
    "    task_info = {}\n",
    "    for subject, runs in cond_info.items():\n",
    "        task_images[subject] = {}\n",
    "        task_info[subject] = {}\n",
    "        for run, cond_df in runs.items():\n",
    "            good_trials = cond_df.dropna()\n",
    "            task_info[subject][run] = good_trials\n",
    "            task_images[subject][run] = {'L': None, 'R': None}\n",
    "            for hemis in ['L', 'R']:\n",
    "                cleaned_img_file = cleaned_images[subject][run][hemis][0]\n",
    "                cleaned_img = cleaned_images[subject][run][hemis][1]\n",
    "                if not os.path.exists(cleaned_img_file):\n",
    "                    print(f\"Missing cleaned file for subject {subject} run {run}\")\n",
    "                    continue\n",
    "                assert (\n",
    "                    len(good_trials) == 64\n",
    "                ), f'Found {len(good_trials)} good trials for subject {subject} run {run}'\n",
    "                task_img_file = cleaned_img_file.replace(\n",
    "                    'cleaned', 'task'\n",
    "                )\n",
    "                assert task_img_file != cleaned_img_file\n",
    "\n",
    "                if not os.path.exists(task_img_file):\n",
    "                    cleaned_img = cleaned_images[subject][run][hemis][1]\n",
    "                    task_img = get_gifti_subset(cleaned_img, list(good_trials.index))\n",
    "                    task_img.to_filename(task_img_file)\n",
    "                else:\n",
    "                    task_img = nib.load(task_img_file)\n",
    "                task_images[subject][run][hemis] = task_img\n",
    "    return task_images, task_info\n",
    "\n",
    "\n",
    "task_images, task_info = get_task_images(cond_info, cleaned_images)"
   ]
  },
  {
   "cell_type": "code",
   "execution_count": 79,
   "id": "4d66e2f3",
   "metadata": {},
   "outputs": [
    {
     "data": {
      "text/plain": [
       "(64, 10242)"
      ]
     },
     "execution_count": 79,
     "metadata": {},
     "output_type": "execute_result"
    }
   ],
   "source": [
    "def get_gifti_data(gifti_img):\n",
    "    data = []\n",
    "    for i in range(len(gifti_img.darrays)):\n",
    "        data.append(gifti_img.darrays[i].data)\n",
    "    return np.array(data)\n",
    "\n",
    "foo = get_gifti_data(task_images[1][1]['L'])\n",
    "foo.shape"
   ]
  },
  {
   "cell_type": "markdown",
   "id": "30340562",
   "metadata": {},
   "source": [
    "### save to HDF5 file"
   ]
  },
  {
   "cell_type": "code",
   "execution_count": 93,
   "id": "ab0725fb",
   "metadata": {
    "lines_to_next_cell": 2
   },
   "outputs": [
    {
     "name": "stdout",
     "output_type": "stream",
     "text": [
      "Processing subject 1\n",
      "Processing subject 2\n",
      "Processing subject 3\n",
      "Processing subject 4\n",
      "Processing subject 5\n",
      "Processing subject 6\n"
     ]
    }
   ],
   "source": [
    "subjects = [int(sub) for sub in layout.get_subjects()]\n",
    "\n",
    "with h5py.File(os.path.join(output_dir, 'haxby_surface_data_cleaned.h5'), 'w') as hf:\n",
    "\n",
    "    for subject in subjects:\n",
    "        print(f'Processing subject {subject}')\n",
    "        g1 = hf.create_group(f'sub-{subject}')\n",
    "\n",
    "        runs = get_subject_runs(subject, data_dir)\n",
    "\n",
    "        for run in runs:\n",
    "            g2 = g1.create_group(f'run-{run}')\n",
    "            for hemis in ['L', 'R']:\n",
    "                imgdata = get_gifti_data(task_images[subject][run][hemis])\n",
    "                g2.create_dataset(hemis, data=imgdata)\n",
    "\n",
    "            g2.create_dataset(\n",
    "                'conditions',\n",
    "                data=[\n",
    "                    c.encode('utf-8')\n",
    "                    for c in task_info[subject][run].condition.tolist()\n",
    "                ],\n",
    "            )\n"
   ]
  },
  {
   "cell_type": "markdown",
   "id": "b95db5af",
   "metadata": {},
   "source": []
  },
  {
   "cell_type": "markdown",
   "id": "2248576a",
   "metadata": {},
   "source": [
    "### Average within blocks\n",
    "\n"
   ]
  },
  {
   "cell_type": "code",
   "execution_count": 94,
   "id": "055b001a",
   "metadata": {
    "lines_to_next_cell": 2
   },
   "outputs": [
    {
     "name": "stdout",
     "output_type": "stream",
     "text": [
      "64\n",
      "(64, 10242)\n",
      "(64, 10242)\n",
      "64\n",
      "(64, 10242)\n",
      "(64, 10242)\n",
      "64\n",
      "(64, 10242)\n",
      "(64, 10242)\n",
      "64\n",
      "(64, 10242)\n",
      "(64, 10242)\n",
      "64\n",
      "(64, 10242)\n",
      "(64, 10242)\n",
      "64\n",
      "(64, 10242)\n",
      "(64, 10242)\n",
      "64\n",
      "(64, 10242)\n",
      "(64, 10242)\n",
      "64\n",
      "(64, 10242)\n",
      "(64, 10242)\n",
      "64\n",
      "(64, 10242)\n",
      "(64, 10242)\n",
      "64\n",
      "(64, 10242)\n",
      "(64, 10242)\n",
      "64\n",
      "(64, 10242)\n",
      "(64, 10242)\n",
      "64\n",
      "(64, 10242)\n",
      "(64, 10242)\n",
      "64\n",
      "(64, 10242)\n",
      "(64, 10242)\n",
      "64\n",
      "(64, 10242)\n",
      "(64, 10242)\n",
      "64\n",
      "(64, 10242)\n",
      "(64, 10242)\n",
      "64\n",
      "(64, 10242)\n",
      "(64, 10242)\n",
      "64\n",
      "(64, 10242)\n",
      "(64, 10242)\n",
      "64\n",
      "(64, 10242)\n",
      "(64, 10242)\n",
      "64\n",
      "(64, 10242)\n",
      "(64, 10242)\n",
      "64\n",
      "(64, 10242)\n",
      "(64, 10242)\n",
      "64\n",
      "(64, 10242)\n",
      "(64, 10242)\n",
      "64\n",
      "(64, 10242)\n",
      "(64, 10242)\n",
      "64\n",
      "(64, 10242)\n",
      "(64, 10242)\n",
      "64\n",
      "(64, 10242)\n",
      "(64, 10242)\n",
      "64\n",
      "(64, 10242)\n",
      "(64, 10242)\n",
      "64\n",
      "(64, 10242)\n",
      "(64, 10242)\n",
      "64\n",
      "(64, 10242)\n",
      "(64, 10242)\n",
      "64\n",
      "(64, 10242)\n",
      "(64, 10242)\n",
      "64\n",
      "(64, 10242)\n",
      "(64, 10242)\n",
      "64\n",
      "(64, 10242)\n",
      "(64, 10242)\n",
      "64\n",
      "(64, 10242)\n",
      "(64, 10242)\n",
      "64\n",
      "(64, 10242)\n",
      "(64, 10242)\n",
      "64\n",
      "(64, 10242)\n",
      "(64, 10242)\n",
      "64\n",
      "(64, 10242)\n",
      "(64, 10242)\n",
      "64\n",
      "(64, 10242)\n",
      "(64, 10242)\n",
      "64\n",
      "(64, 10242)\n",
      "(64, 10242)\n",
      "64\n",
      "(64, 10242)\n",
      "(64, 10242)\n",
      "64\n",
      "(64, 10242)\n",
      "(64, 10242)\n",
      "64\n",
      "(64, 10242)\n",
      "(64, 10242)\n",
      "64\n",
      "(64, 10242)\n",
      "(64, 10242)\n",
      "64\n",
      "(64, 10242)\n",
      "(64, 10242)\n",
      "64\n",
      "(64, 10242)\n",
      "(64, 10242)\n",
      "64\n",
      "(64, 10242)\n",
      "(64, 10242)\n",
      "64\n",
      "(64, 10242)\n",
      "(64, 10242)\n",
      "64\n",
      "(64, 10242)\n",
      "(64, 10242)\n",
      "64\n",
      "(64, 10242)\n",
      "(64, 10242)\n",
      "64\n",
      "(64, 10242)\n",
      "(64, 10242)\n",
      "64\n",
      "(64, 10242)\n",
      "(64, 10242)\n",
      "64\n",
      "(64, 10242)\n",
      "(64, 10242)\n",
      "64\n",
      "(64, 10242)\n",
      "(64, 10242)\n",
      "64\n",
      "(64, 10242)\n",
      "(64, 10242)\n",
      "64\n",
      "(64, 10242)\n",
      "(64, 10242)\n",
      "64\n",
      "(64, 10242)\n",
      "(64, 10242)\n",
      "64\n",
      "(64, 10242)\n",
      "(64, 10242)\n",
      "64\n",
      "(64, 10242)\n",
      "(64, 10242)\n",
      "64\n",
      "(64, 10242)\n",
      "(64, 10242)\n",
      "64\n",
      "(64, 10242)\n",
      "(64, 10242)\n",
      "64\n",
      "(64, 10242)\n",
      "(64, 10242)\n",
      "64\n",
      "(64, 10242)\n",
      "(64, 10242)\n",
      "64\n",
      "(64, 10242)\n",
      "(64, 10242)\n",
      "64\n",
      "(64, 10242)\n",
      "(64, 10242)\n",
      "64\n",
      "(64, 10242)\n",
      "(64, 10242)\n",
      "64\n",
      "(64, 10242)\n",
      "(64, 10242)\n",
      "64\n",
      "(64, 10242)\n",
      "(64, 10242)\n",
      "64\n",
      "(64, 10242)\n",
      "(64, 10242)\n",
      "64\n",
      "(64, 10242)\n",
      "(64, 10242)\n",
      "64\n",
      "(64, 10242)\n",
      "(64, 10242)\n",
      "64\n",
      "(64, 10242)\n",
      "(64, 10242)\n",
      "64\n",
      "(64, 10242)\n",
      "(64, 10242)\n",
      "64\n",
      "(64, 10242)\n",
      "(64, 10242)\n",
      "64\n",
      "(64, 10242)\n",
      "(64, 10242)\n"
     ]
    }
   ],
   "source": [
    "with h5py.File(os.path.join(output_dir, 'haxby_surface_data_cleaned.h5'), 'a') as hf:\n",
    "\n",
    "    subjects = [int(sub) for sub in layout.get_subjects()]\n",
    "    for subject in subjects:\n",
    "        runs = get_subject_runs(subject, data_dir)\n",
    "        for run in runs:\n",
    "            conditions = [\n",
    "                i.decode('utf-8')\n",
    "                for i in hf[f'sub-{subject}/run-{run}']['conditions'][:]\n",
    "            ]\n",
    "            print(len(conditions))\n",
    "            for hemis in ['L', 'R']:\n",
    "                cleaned_img = hf[f'sub-{subject}/run-{run}'][hemis][:]\n",
    "                cleaned_df = pd.DataFrame(cleaned_img)\n",
    "                condition_mean_df = cleaned_df.groupby(conditions).mean().sort_index()\n",
    "                hf[f'sub-{subject}/run-{run}'].create_dataset(\n",
    "                    f'mean_{hemis}', data=condition_mean_df\n",
    "                )\n",
    "            hf[f'sub-{subject}/run-{run}'].create_dataset(\n",
    "                'mean_conditions', data=condition_mean_df.index.values\n",
    "            )\n",
    "\n"
   ]
  },
  {
   "cell_type": "code",
   "execution_count": 97,
   "id": "a1b8babe",
   "metadata": {
    "lines_to_next_cell": 2
   },
   "outputs": [
    {
     "name": "stdout",
     "output_type": "stream",
     "text": [
      "Group: /sub-1/\n",
      "Group: /sub-1/run-1/\n",
      "Dataset: /sub-1/run-1/L\n",
      "Dataset: /sub-1/run-1/R\n",
      "Dataset: /sub-1/run-1/conditions\n",
      "Dataset: /sub-1/run-1/mean_L\n",
      "Dataset: /sub-1/run-1/mean_R\n",
      "Dataset: /sub-1/run-1/mean_conditions\n",
      "Group: /sub-1/run-10/\n",
      "Dataset: /sub-1/run-10/L\n",
      "Dataset: /sub-1/run-10/R\n",
      "Dataset: /sub-1/run-10/conditions\n",
      "Dataset: /sub-1/run-10/mean_L\n",
      "Dataset: /sub-1/run-10/mean_R\n",
      "Dataset: /sub-1/run-10/mean_conditions\n",
      "Group: /sub-1/run-11/\n",
      "Dataset: /sub-1/run-11/L\n",
      "Dataset: /sub-1/run-11/R\n",
      "Dataset: /sub-1/run-11/conditions\n",
      "Dataset: /sub-1/run-11/mean_L\n",
      "Dataset: /sub-1/run-11/mean_R\n",
      "Dataset: /sub-1/run-11/mean_conditions\n",
      "Group: /sub-1/run-12/\n",
      "Dataset: /sub-1/run-12/L\n",
      "Dataset: /sub-1/run-12/R\n",
      "Dataset: /sub-1/run-12/conditions\n",
      "Dataset: /sub-1/run-12/mean_L\n",
      "Dataset: /sub-1/run-12/mean_R\n",
      "Dataset: /sub-1/run-12/mean_conditions\n",
      "Group: /sub-1/run-2/\n",
      "Dataset: /sub-1/run-2/L\n",
      "Dataset: /sub-1/run-2/R\n",
      "Dataset: /sub-1/run-2/conditions\n",
      "Dataset: /sub-1/run-2/mean_L\n",
      "Dataset: /sub-1/run-2/mean_R\n",
      "Dataset: /sub-1/run-2/mean_conditions\n",
      "Group: /sub-1/run-3/\n",
      "Dataset: /sub-1/run-3/L\n",
      "Dataset: /sub-1/run-3/R\n",
      "Dataset: /sub-1/run-3/conditions\n",
      "Dataset: /sub-1/run-3/mean_L\n",
      "Dataset: /sub-1/run-3/mean_R\n",
      "Dataset: /sub-1/run-3/mean_conditions\n",
      "Group: /sub-1/run-4/\n",
      "Dataset: /sub-1/run-4/L\n",
      "Dataset: /sub-1/run-4/R\n",
      "Dataset: /sub-1/run-4/conditions\n",
      "Dataset: /sub-1/run-4/mean_L\n",
      "Dataset: /sub-1/run-4/mean_R\n",
      "Dataset: /sub-1/run-4/mean_conditions\n",
      "Group: /sub-1/run-5/\n",
      "Dataset: /sub-1/run-5/L\n",
      "Dataset: /sub-1/run-5/R\n",
      "Dataset: /sub-1/run-5/conditions\n",
      "Dataset: /sub-1/run-5/mean_L\n",
      "Dataset: /sub-1/run-5/mean_R\n",
      "Dataset: /sub-1/run-5/mean_conditions\n",
      "Group: /sub-1/run-6/\n",
      "Dataset: /sub-1/run-6/L\n",
      "Dataset: /sub-1/run-6/R\n",
      "Dataset: /sub-1/run-6/conditions\n",
      "Dataset: /sub-1/run-6/mean_L\n",
      "Dataset: /sub-1/run-6/mean_R\n",
      "Dataset: /sub-1/run-6/mean_conditions\n",
      "Group: /sub-1/run-7/\n",
      "Dataset: /sub-1/run-7/L\n",
      "Dataset: /sub-1/run-7/R\n",
      "Dataset: /sub-1/run-7/conditions\n",
      "Dataset: /sub-1/run-7/mean_L\n",
      "Dataset: /sub-1/run-7/mean_R\n",
      "Dataset: /sub-1/run-7/mean_conditions\n",
      "Group: /sub-1/run-8/\n",
      "Dataset: /sub-1/run-8/L\n",
      "Dataset: /sub-1/run-8/R\n",
      "Dataset: /sub-1/run-8/conditions\n",
      "Dataset: /sub-1/run-8/mean_L\n",
      "Dataset: /sub-1/run-8/mean_R\n",
      "Dataset: /sub-1/run-8/mean_conditions\n",
      "Group: /sub-1/run-9/\n",
      "Dataset: /sub-1/run-9/L\n",
      "Dataset: /sub-1/run-9/R\n",
      "Dataset: /sub-1/run-9/conditions\n",
      "Dataset: /sub-1/run-9/mean_L\n",
      "Dataset: /sub-1/run-9/mean_R\n",
      "Dataset: /sub-1/run-9/mean_conditions\n",
      "Group: /sub-2/\n",
      "Group: /sub-2/run-1/\n",
      "Dataset: /sub-2/run-1/L\n",
      "Dataset: /sub-2/run-1/R\n",
      "Dataset: /sub-2/run-1/conditions\n",
      "Dataset: /sub-2/run-1/mean_L\n",
      "Dataset: /sub-2/run-1/mean_R\n",
      "Dataset: /sub-2/run-1/mean_conditions\n",
      "Group: /sub-2/run-10/\n",
      "Dataset: /sub-2/run-10/L\n",
      "Dataset: /sub-2/run-10/R\n",
      "Dataset: /sub-2/run-10/conditions\n",
      "Dataset: /sub-2/run-10/mean_L\n",
      "Dataset: /sub-2/run-10/mean_R\n",
      "Dataset: /sub-2/run-10/mean_conditions\n",
      "Group: /sub-2/run-11/\n",
      "Dataset: /sub-2/run-11/L\n",
      "Dataset: /sub-2/run-11/R\n",
      "Dataset: /sub-2/run-11/conditions\n",
      "Dataset: /sub-2/run-11/mean_L\n",
      "Dataset: /sub-2/run-11/mean_R\n",
      "Dataset: /sub-2/run-11/mean_conditions\n",
      "Group: /sub-2/run-12/\n",
      "Dataset: /sub-2/run-12/L\n",
      "Dataset: /sub-2/run-12/R\n",
      "Dataset: /sub-2/run-12/conditions\n",
      "Dataset: /sub-2/run-12/mean_L\n",
      "Dataset: /sub-2/run-12/mean_R\n",
      "Dataset: /sub-2/run-12/mean_conditions\n",
      "Group: /sub-2/run-2/\n",
      "Dataset: /sub-2/run-2/L\n",
      "Dataset: /sub-2/run-2/R\n",
      "Dataset: /sub-2/run-2/conditions\n",
      "Dataset: /sub-2/run-2/mean_L\n",
      "Dataset: /sub-2/run-2/mean_R\n",
      "Dataset: /sub-2/run-2/mean_conditions\n",
      "Group: /sub-2/run-3/\n",
      "Dataset: /sub-2/run-3/L\n",
      "Dataset: /sub-2/run-3/R\n",
      "Dataset: /sub-2/run-3/conditions\n",
      "Dataset: /sub-2/run-3/mean_L\n",
      "Dataset: /sub-2/run-3/mean_R\n",
      "Dataset: /sub-2/run-3/mean_conditions\n",
      "Group: /sub-2/run-4/\n",
      "Dataset: /sub-2/run-4/L\n",
      "Dataset: /sub-2/run-4/R\n",
      "Dataset: /sub-2/run-4/conditions\n",
      "Dataset: /sub-2/run-4/mean_L\n",
      "Dataset: /sub-2/run-4/mean_R\n",
      "Dataset: /sub-2/run-4/mean_conditions\n",
      "Group: /sub-2/run-5/\n",
      "Dataset: /sub-2/run-5/L\n",
      "Dataset: /sub-2/run-5/R\n",
      "Dataset: /sub-2/run-5/conditions\n",
      "Dataset: /sub-2/run-5/mean_L\n",
      "Dataset: /sub-2/run-5/mean_R\n",
      "Dataset: /sub-2/run-5/mean_conditions\n",
      "Group: /sub-2/run-6/\n",
      "Dataset: /sub-2/run-6/L\n",
      "Dataset: /sub-2/run-6/R\n",
      "Dataset: /sub-2/run-6/conditions\n",
      "Dataset: /sub-2/run-6/mean_L\n",
      "Dataset: /sub-2/run-6/mean_R\n",
      "Dataset: /sub-2/run-6/mean_conditions\n",
      "Group: /sub-2/run-7/\n",
      "Dataset: /sub-2/run-7/L\n",
      "Dataset: /sub-2/run-7/R\n",
      "Dataset: /sub-2/run-7/conditions\n",
      "Dataset: /sub-2/run-7/mean_L\n",
      "Dataset: /sub-2/run-7/mean_R\n",
      "Dataset: /sub-2/run-7/mean_conditions\n",
      "Group: /sub-2/run-8/\n",
      "Dataset: /sub-2/run-8/L\n",
      "Dataset: /sub-2/run-8/R\n",
      "Dataset: /sub-2/run-8/conditions\n",
      "Dataset: /sub-2/run-8/mean_L\n",
      "Dataset: /sub-2/run-8/mean_R\n",
      "Dataset: /sub-2/run-8/mean_conditions\n",
      "Group: /sub-2/run-9/\n",
      "Dataset: /sub-2/run-9/L\n",
      "Dataset: /sub-2/run-9/R\n",
      "Dataset: /sub-2/run-9/conditions\n",
      "Dataset: /sub-2/run-9/mean_L\n",
      "Dataset: /sub-2/run-9/mean_R\n",
      "Dataset: /sub-2/run-9/mean_conditions\n",
      "Group: /sub-3/\n",
      "Group: /sub-3/run-1/\n",
      "Dataset: /sub-3/run-1/L\n",
      "Dataset: /sub-3/run-1/R\n",
      "Dataset: /sub-3/run-1/conditions\n",
      "Dataset: /sub-3/run-1/mean_L\n",
      "Dataset: /sub-3/run-1/mean_R\n",
      "Dataset: /sub-3/run-1/mean_conditions\n",
      "Group: /sub-3/run-10/\n",
      "Dataset: /sub-3/run-10/L\n",
      "Dataset: /sub-3/run-10/R\n",
      "Dataset: /sub-3/run-10/conditions\n",
      "Dataset: /sub-3/run-10/mean_L\n",
      "Dataset: /sub-3/run-10/mean_R\n",
      "Dataset: /sub-3/run-10/mean_conditions\n",
      "Group: /sub-3/run-11/\n",
      "Dataset: /sub-3/run-11/L\n",
      "Dataset: /sub-3/run-11/R\n",
      "Dataset: /sub-3/run-11/conditions\n",
      "Dataset: /sub-3/run-11/mean_L\n",
      "Dataset: /sub-3/run-11/mean_R\n",
      "Dataset: /sub-3/run-11/mean_conditions\n",
      "Group: /sub-3/run-12/\n",
      "Dataset: /sub-3/run-12/L\n",
      "Dataset: /sub-3/run-12/R\n",
      "Dataset: /sub-3/run-12/conditions\n",
      "Dataset: /sub-3/run-12/mean_L\n",
      "Dataset: /sub-3/run-12/mean_R\n",
      "Dataset: /sub-3/run-12/mean_conditions\n",
      "Group: /sub-3/run-2/\n",
      "Dataset: /sub-3/run-2/L\n",
      "Dataset: /sub-3/run-2/R\n",
      "Dataset: /sub-3/run-2/conditions\n",
      "Dataset: /sub-3/run-2/mean_L\n",
      "Dataset: /sub-3/run-2/mean_R\n",
      "Dataset: /sub-3/run-2/mean_conditions\n",
      "Group: /sub-3/run-3/\n",
      "Dataset: /sub-3/run-3/L\n",
      "Dataset: /sub-3/run-3/R\n",
      "Dataset: /sub-3/run-3/conditions\n",
      "Dataset: /sub-3/run-3/mean_L\n",
      "Dataset: /sub-3/run-3/mean_R\n",
      "Dataset: /sub-3/run-3/mean_conditions\n",
      "Group: /sub-3/run-4/\n",
      "Dataset: /sub-3/run-4/L\n",
      "Dataset: /sub-3/run-4/R\n",
      "Dataset: /sub-3/run-4/conditions\n",
      "Dataset: /sub-3/run-4/mean_L\n",
      "Dataset: /sub-3/run-4/mean_R\n",
      "Dataset: /sub-3/run-4/mean_conditions\n",
      "Group: /sub-3/run-5/\n",
      "Dataset: /sub-3/run-5/L\n",
      "Dataset: /sub-3/run-5/R\n",
      "Dataset: /sub-3/run-5/conditions\n",
      "Dataset: /sub-3/run-5/mean_L\n",
      "Dataset: /sub-3/run-5/mean_R\n",
      "Dataset: /sub-3/run-5/mean_conditions\n",
      "Group: /sub-3/run-6/\n",
      "Dataset: /sub-3/run-6/L\n",
      "Dataset: /sub-3/run-6/R\n",
      "Dataset: /sub-3/run-6/conditions\n",
      "Dataset: /sub-3/run-6/mean_L\n",
      "Dataset: /sub-3/run-6/mean_R\n",
      "Dataset: /sub-3/run-6/mean_conditions\n",
      "Group: /sub-3/run-7/\n",
      "Dataset: /sub-3/run-7/L\n",
      "Dataset: /sub-3/run-7/R\n",
      "Dataset: /sub-3/run-7/conditions\n",
      "Dataset: /sub-3/run-7/mean_L\n",
      "Dataset: /sub-3/run-7/mean_R\n",
      "Dataset: /sub-3/run-7/mean_conditions\n",
      "Group: /sub-3/run-8/\n",
      "Dataset: /sub-3/run-8/L\n",
      "Dataset: /sub-3/run-8/R\n",
      "Dataset: /sub-3/run-8/conditions\n",
      "Dataset: /sub-3/run-8/mean_L\n",
      "Dataset: /sub-3/run-8/mean_R\n",
      "Dataset: /sub-3/run-8/mean_conditions\n",
      "Group: /sub-3/run-9/\n",
      "Dataset: /sub-3/run-9/L\n",
      "Dataset: /sub-3/run-9/R\n",
      "Dataset: /sub-3/run-9/conditions\n",
      "Dataset: /sub-3/run-9/mean_L\n",
      "Dataset: /sub-3/run-9/mean_R\n",
      "Dataset: /sub-3/run-9/mean_conditions\n",
      "Group: /sub-4/\n",
      "Group: /sub-4/run-1/\n",
      "Dataset: /sub-4/run-1/L\n",
      "Dataset: /sub-4/run-1/R\n",
      "Dataset: /sub-4/run-1/conditions\n",
      "Dataset: /sub-4/run-1/mean_L\n",
      "Dataset: /sub-4/run-1/mean_R\n",
      "Dataset: /sub-4/run-1/mean_conditions\n",
      "Group: /sub-4/run-10/\n",
      "Dataset: /sub-4/run-10/L\n",
      "Dataset: /sub-4/run-10/R\n",
      "Dataset: /sub-4/run-10/conditions\n",
      "Dataset: /sub-4/run-10/mean_L\n",
      "Dataset: /sub-4/run-10/mean_R\n",
      "Dataset: /sub-4/run-10/mean_conditions\n",
      "Group: /sub-4/run-11/\n",
      "Dataset: /sub-4/run-11/L\n",
      "Dataset: /sub-4/run-11/R\n",
      "Dataset: /sub-4/run-11/conditions\n",
      "Dataset: /sub-4/run-11/mean_L\n",
      "Dataset: /sub-4/run-11/mean_R\n",
      "Dataset: /sub-4/run-11/mean_conditions\n",
      "Group: /sub-4/run-12/\n",
      "Dataset: /sub-4/run-12/L\n",
      "Dataset: /sub-4/run-12/R\n",
      "Dataset: /sub-4/run-12/conditions\n",
      "Dataset: /sub-4/run-12/mean_L\n",
      "Dataset: /sub-4/run-12/mean_R\n",
      "Dataset: /sub-4/run-12/mean_conditions\n",
      "Group: /sub-4/run-2/\n",
      "Dataset: /sub-4/run-2/L\n",
      "Dataset: /sub-4/run-2/R\n",
      "Dataset: /sub-4/run-2/conditions\n",
      "Dataset: /sub-4/run-2/mean_L\n",
      "Dataset: /sub-4/run-2/mean_R\n",
      "Dataset: /sub-4/run-2/mean_conditions\n",
      "Group: /sub-4/run-3/\n",
      "Dataset: /sub-4/run-3/L\n",
      "Dataset: /sub-4/run-3/R\n",
      "Dataset: /sub-4/run-3/conditions\n",
      "Dataset: /sub-4/run-3/mean_L\n",
      "Dataset: /sub-4/run-3/mean_R\n",
      "Dataset: /sub-4/run-3/mean_conditions\n",
      "Group: /sub-4/run-4/\n",
      "Dataset: /sub-4/run-4/L\n",
      "Dataset: /sub-4/run-4/R\n",
      "Dataset: /sub-4/run-4/conditions\n",
      "Dataset: /sub-4/run-4/mean_L\n",
      "Dataset: /sub-4/run-4/mean_R\n",
      "Dataset: /sub-4/run-4/mean_conditions\n",
      "Group: /sub-4/run-5/\n",
      "Dataset: /sub-4/run-5/L\n",
      "Dataset: /sub-4/run-5/R\n",
      "Dataset: /sub-4/run-5/conditions\n",
      "Dataset: /sub-4/run-5/mean_L\n",
      "Dataset: /sub-4/run-5/mean_R\n",
      "Dataset: /sub-4/run-5/mean_conditions\n",
      "Group: /sub-4/run-6/\n",
      "Dataset: /sub-4/run-6/L\n",
      "Dataset: /sub-4/run-6/R\n",
      "Dataset: /sub-4/run-6/conditions\n",
      "Dataset: /sub-4/run-6/mean_L\n",
      "Dataset: /sub-4/run-6/mean_R\n",
      "Dataset: /sub-4/run-6/mean_conditions\n",
      "Group: /sub-4/run-7/\n",
      "Dataset: /sub-4/run-7/L\n",
      "Dataset: /sub-4/run-7/R\n",
      "Dataset: /sub-4/run-7/conditions\n",
      "Dataset: /sub-4/run-7/mean_L\n",
      "Dataset: /sub-4/run-7/mean_R\n",
      "Dataset: /sub-4/run-7/mean_conditions\n",
      "Group: /sub-4/run-8/\n",
      "Dataset: /sub-4/run-8/L\n",
      "Dataset: /sub-4/run-8/R\n",
      "Dataset: /sub-4/run-8/conditions\n",
      "Dataset: /sub-4/run-8/mean_L\n",
      "Dataset: /sub-4/run-8/mean_R\n",
      "Dataset: /sub-4/run-8/mean_conditions\n",
      "Group: /sub-4/run-9/\n",
      "Dataset: /sub-4/run-9/L\n",
      "Dataset: /sub-4/run-9/R\n",
      "Dataset: /sub-4/run-9/conditions\n",
      "Dataset: /sub-4/run-9/mean_L\n",
      "Dataset: /sub-4/run-9/mean_R\n",
      "Dataset: /sub-4/run-9/mean_conditions\n",
      "Group: /sub-5/\n",
      "Group: /sub-5/run-1/\n",
      "Dataset: /sub-5/run-1/L\n",
      "Dataset: /sub-5/run-1/R\n",
      "Dataset: /sub-5/run-1/conditions\n",
      "Dataset: /sub-5/run-1/mean_L\n",
      "Dataset: /sub-5/run-1/mean_R\n",
      "Dataset: /sub-5/run-1/mean_conditions\n",
      "Group: /sub-5/run-10/\n",
      "Dataset: /sub-5/run-10/L\n",
      "Dataset: /sub-5/run-10/R\n",
      "Dataset: /sub-5/run-10/conditions\n",
      "Dataset: /sub-5/run-10/mean_L\n",
      "Dataset: /sub-5/run-10/mean_R\n",
      "Dataset: /sub-5/run-10/mean_conditions\n",
      "Group: /sub-5/run-11/\n",
      "Dataset: /sub-5/run-11/L\n",
      "Dataset: /sub-5/run-11/R\n",
      "Dataset: /sub-5/run-11/conditions\n",
      "Dataset: /sub-5/run-11/mean_L\n",
      "Dataset: /sub-5/run-11/mean_R\n",
      "Dataset: /sub-5/run-11/mean_conditions\n",
      "Group: /sub-5/run-2/\n",
      "Dataset: /sub-5/run-2/L\n",
      "Dataset: /sub-5/run-2/R\n",
      "Dataset: /sub-5/run-2/conditions\n",
      "Dataset: /sub-5/run-2/mean_L\n",
      "Dataset: /sub-5/run-2/mean_R\n",
      "Dataset: /sub-5/run-2/mean_conditions\n",
      "Group: /sub-5/run-3/\n",
      "Dataset: /sub-5/run-3/L\n",
      "Dataset: /sub-5/run-3/R\n",
      "Dataset: /sub-5/run-3/conditions\n",
      "Dataset: /sub-5/run-3/mean_L\n",
      "Dataset: /sub-5/run-3/mean_R\n",
      "Dataset: /sub-5/run-3/mean_conditions\n",
      "Group: /sub-5/run-4/\n",
      "Dataset: /sub-5/run-4/L\n",
      "Dataset: /sub-5/run-4/R\n",
      "Dataset: /sub-5/run-4/conditions\n",
      "Dataset: /sub-5/run-4/mean_L\n",
      "Dataset: /sub-5/run-4/mean_R\n",
      "Dataset: /sub-5/run-4/mean_conditions\n",
      "Group: /sub-5/run-5/\n",
      "Dataset: /sub-5/run-5/L\n",
      "Dataset: /sub-5/run-5/R\n",
      "Dataset: /sub-5/run-5/conditions\n",
      "Dataset: /sub-5/run-5/mean_L\n",
      "Dataset: /sub-5/run-5/mean_R\n",
      "Dataset: /sub-5/run-5/mean_conditions\n",
      "Group: /sub-5/run-6/\n",
      "Dataset: /sub-5/run-6/L\n",
      "Dataset: /sub-5/run-6/R\n",
      "Dataset: /sub-5/run-6/conditions\n",
      "Dataset: /sub-5/run-6/mean_L\n",
      "Dataset: /sub-5/run-6/mean_R\n",
      "Dataset: /sub-5/run-6/mean_conditions\n",
      "Group: /sub-5/run-7/\n",
      "Dataset: /sub-5/run-7/L\n",
      "Dataset: /sub-5/run-7/R\n",
      "Dataset: /sub-5/run-7/conditions\n",
      "Dataset: /sub-5/run-7/mean_L\n",
      "Dataset: /sub-5/run-7/mean_R\n",
      "Dataset: /sub-5/run-7/mean_conditions\n",
      "Group: /sub-5/run-8/\n",
      "Dataset: /sub-5/run-8/L\n",
      "Dataset: /sub-5/run-8/R\n",
      "Dataset: /sub-5/run-8/conditions\n",
      "Dataset: /sub-5/run-8/mean_L\n",
      "Dataset: /sub-5/run-8/mean_R\n",
      "Dataset: /sub-5/run-8/mean_conditions\n",
      "Group: /sub-5/run-9/\n",
      "Dataset: /sub-5/run-9/L\n",
      "Dataset: /sub-5/run-9/R\n",
      "Dataset: /sub-5/run-9/conditions\n",
      "Dataset: /sub-5/run-9/mean_L\n",
      "Dataset: /sub-5/run-9/mean_R\n",
      "Dataset: /sub-5/run-9/mean_conditions\n",
      "Group: /sub-6/\n",
      "Group: /sub-6/run-1/\n",
      "Dataset: /sub-6/run-1/L\n",
      "Dataset: /sub-6/run-1/R\n",
      "Dataset: /sub-6/run-1/conditions\n",
      "Dataset: /sub-6/run-1/mean_L\n",
      "Dataset: /sub-6/run-1/mean_R\n",
      "Dataset: /sub-6/run-1/mean_conditions\n",
      "Group: /sub-6/run-10/\n",
      "Dataset: /sub-6/run-10/L\n",
      "Dataset: /sub-6/run-10/R\n",
      "Dataset: /sub-6/run-10/conditions\n",
      "Dataset: /sub-6/run-10/mean_L\n",
      "Dataset: /sub-6/run-10/mean_R\n",
      "Dataset: /sub-6/run-10/mean_conditions\n",
      "Group: /sub-6/run-11/\n",
      "Dataset: /sub-6/run-11/L\n",
      "Dataset: /sub-6/run-11/R\n",
      "Dataset: /sub-6/run-11/conditions\n",
      "Dataset: /sub-6/run-11/mean_L\n",
      "Dataset: /sub-6/run-11/mean_R\n",
      "Dataset: /sub-6/run-11/mean_conditions\n",
      "Group: /sub-6/run-12/\n",
      "Dataset: /sub-6/run-12/L\n",
      "Dataset: /sub-6/run-12/R\n",
      "Dataset: /sub-6/run-12/conditions\n",
      "Dataset: /sub-6/run-12/mean_L\n",
      "Dataset: /sub-6/run-12/mean_R\n",
      "Dataset: /sub-6/run-12/mean_conditions\n",
      "Group: /sub-6/run-2/\n",
      "Dataset: /sub-6/run-2/L\n",
      "Dataset: /sub-6/run-2/R\n",
      "Dataset: /sub-6/run-2/conditions\n",
      "Dataset: /sub-6/run-2/mean_L\n",
      "Dataset: /sub-6/run-2/mean_R\n",
      "Dataset: /sub-6/run-2/mean_conditions\n",
      "Group: /sub-6/run-3/\n",
      "Dataset: /sub-6/run-3/L\n",
      "Dataset: /sub-6/run-3/R\n",
      "Dataset: /sub-6/run-3/conditions\n",
      "Dataset: /sub-6/run-3/mean_L\n",
      "Dataset: /sub-6/run-3/mean_R\n",
      "Dataset: /sub-6/run-3/mean_conditions\n",
      "Group: /sub-6/run-4/\n",
      "Dataset: /sub-6/run-4/L\n",
      "Dataset: /sub-6/run-4/R\n",
      "Dataset: /sub-6/run-4/conditions\n",
      "Dataset: /sub-6/run-4/mean_L\n",
      "Dataset: /sub-6/run-4/mean_R\n",
      "Dataset: /sub-6/run-4/mean_conditions\n",
      "Group: /sub-6/run-5/\n",
      "Dataset: /sub-6/run-5/L\n",
      "Dataset: /sub-6/run-5/R\n",
      "Dataset: /sub-6/run-5/conditions\n",
      "Dataset: /sub-6/run-5/mean_L\n",
      "Dataset: /sub-6/run-5/mean_R\n",
      "Dataset: /sub-6/run-5/mean_conditions\n",
      "Group: /sub-6/run-6/\n",
      "Dataset: /sub-6/run-6/L\n",
      "Dataset: /sub-6/run-6/R\n",
      "Dataset: /sub-6/run-6/conditions\n",
      "Dataset: /sub-6/run-6/mean_L\n",
      "Dataset: /sub-6/run-6/mean_R\n",
      "Dataset: /sub-6/run-6/mean_conditions\n",
      "Group: /sub-6/run-7/\n",
      "Dataset: /sub-6/run-7/L\n",
      "Dataset: /sub-6/run-7/R\n",
      "Dataset: /sub-6/run-7/conditions\n",
      "Dataset: /sub-6/run-7/mean_L\n",
      "Dataset: /sub-6/run-7/mean_R\n",
      "Dataset: /sub-6/run-7/mean_conditions\n",
      "Group: /sub-6/run-8/\n",
      "Dataset: /sub-6/run-8/L\n",
      "Dataset: /sub-6/run-8/R\n",
      "Dataset: /sub-6/run-8/conditions\n",
      "Dataset: /sub-6/run-8/mean_L\n",
      "Dataset: /sub-6/run-8/mean_R\n",
      "Dataset: /sub-6/run-8/mean_conditions\n",
      "Group: /sub-6/run-9/\n",
      "Dataset: /sub-6/run-9/L\n",
      "Dataset: /sub-6/run-9/R\n",
      "Dataset: /sub-6/run-9/conditions\n",
      "Dataset: /sub-6/run-9/mean_L\n",
      "Dataset: /sub-6/run-9/mean_R\n",
      "Dataset: /sub-6/run-9/mean_conditions\n"
     ]
    }
   ],
   "source": [
    "import utils\n",
    "\n",
    "with h5py.File(os.path.join(output_dir, 'haxby_surface_data_cleaned.h5'), 'r') as hf:\n",
    "\n",
    "    utils.list_all_datasets(hf)\n"
   ]
  },
  {
   "cell_type": "code",
   "execution_count": null,
   "id": "9edf4002",
   "metadata": {},
   "outputs": [],
   "source": []
  }
 ],
 "metadata": {
  "kernelspec": {
   "display_name": "Python 3",
   "language": "python",
   "name": "python3"
  },
  "language_info": {
   "codemirror_mode": {
    "name": "ipython",
    "version": 3
   },
   "file_extension": ".py",
   "mimetype": "text/x-python",
   "name": "python",
   "nbconvert_exporter": "python",
   "pygments_lexer": "ipython3",
   "version": "3.12.4"
  }
 },
 "nbformat": 4,
 "nbformat_minor": 5
}
