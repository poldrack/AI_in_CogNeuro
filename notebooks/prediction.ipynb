{
 "cells": [
  {
   "cell_type": "markdown",
   "metadata": {},
   "source": [
    "### Predicting individual differences from fMRI data\n",
    "\n",
    "We will use the data from the Consortium for Neuropsychiatric Phenomics ([Poldrack et al., 2016](https://www.ncbi.nlm.nih.gov/pmc/articles/PMC5139672/)) to examine prediction of individual differences from fMRI data."
   ]
  },
  {
   "cell_type": "code",
   "execution_count": 61,
   "metadata": {},
   "outputs": [],
   "source": [
    "import pandas as pd\n",
    "import numpy as np\n",
    "import matplotlib.pyplot as plt\n",
    "import seaborn as sns\n",
    "import nibabel as nib\n",
    "import os\n",
    "from pathlib import Path\n",
    "import nilearn\n",
    "import sklearn\n",
    "from nilearn.maskers import NiftiMasker\n",
    "from sklearn.model_selection import ShuffleSplit\n",
    "from sklearn.linear_model import RidgeCV, SGDClassifier, SGDRegressor\n",
    "from scipy.stats import ks_2samp\n",
    "from nilearn.plotting import plot_stat_map\n",
    "import torch\n",
    "import torch.nn as nn\n",
    "import torch.optim as optim\n",
    "from torch.utils.data import DataLoader, TensorDataset\n",
    "import einops\n",
    "from sklearn.preprocessing import OneHotEncoder\n",
    "\n",
    "device = 'mps'"
   ]
  },
  {
   "cell_type": "markdown",
   "metadata": {},
   "source": [
    "### Load the data"
   ]
  },
  {
   "cell_type": "code",
   "execution_count": 2,
   "metadata": {},
   "outputs": [],
   "source": [
    "basedir = Path('/Users/poldrack/data_unsynced/CNP')\n",
    "output_dir = basedir / 'output'\n",
    "if not output_dir.exists():\n",
    "    output_dir.mkdir()\n",
    "\n",
    "# load the data\n",
    "metadata_df = pd.read_csv(basedir / 'ssrt_metadata.csv')\n",
    "data_img = nib.load(basedir / 'ssrt_cope12_combat.nii.gz')\n",
    "mask_img = nib.load(basedir / 'ssrt_mask.nii.gz')\n",
    "masker = NiftiMasker(mask_img)\n",
    "data = masker.fit_transform(data_img)\n",
    "assert metadata_df.shape[0] == data.shape[0]"
   ]
  },
  {
   "cell_type": "markdown",
   "metadata": {},
   "source": [
    "### Continuous prediction is tricky\n",
    "\n",
    "First let's generate a y variable that we know to be correlated with the fMRI data, and make sure that we can predict it.  We will use a Weibull distribution to generate y values that are slightly skewed, like those in the real data.\n",
    "\n"
   ]
  },
  {
   "cell_type": "code",
   "execution_count": 73,
   "metadata": {},
   "outputs": [
    {
     "data": {
      "text/plain": [
       "<seaborn.axisgrid.FacetGrid at 0x34df34ce0>"
      ]
     },
     "execution_count": 73,
     "metadata": {},
     "output_type": "execute_result"
    },
    {
     "data": {
      "image/png": "[encoded data removed]",
      "text/plain": [
       "<Figure size 500x500 with 1 Axes>"
      ]
     },
     "metadata": {},
     "output_type": "display_data"
    }
   ],
   "source": [
    "def make_simulated_y(data, snr=0, weib_param=1.1, seed=None):\n",
    "    rng = np.random.RandomState(seed)\n",
    "    weights = np.random.randn(data.shape[1])\n",
    "    y_sim = data.dot(weights) * snr + rng.weibull(weib_param, size=data.shape[0])\n",
    "    return y_sim\n",
    "\n",
    "y_sim = make_simulated_y(data, snr=0)\n",
    "sns.displot(y_sim, kind='kde')\n"
   ]
  },
  {
   "cell_type": "markdown",
   "metadata": {},
   "source": [
    "Do ridge regression to see how strong the association is."
   ]
  },
  {
   "cell_type": "code",
   "execution_count": 87,
   "metadata": {},
   "outputs": [
    {
     "data": {
      "text/plain": [
       "np.float64(0.28591053467043887)"
      ]
     },
     "execution_count": 87,
     "metadata": {},
     "output_type": "execute_result"
    }
   ],
   "source": [
    "def run_ridgeCV(data, target, nsplits=100, test_size=0.3,\n",
    "                seed=None, verbose=False,\n",
    "                clf=None):\n",
    "    ss = ShuffleSplit(n_splits=nsplits,\n",
    "                      test_size=test_size, random_state=seed)\n",
    "    r2 = []\n",
    "    for split_idx, (train_idx, test_idx) in enumerate(ss.split(data)):\n",
    "        train_X = data[train_idx]\n",
    "        train_y = target[train_idx]\n",
    "        test_X = data[test_idx]\n",
    "        test_y = target[test_idx]\n",
    "\n",
    "        # fit the model\n",
    "        if clf is None:\n",
    "            clf = RidgeCV\n",
    "        model = clf()\n",
    "        model.fit(train_X, train_y)\n",
    "        pred_y = model.predict(test_X)\n",
    "        r2.append(sklearn.metrics.r2_score(test_y, pred_y))\n",
    "        if verbose:\n",
    "            print(f'split {split_idx}: r2={r2[-1]}')\n",
    "\n",
    "    return np.mean(r2)\n",
    "\n",
    "run_ridgeCV(data, y_sim)"
   ]
  },
  {
   "cell_type": "markdown",
   "metadata": {},
   "source": [
    "Why is the mean r2 negative?"
   ]
  },
  {
   "cell_type": "code",
   "execution_count": 88,
   "metadata": {},
   "outputs": [
    {
     "name": "stdout",
     "output_type": "stream",
     "text": [
      "Completed 100 splits on 94953 attempts\n"
     ]
    },
    {
     "data": {
      "text/plain": [
       "np.float64(0.2938792474471123)"
      ]
     },
     "execution_count": 88,
     "metadata": {},
     "output_type": "execute_result"
    }
   ],
   "source": [
    "\n",
    "def run_ridgeCV_equaldist(data, target, nsplits=100, test_size=0.3,\n",
    "                seed=None, verbose=False, splitmult=10000,\n",
    "                pthresh=.999, clf=None):\n",
    "    \n",
    "    ss = ShuffleSplit(n_splits=nsplits*splitmult,\n",
    "                      test_size=test_size, random_state=seed)\n",
    "    r2 = []\n",
    "    for split_idx, (train_idx, test_idx) in enumerate(ss.split(data)):\n",
    "        if ks_2samp(target[train_idx], target[test_idx]).pvalue < pthresh:\n",
    "            continue\n",
    "        train_X = data[train_idx]\n",
    "        train_y = target[train_idx]\n",
    "        test_X = data[test_idx]\n",
    "        test_y = target[test_idx]\n",
    "\n",
    "        # fit the model\n",
    "        if clf is None:\n",
    "            clf = RidgeCV\n",
    "        model = clf()\n",
    "        model.fit(train_X, train_y)\n",
    "        pred_y = model.predict(test_X)\n",
    "        r2.append(sklearn.metrics.r2_score(test_y, pred_y))\n",
    "        if verbose:\n",
    "            print(f'split {split_idx}: r2={r2[-1]}')\n",
    "        if len(r2) == nsplits:\n",
    "            break\n",
    "    if len(r2) < nsplits:\n",
    "        print(f'Warning: only {len(r2)} splits completed on {split_idx} attempts')\n",
    "    else:\n",
    "        print(f'Completed {len(r2)} splits on {split_idx} attempts')\n",
    "    return np.mean(r2)\n",
    "\n",
    "run_ridgeCV_equaldist(data, y_sim)"
   ]
  },
  {
   "cell_type": "markdown",
   "metadata": {},
   "source": [
    "Now generate some data with true signal and make sure it works."
   ]
  },
  {
   "cell_type": "code",
   "execution_count": 77,
   "metadata": {},
   "outputs": [
    {
     "name": "stdout",
     "output_type": "stream",
     "text": [
      "0.25632207266547324\n",
      "Completed 100 splits on 98107 attempts\n"
     ]
    },
    {
     "data": {
      "text/plain": [
       "np.float64(0.286764646229839)"
      ]
     },
     "execution_count": 77,
     "metadata": {},
     "output_type": "execute_result"
    }
   ],
   "source": [
    "y_sim = make_simulated_y(data, snr=1)\n",
    "print(run_ridgeCV(data, y_sim))\n",
    "run_ridgeCV_equaldist(data, y_sim)"
   ]
  },
  {
   "cell_type": "markdown",
   "metadata": {},
   "source": [
    "### Decoding continuous behavioral variables across subjects\n",
    "\n",
    "Let's decode the stop signal reaction time (ssrt) variable."
   ]
  },
  {
   "cell_type": "code",
   "execution_count": 3,
   "metadata": {},
   "outputs": [
    {
     "data": {
      "text/plain": [
       "<seaborn.axisgrid.FacetGrid at 0x169e5e000>"
      ]
     },
     "execution_count": 3,
     "metadata": {},
     "output_type": "execute_result"
    },
    {
     "data": {
      "image/png": "[encoded data removed]",
      "text/plain": [
       "<Figure size 500x500 with 1 Axes>"
      ]
     },
     "metadata": {},
     "output_type": "display_data"
    }
   ],
   "source": [
    "sns.displot(metadata_df['ssrt'])"
   ]
  },
  {
   "cell_type": "code",
   "execution_count": 78,
   "metadata": {},
   "outputs": [
    {
     "name": "stdout",
     "output_type": "stream",
     "text": [
      "Completed 100 splits on 90461 attempts\n"
     ]
    },
    {
     "data": {
      "text/plain": [
       "np.float64(-0.08675965285900208)"
      ]
     },
     "execution_count": 78,
     "metadata": {},
     "output_type": "execute_result"
    }
   ],
   "source": [
    "# use shuffle split\n",
    "\n",
    "run_ridgeCV_equaldist(data, metadata_df['ssrt'])\n"
   ]
  },
  {
   "cell_type": "markdown",
   "metadata": {},
   "source": [
    "### Between-subject classification\n",
    "\n",
    "patient vs control"
   ]
  },
  {
   "cell_type": "code",
   "execution_count": 11,
   "metadata": {},
   "outputs": [
    {
     "data": {
      "text/plain": [
       "np.float64(0.5354330708661418)"
      ]
     },
     "execution_count": 11,
     "metadata": {},
     "output_type": "execute_result"
    }
   ],
   "source": [
    "metadata_df['patient'] = (metadata_df.diagnosis != 'CONTROL').astype('int')\n",
    "metadata_df.patient.mean()"
   ]
  },
  {
   "cell_type": "code",
   "execution_count": 126,
   "metadata": {},
   "outputs": [
    {
     "name": "stdout",
     "output_type": "stream",
     "text": [
      "Completed 100 splits on 138 attempts\n",
      "mean accuracy: 0.48668667561496326\n"
     ]
    },
    {
     "data": {
      "text/plain": [
       "Text(0, 0.5, 'accuracy')"
      ]
     },
     "execution_count": 126,
     "metadata": {},
     "output_type": "execute_result"
    },
    {
     "data": {
      "image/png": "[encoded data removed]",
      "text/plain": [
       "<Figure size 640x480 with 1 Axes>"
      ]
     },
     "metadata": {},
     "output_type": "display_data"
    }
   ],
   "source": [
    "def run_clf_equaldist(data, target, nsplits=100, test_size=0.3,\n",
    "                seed=None, verbose=False, splitmult=10000,\n",
    "                pthresh=.9, clf=None, shuffle_y=False):\n",
    "    \n",
    "    ss = ShuffleSplit(n_splits=nsplits*splitmult,\n",
    "                      test_size=test_size, random_state=seed)\n",
    "    acc = []\n",
    "    coefs = None\n",
    "    for split_idx, (train_idx, test_idx) in enumerate(ss.split(data)):\n",
    "        if pthresh is not None and ks_2samp(target[train_idx], target[test_idx]).pvalue < pthresh:\n",
    "            continue\n",
    "        if shuffle_y:\n",
    "            target = np.random.permutation(target)\n",
    "        train_X = data[train_idx]\n",
    "        train_y = target[train_idx]\n",
    "        test_X = data[test_idx]\n",
    "        test_y = target[test_idx]\n",
    "\n",
    "        # fit the model\n",
    "        if clf is None:\n",
    "            clf = SGDClassifier\n",
    "        model = clf()\n",
    "        model.fit(train_X, train_y)\n",
    "        if coefs is None:\n",
    "            coefs = model.coef_\n",
    "        else:\n",
    "            coefs += model.coef_\n",
    "        pred_y = model.predict(test_X)\n",
    "        acc.append(sklearn.metrics.balanced_accuracy_score(test_y, pred_y))\n",
    "        if verbose:\n",
    "            print(f'split {split_idx}: r2={acc[-1]}')\n",
    "        if len(acc) == nsplits:\n",
    "            break\n",
    "    coefs /= (split_idx + 1)\n",
    "    if len(acc) < nsplits:\n",
    "        print(f'Warning: only {len(acc)} splits completed on {split_idx} attempts')\n",
    "    else:\n",
    "        print(f'Completed {len(acc)} splits on {split_idx} attempts')\n",
    "    return acc, coefs\n",
    "\n",
    "acc, _ = run_clf_equaldist(data, metadata_df.patient)\n",
    "print(f'mean accuracy: {np.mean(acc)}')\n",
    "sns.boxenplot(acc)\n",
    "plt.ylabel('accuracy')\n"
   ]
  },
  {
   "cell_type": "markdown",
   "metadata": {},
   "source": [
    "### Predict using a nonlinear model\n",
    "\n",
    "There may be some nonlinear signals, so let's try a neural network."
   ]
  },
  {
   "cell_type": "code",
   "execution_count": 3,
   "metadata": {},
   "outputs": [
    {
     "name": "stdout",
     "output_type": "stream",
     "text": [
      "[31 37 23]\n",
      "211048\n",
      "Sequential(\n",
      "  (0): Conv3d(1, 8, kernel_size=(5, 5, 5), stride=(2, 2, 2))\n",
      "  (1): BatchNorm3d(8, eps=1e-05, momentum=0.1, affine=True, track_running_stats=True)\n",
      "  (2): ReLU()\n",
      "  (3): Dropout3d(p=0.1, inplace=False)\n",
      "  (4): Flatten(start_dim=1, end_dim=-1)\n",
      "  (5): Linear(in_features=211048, out_features=2, bias=True)\n",
      ")\n",
      "(254, 1, 65, 77, 49)\n",
      "torch.Size([254, 1, 65, 77, 49])\n",
      "torch.Size([254, 2])\n"
     ]
    }
   ],
   "source": [
    "# With square kernels and equal stride\n",
    "\n",
    "n_filters = 8\n",
    "in_channels = 1\n",
    "kernel_size = 5\n",
    "stride = 2\n",
    "dropout = 0.1\n",
    "data_shape = np.array(data_img.get_fdata().shape[:3])\n",
    "out_shape = (data_shape - (kernel_size-1) - 1)//stride + 1\n",
    "print(out_shape)\n",
    "print(np.prod(np.concatenate(([n_filters], out_shape))))\n",
    "\n",
    "layer_stack = torch.nn.ModuleList([])\n",
    "layer_stack.extend(\n",
    "        [\n",
    "            torch.nn.Conv3d(\n",
    "                in_channels=in_channels,\n",
    "                out_channels=n_filters,\n",
    "                kernel_size=kernel_size,\n",
    "                stride=stride\n",
    "            ),\n",
    "            torch.nn.BatchNorm3d(num_features=n_filters),\n",
    "            torch.nn.ReLU(),\n",
    "            torch.nn.Dropout3d(p=dropout)\n",
    "        ]\n",
    "    )\n",
    "layer_stack.extend(\n",
    "    [\n",
    "        torch.nn.Flatten(),\n",
    "        torch.nn.Linear(\n",
    "            in_features=np.prod(out_shape)*n_filters,\n",
    "            out_features=2\n",
    "         )\n",
    "    ])\n",
    "\n",
    "model = torch.nn.Sequential(*layer_stack)\n",
    "print(model)\n",
    "in_data = einops.rearrange(data_img.get_fdata(), 'x y z s -> s 1 x y z')\n",
    "print(in_data.shape)\n",
    "\n",
    "i = torch.tensor(in_data).float()\n",
    "print(i.shape)\n",
    "output = model(i)\n",
    "\n",
    "print(output.shape)"
   ]
  },
  {
   "cell_type": "code",
   "execution_count": 4,
   "metadata": {},
   "outputs": [
    {
     "data": {
      "text/plain": [
       "(65, 77, 49)"
      ]
     },
     "execution_count": 4,
     "metadata": {},
     "output_type": "execute_result"
    }
   ],
   "source": [
    "# target shape: np.prod([8, 31, 37, 23]) = np.int64(211048)\n",
    "\n",
    "data_img.get_fdata().shape[:3]"
   ]
  },
  {
   "cell_type": "code",
   "execution_count": 5,
   "metadata": {},
   "outputs": [
    {
     "name": "stdout",
     "output_type": "stream",
     "text": [
      "torch.Size([254, 1, 65, 77, 49])\n",
      "[65 77 49]\n",
      "[31 37 23]\n",
      "211048\n",
      "211048\n"
     ]
    }
   ],
   "source": [
    "print(i.shape)\n",
    "out_shape = np.array(i.shape[2:])\n",
    "print(out_shape)\n",
    "out_shape = (out_shape - (kernel_size-1) - 1)//stride + 1\n",
    "print(out_shape)\n",
    "print(np.prod(np.concatenate(([n_filters], out_shape))))\n",
    "print(np.prod(out_shape)*n_filters)\n"
   ]
  },
  {
   "cell_type": "code",
   "execution_count": 106,
   "metadata": {},
   "outputs": [
    {
     "name": "stdout",
     "output_type": "stream",
     "text": [
      "CNNModel(\n",
      "  (model): Sequential(\n",
      "    (0): Conv3d(1, 8, kernel_size=(4, 4, 4), stride=(2, 2, 2))\n",
      "    (1): BatchNorm3d(8, eps=1e-05, momentum=0.1, affine=True, track_running_stats=True)\n",
      "    (2): ReLU()\n",
      "    (3): Dropout3d(p=0.1, inplace=False)\n",
      "    (4): Conv3d(8, 8, kernel_size=(4, 4, 4), stride=(2, 2, 2))\n",
      "    (5): BatchNorm3d(8, eps=1e-05, momentum=0.1, affine=True, track_running_stats=True)\n",
      "    (6): ReLU()\n",
      "    (7): Dropout3d(p=0.1, inplace=False)\n",
      "    (8): Flatten(start_dim=1, end_dim=-1)\n",
      "    (9): Linear(in_features=19040, out_features=2, bias=True)\n",
      "  )\n",
      ")\n"
     ]
    }
   ],
   "source": [
    "from CNNModel import CNNModel\n",
    "\n",
    "model = CNNModel(\n",
    "    input_shape=[1],\n",
    "    out_shape=data_img.get_fdata().shape[:3],\n",
    "    num_classes=2\n",
    ")\n",
    "\n",
    "model.to(device)\n",
    "print(model)"
   ]
  },
  {
   "cell_type": "code",
   "execution_count": 107,
   "metadata": {},
   "outputs": [
    {
     "data": {
      "text/plain": [
       "torch.float32"
      ]
     },
     "execution_count": 107,
     "metadata": {},
     "output_type": "execute_result"
    }
   ],
   "source": [
    "def get_dataloaders(train_idx, test_idx, data_img, labels, batch_size=20):\n",
    "    data = einops.rearrange(data_img.get_fdata(), 'x y z s -> s 1 x y z')\n",
    "    data_tensor = torch.tensor(in_data.astype('float32')).to(device).to(torch.float32)\n",
    "    enc = OneHotEncoder(handle_unknown='ignore')\n",
    "    labels = np.array(labels).reshape(-1, 1)\n",
    "    labels_tensor = torch.tensor(enc.fit_transform(labels).toarray().astype('float32')).to(device).to(torch.float32)\n",
    "\n",
    "    Dataset_train = TensorDataset(data_tensor[train_idx], labels_tensor[train_idx])\n",
    "    Loader_train = DataLoader(Dataset_train, batch_size=batch_size, shuffle=True)\n",
    "\n",
    "    Dataset_test = TensorDataset(data_tensor[test_idx], labels_tensor[test_idx])\n",
    "    Loader_test = DataLoader(Dataset_test, batch_size=batch_size, shuffle=True)\n",
    "    return Loader_train, Loader_test\n",
    "\n",
    "Loader_train, Loader_test = get_dataloaders([1,2,3], [4,5,6], data_img, metadata_df.patient)\n",
    "\n"
   ]
  },
  {
   "cell_type": "code",
   "execution_count": 108,
   "metadata": {},
   "outputs": [],
   "source": [
    "def train_loop(dataloader, model, loss_fn, optimizer):\n",
    "    size = len(dataloader.dataset)\n",
    "    # Set the model to training mode - important for batch normalization and dropout layers\n",
    "    # Unnecessary in this situation but added for best practices\n",
    "    model.train()\n",
    "    lossvals = []\n",
    "\n",
    "    for batch, (X, y) in enumerate(dataloader):\n",
    "        # Compute prediction and loss\n",
    "        pred = model(X)\n",
    "        loss = loss_fn(pred, y)\n",
    "        lossvals.append(loss.detach().cpu().item())\n",
    "        # Backpropagation\n",
    "        loss.backward()\n",
    "        optimizer.step()\n",
    "        optimizer.zero_grad()\n",
    "    return np.mean(lossvals)\n",
    "\n",
    "\n",
    "\n",
    "def test_loop(dataloader, model, loss_fn):\n",
    "    # Set the model to evaluation mode - important for batch normalization and dropout layers\n",
    "    # Unnecessary in this situation but added for best practices\n",
    "    model.eval()\n",
    "    size = len(dataloader.dataset)\n",
    "    num_batches = len(dataloader)\n",
    "    test_loss, correct = 0, 0\n",
    "\n",
    "    # Evaluating the model with torch.no_grad() ensures that no gradients are computed during test mode\n",
    "    # also serves to reduce unnecessary gradient computations and memory usage for tensors with requires_grad=True\n",
    "    lossvals = []\n",
    "    with torch.no_grad():\n",
    "        for X, y in dataloader:\n",
    "            pred = model(X)\n",
    "            loss = loss_fn(pred, y)\n",
    "            lossvals.append(loss.detach().cpu().item())\n",
    "\n",
    "            #correct += (pred.argmax(1) == y.argmax(1)).type(torch.float).sum().item()\n",
    "\n",
    "    correct /= size\n",
    "    # print(f\"Test Error: \\n Accuracy: {(100*correct):>0.1f}%, Avg loss: {test_loss:>8f} \\n\")\n",
    "    return np.mean(lossvals), correct\n",
    "\n",
    "\n"
   ]
  },
  {
   "cell_type": "code",
   "execution_count": 109,
   "metadata": {},
   "outputs": [
    {
     "name": "stdout",
     "output_type": "stream",
     "text": [
      "<built-in method type of Tensor object at 0x51878c320>\n",
      "<built-in method type of Tensor object at 0x51878def0>\n",
      "<built-in method type of Tensor object at 0x51878e5d0>\n",
      "<built-in method type of Tensor object at 0x51878f390>\n",
      "<built-in method type of Tensor object at 0x51878ee40>\n",
      "<built-in method type of Tensor object at 0x51878fcf0>\n",
      "<built-in method type of Tensor object at 0x51878f5c0>\n",
      "<built-in method type of Tensor object at 0x51878ed50>\n",
      "<built-in method type of Tensor object at 0x51878e760>\n",
      "<built-in method type of Tensor object at 0x51878f200>\n",
      "<built-in method type of Tensor object at 0x51882c640>\n",
      "<built-in method type of Tensor object at 0x51878f390>\n",
      "<built-in method type of Tensor object at 0x51878c4b0>\n",
      "<built-in method type of Tensor object at 0x51878c5f0>\n",
      "<built-in method type of Tensor object at 0x51878ea80>\n",
      "<built-in method type of Tensor object at 0x51878f5c0>\n",
      "<built-in method type of Tensor object at 0x51878def0>\n",
      "<built-in method type of Tensor object at 0x51878ed50>\n",
      "<built-in method type of Tensor object at 0x51878f200>\n",
      "<built-in method type of Tensor object at 0x51878c320>\n",
      "<built-in method type of Tensor object at 0x51878dd10>\n",
      "<built-in method type of Tensor object at 0x51882f5c0>\n",
      "<built-in method type of Tensor object at 0x51878f390>\n",
      "<built-in method type of Tensor object at 0x51878e530>\n",
      "<built-in method type of Tensor object at 0x51878c5f0>\n",
      "<built-in method type of Tensor object at 0x51878c7d0>\n",
      "<built-in method type of Tensor object at 0x51878e5d0>\n",
      "<built-in method type of Tensor object at 0x51878def0>\n",
      "<built-in method type of Tensor object at 0x51878fcf0>\n",
      "<built-in method type of Tensor object at 0x51878f610>\n",
      "<built-in method type of Tensor object at 0x51878c320>\n",
      "<built-in method type of Tensor object at 0x51878e760>\n",
      "<built-in method type of Tensor object at 0x51882d130>\n"
     ]
    }
   ],
   "source": [
    "loss_fn = torch.nn.CrossEntropyLoss()\n",
    "optimizer = torch.optim.Adam(\n",
    "        model.parameters(),\n",
    "        lr=.01\n",
    "    )\n",
    "nepochs = 3\n",
    "\n",
    "ss = ShuffleSplit(n_splits=1, test_size=.2, random_state=None)\n",
    "\n",
    "train_loss = []\n",
    "test_loss = []\n",
    "test_correct = []\n",
    "\n",
    "for split_idx, (train_idx, test_idx) in enumerate(ss.split(data)):\n",
    "\n",
    "    for epoch in range(nepochs):\n",
    "        Loader_train, Loader_test = get_dataloaders(\n",
    "            train_idx, test_idx, data_img, metadata_df.patient.values)\n",
    "\n",
    "        train_loss.append(train_loop(Loader_train, model, loss_fn, optimizer))\n",
    "        t_loss, t_corr = test_loop(Loader_test, model, loss_fn)\n",
    "        test_loss.append(t_loss)\n",
    "        test_correct.append(t_corr)\n",
    "    \n"
   ]
  },
  {
   "cell_type": "code",
   "execution_count": 111,
   "metadata": {},
   "outputs": [
    {
     "data": {
      "text/plain": [
       "<matplotlib.legend.Legend at 0x327f783b0>"
      ]
     },
     "execution_count": 111,
     "metadata": {},
     "output_type": "execute_result"
    },
    {
     "data": {
      "image/png": "[encoded data removed]",
      "text/plain": [
       "<Figure size 640x480 with 1 Axes>"
      ]
     },
     "metadata": {},
     "output_type": "display_data"
    }
   ],
   "source": [
    "plt.plot(train_loss)\n",
    "plt.plot(test_loss)\n",
    "plt.legend(['train', 'test'])"
   ]
  },
  {
   "cell_type": "code",
   "execution_count": null,
   "metadata": {},
   "outputs": [],
   "source": []
  }
 ],
 "metadata": {
  "kernelspec": {
   "display_name": "Python 3",
   "language": "python",
   "name": "python3"
  },
  "language_info": {
   "codemirror_mode": {
    "name": "ipython",
    "version": 3
   },
   "file_extension": ".py",
   "mimetype": "text/x-python",
   "name": "python",
   "nbconvert_exporter": "python",
   "pygments_lexer": "ipython3",
   "version": "3.12.4"
  }
 },
 "nbformat": 4,
 "nbformat_minor": 2
}
