{
 "cells": [
  {
   "cell_type": "markdown",
   "metadata": {},
   "source": [
    "## Data preparation for encoding/decoding models\n",
    "\n",
    "For this example, we will use the data from Haxby et al., 2001., which are shared via OpenNeuro:\n",
    "\n",
    "https://openneuro.org/datasets/ds000105/versions/3.0.0\n",
    "\n",
    "The data are formatted according to the BIDS standard: https://bids-specification.readthedocs.io/en/stable/index.html\n",
    "\n",
    "First, import required dependencies. You can install these using `pip install -r requirements.txt` from the main repo directory."
   ]
  },
  {
   "cell_type": "code",
   "execution_count": 2,
   "metadata": {},
   "outputs": [],
   "source": [
    "import os\n",
    "from nilearn import datasets, plotting\n",
    "from nilearn.image import load_img, mean_img, resample_img\n",
    "from nilearn.maskers import NiftiMasker\n",
    "from nilearn.glm.first_level import FirstLevelModel\n",
    "from nilearn.glm.second_level import SecondLevelModel\n",
    "from nilearn.plotting import plot_stat_map, plot_design_matrix\n",
    "import h5py\n",
    "import numpy as np\n",
    "import nibabel as nib\n",
    "import datalad.api as dl\n",
    "from bids import BIDSLayout\n",
    "from nilearn.glm.first_level import make_first_level_design_matrix\n",
    "import pandas as pd\n",
    "import matplotlib.pyplot as plt\n",
    "from templateflow import api as tflow\n",
    "import templateflow\n",
    "from utils import get_difumo_mask"
   ]
  },
  {
   "cell_type": "markdown",
   "metadata": {},
   "source": [
    "#### Get the data using datalad\n",
    "\n",
    "We will use a tool called [Datalad](https://www.datalad.org/) to obtain the data from openneuro. \n",
    "\n",
    "We will download the raw data, as well as the processed data (using [fMRIPrep](https://fmriprep.org/en/stable/).  Note that downloading these derivative data can take quite a while depending on the speed of one's connection.  "
   ]
  },
  {
   "cell_type": "code",
   "execution_count": 4,
   "metadata": {},
   "outputs": [
    {
     "name": "stderr",
     "output_type": "stream",
     "text": [
      "[INFO] Ensuring presence of Dataset(/Users/poldrack/data_unsynced/ds000105) to get /Users/poldrack/data_unsynced/ds000105 \n"
     ]
    }
   ],
   "source": [
    "data_dir = \"/Users/poldrack/data_unsynced/ds000105\"\n",
    "assert os.path.exists(data_dir), \"Data directory not found: %s\" % data_dir\n",
    "\n",
    "output_dir = os.path.join(data_dir, 'derivatives', 'glm')\n",
    "if not os.path.exists(output_dir):\n",
    "    os.makedirs(output_dir)\n",
    "    \n",
    "# get the raw data\n",
    "ds = dl.clone(\n",
    "    path=data_dir,\n",
    "    source=\"https://github.com/OpenNeuroDatasets/ds000105.git\",\n",
    ")\n",
    "dl.get(dataset=data_dir, recursive=True)\n",
    "\n",
    "get_fmriprep = False  #set to false after downloading fmriprep once\n",
    "fmriprep_dir = os.path.join(data_dir, 'derivatives', 'fmriprep')\n",
    "\n",
    "# get the preprocessed derivatives - this takes some time!\n",
    "if get_fmriprep:\n",
    "    dl.clone(\n",
    "        path=fmriprep_dir,\n",
    "        source='https://github.com/OpenNeuroDerivatives/ds000105-fmriprep.git')\n",
    "    dl.get(dataset=fmriprep_dir, recursive=True)"
   ]
  },
  {
   "cell_type": "markdown",
   "metadata": {},
   "source": [
    "### Query the dataset using PyBIDS\n",
    "\n",
    "Because the dataset is organized using the BIDS standard, we can use the [PyBIDS](https://bids-standard.github.io/pybids/) tool to query the dataset and obtain useful metadata.\n"
   ]
  },
  {
   "cell_type": "code",
   "execution_count": 20,
   "metadata": {},
   "outputs": [
    {
     "data": {
      "text/plain": [
       "['/Users/poldrack/data_unsynced/ds000105/derivatives/fmriprep/sub-1/func/sub-1_task-objectviewing_run-1_space-MNI152NLin2009cAsym_res-2_desc-preproc_bold.nii.gz',\n",
       " '/Users/poldrack/data_unsynced/ds000105/derivatives/fmriprep/sub-1/func/sub-1_task-objectviewing_run-2_space-MNI152NLin2009cAsym_res-2_desc-preproc_bold.nii.gz',\n",
       " '/Users/poldrack/data_unsynced/ds000105/derivatives/fmriprep/sub-1/func/sub-1_task-objectviewing_run-3_space-MNI152NLin2009cAsym_res-2_desc-preproc_bold.nii.gz',\n",
       " '/Users/poldrack/data_unsynced/ds000105/derivatives/fmriprep/sub-1/func/sub-1_task-objectviewing_run-4_space-MNI152NLin2009cAsym_res-2_desc-preproc_bold.nii.gz',\n",
       " '/Users/poldrack/data_unsynced/ds000105/derivatives/fmriprep/sub-1/func/sub-1_task-objectviewing_run-5_space-MNI152NLin2009cAsym_res-2_desc-preproc_bold.nii.gz',\n",
       " '/Users/poldrack/data_unsynced/ds000105/derivatives/fmriprep/sub-1/func/sub-1_task-objectviewing_run-6_space-MNI152NLin2009cAsym_res-2_desc-preproc_bold.nii.gz',\n",
       " '/Users/poldrack/data_unsynced/ds000105/derivatives/fmriprep/sub-1/func/sub-1_task-objectviewing_run-7_space-MNI152NLin2009cAsym_res-2_desc-preproc_bold.nii.gz',\n",
       " '/Users/poldrack/data_unsynced/ds000105/derivatives/fmriprep/sub-1/func/sub-1_task-objectviewing_run-8_space-MNI152NLin2009cAsym_res-2_desc-preproc_bold.nii.gz',\n",
       " '/Users/poldrack/data_unsynced/ds000105/derivatives/fmriprep/sub-1/func/sub-1_task-objectviewing_run-9_space-MNI152NLin2009cAsym_res-2_desc-preproc_bold.nii.gz',\n",
       " '/Users/poldrack/data_unsynced/ds000105/derivatives/fmriprep/sub-1/func/sub-1_task-objectviewing_run-10_space-MNI152NLin2009cAsym_res-2_desc-preproc_bold.nii.gz',\n",
       " '/Users/poldrack/data_unsynced/ds000105/derivatives/fmriprep/sub-1/func/sub-1_task-objectviewing_run-11_space-MNI152NLin2009cAsym_res-2_desc-preproc_bold.nii.gz',\n",
       " '/Users/poldrack/data_unsynced/ds000105/derivatives/fmriprep/sub-1/func/sub-1_task-objectviewing_run-12_space-MNI152NLin2009cAsym_res-2_desc-preproc_bold.nii.gz',\n",
       " '/Users/poldrack/data_unsynced/ds000105/derivatives/fmriprep/sub-2/func/sub-2_task-objectviewing_run-1_space-MNI152NLin2009cAsym_res-2_desc-preproc_bold.nii.gz',\n",
       " '/Users/poldrack/data_unsynced/ds000105/derivatives/fmriprep/sub-2/func/sub-2_task-objectviewing_run-2_space-MNI152NLin2009cAsym_res-2_desc-preproc_bold.nii.gz',\n",
       " '/Users/poldrack/data_unsynced/ds000105/derivatives/fmriprep/sub-2/func/sub-2_task-objectviewing_run-3_space-MNI152NLin2009cAsym_res-2_desc-preproc_bold.nii.gz',\n",
       " '/Users/poldrack/data_unsynced/ds000105/derivatives/fmriprep/sub-2/func/sub-2_task-objectviewing_run-4_space-MNI152NLin2009cAsym_res-2_desc-preproc_bold.nii.gz',\n",
       " '/Users/poldrack/data_unsynced/ds000105/derivatives/fmriprep/sub-2/func/sub-2_task-objectviewing_run-5_space-MNI152NLin2009cAsym_res-2_desc-preproc_bold.nii.gz',\n",
       " '/Users/poldrack/data_unsynced/ds000105/derivatives/fmriprep/sub-2/func/sub-2_task-objectviewing_run-6_space-MNI152NLin2009cAsym_res-2_desc-preproc_bold.nii.gz',\n",
       " '/Users/poldrack/data_unsynced/ds000105/derivatives/fmriprep/sub-2/func/sub-2_task-objectviewing_run-7_space-MNI152NLin2009cAsym_res-2_desc-preproc_bold.nii.gz',\n",
       " '/Users/poldrack/data_unsynced/ds000105/derivatives/fmriprep/sub-2/func/sub-2_task-objectviewing_run-8_space-MNI152NLin2009cAsym_res-2_desc-preproc_bold.nii.gz',\n",
       " '/Users/poldrack/data_unsynced/ds000105/derivatives/fmriprep/sub-2/func/sub-2_task-objectviewing_run-9_space-MNI152NLin2009cAsym_res-2_desc-preproc_bold.nii.gz',\n",
       " '/Users/poldrack/data_unsynced/ds000105/derivatives/fmriprep/sub-2/func/sub-2_task-objectviewing_run-10_space-MNI152NLin2009cAsym_res-2_desc-preproc_bold.nii.gz',\n",
       " '/Users/poldrack/data_unsynced/ds000105/derivatives/fmriprep/sub-2/func/sub-2_task-objectviewing_run-11_space-MNI152NLin2009cAsym_res-2_desc-preproc_bold.nii.gz',\n",
       " '/Users/poldrack/data_unsynced/ds000105/derivatives/fmriprep/sub-2/func/sub-2_task-objectviewing_run-12_space-MNI152NLin2009cAsym_res-2_desc-preproc_bold.nii.gz',\n",
       " '/Users/poldrack/data_unsynced/ds000105/derivatives/fmriprep/sub-3/func/sub-3_task-objectviewing_run-1_space-MNI152NLin2009cAsym_res-2_desc-preproc_bold.nii.gz',\n",
       " '/Users/poldrack/data_unsynced/ds000105/derivatives/fmriprep/sub-3/func/sub-3_task-objectviewing_run-2_space-MNI152NLin2009cAsym_res-2_desc-preproc_bold.nii.gz',\n",
       " '/Users/poldrack/data_unsynced/ds000105/derivatives/fmriprep/sub-3/func/sub-3_task-objectviewing_run-3_space-MNI152NLin2009cAsym_res-2_desc-preproc_bold.nii.gz',\n",
       " '/Users/poldrack/data_unsynced/ds000105/derivatives/fmriprep/sub-3/func/sub-3_task-objectviewing_run-4_space-MNI152NLin2009cAsym_res-2_desc-preproc_bold.nii.gz',\n",
       " '/Users/poldrack/data_unsynced/ds000105/derivatives/fmriprep/sub-3/func/sub-3_task-objectviewing_run-5_space-MNI152NLin2009cAsym_res-2_desc-preproc_bold.nii.gz',\n",
       " '/Users/poldrack/data_unsynced/ds000105/derivatives/fmriprep/sub-3/func/sub-3_task-objectviewing_run-6_space-MNI152NLin2009cAsym_res-2_desc-preproc_bold.nii.gz',\n",
       " '/Users/poldrack/data_unsynced/ds000105/derivatives/fmriprep/sub-3/func/sub-3_task-objectviewing_run-7_space-MNI152NLin2009cAsym_res-2_desc-preproc_bold.nii.gz',\n",
       " '/Users/poldrack/data_unsynced/ds000105/derivatives/fmriprep/sub-3/func/sub-3_task-objectviewing_run-8_space-MNI152NLin2009cAsym_res-2_desc-preproc_bold.nii.gz',\n",
       " '/Users/poldrack/data_unsynced/ds000105/derivatives/fmriprep/sub-3/func/sub-3_task-objectviewing_run-9_space-MNI152NLin2009cAsym_res-2_desc-preproc_bold.nii.gz',\n",
       " '/Users/poldrack/data_unsynced/ds000105/derivatives/fmriprep/sub-3/func/sub-3_task-objectviewing_run-10_space-MNI152NLin2009cAsym_res-2_desc-preproc_bold.nii.gz',\n",
       " '/Users/poldrack/data_unsynced/ds000105/derivatives/fmriprep/sub-3/func/sub-3_task-objectviewing_run-11_space-MNI152NLin2009cAsym_res-2_desc-preproc_bold.nii.gz',\n",
       " '/Users/poldrack/data_unsynced/ds000105/derivatives/fmriprep/sub-3/func/sub-3_task-objectviewing_run-12_space-MNI152NLin2009cAsym_res-2_desc-preproc_bold.nii.gz',\n",
       " '/Users/poldrack/data_unsynced/ds000105/derivatives/fmriprep/sub-4/func/sub-4_task-objectviewing_run-1_space-MNI152NLin2009cAsym_res-2_desc-preproc_bold.nii.gz',\n",
       " '/Users/poldrack/data_unsynced/ds000105/derivatives/fmriprep/sub-4/func/sub-4_task-objectviewing_run-2_space-MNI152NLin2009cAsym_res-2_desc-preproc_bold.nii.gz',\n",
       " '/Users/poldrack/data_unsynced/ds000105/derivatives/fmriprep/sub-4/func/sub-4_task-objectviewing_run-3_space-MNI152NLin2009cAsym_res-2_desc-preproc_bold.nii.gz',\n",
       " '/Users/poldrack/data_unsynced/ds000105/derivatives/fmriprep/sub-4/func/sub-4_task-objectviewing_run-4_space-MNI152NLin2009cAsym_res-2_desc-preproc_bold.nii.gz',\n",
       " '/Users/poldrack/data_unsynced/ds000105/derivatives/fmriprep/sub-4/func/sub-4_task-objectviewing_run-5_space-MNI152NLin2009cAsym_res-2_desc-preproc_bold.nii.gz',\n",
       " '/Users/poldrack/data_unsynced/ds000105/derivatives/fmriprep/sub-4/func/sub-4_task-objectviewing_run-6_space-MNI152NLin2009cAsym_res-2_desc-preproc_bold.nii.gz',\n",
       " '/Users/poldrack/data_unsynced/ds000105/derivatives/fmriprep/sub-4/func/sub-4_task-objectviewing_run-7_space-MNI152NLin2009cAsym_res-2_desc-preproc_bold.nii.gz',\n",
       " '/Users/poldrack/data_unsynced/ds000105/derivatives/fmriprep/sub-4/func/sub-4_task-objectviewing_run-8_space-MNI152NLin2009cAsym_res-2_desc-preproc_bold.nii.gz',\n",
       " '/Users/poldrack/data_unsynced/ds000105/derivatives/fmriprep/sub-4/func/sub-4_task-objectviewing_run-9_space-MNI152NLin2009cAsym_res-2_desc-preproc_bold.nii.gz',\n",
       " '/Users/poldrack/data_unsynced/ds000105/derivatives/fmriprep/sub-4/func/sub-4_task-objectviewing_run-10_space-MNI152NLin2009cAsym_res-2_desc-preproc_bold.nii.gz',\n",
       " '/Users/poldrack/data_unsynced/ds000105/derivatives/fmriprep/sub-4/func/sub-4_task-objectviewing_run-11_space-MNI152NLin2009cAsym_res-2_desc-preproc_bold.nii.gz',\n",
       " '/Users/poldrack/data_unsynced/ds000105/derivatives/fmriprep/sub-4/func/sub-4_task-objectviewing_run-12_space-MNI152NLin2009cAsym_res-2_desc-preproc_bold.nii.gz',\n",
       " '/Users/poldrack/data_unsynced/ds000105/derivatives/fmriprep/sub-5/func/sub-5_task-objectviewing_run-1_space-MNI152NLin2009cAsym_res-2_desc-preproc_bold.nii.gz',\n",
       " '/Users/poldrack/data_unsynced/ds000105/derivatives/fmriprep/sub-5/func/sub-5_task-objectviewing_run-2_space-MNI152NLin2009cAsym_res-2_desc-preproc_bold.nii.gz',\n",
       " '/Users/poldrack/data_unsynced/ds000105/derivatives/fmriprep/sub-5/func/sub-5_task-objectviewing_run-3_space-MNI152NLin2009cAsym_res-2_desc-preproc_bold.nii.gz',\n",
       " '/Users/poldrack/data_unsynced/ds000105/derivatives/fmriprep/sub-5/func/sub-5_task-objectviewing_run-4_space-MNI152NLin2009cAsym_res-2_desc-preproc_bold.nii.gz',\n",
       " '/Users/poldrack/data_unsynced/ds000105/derivatives/fmriprep/sub-5/func/sub-5_task-objectviewing_run-5_space-MNI152NLin2009cAsym_res-2_desc-preproc_bold.nii.gz',\n",
       " '/Users/poldrack/data_unsynced/ds000105/derivatives/fmriprep/sub-5/func/sub-5_task-objectviewing_run-6_space-MNI152NLin2009cAsym_res-2_desc-preproc_bold.nii.gz',\n",
       " '/Users/poldrack/data_unsynced/ds000105/derivatives/fmriprep/sub-5/func/sub-5_task-objectviewing_run-7_space-MNI152NLin2009cAsym_res-2_desc-preproc_bold.nii.gz',\n",
       " '/Users/poldrack/data_unsynced/ds000105/derivatives/fmriprep/sub-5/func/sub-5_task-objectviewing_run-8_space-MNI152NLin2009cAsym_res-2_desc-preproc_bold.nii.gz',\n",
       " '/Users/poldrack/data_unsynced/ds000105/derivatives/fmriprep/sub-5/func/sub-5_task-objectviewing_run-9_space-MNI152NLin2009cAsym_res-2_desc-preproc_bold.nii.gz',\n",
       " '/Users/poldrack/data_unsynced/ds000105/derivatives/fmriprep/sub-5/func/sub-5_task-objectviewing_run-10_space-MNI152NLin2009cAsym_res-2_desc-preproc_bold.nii.gz',\n",
       " '/Users/poldrack/data_unsynced/ds000105/derivatives/fmriprep/sub-5/func/sub-5_task-objectviewing_run-11_space-MNI152NLin2009cAsym_res-2_desc-preproc_bold.nii.gz',\n",
       " '/Users/poldrack/data_unsynced/ds000105/derivatives/fmriprep/sub-6/func/sub-6_task-objectviewing_run-1_space-MNI152NLin2009cAsym_res-2_desc-preproc_bold.nii.gz',\n",
       " '/Users/poldrack/data_unsynced/ds000105/derivatives/fmriprep/sub-6/func/sub-6_task-objectviewing_run-2_space-MNI152NLin2009cAsym_res-2_desc-preproc_bold.nii.gz',\n",
       " '/Users/poldrack/data_unsynced/ds000105/derivatives/fmriprep/sub-6/func/sub-6_task-objectviewing_run-3_space-MNI152NLin2009cAsym_res-2_desc-preproc_bold.nii.gz',\n",
       " '/Users/poldrack/data_unsynced/ds000105/derivatives/fmriprep/sub-6/func/sub-6_task-objectviewing_run-4_space-MNI152NLin2009cAsym_res-2_desc-preproc_bold.nii.gz',\n",
       " '/Users/poldrack/data_unsynced/ds000105/derivatives/fmriprep/sub-6/func/sub-6_task-objectviewing_run-5_space-MNI152NLin2009cAsym_res-2_desc-preproc_bold.nii.gz',\n",
       " '/Users/poldrack/data_unsynced/ds000105/derivatives/fmriprep/sub-6/func/sub-6_task-objectviewing_run-6_space-MNI152NLin2009cAsym_res-2_desc-preproc_bold.nii.gz',\n",
       " '/Users/poldrack/data_unsynced/ds000105/derivatives/fmriprep/sub-6/func/sub-6_task-objectviewing_run-7_space-MNI152NLin2009cAsym_res-2_desc-preproc_bold.nii.gz',\n",
       " '/Users/poldrack/data_unsynced/ds000105/derivatives/fmriprep/sub-6/func/sub-6_task-objectviewing_run-8_space-MNI152NLin2009cAsym_res-2_desc-preproc_bold.nii.gz',\n",
       " '/Users/poldrack/data_unsynced/ds000105/derivatives/fmriprep/sub-6/func/sub-6_task-objectviewing_run-9_space-MNI152NLin2009cAsym_res-2_desc-preproc_bold.nii.gz',\n",
       " '/Users/poldrack/data_unsynced/ds000105/derivatives/fmriprep/sub-6/func/sub-6_task-objectviewing_run-10_space-MNI152NLin2009cAsym_res-2_desc-preproc_bold.nii.gz',\n",
       " '/Users/poldrack/data_unsynced/ds000105/derivatives/fmriprep/sub-6/func/sub-6_task-objectviewing_run-11_space-MNI152NLin2009cAsym_res-2_desc-preproc_bold.nii.gz',\n",
       " '/Users/poldrack/data_unsynced/ds000105/derivatives/fmriprep/sub-6/func/sub-6_task-objectviewing_run-12_space-MNI152NLin2009cAsym_res-2_desc-preproc_bold.nii.gz']"
      ]
     },
     "execution_count": 20,
     "metadata": {},
     "output_type": "execute_result"
    }
   ],
   "source": [
    "\n",
    "bold_files"
   ]
  },
  {
   "cell_type": "code",
   "execution_count": 21,
   "metadata": {},
   "outputs": [
    {
     "name": "stderr",
     "output_type": "stream",
     "text": [
      "/Users/poldrack/micromamba/envs/aineuro/lib/python3.12/site-packages/bids/layout/layout.py:516: UserWarning: Derivative indexing was requested, but no valid datasets were found in the specified locations ([PosixPath('/Users/poldrack/data_unsynced/ds000105/derivatives/fmriprep/derivatives')]). Note that all BIDS-Derivatives datasets must meet all the requirements for BIDS-Raw datasets (a common problem is to fail to include a 'dataset_description.json' file in derivatives datasets).\n",
      "Example contents of 'dataset_description.json':\n",
      "{\"Name\": \"Example dataset\", \"BIDSVersion\": \"1.0.2\", \"GeneratedBy\": [{\"Name\": \"Example pipeline\"}]}\n",
      "  warnings.warn(\"Derivative indexing was requested, but no valid \"\n"
     ]
    },
    {
     "name": "stdout",
     "output_type": "stream",
     "text": [
      "found 71 preprocessed files\n",
      "Subject 1 has 12 runs\n",
      "Subject 2 has 12 runs\n",
      "Subject 3 has 12 runs\n",
      "Subject 4 has 12 runs\n",
      "Subject 5 has 11 runs\n",
      "Subject 6 has 12 runs\n"
     ]
    }
   ],
   "source": [
    "# load the dataset using pybids and get runs for each subject\n",
    "\n",
    "layout = BIDSLayout(data_dir, config=['bids', 'derivatives'])\n",
    "deriv_layout = BIDSLayout(fmriprep_dir, derivatives=True, validate=False)\n",
    "\n",
    "bold_files = deriv_layout.get(datatype='func', desc='preproc', suffix='bold',\n",
    "                              space='MNI152NLin2009cAsym',\n",
    "                              extension='nii.gz', return_type='file')\n",
    "\n",
    "print(f'found {len(bold_files)} preprocessed files')\n",
    "\n",
    "subjects = deriv_layout.get_subjects()\n",
    "sub_runs = {}\n",
    "for subject in subjects:\n",
    "    bold_files = deriv_layout.get(datatype='func', desc='preproc', suffix='bold',\n",
    "                              space='MNI152NLin2009cAsym',\n",
    "                              subject=subject,\n",
    "                              extension='nii.gz', return_type='file')\n",
    "    sub_runs[subject] = deriv_layout.get_runs(subject=subject)\n",
    "    print(f\"Subject {subject} has {len(bold_files)} runs\")\n"
   ]
  },
  {
   "cell_type": "markdown",
   "metadata": {},
   "source": [
    "### Fit linear models for each subject/run\n"
   ]
  },
  {
   "cell_type": "code",
   "execution_count": 7,
   "metadata": {},
   "outputs": [
    {
     "name": "stdout",
     "output_type": "stream",
     "text": [
      "Processing subject 1 run 01\n",
      "Processing subject 1 run 02\n",
      "Processing subject 1 run 03\n",
      "Processing subject 1 run 04\n",
      "Processing subject 1 run 05\n",
      "Processing subject 1 run 06\n",
      "Processing subject 1 run 07\n",
      "Processing subject 1 run 08\n",
      "Processing subject 1 run 09\n",
      "Processing subject 1 run 10\n",
      "Processing subject 1 run 11\n",
      "Processing subject 1 run 12\n",
      "Processing subject 2 run 01\n",
      "Processing subject 2 run 02\n",
      "Processing subject 2 run 03\n",
      "Processing subject 2 run 04\n",
      "Processing subject 2 run 05\n",
      "Processing subject 2 run 06\n",
      "Processing subject 2 run 07\n",
      "Processing subject 2 run 08\n",
      "Processing subject 2 run 09\n",
      "Processing subject 2 run 10\n",
      "Processing subject 2 run 11\n",
      "Processing subject 2 run 12\n",
      "Processing subject 3 run 01\n",
      "Processing subject 3 run 02\n",
      "Processing subject 3 run 03\n",
      "Processing subject 3 run 04\n",
      "Processing subject 3 run 05\n",
      "Processing subject 3 run 06\n",
      "Processing subject 3 run 07\n",
      "Processing subject 3 run 08\n",
      "Processing subject 3 run 09\n",
      "Processing subject 3 run 10\n",
      "Processing subject 3 run 11\n",
      "Processing subject 3 run 12\n",
      "Processing subject 4 run 01\n",
      "Processing subject 4 run 02\n",
      "Processing subject 4 run 03\n",
      "Processing subject 4 run 04\n",
      "Processing subject 4 run 05\n",
      "Processing subject 4 run 06\n",
      "Processing subject 4 run 07\n",
      "Processing subject 4 run 08\n",
      "Processing subject 4 run 09\n",
      "Processing subject 4 run 10\n",
      "Processing subject 4 run 11\n",
      "Processing subject 4 run 12\n",
      "Processing subject 5 run 01\n",
      "Processing subject 5 run 02\n",
      "Processing subject 5 run 03\n",
      "Processing subject 5 run 04\n",
      "Processing subject 5 run 05\n",
      "Processing subject 5 run 06\n",
      "Processing subject 5 run 07\n",
      "Processing subject 5 run 08\n",
      "Processing subject 5 run 09\n",
      "Processing subject 5 run 10\n",
      "Processing subject 5 run 11\n",
      "Processing subject 6 run 01\n",
      "Processing subject 6 run 02\n"
     ]
    },
    {
     "name": "stderr",
     "output_type": "stream",
     "text": [
      "/Users/poldrack/micromamba/envs/aineuro/lib/python3.12/site-packages/nilearn/glm/first_level/first_level.py:707: UserWarning: Mean values of 0 observed. The data have probably been centered.Scaling might not work as expected\n",
      "  Y, _ = mean_scaling(Y, self.signal_scaling)\n"
     ]
    },
    {
     "name": "stdout",
     "output_type": "stream",
     "text": [
      "Processing subject 6 run 03\n",
      "Processing subject 6 run 04\n",
      "Processing subject 6 run 05\n",
      "Processing subject 6 run 06\n",
      "Processing subject 6 run 07\n",
      "Processing subject 6 run 08\n",
      "Processing subject 6 run 09\n",
      "Processing subject 6 run 10\n",
      "Processing subject 6 run 11\n",
      "Processing subject 6 run 12\n"
     ]
    }
   ],
   "source": [
    "\n",
    "\n",
    "def get_subject_data(subject, run, layout, deriv_layout, save_maps=True):\n",
    "    run = int(run)\n",
    "    bold_file = os.path.join(\n",
    "        fmriprep_dir, \n",
    "        f'sub-{subject}/func/sub-{subject}_task-objectviewing_run-{run}_space-MNI152NLin2009cAsym_res-2_desc-preproc_bold.nii.gz')\n",
    "    bold_img = nib.load(bold_file)\n",
    "\n",
    "    mask_file = os.path.join(\n",
    "        fmriprep_dir, \n",
    "        f'sub-{subject}/func/sub-{subject}_task-objectviewing_run-{run}_space-MNI152NLin2009cAsym_res-2_desc-brain_mask.nii.gz')\n",
    "    mask_img = nib.load(mask_file)\n",
    "    mask_data = mask_img.get_fdata().astype(bool)\n",
    "\n",
    "    events_file = layout.get(subject=subject, run=run, datatype='func', extension='tsv', return_type='file')[0]\n",
    "\n",
    "    events = pd.read_csv(events_file, sep='\\t')\n",
    "    n_scans = bold_img.shape[-1]\n",
    "    # Define the sampling times for the design matrix\n",
    "    t_r = 2.5\n",
    "    frame_times = np.arange(n_scans) * t_r\n",
    "    # Sample at the beginning of each acquisition.\n",
    "    slice_time_ref = 0.0\n",
    "    # We use a discrete cosine transform to model signal drifts.\n",
    "    drift_model = \"Cosine\"\n",
    "    # The cutoff for the drift model is 0.01 Hz.\n",
    "    high_pass = 0.01\n",
    "    # The hemodynamic response function\n",
    "    hrf_model = \"spm + derivative\"\n",
    "\n",
    "    design_matrix = make_first_level_design_matrix(\n",
    "        frame_times,\n",
    "        events,\n",
    "        hrf_model=hrf_model,\n",
    "        drift_model=drift_model,\n",
    "        high_pass=high_pass,\n",
    "    )\n",
    "\n",
    "    fmri_glm = FirstLevelModel(t_r, noise_model='ar1', standardize=False, hrf_model=hrf_model)\n",
    "    fmri_glm = fmri_glm.fit(bold_img, design_matrices=design_matrix)\n",
    "\n",
    "    plot_slices = False\n",
    "\n",
    "    conditions = events.trial_type.unique()\n",
    "    conditions.sort()\n",
    "    z_map = {}\n",
    "    for condition in conditions:\n",
    "        contrast = fmri_glm.compute_contrast(condition, output_type='all')\n",
    "        z_map[condition] = contrast['z_score']\n",
    "        if save_maps:\n",
    "            contrast['z_score'].to_filename(os.path.join(output_dir, f'sub-{subject}_run-{run}_zmap_{condition}.nii.gz'))\n",
    "            contrast['effect_size'].to_filename(os.path.join(output_dir, f'sub-{subject}_run-{run}_beta_{condition}.nii.gz'))\n",
    "\n",
    "    z_maps = nib.concat_images([z_map[condition] for condition in conditions])\n",
    "    \n",
    "    difumo_mask = get_difumo_mask()\n",
    "    difumo_mask = resample_img(difumo_mask, target_affine=z_maps.affine, \n",
    "                               target_shape=z_maps.shape[:3],\n",
    "                               interpolation='nearest')\n",
    "    masker = NiftiMasker(mask_img=difumo_mask, standardize=True, target_affine=z_maps.affine)\n",
    "    data = masker.fit_transform(z_maps)\n",
    "    assert data.shape == (len(conditions), difumo_mask.get_fdata().sum())\n",
    "    return data, conditions\n",
    "\n",
    "\n",
    "\n",
    "\n",
    "with h5py.File(os.path.join(output_dir, 'visctx_data.h5'), 'w') as hf:\n",
    "    for subject in subjects:\n",
    "        g1 = hf.create_group(f'sub-{subject}')\n",
    "        for run in sub_runs[subject]:\n",
    "            g2 = g1.create_group(f'run-{run}')\n",
    "            print(f\"Processing subject {subject} run {run}\")\n",
    "            data, conditions = get_subject_data(subject, run, layout, fmriprep_dir)\n",
    "            g2.create_dataset(f'voxdata',data=data)\n",
    "            g2.create_dataset(f'conditions', data=[c.encode('utf-8') for c in conditions])"
   ]
  },
  {
   "cell_type": "markdown",
   "metadata": {},
   "source": []
  },
  {
   "cell_type": "code",
   "execution_count": 9,
   "metadata": {},
   "outputs": [],
   "source": [
    "# combine across runs within each subject\n",
    "\n",
    "for subject in subjects:\n",
    "    for condition in conditions:\n",
    "        beta_files = [os.path.join(output_dir, f'sub-{subject}_run-{int(run)}_beta_{condition}.nii.gz') for run in sub_runs[subject]]\n",
    "        model = SecondLevelModel()\n",
    "        model.fit(beta_files, design_matrix=pd.DataFrame([1] * len(beta_files), columns=['intercept']))\n",
    "        z_map = model.compute_contrast(output_type='effect_size')\n",
    "        z_map.to_filename(os.path.join(output_dir, f'sub-{subject}_meanbeta_{condition}.nii.gz'))"
   ]
  },
  {
   "cell_type": "code",
   "execution_count": 10,
   "metadata": {},
   "outputs": [],
   "source": [
    "# run group model\n",
    "\n",
    "for condition in conditions:\n",
    "    beta_files = [os.path.join(output_dir, f'sub-{subject}_meanbeta_{condition}.nii.gz') for subject in subjects]\n",
    "    model = SecondLevelModel()\n",
    "    model.fit(beta_files, design_matrix=pd.DataFrame([1] * len(beta_files), columns=['intercept']))\n",
    "    z_map = model.compute_contrast(output_type='z_score')\n",
    "    z_map.to_filename(os.path.join(output_dir, f'group_zmap_{condition}.nii.gz'))\n"
   ]
  },
  {
   "cell_type": "code",
   "execution_count": null,
   "metadata": {},
   "outputs": [],
   "source": []
  }
 ],
 "metadata": {
  "kernelspec": {
   "display_name": "Python 3",
   "language": "python",
   "name": "python3"
  },
  "language_info": {
   "codemirror_mode": {
    "name": "ipython",
    "version": 3
   },
   "file_extension": ".py",
   "mimetype": "text/x-python",
   "name": "python",
   "nbconvert_exporter": "python",
   "pygments_lexer": "ipython3",
   "version": "3.12.4"
  }
 },
 "nbformat": 4,
 "nbformat_minor": 2
}
