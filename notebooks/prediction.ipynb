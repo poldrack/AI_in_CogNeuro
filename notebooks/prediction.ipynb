{
 "cells": [
  {
   "cell_type": "markdown",
   "metadata": {},
   "source": [
    "### Predicting individual differences from fMRI data\n",
    "\n",
    "We will use the data from the Consortium for Neuropsychiatric Phenomics ([Poldrack et al., 2016](https://www.ncbi.nlm.nih.gov/pmc/articles/PMC5139672/)) to examine prediction of individual differences from fMRI data."
   ]
  },
  {
   "cell_type": "code",
   "execution_count": 1,
   "metadata": {},
   "outputs": [],
   "source": [
    "%load_ext autoreload\n",
    "%autoreload 2\n",
    "\n",
    "import pandas as pd\n",
    "import numpy as np\n",
    "import matplotlib.pyplot as plt\n",
    "import seaborn as sns\n",
    "import nibabel as nib\n",
    "import os\n",
    "from pathlib import Path\n",
    "import nilearn\n",
    "import sklearn\n",
    "from nilearn.maskers import NiftiMasker\n",
    "from sklearn.svm import SVC, SVR\n",
    "from sklearn.model_selection import ShuffleSplit, StratifiedShuffleSplit, GridSearchCV\n",
    "from sklearn.linear_model import RidgeCV, SGDClassifier, SGDRegressor\n",
    "from scipy.stats import ks_2samp\n",
    "from nilearn.plotting import plot_stat_map\n",
    "import torch\n",
    "import torch.nn as nn\n",
    "import torch.optim as optim\n",
    "from torch.utils.data import DataLoader, TensorDataset\n",
    "import einops\n",
    "from sklearn.preprocessing import OneHotEncoder\n",
    "\n",
    "device = 'mps'"
   ]
  },
  {
   "cell_type": "markdown",
   "metadata": {},
   "source": [
    "### Load the data"
   ]
  },
  {
   "cell_type": "code",
   "execution_count": 2,
   "metadata": {},
   "outputs": [],
   "source": [
    "basedir = Path('/Users/poldrack/data_unsynced/CNP')\n",
    "output_dir = basedir / 'output'\n",
    "if not output_dir.exists():\n",
    "    output_dir.mkdir()\n",
    "\n",
    "# load the data\n",
    "contrast_dict = {\n",
    "    'stopsignal': {\n",
    "        \"Go\": 1,\n",
    "        \"GoRT\": 3,\n",
    "        \"StopSuccess\": 5,\n",
    "        \"StopUnsuccess\": 7,\n",
    "        \"StopUnsuccessRT\": 9,\n",
    "        \"Go-StopSuccess\": 11,\n",
    "        \"Go-StopUnsuccess\": 13,\n",
    "        \"StopSuccess-StopUnsuccess\": 15\n",
    "}   ,\n",
    "    'scap': {\n",
    "        \"All\": 1,\n",
    "        \"All_rt\": 3,\n",
    "        \"Load1\": 5,\n",
    "        \"Load3\": 7,\n",
    "        \"Load5\": 9,\n",
    "        \"Load7\": 11,\n",
    "        \"Delay1.5\": 13,\n",
    "        \"Delay3\": 15,\n",
    "        \"Delay4.5\": 17,\n",
    "        \"LinearUp_load\": 19,\n",
    "        \"LinearUp_delay\": 21,\n",
    "        \"Load3-load1\": 23,\n",
    "        \"Load5-load1\": 25,\n",
    "        \"Load7-load1\": 27,\n",
    "        \"Load5-load3\": 29,\n",
    "        \"Load7-load3\": 31,\n",
    "        \"Load7-load5\": 33,\n",
    "        \"Delay4_5-delay1_5\": 35,\n",
    "        \"Delay3-delay1_5\": 37,\n",
    "        \"Delay4_5-delay3\": 39\n",
    "    },\n",
    "    'bart': {\n",
    "        \"Accept\": 1,\n",
    "        \"AcceptRT\": 3,\n",
    "        \"AcceptParametric\": 5,\n",
    "        \"Control\": 7,\n",
    "        \"Explode\": 9,\n",
    "        \"ExplodeParametric\": 11,\n",
    "        \"Reject\": 13,\n",
    "        \"RejectRT\": 15,\n",
    "        \"RejectParametric\": 17,\n",
    "        \"AcceptParam-ExplodeParam\": 19,\n",
    "        \"AcceptParam-RejectParam\": 21,\n",
    "        \"Explode-Reject\": 23\n",
    "     },\n",
    "    'pamret': {\n",
    "        \"All\": 1,\n",
    "        \"All_RT\": 3,\n",
    "        \"Correct\": 5,\n",
    "        \"Incorrect\": 7,\n",
    "        \"TruePos\": 9,\n",
    "        \"TrueNeg\": 11,\n",
    "        \"FalsePos\": 13,\n",
    "        \"FalseNeg\": 15,\n",
    "        \"TruePos_RT\": 17,\n",
    "        \"TrueNeg_RT\": 19,\n",
    "        \"FalsePos_RT\": 21,\n",
    "        \"FalseNeg_RT\": 23,\n",
    "        \"Control\": 25,\n",
    "        \"TruePos-TrueNeg\": 27,\n",
    "        \"FalsePos-FalseNeg\": 29,\n",
    "        \"TruePos-FalsePos\": 31,\n",
    "        \"TrueNeg-FalseNeg\": 33,\n",
    "        \"Corr-Incorr\": 35,\n",
    "        \"Correct-Control\": 37,\n",
    "        \"Incorrect-Control\": 39,\n",
    "        \"TruePos-Control\": 41,\n",
    "        \"TrueNeg-Control\": 43,\n",
    "        \"FalsePos-Control\": 45,\n",
    "        \"FalseNeg-Control\": 47,\n",
    "        \"All-Control\": 49\n",
    "    },\n",
    "    'taskswitch': {\n",
    "        'All': 1,\n",
    "        'All_RT': 3,\n",
    "        'CONGRUENT-INCONGRUENT': 37,\n",
    "        'SWITCH-NOSWITCH': 39,\n",
    "    }\n",
    "}\n",
    "\n",
    "def add_pheno_var(metadata_df, basedir, phenotype, varname):\n",
    "    participants_file = basedir / 'participants.tsv'\n",
    "    phenotype_df = pd.read_csv(participants_file, sep='\\t')\n",
    "    if varname not in phenotype_df.columns:\n",
    "        phenotype_file = basedir / 'phenotype' / f'{phenotype}.tsv'\n",
    "        phenotype_df = pd.read_csv(phenotype_file, sep='\\t')\n",
    "        if varname not in phenotype_df.columns:\n",
    "            raise ValueError(f'Variable {varname} not found in either {phenotype_file} or {participants_file}')\n",
    "    metadata_df[varname] = metadata_df.participant_id.map(phenotype_df.set_index('participant_id')[varname])\n",
    "    return metadata_df\n",
    "\n",
    "task = 'pamret'\n",
    "contrast = 'All'\n",
    "pheno_var = 'age'\n",
    "\n",
    "def get_data(basedir, task, cope, pheno_var, \n",
    "             patientgroups=None, standardize=True,\n",
    "             smoothing_fwhm=None):\n",
    "    if patientgroups is None:\n",
    "        patientgroups = ['SCHZ', 'BIPOLAR']\n",
    "    cope = contrast_dict[task][contrast]\n",
    "    metadata_df = pd.read_csv(basedir / 'combined' / task / 'metadata.csv')\n",
    "    metadata_df['patient'] = metadata_df.diagnosis.isin(['SCHZ', 'BIPOLAR']).astype('int')\n",
    "    #print('proportion of patients:', metadata_df.patient.mean())\n",
    "    metadata_df = add_pheno_var(metadata_df, basedir, task, pheno_var)\n",
    "    # print(metadata_df[pheno_var].describe())\n",
    "\n",
    "    taskdir = basedir / 'combined' / task \n",
    "    data_img = nib.load(taskdir/ f'cope{cope}_combat.nii.gz')\n",
    "    mask_img = nib.load(taskdir / 'mask.nii.gz')\n",
    "    masker = NiftiMasker(mask_img, standardize=standardize,\n",
    "                         smoothing_fwhm=smoothing_fwhm)\n",
    "    data = masker.fit_transform(data_img)\n",
    "\n",
    "    # remove subjects with NaN in pheno_var\n",
    "    if metadata_df[pheno_var].isnull().sum() > 0:\n",
    "        print(f'removing {metadata_df[pheno_var].isnull().sum()} subjects with missing {pheno_var}')\n",
    "        data = data[~metadata_df[pheno_var].isnull(), :]\n",
    "        metadata_df = metadata_df[~metadata_df[pheno_var].isnull()]\n",
    "        metadata_df = metadata_df.reset_index(drop=True)\n",
    "\n",
    "    assert metadata_df.shape[0] == data.shape[0]\n",
    "    return data, metadata_df, data_img\n",
    "\n",
    "data, metadata_df, data_img = get_data(basedir, task, contrast, pheno_var,\n",
    "                             patientgroups = ['SCHZ', 'BIPOLAR', 'ADHD'])"
   ]
  },
  {
   "cell_type": "markdown",
   "metadata": {},
   "source": [
    "### Continuous prediction is tricky\n",
    "\n",
    "First let's generate a y variable that we know to be correlated with the fMRI data, and make sure that we can predict it.  We will use a Weibull distribution to generate y values that are slightly skewed, like those in the real data.\n",
    "\n"
   ]
  },
  {
   "cell_type": "code",
   "execution_count": 3,
   "metadata": {},
   "outputs": [
    {
     "data": {
      "text/plain": [
       "<seaborn.axisgrid.FacetGrid at 0x300a14f20>"
      ]
     },
     "execution_count": 3,
     "metadata": {},
     "output_type": "execute_result"
    },
    {
     "data": {
      "image/png": "[encoded data removed]",
      "text/plain": [
       "<Figure size 500x500 with 1 Axes>"
      ]
     },
     "metadata": {},
     "output_type": "display_data"
    }
   ],
   "source": [
    "def make_simulated_y(data, snr=0, weib_param=1.1, seed=None):\n",
    "    rng = np.random.RandomState(seed)\n",
    "    weights = np.random.randn(data.shape[1])\n",
    "    y_sim = data.dot(weights) * snr + rng.weibull(weib_param, size=data.shape[0])\n",
    "    return y_sim\n",
    "\n",
    "y_sim = make_simulated_y(data, snr=0)\n",
    "sns.displot(y_sim, kind='kde')\n"
   ]
  },
  {
   "cell_type": "markdown",
   "metadata": {},
   "source": [
    "Do ridge regression to see how strong the association is."
   ]
  },
  {
   "cell_type": "code",
   "execution_count": 4,
   "metadata": {},
   "outputs": [
    {
     "data": {
      "text/plain": [
       "np.float64(-0.1397930829468842)"
      ]
     },
     "execution_count": 4,
     "metadata": {},
     "output_type": "execute_result"
    }
   ],
   "source": [
    "def run_ridgeCV(data, target, nsplits=100, test_size=0.3,\n",
    "                seed=None, verbose=False,\n",
    "                clf=None):\n",
    "    ss = ShuffleSplit(n_splits=nsplits,\n",
    "                      test_size=test_size, random_state=seed)\n",
    "    r2 = []\n",
    "    for split_idx, (train_idx, test_idx) in enumerate(ss.split(data)):\n",
    "        train_X = data[train_idx]\n",
    "        train_y = target[train_idx]\n",
    "        test_X = data[test_idx]\n",
    "        test_y = target[test_idx]\n",
    "\n",
    "        # fit the model\n",
    "        if clf is None:\n",
    "            clf = RidgeCV\n",
    "        model = clf()\n",
    "        model.fit(train_X, train_y)\n",
    "        pred_y = model.predict(test_X)\n",
    "        r2.append(sklearn.metrics.r2_score(test_y, pred_y))\n",
    "        if verbose:\n",
    "            print(f'split {split_idx}: r2={r2[-1]}')\n",
    "\n",
    "    return np.mean(r2)\n",
    "\n",
    "run_ridgeCV(data, y_sim)"
   ]
  },
  {
   "cell_type": "markdown",
   "metadata": {},
   "source": [
    "Why is the mean r2 negative?"
   ]
  },
  {
   "cell_type": "code",
   "execution_count": 5,
   "metadata": {},
   "outputs": [
    {
     "name": "stdout",
     "output_type": "stream",
     "text": [
      "split 1906: r2=-0.061500063362836865\n",
      "split 2693: r2=-0.045446808958995444\n",
      "split 2920: r2=-0.1501461414993206\n",
      "split 7312: r2=-0.11308438346961114\n",
      "split 9085: r2=0.009516397413227295\n",
      "split 9743: r2=-0.014847959682499301\n",
      "split 10005: r2=-0.04181495783146283\n",
      "split 10036: r2=-0.20643978542575114\n",
      "split 12203: r2=-0.0018354208257238547\n",
      "split 12695: r2=-0.0702568580587255\n",
      "split 13262: r2=-0.09658062827866032\n",
      "split 14648: r2=-0.15897312192589075\n",
      "split 15151: r2=-0.05773635071646677\n",
      "split 15614: r2=-0.03916751925936812\n",
      "split 19959: r2=-0.20137695803525113\n",
      "split 20559: r2=-0.049293539103598016\n",
      "split 20601: r2=-0.1263702592644529\n",
      "split 20693: r2=-0.09104406889248606\n",
      "split 22029: r2=-0.18340695328931966\n",
      "split 22034: r2=-0.17173588799981676\n",
      "split 22424: r2=-0.12471344987358801\n",
      "split 23529: r2=-0.1716431818162676\n",
      "split 23602: r2=-0.005275057901137359\n",
      "split 23760: r2=-0.2836104826968926\n",
      "split 25762: r2=-0.04553049663006292\n",
      "split 25896: r2=-0.026395817748551043\n",
      "split 30406: r2=-0.056547054739973346\n",
      "split 30867: r2=-0.0904529876789224\n",
      "split 31468: r2=-0.008428114892837568\n",
      "split 31970: r2=-0.00804600807745115\n",
      "split 36404: r2=-0.17097869748360361\n",
      "split 37781: r2=-0.014442531402041103\n",
      "split 40631: r2=-0.045397242241711044\n",
      "split 41808: r2=-0.05363713636592293\n",
      "split 45655: r2=-0.12199942362715666\n",
      "split 46011: r2=-0.09672018770998592\n",
      "split 47386: r2=-0.12333951670456544\n",
      "split 47674: r2=-0.10898099240331538\n",
      "split 49637: r2=-0.00033183269564207585\n",
      "split 50140: r2=-0.0745819011858917\n",
      "split 50524: r2=-0.11244191799014902\n",
      "split 52857: r2=-0.09226174025748723\n",
      "split 56893: r2=-0.023852424896667612\n",
      "split 57388: r2=-0.13894321170548096\n",
      "split 58961: r2=-0.08756092802861581\n",
      "split 59221: r2=-0.0853752156049492\n",
      "split 59383: r2=-0.21699272531810987\n",
      "split 59510: r2=-0.02578268888354107\n",
      "split 59770: r2=-0.16951381621539263\n",
      "split 60053: r2=-0.028128558245289037\n",
      "split 61991: r2=-0.10561071632223884\n",
      "split 62531: r2=-0.10106470491108932\n",
      "split 64561: r2=-0.10356940688769845\n",
      "split 67857: r2=-0.07108246613193625\n",
      "split 69721: r2=-0.10568386781444872\n",
      "split 70872: r2=-0.1283574806628749\n",
      "split 71660: r2=-0.09873453500834928\n",
      "split 72805: r2=-0.041970780043962375\n",
      "split 72909: r2=-0.17482748183788543\n",
      "split 74773: r2=-0.26217851068442655\n",
      "split 75443: r2=-0.10386760082341961\n",
      "split 76425: r2=-0.05315857494342202\n",
      "split 76782: r2=-0.17232748363751593\n",
      "split 76837: r2=-0.11929044293387814\n",
      "split 77915: r2=-0.0790575362870638\n",
      "split 78546: r2=-0.0759320450538934\n",
      "split 79490: r2=-0.12353196725557636\n",
      "split 80851: r2=-0.08353298175683599\n",
      "split 81862: r2=-0.1553437046838615\n",
      "split 82929: r2=-0.09483958231091827\n",
      "split 83541: r2=-0.1136341624313939\n",
      "split 84817: r2=-0.06777601395743171\n",
      "split 85309: r2=-0.05912831320789169\n",
      "split 85511: r2=-0.12249314153685997\n",
      "split 86416: r2=-0.11326193746864921\n",
      "split 87714: r2=-0.025871659350315657\n",
      "split 87731: r2=-0.19255207496528226\n",
      "split 88180: r2=-0.16843544501648733\n",
      "split 88282: r2=-0.0756784785876281\n",
      "split 88850: r2=-0.08905923819858463\n",
      "split 90484: r2=-0.04437113518855629\n",
      "split 94299: r2=-0.022174378242661552\n",
      "split 95985: r2=-0.0289611721480163\n",
      "split 96279: r2=-0.10590569906070546\n",
      "split 97796: r2=-0.13235766736370813\n",
      "split 98436: r2=-0.17119786261488978\n",
      "split 98766: r2=-0.006796549794494844\n",
      "split 99183: r2=-0.0779389178598191\n",
      "split 99950: r2=-0.09092378928860345\n",
      "split 100213: r2=-0.11319410708285305\n",
      "split 101478: r2=-0.08127668684971834\n",
      "split 102515: r2=-0.16879752871668274\n",
      "split 103760: r2=-0.13337752398169922\n",
      "split 106024: r2=-0.05827968856581478\n",
      "split 106277: r2=-0.06101358774634624\n",
      "split 107312: r2=-0.06770009554186651\n",
      "split 107795: r2=0.0039177416375903995\n",
      "split 108120: r2=-0.29386800261458657\n",
      "split 108326: r2=-0.048916370943133725\n",
      "split 109352: r2=-0.0780686104907351\n",
      "Completed 100 splits on 109352 attempts\n"
     ]
    },
    {
     "data": {
      "text/plain": [
       "np.float64(-0.09546500576657335)"
      ]
     },
     "execution_count": 5,
     "metadata": {},
     "output_type": "execute_result"
    }
   ],
   "source": [
    "\n",
    "def run_ridgeCV_equaldist(data, target, nsplits=100, test_size=0.3,\n",
    "                seed=None, verbose=False, splitmult=10000,\n",
    "                pthresh=.999, clf=None, shuffle_y=False):\n",
    "    \n",
    "    ss = ShuffleSplit(n_splits=nsplits*splitmult,\n",
    "                      test_size=test_size, random_state=seed)\n",
    "    r2 = []\n",
    "    if shuffle_y:\n",
    "        target = np.random.permutation(target)\n",
    "    for split_idx, (train_idx, test_idx) in enumerate(ss.split(data)):\n",
    "        if ks_2samp(target[train_idx], target[test_idx]).pvalue < pthresh:\n",
    "            continue\n",
    "        train_X = data[train_idx]\n",
    "        train_y = target[train_idx]\n",
    "        test_X = data[test_idx]\n",
    "        test_y = target[test_idx]\n",
    "\n",
    "        # fit the model\n",
    "        if clf is None:\n",
    "            clf = RidgeCV()\n",
    "        model = clf\n",
    "        model.fit(train_X, train_y)\n",
    "        pred_y = model.predict(test_X)\n",
    "        r2.append(sklearn.metrics.r2_score(test_y, pred_y))\n",
    "        if verbose:\n",
    "            print(f'split {split_idx}: r2={r2[-1]}')\n",
    "        if len(r2) == nsplits:\n",
    "            break\n",
    "    if verbose:\n",
    "        if len(r2) < nsplits:\n",
    "            print(f'Warning: only {len(r2)} splits completed on {split_idx} attempts')\n",
    "        else:\n",
    "            print(f'Completed {len(r2)} splits on {split_idx} attempts')\n",
    "    return np.mean(r2)\n",
    "\n",
    "run_ridgeCV_equaldist(data, y_sim, verbose=True)"
   ]
  },
  {
   "cell_type": "markdown",
   "metadata": {},
   "source": [
    "Now generate some data with true signal and make sure it works."
   ]
  },
  {
   "cell_type": "markdown",
   "metadata": {},
   "source": [
    "### Decoding continuous variables across subjects\n",
    "\n",
    "Let's decode age from the fMRI data."
   ]
  },
  {
   "cell_type": "code",
   "execution_count": 6,
   "metadata": {},
   "outputs": [
    {
     "data": {
      "text/plain": [
       "<seaborn.axisgrid.FacetGrid at 0x300822600>"
      ]
     },
     "execution_count": 6,
     "metadata": {},
     "output_type": "execute_result"
    },
    {
     "data": {
      "image/png": "[encoded data removed]",
      "text/plain": [
       "<Figure size 500x500 with 1 Axes>"
      ]
     },
     "metadata": {},
     "output_type": "display_data"
    }
   ],
   "source": [
    "sns.displot(metadata_df[pheno_var])"
   ]
  },
  {
   "cell_type": "code",
   "execution_count": 7,
   "metadata": {},
   "outputs": [
    {
     "name": "stdout",
     "output_type": "stream",
     "text": [
      "Mean accuracy: 0.2037588823039524\n",
      "p-value under null: 0.001996007984031936\n"
     ]
    }
   ],
   "source": [
    "# use shuffle split\n",
    "\n",
    "acc = run_ridgeCV_equaldist(data, metadata_df[pheno_var])\n",
    "print('Mean accuracy:', acc)\n",
    "\n",
    "shuf_acc = [acc] # include the actual accuracy to preven p=0\n",
    "for i in range(500):\n",
    "    shuf_acc.append(run_ridgeCV_equaldist(data, metadata_df[pheno_var], \n",
    "                                     shuffle_y=True))\n",
    "print('p-value under null:', np.mean(acc <= np.array(shuf_acc)))\n"
   ]
  },
  {
   "cell_type": "markdown",
   "metadata": {},
   "source": [
    "### Predict using a nonlinear model\n",
    "\n",
    "There may be some nonlinear signals, so let's try a neural network."
   ]
  },
  {
   "cell_type": "code",
   "execution_count": 8,
   "metadata": {},
   "outputs": [
    {
     "name": "stdout",
     "output_type": "stream",
     "text": [
      "CNNModel(\n",
      "  (model): Sequential(\n",
      "    (0): Conv3d(1, 8, kernel_size=(4, 4, 4), stride=(2, 2, 2))\n",
      "    (1): BatchNorm3d(8, eps=1e-05, momentum=0.1, affine=True, track_running_stats=True)\n",
      "    (2): ReLU()\n",
      "    (3): Dropout3d(p=0.1, inplace=False)\n",
      "    (4): Conv3d(8, 8, kernel_size=(4, 4, 4), stride=(2, 2, 2))\n",
      "    (5): BatchNorm3d(8, eps=1e-05, momentum=0.1, affine=True, track_running_stats=True)\n",
      "    (6): ReLU()\n",
      "    (7): Dropout3d(p=0.1, inplace=False)\n",
      "    (8): Flatten(start_dim=1, end_dim=-1)\n",
      "    (9): Linear(in_features=19040, out_features=1, bias=True)\n",
      "  )\n",
      ")\n"
     ]
    }
   ],
   "source": [
    "from CNNModel import CNNModel\n",
    "\n",
    "cope = contrast_dict[task][contrast]\n",
    "taskdir = basedir / 'combined' / task \n",
    "data_img = nib.load(taskdir/ f'cope{cope}_combat.nii.gz')\n",
    "\n",
    "model = CNNModel(\n",
    "    input_shape=[1],\n",
    "    out_shape=data_img.get_fdata().shape[:3],\n",
    "    num_classes=1,\n",
    ")\n",
    "\n",
    "model.to(device)\n",
    "print(model)"
   ]
  },
  {
   "cell_type": "code",
   "execution_count": 9,
   "metadata": {},
   "outputs": [
    {
     "name": "stdout",
     "output_type": "stream",
     "text": [
      "torch.Size([3, 1, 65, 77, 49])\n"
     ]
    },
    {
     "data": {
      "text/plain": [
       "torch.Size([3, 1])"
      ]
     },
     "execution_count": 9,
     "metadata": {},
     "output_type": "execute_result"
    }
   ],
   "source": [
    "def get_dataloaders(train_idx, test_idx, task, contrast, labels, batch_size=50,\n",
    "                    onehot=False, noise_sd=0):\n",
    "    cope = contrast_dict[task][contrast]\n",
    "    taskdir = basedir / 'combined' / task \n",
    "    data_img = nib.load(taskdir/ f'cope{cope}_combat.nii.gz')\n",
    "    \n",
    "    data = einops.rearrange(data_img.get_fdata(), 'x y z s -> s 1 x y z')\n",
    "    if noise_sd > 0:\n",
    "        data += np.random.randn(*data.shape) * noise_sd\n",
    "    data_tensor = torch.tensor(data.astype('float32')).to(device).to(torch.float32)\n",
    "    labels = np.array(labels).reshape(-1, 1)\n",
    "    if onehot:\n",
    "        enc = OneHotEncoder(handle_unknown='ignore')\n",
    "        labels_tensor = torch.tensor(enc.fit_transform(labels).toarray().astype('float32')).to(device).to(torch.float32)\n",
    "    else:\n",
    "        labels_tensor = torch.tensor(labels.astype('float32')).to(device).to(torch.float32)\n",
    "    Dataset_train = TensorDataset(data_tensor[train_idx], labels_tensor[train_idx])\n",
    "    Loader_train = DataLoader(Dataset_train, batch_size=batch_size, shuffle=True)\n",
    "\n",
    "    Dataset_test = TensorDataset(data_tensor[test_idx], labels_tensor[test_idx])\n",
    "    Loader_test = DataLoader(Dataset_test, batch_size=batch_size, shuffle=True)\n",
    "    return Loader_train, Loader_test\n",
    "\n",
    "Loader_train, Loader_test = get_dataloaders([1,2,3], [4,5,6], task, contrast,\n",
    "                                             metadata_df.age)\n",
    "print(Loader_train.dataset.tensors[0].shape)\n",
    "Loader_train.dataset.tensors[1].shape\n",
    "\n"
   ]
  },
  {
   "cell_type": "code",
   "execution_count": 10,
   "metadata": {},
   "outputs": [],
   "source": [
    "def train_loop(dataloader, model, loss_fn, optimizer):\n",
    "    size = len(dataloader.dataset)\n",
    "    # Set the model to training mode - important for batch normalization and dropout layers\n",
    "    # Unnecessary in this situation but added for best practices\n",
    "    model.train()\n",
    "    lossvals = []\n",
    "\n",
    "    for batch, (X, y) in enumerate(dataloader):\n",
    "        # Compute prediction and loss\n",
    "        pred = model(X)\n",
    "        loss = loss_fn(pred, y)\n",
    "        lossvals.append(loss.detach().cpu().item())\n",
    "        # Backpropagation\n",
    "        loss.backward()\n",
    "        optimizer.step()\n",
    "        optimizer.zero_grad()\n",
    "    return np.mean(lossvals)\n",
    "\n",
    "\n",
    "\n",
    "def test_loop(dataloader, model, loss_fn):\n",
    "    # Set the model to evaluation mode - important for batch normalization and dropout layers\n",
    "    # Unnecessary in this situation but added for best practices\n",
    "    model.eval()\n",
    "    size = len(dataloader.dataset)\n",
    "    num_batches = len(dataloader)\n",
    "    test_loss, r2 = 0, 0\n",
    "\n",
    "    # Evaluating the model with torch.no_grad() ensures that no gradients are computed during test mode\n",
    "    # also serves to reduce unnecessary gradient computations and memory usage for tensors with requires_grad=True\n",
    "    lossvals = []\n",
    "    with torch.no_grad():\n",
    "        for X, y in dataloader:\n",
    "            pred = model(X)\n",
    "            loss = loss_fn(pred, y)\n",
    "            lossvals.append(loss.detach().cpu().item())\n",
    "            r2 += sklearn.metrics.r2_score(pred.cpu(), y.cpu())\n",
    "            #correct += (pred.argmax(1) == y.argmax(1)).type(torch.float).sum().item()\n",
    "\n",
    "    r2 /= size\n",
    "    # print(f\"Test Error: \\n Accuracy: {(100*correct):>0.1f}%, Avg loss: {test_loss:>8f} \\n\")\n",
    "    return np.mean(lossvals), r2\n",
    "\n",
    "\n"
   ]
  },
  {
   "cell_type": "code",
   "execution_count": 11,
   "metadata": {},
   "outputs": [
    {
     "name": "stdout",
     "output_type": "stream",
     "text": [
      "Epoch 0: test loss=614.2785034179688, test r2=-6.626551640101398\n",
      "Epoch 100: test loss=82.05704498291016, test r2=-0.61571841993601\n",
      "Epoch 200: test loss=86.08361434936523, test r2=-0.41516935693841117\n",
      "Epoch 300: test loss=96.97964477539062, test r2=-0.4506003816658465\n",
      "Epoch 400: test loss=79.82077217102051, test r2=-0.42983803334543036\n",
      "Epoch 500: test loss=86.82011413574219, test r2=-0.3217440841641127\n",
      "Epoch 600: test loss=73.52952766418457, test r2=-0.40853128486708934\n",
      "Epoch 700: test loss=88.84115982055664, test r2=-0.3740197573421688\n",
      "Epoch 800: test loss=102.96236419677734, test r2=-0.44086040934678566\n",
      "Epoch 900: test loss=86.71345901489258, test r2=-0.3646894877705837\n"
     ]
    }
   ],
   "source": [
    "loss_fn = torch.nn.MSELoss()\n",
    "optimizer = torch.optim.Adam(\n",
    "        model.parameters(),\n",
    "        lr=.0005\n",
    "    )\n",
    "nepochs = 1000\n",
    "pthresh = .99\n",
    "\n",
    "target = metadata_df.age\n",
    "# get a shuffle split with a very similar disribution\n",
    "ss = ShuffleSplit(n_splits=1000, test_size=.25, random_state=None)\n",
    "bad_split = True\n",
    "while bad_split:\n",
    "    for split_idx, (train_idx, test_idx) in enumerate(ss.split(data)):\n",
    "        if ks_2samp(target[train_idx], target[test_idx]).pvalue > pthresh:\n",
    "            bad_split = False\n",
    "\n",
    "train_loss = []\n",
    "test_loss = []\n",
    "test_r2 = []\n",
    "\n",
    "for epoch in range(nepochs):\n",
    "    Loader_train, Loader_test = get_dataloaders(\n",
    "        train_idx, test_idx, task, contrast, target,\n",
    "        batch_size=30, noise_sd=.0)\n",
    "\n",
    "    train_loss.append(train_loop(Loader_train, model, loss_fn, optimizer))\n",
    "    t_loss, t_r2 = test_loop(Loader_test, model, loss_fn)\n",
    "    if epoch % 100 == 0:\n",
    "        print(f'Epoch {epoch}: test loss={t_loss}, test r2={t_r2}')\n",
    "    test_loss.append(t_loss)\n",
    "    test_r2.append(t_r2)\n",
    "\n"
   ]
  },
  {
   "cell_type": "code",
   "execution_count": 12,
   "metadata": {},
   "outputs": [
    {
     "data": {
      "text/plain": [
       "Text(0.5, 0, 'epoch')"
      ]
     },
     "execution_count": 12,
     "metadata": {},
     "output_type": "execute_result"
    },
    {
     "data": {
      "image/png": "[encoded data removed]",
      "text/plain": [
       "<Figure size 1200x600 with 2 Axes>"
      ]
     },
     "metadata": {},
     "output_type": "display_data"
    }
   ],
   "source": [
    "plt.figure(figsize=(12, 6))\n",
    "plt.subplot(1, 2, 1)\n",
    "plt.plot(train_loss, label='train')\n",
    "plt.plot(test_loss, label='test')\n",
    "plt.legend()\n",
    "plt.ylabel('loss')\n",
    "plt.xlabel('epoch')\n",
    "\n",
    "plt.subplot(1, 2, 2)\n",
    "plt.plot(test_r2)\n",
    "plt.ylabel('r-squared')\n",
    "plt.xlabel('epoch')\n"
   ]
  },
  {
   "cell_type": "code",
   "execution_count": null,
   "metadata": {},
   "outputs": [],
   "source": []
  }
 ],
 "metadata": {
  "kernelspec": {
   "display_name": "Python 3",
   "language": "python",
   "name": "python3"
  },
  "language_info": {
   "codemirror_mode": {
    "name": "ipython",
    "version": 3
   },
   "file_extension": ".py",
   "mimetype": "text/x-python",
   "name": "python",
   "nbconvert_exporter": "python",
   "pygments_lexer": "ipython3",
   "version": "3.12.4"
  }
 },
 "nbformat": 4,
 "nbformat_minor": 2
}
