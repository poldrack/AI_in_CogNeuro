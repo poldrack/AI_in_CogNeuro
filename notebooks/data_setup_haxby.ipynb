{
 "cells": [
  {
   "cell_type": "markdown",
   "id": "d8dfa354",
   "metadata": {},
   "source": [
    "## Data preparation for encoding/decoding models\n",
    "\n",
    "For this example, we will use the data from Haxby et al., 2001., which are shared via OpenNeuro:\n",
    "\n",
    "https://openneuro.org/datasets/ds000105/versions/3.0.0\n",
    "\n",
    "The data are formatted according to the BIDS standard: https://bids-specification.readthedocs.io/en/stable/index.html\n",
    "\n",
    "First, import required dependencies. You can install these using `pip install -r requirements.txt` from the main repo directory."
   ]
  },
  {
   "cell_type": "code",
   "execution_count": 1,
   "id": "19ba6348",
   "metadata": {},
   "outputs": [],
   "source": [
    "%load_ext autoreload\n",
    "%autoreload 2\n",
    "\n",
    "import os\n",
    "import nilearn\n",
    "from nilearn import datasets\n",
    "from nilearn.maskers import NiftiMasker\n",
    "from nilearn.maskers import MultiNiftiMapsMasker\n",
    "import h5py\n",
    "import numpy as np\n",
    "import nibabel as nib\n",
    "import datalad.api as dl\n",
    "import pandas as pd\n",
    "import tqdm\n",
    "from utils import (\n",
    "    get_subject_common_brain_mask,\n",
    "    get_group_common_mask,\n",
    "    get_subject_runs,\n",
    "    get_layouts,\n",
    ")\n",
    "from pathlib import Path\n",
    "from poldracklab.utils.run_shell_cmd import run_shell_cmd\n",
    "\n"
   ]
  },
  {
   "cell_type": "markdown",
   "id": "a8ef9986",
   "metadata": {},
   "source": [
    "#### Get the data using datalad\n",
    "\n",
    "We will use a tool called [Datalad](https://www.datalad.org/) to obtain the data from openneuro.\n",
    "\n",
    "We will download the raw data, as well as the processed data (using [fMRIPrep](https://fmriprep.org/en/stable/).  Note that downloading these derivative data can take quite a while depending on the speed of one's connection."
   ]
  },
  {
   "cell_type": "code",
   "execution_count": 2,
   "id": "7f66a0e3",
   "metadata": {},
   "outputs": [
    {
     "name": "stderr",
     "output_type": "stream",
     "text": [
      "[INFO] Ensuring presence of Dataset(/Users/poldrack/data_unsynced/ds000105) to get /Users/poldrack/data_unsynced/ds000105 \n"
     ]
    }
   ],
   "source": [
    "data_dir = '/Users/poldrack/data_unsynced/ds000105'\n",
    "assert os.path.exists(data_dir), 'Data directory not found: %s' % data_dir\n",
    "fmriprep_dir = os.path.join(data_dir, 'derivatives', 'fmriprep')\n",
    "\n",
    "output_dir = os.path.join(data_dir, 'derivatives', 'cleaned')\n",
    "if not os.path.exists(output_dir):\n",
    "    os.makedirs(output_dir)\n",
    "\n",
    "\n",
    "# get the raw data\n",
    "ds = dl.clone(\n",
    "    path=data_dir,\n",
    "    source='https://github.com/OpenNeuroDatasets/ds000105.git',\n",
    ")\n",
    "dl.get(dataset=data_dir, recursive=True)\n",
    "\n",
    "get_fmriprep = False  # set to false after downloading fmriprep once\n",
    "\n",
    "# get the preprocessed derivatives - this takes some time!\n",
    "if get_fmriprep:\n",
    "    dl.clone(\n",
    "        path=fmriprep_dir,\n",
    "        source='https://github.com/OpenNeuroDerivatives/ds000105-fmriprep.git',\n",
    "    )\n",
    "    dl.get(dataset=fmriprep_dir, recursive=True)"
   ]
  },
  {
   "cell_type": "markdown",
   "id": "cc5748c0",
   "metadata": {},
   "source": [
    "### Query the dataset using PyBIDS\n",
    "\n",
    "Because the dataset is organized using the BIDS standard, we can use the [PyBIDS](https://bids-standard.github.io/pybids/) tool to query the dataset and obtain useful metadata.\n"
   ]
  },
  {
   "cell_type": "code",
   "execution_count": 3,
   "id": "fad1ecee",
   "metadata": {
    "lines_to_next_cell": 2
   },
   "outputs": [],
   "source": [
    "# load the dataset using pybids and get runs for each subject\n",
    "\n",
    "\n",
    "layout, deriv_layout = get_layouts(data_dir, fmriprep_dir)"
   ]
  },
  {
   "cell_type": "markdown",
   "id": "bd3e176f",
   "metadata": {},
   "source": [
    "### create 3mm resolution version of the data\n",
    "\n",
    "The data obtained from OpenNeuro were stored in MNI space at 2 mm resolution.  It's useful to work in MNI space in order to be able to align subjects, but the original resolution (3.5 x 3.75 x 3.75 mm) is much lower, and using the higher resolution images needlessly slows down analyses.  For this reason, we will resample the 2 mm data to 3 mm resolution, which is closer to the original resolution and will reduce processing times. "
   ]
  },
  {
   "cell_type": "code",
   "execution_count": 4,
   "id": "e19de266",
   "metadata": {
    "lines_to_next_cell": 2
   },
   "outputs": [
    {
     "name": "stdout",
     "output_type": "stream",
     "text": [
      "found 71 bold files\n"
     ]
    },
    {
     "name": "stderr",
     "output_type": "stream",
     "text": [
      "Processing items: 100%|██████████| 71/71 [00:00<00:00, 35835.81it/s]\n"
     ]
    }
   ],
   "source": [
    "boldfiles = deriv_layout.get(\n",
    "    desc='preproc',\n",
    "    space='MNI152NLin2009cAsym',\n",
    "    suffix='bold',\n",
    "    extension='nii.gz',\n",
    "    res=2,\n",
    "    return_type='file',\n",
    ")\n",
    "print(f'found {len(boldfiles)} bold files')\n",
    "\n",
    "target_affine = np.diag((3, 3, 3))\n",
    "\n",
    "for boldfile in tqdm.tqdm(boldfiles, desc='Processing items'):\n",
    "    output = boldfile.replace('res-2', 'res-3')\n",
    "    assert output != boldfile\n",
    "    if not os.path.exists(output):\n",
    "        img = nilearn.image.resample_img(\n",
    "            boldfile,\n",
    "            target_affine=target_affine,\n",
    "            copy_header=True,\n",
    "            force_resample=True,\n",
    "        )\n",
    "        img.to_filename(output)\n",
    "    # create boldref as well\n",
    "    boldref = boldfile.replace('desc-preproc_bold.nii.gz', 'boldref.nii.gz')\n",
    "    output_boldref = boldref.replace('res-2', 'res-3')\n",
    "    assert output_boldref != boldref\n",
    "    if not os.path.exists(output_boldref):\n",
    "        img = nilearn.image.resample_img(\n",
    "            boldref,\n",
    "            target_affine=target_affine,\n",
    "            copy_header=True,\n",
    "            force_resample=True,\n",
    "        )\n",
    "        img.to_filename(output_boldref)\n",
    "    # create mask\n",
    "    maskfile = boldfile.replace(\n",
    "        'desc-preproc_bold.nii.gz', 'desc-brain_mask.nii.gz'\n",
    "    )\n",
    "    output_maskfile = maskfile.replace('res-2', 'res-3')\n",
    "    assert output_maskfile != maskfile\n",
    "    if not os.path.exists(maskfile):\n",
    "        img = nilearn.image.resample_img(\n",
    "            maskfile,\n",
    "            target_affine=target_affine,\n",
    "            interpolation='nearest',\n",
    "            copy_header=True,\n",
    "            force_resample=True,\n",
    "        )\n",
    "        img.to_filename(output_maskfile)"
   ]
  },
  {
   "cell_type": "markdown",
   "id": "7b055d4f",
   "metadata": {},
   "source": [
    "### Confound regression\n",
    "\n",
    "Use the outputs from fMRIPrep to generate a denoised version of the data.\n",
    "\n"
   ]
  },
  {
   "cell_type": "code",
   "execution_count": 5,
   "id": "ad9be120",
   "metadata": {},
   "outputs": [
    {
     "name": "stdout",
     "output_type": "stream",
     "text": [
      "Running confound regression for res=3\n",
      "Subject 1 has 12 runs\n",
      "Subject 2 has 12 runs\n",
      "Subject 3 has 12 runs\n",
      "Subject 4 has 12 runs\n",
      "Subject 5 has 11 runs\n",
      "Subject 6 has 12 runs\n",
      "Running confound regression for res=2\n",
      "Subject 1 has 12 runs\n",
      "Subject 2 has 12 runs\n",
      "Subject 3 has 12 runs\n",
      "Subject 4 has 12 runs\n",
      "Subject 5 has 11 runs\n",
      "Subject 6 has 12 runs\n"
     ]
    }
   ],
   "source": [
    "def run_confound_regression(\n",
    "    layout, deriv_layout, data_dir, res=3, overwrite=False\n",
    "):\n",
    "    cleaned_images = {}\n",
    "    print(f'Running confound regression for res={res}')\n",
    "\n",
    "    subjects = [int(sub) for sub in layout.get_subjects()]\n",
    "    for subject in subjects:\n",
    "        cleaned_images[subject] = {}\n",
    "        runs = get_subject_runs(subject, data_dir)\n",
    "        print(f'Subject {subject} has {len(runs)} runs')\n",
    "        mask_img = get_subject_common_brain_mask(subject, data_dir, res=res)\n",
    "        # mask_img = resample_img(mask_img, target_affine=np.diag((3, 3, 3)),\n",
    "        #                        interpolation='nearest',\n",
    "        #                        copy_header=True, force_resample=True)\n",
    "        t_r = None\n",
    "        for run in runs:\n",
    "            preproc_file = deriv_layout.get(\n",
    "                subject=subject,\n",
    "                run=run,\n",
    "                res=res,\n",
    "                desc='preproc',\n",
    "                space='MNI152NLin2009cAsym',\n",
    "                suffix='bold',\n",
    "                extension='nii.gz',\n",
    "                return_type='file',\n",
    "            )\n",
    "            cleaned_img_file = preproc_file[0].replace('preproc', 'cleaned')\n",
    "            if t_r is None:\n",
    "                t_r = deriv_layout.get_metadata(preproc_file[0])[\n",
    "                    'RepetitionTime'\n",
    "                ]\n",
    "            else:\n",
    "                assert (\n",
    "                    t_r\n",
    "                    == deriv_layout.get_metadata(preproc_file[0])[\n",
    "                        'RepetitionTime'\n",
    "                    ]\n",
    "                )\n",
    "            assert t_r is not None\n",
    "            if os.path.exists(cleaned_img_file) and not overwrite:\n",
    "                # print(f\"Using existing cleaned file for subject {subject} run {run}\")\n",
    "                cleaned_img = nib.load(cleaned_img_file)\n",
    "                cleaned_images[subject][run] = (cleaned_img_file, cleaned_img)\n",
    "                continue\n",
    "            preproc_img = nib.load(preproc_file[0])\n",
    "            assert (\n",
    "                len(preproc_file) == 1\n",
    "            ), f'Found {len(preproc_file)} preproc files for subject {subject} run {run}'\n",
    "            confound_file = deriv_layout.get(\n",
    "                subject=subject,\n",
    "                run=run,\n",
    "                desc='confounds',\n",
    "                suffix='timeseries',\n",
    "                extension='tsv',\n",
    "                return_type='file',\n",
    "            )\n",
    "            assert (\n",
    "                len(confound_file) == 1\n",
    "            ), f'Found {len(confound_file)} confound files for subject {subject} run {run}'\n",
    "            confounds = pd.read_csv(confound_file[0], sep='\\t').bfill()\n",
    "            # need to include cosine with acompcor\n",
    "            confound_prefixes = ['trans_', 'rot_', 'a_comp_cor_', 'cosine']\n",
    "            confound_cols = [\n",
    "                c\n",
    "                for c in list(confounds.columns)\n",
    "                if any([c.startswith(p) for p in confound_prefixes])\n",
    "            ]\n",
    "            confounds_selected = confounds[confound_cols]\n",
    "            cleaned_img = nilearn.image.clean_img(\n",
    "                preproc_img,\n",
    "                confounds=confounds_selected,\n",
    "                t_r=t_r,\n",
    "                mask_img=mask_img,\n",
    "            )\n",
    "            assert cleaned_img_file != preproc_file[0]\n",
    "            cleaned_img.to_filename(os.path.join(cleaned_img_file))\n",
    "            cleaned_images[subject][run] = (cleaned_img_file, cleaned_img)\n",
    "    return cleaned_images, t_r\n",
    "\n",
    "\n",
    "# refresh the layouts to detect the new res-3 files\n",
    "layout, deriv_layout = get_layouts(data_dir, fmriprep_dir)\n",
    "\n",
    "cleaned_images, t_r = run_confound_regression(\n",
    "    layout, deriv_layout, data_dir, overwrite=False, res=3\n",
    ")\n",
    "\n",
    "# run it for the 2 mm resolution data as well\n",
    "cleaned_images, t_r = run_confound_regression(\n",
    "    layout, deriv_layout, data_dir, overwrite=False, res=2\n",
    ")"
   ]
  },
  {
   "cell_type": "markdown",
   "id": "8b7cab62",
   "metadata": {},
   "source": [
    "### select task block timepoints\n",
    "\n",
    "Drop the first two TRs from each task block to account for hemodynamic delay, and generate task labels for each timepoint.  First we extract the  necessary metadata:"
   ]
  },
  {
   "cell_type": "code",
   "execution_count": 6,
   "id": "9df6707a",
   "metadata": {
    "lines_to_next_cell": 2
   },
   "outputs": [],
   "source": [
    "# find the condition label for timepoints that are beyond the intial 4 seconds\n",
    "def get_cond_info(\n",
    "    layout, deriv_layout, t_r, cleaned_images, blocklen=20, n_trials_to_skip=2\n",
    "):\n",
    "    cond_info = {}\n",
    "\n",
    "    subjects = [int(sub) for sub in layout.get_subjects()]\n",
    "    for subject in subjects:\n",
    "        runs = get_subject_runs(subject, data_dir)\n",
    "        cond_info[subject] = {}\n",
    "        for run in runs:\n",
    "            events_file = layout.get(\n",
    "                subject=subject,\n",
    "                run=run,\n",
    "                datatype='func',\n",
    "                extension='tsv',\n",
    "                return_type='file',\n",
    "            )[0]\n",
    "            events = pd.read_csv(events_file, sep='\\t')\n",
    "            n_timepoints = cleaned_images[subject][run][1].shape[-1]\n",
    "            timepoints = np.arange(0, n_timepoints * t_r, t_r)\n",
    "\n",
    "            # find task onsets in the events file\n",
    "            # skip 2 trials i.e. 4 seconds\n",
    "            blocklen = (\n",
    "                20  # block length in seconds after removing first 4 seconds\n",
    "            )\n",
    "\n",
    "            conditions = events.trial_type.unique().tolist()\n",
    "            conditions.sort()\n",
    "            onsets = {}\n",
    "            for condition in conditions:\n",
    "                match_df = events[events.trial_type == condition]\n",
    "                onsets[condition] = match_df.onset.tolist()[n_trials_to_skip]\n",
    "            cond_df = pd.DataFrame(\n",
    "                {'timepoint': timepoints, 'condition': None}\n",
    "            )\n",
    "            for idx in cond_df.index:\n",
    "                for condition in conditions:\n",
    "                    if cond_df.loc[idx, 'timepoint'] >= onsets[\n",
    "                        condition\n",
    "                    ] and cond_df.loc[idx, 'timepoint'] < (\n",
    "                        onsets[condition] + blocklen\n",
    "                    ):\n",
    "                        cond_df.loc[idx, 'condition'] = condition\n",
    "            for cond in cond_df.condition.unique():\n",
    "                if cond is None:\n",
    "                    continue\n",
    "                assert len(cond_df[cond_df.condition == cond]) == 8\n",
    "            cond_info[subject][run] = cond_df\n",
    "    return cond_info\n",
    "\n",
    "\n",
    "cond_info = get_cond_info(layout, deriv_layout, t_r, cleaned_images)"
   ]
  },
  {
   "cell_type": "markdown",
   "id": "51c57810",
   "metadata": {},
   "source": [
    "Then we extract the task images."
   ]
  },
  {
   "cell_type": "code",
   "execution_count": 7,
   "id": "07f9813a",
   "metadata": {
    "lines_to_next_cell": 2
   },
   "outputs": [],
   "source": [
    "\n",
    "\n",
    "def get_task_images(cond_info, cleaned_images):\n",
    "    task_images = {}\n",
    "    task_info = {}\n",
    "    for subject, runs in cond_info.items():\n",
    "        task_images[subject] = {}\n",
    "        task_info[subject] = {}\n",
    "        for run, cond_df in runs.items():\n",
    "            good_trials = cond_df.dropna()\n",
    "            assert (\n",
    "                len(good_trials) == 64\n",
    "            ), f'Found {len(good_trials)} good trials for subject {subject} run {run}'\n",
    "            task_img_file = cleaned_images[subject][run][0].replace(\n",
    "                'cleaned', 'task'\n",
    "            )\n",
    "            assert task_img_file != cleaned_images[subject][run][0]\n",
    "            good_trials.to_csv(\n",
    "                task_img_file.replace('_bold.nii.gz', '_events.tsv'),\n",
    "                sep='\\t',\n",
    "                index=False,\n",
    "            )\n",
    "            task_info[subject][run] = good_trials\n",
    "            if not os.path.exists(task_img_file):\n",
    "                cleaned_img = cleaned_images[subject][run][1]\n",
    "                task_data = cleaned_img.get_fdata()[\n",
    "                    :, :, :, list(good_trials.index)\n",
    "                ]\n",
    "                task_img = nib.Nifti1Image(task_data, cleaned_img.affine)\n",
    "                task_img.to_filename(task_img_file)\n",
    "            else:\n",
    "                task_img = nib.load(task_img_file)\n",
    "            task_images[subject][run] = task_img\n",
    "    return task_images, task_info\n",
    "\n",
    "\n",
    "task_images, task_info = get_task_images(cond_info, cleaned_images)"
   ]
  },
  {
   "cell_type": "markdown",
   "id": "61d761fc",
   "metadata": {},
   "source": [
    "### Create aligned temporal cortex masks\n",
    "\n",
    "We would like to reuse the masks shared by Haxby et al. for the visual cortex (which are included in the nilearn distribution).  This requires installation of the [ANTs software](https://stnava.github.io/ANTs/) and [FSL](https://fsl.fmrib.ox.ac.uk/fsl/docs/#/)."
   ]
  },
  {
   "cell_type": "code",
   "execution_count": 8,
   "id": "5c57f461",
   "metadata": {},
   "outputs": [
    {
     "name": "stdout",
     "output_type": "stream",
     "text": [
      "[get_dataset_dir] Dataset found in /Users/poldrack/nilearn_data/haxby2001\n",
      "1\n",
      "([], [])\n",
      "max in realigned mask: 1.0\n",
      "6\n",
      "([], [])\n",
      "max in realigned mask: 1.0\n",
      "5\n",
      "([], [])\n",
      "max in realigned mask: 1.0\n",
      "2\n",
      "([], [])\n",
      "max in realigned mask: 1.0\n",
      "3\n",
      "([], [])\n",
      "max in realigned mask: 1.0\n",
      "4\n",
      "([], [])\n",
      "max in realigned mask: 1.0\n"
     ]
    }
   ],
   "source": [
    "# First, we fetch single subject specific data with haxby datasets: to have\n",
    "# anatomical image, EPI images and masks images\n",
    "\n",
    "haxby_dataset = datasets.fetch_haxby(subjects=list(range(1, 7)))\n",
    "haxby_datadir = Path(os.path.dirname(haxby_dataset.mask))\n",
    "\n",
    "maskderivdir = Path(data_dir) / \"derivatives/vtmasks\"\n",
    "if not maskderivdir.exists():\n",
    "    maskderivdir.mkdir()\n",
    "\n",
    "maskfiles = list(haxby_datadir.glob('sub*/mask4_vt.nii.gz'))\n",
    "assert len(maskfiles) == 6\n",
    "\n",
    "res = 3 # resampling resolution in mm\n",
    "\n",
    "for maskfile in maskfiles:\n",
    "    subject = int(maskfile.parts[-2].replace('subj',''))\n",
    "    \n",
    "    print(subject)\n",
    "    maskimg = nib.load(str(maskfile))\n",
    "\n",
    "    boldfiles = layout.get(suffix='bold', extension='nii.gz', run=1, subject=subject,\n",
    "                            return_type='file')\n",
    "    assert len(boldfiles) == 1\n",
    "    boldimg = nib.load(boldfiles[0])\n",
    "\n",
    "    maskimg_resampled = nib.Nifti1Image(maskimg.get_fdata(), boldimg.affine, boldimg.header)\n",
    "\n",
    "    maskfile_resampled = maskderivdir / f'sub-{subject}_desc-mask4vt_resampled.nii.gz'\n",
    "    maskimg_resampled.to_filename(str(maskfile_resampled))\n",
    "\n",
    "    # call antsApplyTransform through the shell script\n",
    "    print(run_shell_cmd(f'bash align_mask.sh {subject} {res}'))\n",
    "\n",
    "    # load the aligned mask and check it\n",
    "    mask_aligned = nib.load(str(maskderivdir / f'sub-{subject}_mask4vt_space-MNI152NLin2009cAsym_res-{res}.nii.gz'))\n",
    "    mask_aligned_data = mask_aligned.get_fdata()\n",
    "    print('max in realigned mask:', mask_aligned_data.max())\n",
    "\n",
    "    \n"
   ]
  },
  {
   "cell_type": "markdown",
   "id": "30340562",
   "metadata": {},
   "source": [
    "### save to HDF5 file\n",
    "\n",
    "We will save all of the data to a single HDF5 file to make it easier to use them later.  "
   ]
  },
  {
   "cell_type": "code",
   "execution_count": 10,
   "id": "81870137",
   "metadata": {},
   "outputs": [
    {
     "ename": "AssertionError",
     "evalue": "Set overwrite to True to run this cell",
     "output_type": "error",
     "traceback": [
      "\u001b[0;31m---------------------------------------------------------------------------\u001b[0m",
      "\u001b[0;31mAssertionError\u001b[0m                            Traceback (most recent call last)",
      "Cell \u001b[0;32mIn[10], line 4\u001b[0m\n\u001b[1;32m      1\u001b[0m \u001b[38;5;66;03m# This will stop the notebook from automatically running the rest of the cells\u001b[39;00m\n\u001b[1;32m      2\u001b[0m \u001b[38;5;66;03m# which takes well over an hour\u001b[39;00m\n\u001b[1;32m      3\u001b[0m overwrite \u001b[38;5;241m=\u001b[39m \u001b[38;5;28;01mFalse\u001b[39;00m\n\u001b[0;32m----> 4\u001b[0m \u001b[38;5;28;01massert\u001b[39;00m overwrite, \u001b[38;5;124m'\u001b[39m\u001b[38;5;124mSet overwrite to True to run this cell\u001b[39m\u001b[38;5;124m'\u001b[39m\n",
      "\u001b[0;31mAssertionError\u001b[0m: Set overwrite to True to run this cell"
     ]
    }
   ],
   "source": [
    "# This will stop the notebook from automatically running the rest of the cells\n",
    "# which takes well over an hour\n",
    "overwrite = False\n",
    "assert overwrite, 'Set overwrite to True to run this cell'"
   ]
  },
  {
   "cell_type": "code",
   "execution_count": null,
   "id": "ab0725fb",
   "metadata": {
    "lines_to_next_cell": 2
   },
   "outputs": [
    {
     "name": "stdout",
     "output_type": "stream",
     "text": [
      "[get_dataset_dir] Dataset found in /Users/poldrack/nilearn_data/difumo_atlases\n",
      "Processing subject 1\n"
     ]
    },
    {
     "name": "stderr",
     "output_type": "stream",
     "text": [
      "/Users/poldrack/micromamba/envs/aineuro/lib/python3.12/site-packages/nilearn/maskers/nifti_masker.py:113: UserWarning: imgs are being resampled to the mask_img resolution. This process is memory intensive. You might want to provide a target_affine that is equal to the affine of the imgs or resample the mask beforehand to save memory and computation time.\n",
      "  warnings.warn(\n",
      "/Users/poldrack/micromamba/envs/aineuro/lib/python3.12/site-packages/nilearn/image/resampling.py:468: FutureWarning: 'force_resample' will be set to 'True' by default in Nilearn 0.13.0. \n",
      "Use 'force_resample=True' to suppress this warning.\n",
      "  force_resample = _check_force_resample(force_resample)\n"
     ]
    },
    {
     "name": "stdout",
     "output_type": "stream",
     "text": [
      "[NiftiMasker.wrapped] Resampling images\n"
     ]
    },
    {
     "name": "stderr",
     "output_type": "stream",
     "text": [
      "/Users/poldrack/micromamba/envs/aineuro/lib/python3.12/site-packages/nilearn/maskers/nifti_masker.py:113: UserWarning: imgs are being resampled to the mask_img resolution. This process is memory intensive. You might want to provide a target_affine that is equal to the affine of the imgs or resample the mask beforehand to save memory and computation time.\n",
      "  warnings.warn(\n",
      "/Users/poldrack/micromamba/envs/aineuro/lib/python3.12/site-packages/nilearn/image/resampling.py:468: FutureWarning: 'force_resample' will be set to 'True' by default in Nilearn 0.13.0. \n",
      "Use 'force_resample=True' to suppress this warning.\n",
      "  force_resample = _check_force_resample(force_resample)\n"
     ]
    },
    {
     "name": "stdout",
     "output_type": "stream",
     "text": [
      "[NiftiMasker.wrapped] Resampling images\n"
     ]
    },
    {
     "name": "stderr",
     "output_type": "stream",
     "text": [
      "/Users/poldrack/micromamba/envs/aineuro/lib/python3.12/site-packages/nilearn/maskers/nifti_masker.py:113: UserWarning: imgs are being resampled to the mask_img resolution. This process is memory intensive. You might want to provide a target_affine that is equal to the affine of the imgs or resample the mask beforehand to save memory and computation time.\n",
      "  warnings.warn(\n",
      "/Users/poldrack/micromamba/envs/aineuro/lib/python3.12/site-packages/nilearn/image/resampling.py:468: FutureWarning: 'force_resample' will be set to 'True' by default in Nilearn 0.13.0. \n",
      "Use 'force_resample=True' to suppress this warning.\n",
      "  force_resample = _check_force_resample(force_resample)\n"
     ]
    },
    {
     "name": "stdout",
     "output_type": "stream",
     "text": [
      "[NiftiMasker.wrapped] Resampling images\n"
     ]
    },
    {
     "name": "stderr",
     "output_type": "stream",
     "text": [
      "/Users/poldrack/micromamba/envs/aineuro/lib/python3.12/site-packages/nilearn/maskers/nifti_masker.py:113: UserWarning: imgs are being resampled to the mask_img resolution. This process is memory intensive. You might want to provide a target_affine that is equal to the affine of the imgs or resample the mask beforehand to save memory and computation time.\n",
      "  warnings.warn(\n",
      "/Users/poldrack/micromamba/envs/aineuro/lib/python3.12/site-packages/nilearn/image/resampling.py:468: FutureWarning: 'force_resample' will be set to 'True' by default in Nilearn 0.13.0. \n",
      "Use 'force_resample=True' to suppress this warning.\n",
      "  force_resample = _check_force_resample(force_resample)\n"
     ]
    },
    {
     "name": "stdout",
     "output_type": "stream",
     "text": [
      "[NiftiMasker.wrapped] Resampling images\n"
     ]
    },
    {
     "name": "stderr",
     "output_type": "stream",
     "text": [
      "/Users/poldrack/micromamba/envs/aineuro/lib/python3.12/site-packages/nilearn/maskers/nifti_masker.py:113: UserWarning: imgs are being resampled to the mask_img resolution. This process is memory intensive. You might want to provide a target_affine that is equal to the affine of the imgs or resample the mask beforehand to save memory and computation time.\n",
      "  warnings.warn(\n",
      "/Users/poldrack/micromamba/envs/aineuro/lib/python3.12/site-packages/nilearn/image/resampling.py:468: FutureWarning: 'force_resample' will be set to 'True' by default in Nilearn 0.13.0. \n",
      "Use 'force_resample=True' to suppress this warning.\n",
      "  force_resample = _check_force_resample(force_resample)\n"
     ]
    },
    {
     "name": "stdout",
     "output_type": "stream",
     "text": [
      "[NiftiMasker.wrapped] Resampling images\n"
     ]
    },
    {
     "name": "stderr",
     "output_type": "stream",
     "text": [
      "/Users/poldrack/micromamba/envs/aineuro/lib/python3.12/site-packages/nilearn/maskers/nifti_masker.py:113: UserWarning: imgs are being resampled to the mask_img resolution. This process is memory intensive. You might want to provide a target_affine that is equal to the affine of the imgs or resample the mask beforehand to save memory and computation time.\n",
      "  warnings.warn(\n",
      "/Users/poldrack/micromamba/envs/aineuro/lib/python3.12/site-packages/nilearn/image/resampling.py:468: FutureWarning: 'force_resample' will be set to 'True' by default in Nilearn 0.13.0. \n",
      "Use 'force_resample=True' to suppress this warning.\n",
      "  force_resample = _check_force_resample(force_resample)\n"
     ]
    },
    {
     "name": "stdout",
     "output_type": "stream",
     "text": [
      "[NiftiMasker.wrapped] Resampling images\n"
     ]
    },
    {
     "name": "stderr",
     "output_type": "stream",
     "text": [
      "/Users/poldrack/micromamba/envs/aineuro/lib/python3.12/site-packages/nilearn/maskers/nifti_masker.py:113: UserWarning: imgs are being resampled to the mask_img resolution. This process is memory intensive. You might want to provide a target_affine that is equal to the affine of the imgs or resample the mask beforehand to save memory and computation time.\n",
      "  warnings.warn(\n",
      "/Users/poldrack/micromamba/envs/aineuro/lib/python3.12/site-packages/nilearn/image/resampling.py:468: FutureWarning: 'force_resample' will be set to 'True' by default in Nilearn 0.13.0. \n",
      "Use 'force_resample=True' to suppress this warning.\n",
      "  force_resample = _check_force_resample(force_resample)\n"
     ]
    },
    {
     "name": "stdout",
     "output_type": "stream",
     "text": [
      "[NiftiMasker.wrapped] Resampling images\n"
     ]
    },
    {
     "name": "stderr",
     "output_type": "stream",
     "text": [
      "/Users/poldrack/micromamba/envs/aineuro/lib/python3.12/site-packages/nilearn/maskers/nifti_masker.py:113: UserWarning: imgs are being resampled to the mask_img resolution. This process is memory intensive. You might want to provide a target_affine that is equal to the affine of the imgs or resample the mask beforehand to save memory and computation time.\n",
      "  warnings.warn(\n",
      "/Users/poldrack/micromamba/envs/aineuro/lib/python3.12/site-packages/nilearn/image/resampling.py:468: FutureWarning: 'force_resample' will be set to 'True' by default in Nilearn 0.13.0. \n",
      "Use 'force_resample=True' to suppress this warning.\n",
      "  force_resample = _check_force_resample(force_resample)\n"
     ]
    },
    {
     "name": "stdout",
     "output_type": "stream",
     "text": [
      "[NiftiMasker.wrapped] Resampling images\n"
     ]
    },
    {
     "name": "stderr",
     "output_type": "stream",
     "text": [
      "/Users/poldrack/micromamba/envs/aineuro/lib/python3.12/site-packages/nilearn/maskers/nifti_masker.py:113: UserWarning: imgs are being resampled to the mask_img resolution. This process is memory intensive. You might want to provide a target_affine that is equal to the affine of the imgs or resample the mask beforehand to save memory and computation time.\n",
      "  warnings.warn(\n",
      "/Users/poldrack/micromamba/envs/aineuro/lib/python3.12/site-packages/nilearn/image/resampling.py:468: FutureWarning: 'force_resample' will be set to 'True' by default in Nilearn 0.13.0. \n",
      "Use 'force_resample=True' to suppress this warning.\n",
      "  force_resample = _check_force_resample(force_resample)\n"
     ]
    },
    {
     "name": "stdout",
     "output_type": "stream",
     "text": [
      "[NiftiMasker.wrapped] Resampling images\n"
     ]
    },
    {
     "name": "stderr",
     "output_type": "stream",
     "text": [
      "/Users/poldrack/micromamba/envs/aineuro/lib/python3.12/site-packages/nilearn/maskers/nifti_masker.py:113: UserWarning: imgs are being resampled to the mask_img resolution. This process is memory intensive. You might want to provide a target_affine that is equal to the affine of the imgs or resample the mask beforehand to save memory and computation time.\n",
      "  warnings.warn(\n",
      "/Users/poldrack/micromamba/envs/aineuro/lib/python3.12/site-packages/nilearn/image/resampling.py:468: FutureWarning: 'force_resample' will be set to 'True' by default in Nilearn 0.13.0. \n",
      "Use 'force_resample=True' to suppress this warning.\n",
      "  force_resample = _check_force_resample(force_resample)\n"
     ]
    },
    {
     "name": "stdout",
     "output_type": "stream",
     "text": [
      "[NiftiMasker.wrapped] Resampling images\n"
     ]
    },
    {
     "name": "stderr",
     "output_type": "stream",
     "text": [
      "/Users/poldrack/micromamba/envs/aineuro/lib/python3.12/site-packages/nilearn/maskers/nifti_masker.py:113: UserWarning: imgs are being resampled to the mask_img resolution. This process is memory intensive. You might want to provide a target_affine that is equal to the affine of the imgs or resample the mask beforehand to save memory and computation time.\n",
      "  warnings.warn(\n",
      "/Users/poldrack/micromamba/envs/aineuro/lib/python3.12/site-packages/nilearn/image/resampling.py:468: FutureWarning: 'force_resample' will be set to 'True' by default in Nilearn 0.13.0. \n",
      "Use 'force_resample=True' to suppress this warning.\n",
      "  force_resample = _check_force_resample(force_resample)\n"
     ]
    },
    {
     "name": "stdout",
     "output_type": "stream",
     "text": [
      "[NiftiMasker.wrapped] Resampling images\n"
     ]
    },
    {
     "name": "stderr",
     "output_type": "stream",
     "text": [
      "/Users/poldrack/micromamba/envs/aineuro/lib/python3.12/site-packages/nilearn/maskers/nifti_masker.py:113: UserWarning: imgs are being resampled to the mask_img resolution. This process is memory intensive. You might want to provide a target_affine that is equal to the affine of the imgs or resample the mask beforehand to save memory and computation time.\n",
      "  warnings.warn(\n",
      "/Users/poldrack/micromamba/envs/aineuro/lib/python3.12/site-packages/nilearn/image/resampling.py:468: FutureWarning: 'force_resample' will be set to 'True' by default in Nilearn 0.13.0. \n",
      "Use 'force_resample=True' to suppress this warning.\n",
      "  force_resample = _check_force_resample(force_resample)\n"
     ]
    },
    {
     "name": "stdout",
     "output_type": "stream",
     "text": [
      "[NiftiMasker.wrapped] Resampling images\n"
     ]
    },
    {
     "name": "stderr",
     "output_type": "stream",
     "text": [
      "/Users/poldrack/micromamba/envs/aineuro/lib/python3.12/site-packages/nilearn/maskers/nifti_masker.py:113: UserWarning: imgs are being resampled to the mask_img resolution. This process is memory intensive. You might want to provide a target_affine that is equal to the affine of the imgs or resample the mask beforehand to save memory and computation time.\n",
      "  warnings.warn(\n",
      "/Users/poldrack/micromamba/envs/aineuro/lib/python3.12/site-packages/nilearn/image/resampling.py:468: FutureWarning: 'force_resample' will be set to 'True' by default in Nilearn 0.13.0. \n",
      "Use 'force_resample=True' to suppress this warning.\n",
      "  force_resample = _check_force_resample(force_resample)\n"
     ]
    },
    {
     "name": "stdout",
     "output_type": "stream",
     "text": [
      "[NiftiMasker.wrapped] Resampling images\n"
     ]
    },
    {
     "name": "stderr",
     "output_type": "stream",
     "text": [
      "/Users/poldrack/micromamba/envs/aineuro/lib/python3.12/site-packages/nilearn/maskers/nifti_masker.py:113: UserWarning: imgs are being resampled to the mask_img resolution. This process is memory intensive. You might want to provide a target_affine that is equal to the affine of the imgs or resample the mask beforehand to save memory and computation time.\n",
      "  warnings.warn(\n",
      "/Users/poldrack/micromamba/envs/aineuro/lib/python3.12/site-packages/nilearn/image/resampling.py:468: FutureWarning: 'force_resample' will be set to 'True' by default in Nilearn 0.13.0. \n",
      "Use 'force_resample=True' to suppress this warning.\n",
      "  force_resample = _check_force_resample(force_resample)\n"
     ]
    },
    {
     "name": "stdout",
     "output_type": "stream",
     "text": [
      "[NiftiMasker.wrapped] Resampling images\n"
     ]
    },
    {
     "name": "stderr",
     "output_type": "stream",
     "text": [
      "/Users/poldrack/micromamba/envs/aineuro/lib/python3.12/site-packages/nilearn/maskers/nifti_masker.py:113: UserWarning: imgs are being resampled to the mask_img resolution. This process is memory intensive. You might want to provide a target_affine that is equal to the affine of the imgs or resample the mask beforehand to save memory and computation time.\n",
      "  warnings.warn(\n",
      "/Users/poldrack/micromamba/envs/aineuro/lib/python3.12/site-packages/nilearn/image/resampling.py:468: FutureWarning: 'force_resample' will be set to 'True' by default in Nilearn 0.13.0. \n",
      "Use 'force_resample=True' to suppress this warning.\n",
      "  force_resample = _check_force_resample(force_resample)\n"
     ]
    },
    {
     "name": "stdout",
     "output_type": "stream",
     "text": [
      "[NiftiMasker.wrapped] Resampling images\n"
     ]
    },
    {
     "name": "stderr",
     "output_type": "stream",
     "text": [
      "/Users/poldrack/micromamba/envs/aineuro/lib/python3.12/site-packages/nilearn/maskers/nifti_masker.py:113: UserWarning: imgs are being resampled to the mask_img resolution. This process is memory intensive. You might want to provide a target_affine that is equal to the affine of the imgs or resample the mask beforehand to save memory and computation time.\n",
      "  warnings.warn(\n",
      "/Users/poldrack/micromamba/envs/aineuro/lib/python3.12/site-packages/nilearn/image/resampling.py:468: FutureWarning: 'force_resample' will be set to 'True' by default in Nilearn 0.13.0. \n",
      "Use 'force_resample=True' to suppress this warning.\n",
      "  force_resample = _check_force_resample(force_resample)\n"
     ]
    },
    {
     "name": "stdout",
     "output_type": "stream",
     "text": [
      "[NiftiMasker.wrapped] Resampling images\n"
     ]
    },
    {
     "name": "stderr",
     "output_type": "stream",
     "text": [
      "/Users/poldrack/micromamba/envs/aineuro/lib/python3.12/site-packages/nilearn/maskers/nifti_masker.py:113: UserWarning: imgs are being resampled to the mask_img resolution. This process is memory intensive. You might want to provide a target_affine that is equal to the affine of the imgs or resample the mask beforehand to save memory and computation time.\n",
      "  warnings.warn(\n",
      "/Users/poldrack/micromamba/envs/aineuro/lib/python3.12/site-packages/nilearn/image/resampling.py:468: FutureWarning: 'force_resample' will be set to 'True' by default in Nilearn 0.13.0. \n",
      "Use 'force_resample=True' to suppress this warning.\n",
      "  force_resample = _check_force_resample(force_resample)\n"
     ]
    },
    {
     "name": "stdout",
     "output_type": "stream",
     "text": [
      "[NiftiMasker.wrapped] Resampling images\n"
     ]
    },
    {
     "name": "stderr",
     "output_type": "stream",
     "text": [
      "/Users/poldrack/micromamba/envs/aineuro/lib/python3.12/site-packages/nilearn/maskers/nifti_masker.py:113: UserWarning: imgs are being resampled to the mask_img resolution. This process is memory intensive. You might want to provide a target_affine that is equal to the affine of the imgs or resample the mask beforehand to save memory and computation time.\n",
      "  warnings.warn(\n",
      "/Users/poldrack/micromamba/envs/aineuro/lib/python3.12/site-packages/nilearn/image/resampling.py:468: FutureWarning: 'force_resample' will be set to 'True' by default in Nilearn 0.13.0. \n",
      "Use 'force_resample=True' to suppress this warning.\n",
      "  force_resample = _check_force_resample(force_resample)\n"
     ]
    },
    {
     "name": "stdout",
     "output_type": "stream",
     "text": [
      "[NiftiMasker.wrapped] Resampling images\n"
     ]
    },
    {
     "name": "stderr",
     "output_type": "stream",
     "text": [
      "/Users/poldrack/micromamba/envs/aineuro/lib/python3.12/site-packages/nilearn/maskers/nifti_masker.py:113: UserWarning: imgs are being resampled to the mask_img resolution. This process is memory intensive. You might want to provide a target_affine that is equal to the affine of the imgs or resample the mask beforehand to save memory and computation time.\n",
      "  warnings.warn(\n",
      "/Users/poldrack/micromamba/envs/aineuro/lib/python3.12/site-packages/nilearn/image/resampling.py:468: FutureWarning: 'force_resample' will be set to 'True' by default in Nilearn 0.13.0. \n",
      "Use 'force_resample=True' to suppress this warning.\n",
      "  force_resample = _check_force_resample(force_resample)\n"
     ]
    },
    {
     "name": "stdout",
     "output_type": "stream",
     "text": [
      "[NiftiMasker.wrapped] Resampling images\n"
     ]
    },
    {
     "name": "stderr",
     "output_type": "stream",
     "text": [
      "/Users/poldrack/micromamba/envs/aineuro/lib/python3.12/site-packages/nilearn/maskers/nifti_masker.py:113: UserWarning: imgs are being resampled to the mask_img resolution. This process is memory intensive. You might want to provide a target_affine that is equal to the affine of the imgs or resample the mask beforehand to save memory and computation time.\n",
      "  warnings.warn(\n",
      "/Users/poldrack/micromamba/envs/aineuro/lib/python3.12/site-packages/nilearn/image/resampling.py:468: FutureWarning: 'force_resample' will be set to 'True' by default in Nilearn 0.13.0. \n",
      "Use 'force_resample=True' to suppress this warning.\n",
      "  force_resample = _check_force_resample(force_resample)\n"
     ]
    },
    {
     "name": "stdout",
     "output_type": "stream",
     "text": [
      "[NiftiMasker.wrapped] Resampling images\n"
     ]
    },
    {
     "name": "stderr",
     "output_type": "stream",
     "text": [
      "/Users/poldrack/micromamba/envs/aineuro/lib/python3.12/site-packages/nilearn/maskers/nifti_masker.py:113: UserWarning: imgs are being resampled to the mask_img resolution. This process is memory intensive. You might want to provide a target_affine that is equal to the affine of the imgs or resample the mask beforehand to save memory and computation time.\n",
      "  warnings.warn(\n",
      "/Users/poldrack/micromamba/envs/aineuro/lib/python3.12/site-packages/nilearn/image/resampling.py:468: FutureWarning: 'force_resample' will be set to 'True' by default in Nilearn 0.13.0. \n",
      "Use 'force_resample=True' to suppress this warning.\n",
      "  force_resample = _check_force_resample(force_resample)\n"
     ]
    },
    {
     "name": "stdout",
     "output_type": "stream",
     "text": [
      "[NiftiMasker.wrapped] Resampling images\n"
     ]
    },
    {
     "name": "stderr",
     "output_type": "stream",
     "text": [
      "/Users/poldrack/micromamba/envs/aineuro/lib/python3.12/site-packages/nilearn/maskers/nifti_masker.py:113: UserWarning: imgs are being resampled to the mask_img resolution. This process is memory intensive. You might want to provide a target_affine that is equal to the affine of the imgs or resample the mask beforehand to save memory and computation time.\n",
      "  warnings.warn(\n",
      "/Users/poldrack/micromamba/envs/aineuro/lib/python3.12/site-packages/nilearn/image/resampling.py:468: FutureWarning: 'force_resample' will be set to 'True' by default in Nilearn 0.13.0. \n",
      "Use 'force_resample=True' to suppress this warning.\n",
      "  force_resample = _check_force_resample(force_resample)\n"
     ]
    },
    {
     "name": "stdout",
     "output_type": "stream",
     "text": [
      "[NiftiMasker.wrapped] Resampling images\n"
     ]
    },
    {
     "name": "stderr",
     "output_type": "stream",
     "text": [
      "/Users/poldrack/micromamba/envs/aineuro/lib/python3.12/site-packages/nilearn/maskers/nifti_masker.py:113: UserWarning: imgs are being resampled to the mask_img resolution. This process is memory intensive. You might want to provide a target_affine that is equal to the affine of the imgs or resample the mask beforehand to save memory and computation time.\n",
      "  warnings.warn(\n",
      "/Users/poldrack/micromamba/envs/aineuro/lib/python3.12/site-packages/nilearn/image/resampling.py:468: FutureWarning: 'force_resample' will be set to 'True' by default in Nilearn 0.13.0. \n",
      "Use 'force_resample=True' to suppress this warning.\n",
      "  force_resample = _check_force_resample(force_resample)\n"
     ]
    },
    {
     "name": "stdout",
     "output_type": "stream",
     "text": [
      "[NiftiMasker.wrapped] Resampling images\n"
     ]
    },
    {
     "name": "stderr",
     "output_type": "stream",
     "text": [
      "/Users/poldrack/micromamba/envs/aineuro/lib/python3.12/site-packages/nilearn/maskers/nifti_masker.py:113: UserWarning: imgs are being resampled to the mask_img resolution. This process is memory intensive. You might want to provide a target_affine that is equal to the affine of the imgs or resample the mask beforehand to save memory and computation time.\n",
      "  warnings.warn(\n",
      "/Users/poldrack/micromamba/envs/aineuro/lib/python3.12/site-packages/nilearn/image/resampling.py:468: FutureWarning: 'force_resample' will be set to 'True' by default in Nilearn 0.13.0. \n",
      "Use 'force_resample=True' to suppress this warning.\n",
      "  force_resample = _check_force_resample(force_resample)\n"
     ]
    },
    {
     "name": "stdout",
     "output_type": "stream",
     "text": [
      "[NiftiMasker.wrapped] Resampling images\n",
      "Processing subject 2\n"
     ]
    },
    {
     "name": "stderr",
     "output_type": "stream",
     "text": [
      "/Users/poldrack/micromamba/envs/aineuro/lib/python3.12/site-packages/nilearn/maskers/nifti_masker.py:113: UserWarning: imgs are being resampled to the mask_img resolution. This process is memory intensive. You might want to provide a target_affine that is equal to the affine of the imgs or resample the mask beforehand to save memory and computation time.\n",
      "  warnings.warn(\n",
      "/Users/poldrack/micromamba/envs/aineuro/lib/python3.12/site-packages/nilearn/image/resampling.py:468: FutureWarning: 'force_resample' will be set to 'True' by default in Nilearn 0.13.0. \n",
      "Use 'force_resample=True' to suppress this warning.\n",
      "  force_resample = _check_force_resample(force_resample)\n"
     ]
    },
    {
     "name": "stdout",
     "output_type": "stream",
     "text": [
      "[NiftiMasker.wrapped] Resampling images\n"
     ]
    },
    {
     "name": "stderr",
     "output_type": "stream",
     "text": [
      "/Users/poldrack/micromamba/envs/aineuro/lib/python3.12/site-packages/nilearn/maskers/nifti_masker.py:113: UserWarning: imgs are being resampled to the mask_img resolution. This process is memory intensive. You might want to provide a target_affine that is equal to the affine of the imgs or resample the mask beforehand to save memory and computation time.\n",
      "  warnings.warn(\n",
      "/Users/poldrack/micromamba/envs/aineuro/lib/python3.12/site-packages/nilearn/image/resampling.py:468: FutureWarning: 'force_resample' will be set to 'True' by default in Nilearn 0.13.0. \n",
      "Use 'force_resample=True' to suppress this warning.\n",
      "  force_resample = _check_force_resample(force_resample)\n"
     ]
    },
    {
     "name": "stdout",
     "output_type": "stream",
     "text": [
      "[NiftiMasker.wrapped] Resampling images\n"
     ]
    },
    {
     "name": "stderr",
     "output_type": "stream",
     "text": [
      "/Users/poldrack/micromamba/envs/aineuro/lib/python3.12/site-packages/nilearn/maskers/nifti_masker.py:113: UserWarning: imgs are being resampled to the mask_img resolution. This process is memory intensive. You might want to provide a target_affine that is equal to the affine of the imgs or resample the mask beforehand to save memory and computation time.\n",
      "  warnings.warn(\n",
      "/Users/poldrack/micromamba/envs/aineuro/lib/python3.12/site-packages/nilearn/image/resampling.py:468: FutureWarning: 'force_resample' will be set to 'True' by default in Nilearn 0.13.0. \n",
      "Use 'force_resample=True' to suppress this warning.\n",
      "  force_resample = _check_force_resample(force_resample)\n"
     ]
    },
    {
     "name": "stdout",
     "output_type": "stream",
     "text": [
      "[NiftiMasker.wrapped] Resampling images\n"
     ]
    },
    {
     "name": "stderr",
     "output_type": "stream",
     "text": [
      "/Users/poldrack/micromamba/envs/aineuro/lib/python3.12/site-packages/nilearn/maskers/nifti_masker.py:113: UserWarning: imgs are being resampled to the mask_img resolution. This process is memory intensive. You might want to provide a target_affine that is equal to the affine of the imgs or resample the mask beforehand to save memory and computation time.\n",
      "  warnings.warn(\n",
      "/Users/poldrack/micromamba/envs/aineuro/lib/python3.12/site-packages/nilearn/image/resampling.py:468: FutureWarning: 'force_resample' will be set to 'True' by default in Nilearn 0.13.0. \n",
      "Use 'force_resample=True' to suppress this warning.\n",
      "  force_resample = _check_force_resample(force_resample)\n"
     ]
    },
    {
     "name": "stdout",
     "output_type": "stream",
     "text": [
      "[NiftiMasker.wrapped] Resampling images\n"
     ]
    },
    {
     "name": "stderr",
     "output_type": "stream",
     "text": [
      "/Users/poldrack/micromamba/envs/aineuro/lib/python3.12/site-packages/nilearn/maskers/nifti_masker.py:113: UserWarning: imgs are being resampled to the mask_img resolution. This process is memory intensive. You might want to provide a target_affine that is equal to the affine of the imgs or resample the mask beforehand to save memory and computation time.\n",
      "  warnings.warn(\n",
      "/Users/poldrack/micromamba/envs/aineuro/lib/python3.12/site-packages/nilearn/image/resampling.py:468: FutureWarning: 'force_resample' will be set to 'True' by default in Nilearn 0.13.0. \n",
      "Use 'force_resample=True' to suppress this warning.\n",
      "  force_resample = _check_force_resample(force_resample)\n"
     ]
    },
    {
     "name": "stdout",
     "output_type": "stream",
     "text": [
      "[NiftiMasker.wrapped] Resampling images\n"
     ]
    },
    {
     "name": "stderr",
     "output_type": "stream",
     "text": [
      "/Users/poldrack/micromamba/envs/aineuro/lib/python3.12/site-packages/nilearn/maskers/nifti_masker.py:113: UserWarning: imgs are being resampled to the mask_img resolution. This process is memory intensive. You might want to provide a target_affine that is equal to the affine of the imgs or resample the mask beforehand to save memory and computation time.\n",
      "  warnings.warn(\n",
      "/Users/poldrack/micromamba/envs/aineuro/lib/python3.12/site-packages/nilearn/image/resampling.py:468: FutureWarning: 'force_resample' will be set to 'True' by default in Nilearn 0.13.0. \n",
      "Use 'force_resample=True' to suppress this warning.\n",
      "  force_resample = _check_force_resample(force_resample)\n"
     ]
    },
    {
     "name": "stdout",
     "output_type": "stream",
     "text": [
      "[NiftiMasker.wrapped] Resampling images\n"
     ]
    },
    {
     "name": "stderr",
     "output_type": "stream",
     "text": [
      "/Users/poldrack/micromamba/envs/aineuro/lib/python3.12/site-packages/nilearn/maskers/nifti_masker.py:113: UserWarning: imgs are being resampled to the mask_img resolution. This process is memory intensive. You might want to provide a target_affine that is equal to the affine of the imgs or resample the mask beforehand to save memory and computation time.\n",
      "  warnings.warn(\n",
      "/Users/poldrack/micromamba/envs/aineuro/lib/python3.12/site-packages/nilearn/image/resampling.py:468: FutureWarning: 'force_resample' will be set to 'True' by default in Nilearn 0.13.0. \n",
      "Use 'force_resample=True' to suppress this warning.\n",
      "  force_resample = _check_force_resample(force_resample)\n"
     ]
    },
    {
     "name": "stdout",
     "output_type": "stream",
     "text": [
      "[NiftiMasker.wrapped] Resampling images\n"
     ]
    },
    {
     "name": "stderr",
     "output_type": "stream",
     "text": [
      "/Users/poldrack/micromamba/envs/aineuro/lib/python3.12/site-packages/nilearn/maskers/nifti_masker.py:113: UserWarning: imgs are being resampled to the mask_img resolution. This process is memory intensive. You might want to provide a target_affine that is equal to the affine of the imgs or resample the mask beforehand to save memory and computation time.\n",
      "  warnings.warn(\n",
      "/Users/poldrack/micromamba/envs/aineuro/lib/python3.12/site-packages/nilearn/image/resampling.py:468: FutureWarning: 'force_resample' will be set to 'True' by default in Nilearn 0.13.0. \n",
      "Use 'force_resample=True' to suppress this warning.\n",
      "  force_resample = _check_force_resample(force_resample)\n"
     ]
    },
    {
     "name": "stdout",
     "output_type": "stream",
     "text": [
      "[NiftiMasker.wrapped] Resampling images\n"
     ]
    },
    {
     "name": "stderr",
     "output_type": "stream",
     "text": [
      "/Users/poldrack/micromamba/envs/aineuro/lib/python3.12/site-packages/nilearn/maskers/nifti_masker.py:113: UserWarning: imgs are being resampled to the mask_img resolution. This process is memory intensive. You might want to provide a target_affine that is equal to the affine of the imgs or resample the mask beforehand to save memory and computation time.\n",
      "  warnings.warn(\n",
      "/Users/poldrack/micromamba/envs/aineuro/lib/python3.12/site-packages/nilearn/image/resampling.py:468: FutureWarning: 'force_resample' will be set to 'True' by default in Nilearn 0.13.0. \n",
      "Use 'force_resample=True' to suppress this warning.\n",
      "  force_resample = _check_force_resample(force_resample)\n"
     ]
    },
    {
     "name": "stdout",
     "output_type": "stream",
     "text": [
      "[NiftiMasker.wrapped] Resampling images\n"
     ]
    },
    {
     "name": "stderr",
     "output_type": "stream",
     "text": [
      "/Users/poldrack/micromamba/envs/aineuro/lib/python3.12/site-packages/nilearn/maskers/nifti_masker.py:113: UserWarning: imgs are being resampled to the mask_img resolution. This process is memory intensive. You might want to provide a target_affine that is equal to the affine of the imgs or resample the mask beforehand to save memory and computation time.\n",
      "  warnings.warn(\n",
      "/Users/poldrack/micromamba/envs/aineuro/lib/python3.12/site-packages/nilearn/image/resampling.py:468: FutureWarning: 'force_resample' will be set to 'True' by default in Nilearn 0.13.0. \n",
      "Use 'force_resample=True' to suppress this warning.\n",
      "  force_resample = _check_force_resample(force_resample)\n"
     ]
    },
    {
     "name": "stdout",
     "output_type": "stream",
     "text": [
      "[NiftiMasker.wrapped] Resampling images\n"
     ]
    },
    {
     "name": "stderr",
     "output_type": "stream",
     "text": [
      "/Users/poldrack/micromamba/envs/aineuro/lib/python3.12/site-packages/nilearn/maskers/nifti_masker.py:113: UserWarning: imgs are being resampled to the mask_img resolution. This process is memory intensive. You might want to provide a target_affine that is equal to the affine of the imgs or resample the mask beforehand to save memory and computation time.\n",
      "  warnings.warn(\n",
      "/Users/poldrack/micromamba/envs/aineuro/lib/python3.12/site-packages/nilearn/image/resampling.py:468: FutureWarning: 'force_resample' will be set to 'True' by default in Nilearn 0.13.0. \n",
      "Use 'force_resample=True' to suppress this warning.\n",
      "  force_resample = _check_force_resample(force_resample)\n"
     ]
    },
    {
     "name": "stdout",
     "output_type": "stream",
     "text": [
      "[NiftiMasker.wrapped] Resampling images\n"
     ]
    },
    {
     "name": "stderr",
     "output_type": "stream",
     "text": [
      "/Users/poldrack/micromamba/envs/aineuro/lib/python3.12/site-packages/nilearn/maskers/nifti_masker.py:113: UserWarning: imgs are being resampled to the mask_img resolution. This process is memory intensive. You might want to provide a target_affine that is equal to the affine of the imgs or resample the mask beforehand to save memory and computation time.\n",
      "  warnings.warn(\n",
      "/Users/poldrack/micromamba/envs/aineuro/lib/python3.12/site-packages/nilearn/image/resampling.py:468: FutureWarning: 'force_resample' will be set to 'True' by default in Nilearn 0.13.0. \n",
      "Use 'force_resample=True' to suppress this warning.\n",
      "  force_resample = _check_force_resample(force_resample)\n"
     ]
    },
    {
     "name": "stdout",
     "output_type": "stream",
     "text": [
      "[NiftiMasker.wrapped] Resampling images\n"
     ]
    },
    {
     "name": "stderr",
     "output_type": "stream",
     "text": [
      "/Users/poldrack/micromamba/envs/aineuro/lib/python3.12/site-packages/nilearn/maskers/nifti_masker.py:113: UserWarning: imgs are being resampled to the mask_img resolution. This process is memory intensive. You might want to provide a target_affine that is equal to the affine of the imgs or resample the mask beforehand to save memory and computation time.\n",
      "  warnings.warn(\n",
      "/Users/poldrack/micromamba/envs/aineuro/lib/python3.12/site-packages/nilearn/image/resampling.py:468: FutureWarning: 'force_resample' will be set to 'True' by default in Nilearn 0.13.0. \n",
      "Use 'force_resample=True' to suppress this warning.\n",
      "  force_resample = _check_force_resample(force_resample)\n"
     ]
    },
    {
     "name": "stdout",
     "output_type": "stream",
     "text": [
      "[NiftiMasker.wrapped] Resampling images\n"
     ]
    },
    {
     "name": "stderr",
     "output_type": "stream",
     "text": [
      "/Users/poldrack/micromamba/envs/aineuro/lib/python3.12/site-packages/nilearn/maskers/nifti_masker.py:113: UserWarning: imgs are being resampled to the mask_img resolution. This process is memory intensive. You might want to provide a target_affine that is equal to the affine of the imgs or resample the mask beforehand to save memory and computation time.\n",
      "  warnings.warn(\n",
      "/Users/poldrack/micromamba/envs/aineuro/lib/python3.12/site-packages/nilearn/image/resampling.py:468: FutureWarning: 'force_resample' will be set to 'True' by default in Nilearn 0.13.0. \n",
      "Use 'force_resample=True' to suppress this warning.\n",
      "  force_resample = _check_force_resample(force_resample)\n"
     ]
    },
    {
     "name": "stdout",
     "output_type": "stream",
     "text": [
      "[NiftiMasker.wrapped] Resampling images\n"
     ]
    },
    {
     "name": "stderr",
     "output_type": "stream",
     "text": [
      "/Users/poldrack/micromamba/envs/aineuro/lib/python3.12/site-packages/nilearn/maskers/nifti_masker.py:113: UserWarning: imgs are being resampled to the mask_img resolution. This process is memory intensive. You might want to provide a target_affine that is equal to the affine of the imgs or resample the mask beforehand to save memory and computation time.\n",
      "  warnings.warn(\n",
      "/Users/poldrack/micromamba/envs/aineuro/lib/python3.12/site-packages/nilearn/image/resampling.py:468: FutureWarning: 'force_resample' will be set to 'True' by default in Nilearn 0.13.0. \n",
      "Use 'force_resample=True' to suppress this warning.\n",
      "  force_resample = _check_force_resample(force_resample)\n"
     ]
    },
    {
     "name": "stdout",
     "output_type": "stream",
     "text": [
      "[NiftiMasker.wrapped] Resampling images\n"
     ]
    },
    {
     "name": "stderr",
     "output_type": "stream",
     "text": [
      "/Users/poldrack/micromamba/envs/aineuro/lib/python3.12/site-packages/nilearn/maskers/nifti_masker.py:113: UserWarning: imgs are being resampled to the mask_img resolution. This process is memory intensive. You might want to provide a target_affine that is equal to the affine of the imgs or resample the mask beforehand to save memory and computation time.\n",
      "  warnings.warn(\n",
      "/Users/poldrack/micromamba/envs/aineuro/lib/python3.12/site-packages/nilearn/image/resampling.py:468: FutureWarning: 'force_resample' will be set to 'True' by default in Nilearn 0.13.0. \n",
      "Use 'force_resample=True' to suppress this warning.\n",
      "  force_resample = _check_force_resample(force_resample)\n"
     ]
    },
    {
     "name": "stdout",
     "output_type": "stream",
     "text": [
      "[NiftiMasker.wrapped] Resampling images\n"
     ]
    },
    {
     "name": "stderr",
     "output_type": "stream",
     "text": [
      "/Users/poldrack/micromamba/envs/aineuro/lib/python3.12/site-packages/nilearn/maskers/nifti_masker.py:113: UserWarning: imgs are being resampled to the mask_img resolution. This process is memory intensive. You might want to provide a target_affine that is equal to the affine of the imgs or resample the mask beforehand to save memory and computation time.\n",
      "  warnings.warn(\n",
      "/Users/poldrack/micromamba/envs/aineuro/lib/python3.12/site-packages/nilearn/image/resampling.py:468: FutureWarning: 'force_resample' will be set to 'True' by default in Nilearn 0.13.0. \n",
      "Use 'force_resample=True' to suppress this warning.\n",
      "  force_resample = _check_force_resample(force_resample)\n"
     ]
    },
    {
     "name": "stdout",
     "output_type": "stream",
     "text": [
      "[NiftiMasker.wrapped] Resampling images\n"
     ]
    },
    {
     "name": "stderr",
     "output_type": "stream",
     "text": [
      "/Users/poldrack/micromamba/envs/aineuro/lib/python3.12/site-packages/nilearn/maskers/nifti_masker.py:113: UserWarning: imgs are being resampled to the mask_img resolution. This process is memory intensive. You might want to provide a target_affine that is equal to the affine of the imgs or resample the mask beforehand to save memory and computation time.\n",
      "  warnings.warn(\n",
      "/Users/poldrack/micromamba/envs/aineuro/lib/python3.12/site-packages/nilearn/image/resampling.py:468: FutureWarning: 'force_resample' will be set to 'True' by default in Nilearn 0.13.0. \n",
      "Use 'force_resample=True' to suppress this warning.\n",
      "  force_resample = _check_force_resample(force_resample)\n"
     ]
    },
    {
     "name": "stdout",
     "output_type": "stream",
     "text": [
      "[NiftiMasker.wrapped] Resampling images\n"
     ]
    },
    {
     "name": "stderr",
     "output_type": "stream",
     "text": [
      "/Users/poldrack/micromamba/envs/aineuro/lib/python3.12/site-packages/nilearn/maskers/nifti_masker.py:113: UserWarning: imgs are being resampled to the mask_img resolution. This process is memory intensive. You might want to provide a target_affine that is equal to the affine of the imgs or resample the mask beforehand to save memory and computation time.\n",
      "  warnings.warn(\n",
      "/Users/poldrack/micromamba/envs/aineuro/lib/python3.12/site-packages/nilearn/image/resampling.py:468: FutureWarning: 'force_resample' will be set to 'True' by default in Nilearn 0.13.0. \n",
      "Use 'force_resample=True' to suppress this warning.\n",
      "  force_resample = _check_force_resample(force_resample)\n"
     ]
    },
    {
     "name": "stdout",
     "output_type": "stream",
     "text": [
      "[NiftiMasker.wrapped] Resampling images\n"
     ]
    },
    {
     "name": "stderr",
     "output_type": "stream",
     "text": [
      "/Users/poldrack/micromamba/envs/aineuro/lib/python3.12/site-packages/nilearn/maskers/nifti_masker.py:113: UserWarning: imgs are being resampled to the mask_img resolution. This process is memory intensive. You might want to provide a target_affine that is equal to the affine of the imgs or resample the mask beforehand to save memory and computation time.\n",
      "  warnings.warn(\n",
      "/Users/poldrack/micromamba/envs/aineuro/lib/python3.12/site-packages/nilearn/image/resampling.py:468: FutureWarning: 'force_resample' will be set to 'True' by default in Nilearn 0.13.0. \n",
      "Use 'force_resample=True' to suppress this warning.\n",
      "  force_resample = _check_force_resample(force_resample)\n"
     ]
    },
    {
     "name": "stdout",
     "output_type": "stream",
     "text": [
      "[NiftiMasker.wrapped] Resampling images\n"
     ]
    },
    {
     "name": "stderr",
     "output_type": "stream",
     "text": [
      "/Users/poldrack/micromamba/envs/aineuro/lib/python3.12/site-packages/nilearn/maskers/nifti_masker.py:113: UserWarning: imgs are being resampled to the mask_img resolution. This process is memory intensive. You might want to provide a target_affine that is equal to the affine of the imgs or resample the mask beforehand to save memory and computation time.\n",
      "  warnings.warn(\n",
      "/Users/poldrack/micromamba/envs/aineuro/lib/python3.12/site-packages/nilearn/image/resampling.py:468: FutureWarning: 'force_resample' will be set to 'True' by default in Nilearn 0.13.0. \n",
      "Use 'force_resample=True' to suppress this warning.\n",
      "  force_resample = _check_force_resample(force_resample)\n"
     ]
    },
    {
     "name": "stdout",
     "output_type": "stream",
     "text": [
      "[NiftiMasker.wrapped] Resampling images\n"
     ]
    },
    {
     "name": "stderr",
     "output_type": "stream",
     "text": [
      "/Users/poldrack/micromamba/envs/aineuro/lib/python3.12/site-packages/nilearn/maskers/nifti_masker.py:113: UserWarning: imgs are being resampled to the mask_img resolution. This process is memory intensive. You might want to provide a target_affine that is equal to the affine of the imgs or resample the mask beforehand to save memory and computation time.\n",
      "  warnings.warn(\n",
      "/Users/poldrack/micromamba/envs/aineuro/lib/python3.12/site-packages/nilearn/image/resampling.py:468: FutureWarning: 'force_resample' will be set to 'True' by default in Nilearn 0.13.0. \n",
      "Use 'force_resample=True' to suppress this warning.\n",
      "  force_resample = _check_force_resample(force_resample)\n"
     ]
    },
    {
     "name": "stdout",
     "output_type": "stream",
     "text": [
      "[NiftiMasker.wrapped] Resampling images\n"
     ]
    },
    {
     "name": "stderr",
     "output_type": "stream",
     "text": [
      "/Users/poldrack/micromamba/envs/aineuro/lib/python3.12/site-packages/nilearn/maskers/nifti_masker.py:113: UserWarning: imgs are being resampled to the mask_img resolution. This process is memory intensive. You might want to provide a target_affine that is equal to the affine of the imgs or resample the mask beforehand to save memory and computation time.\n",
      "  warnings.warn(\n",
      "/Users/poldrack/micromamba/envs/aineuro/lib/python3.12/site-packages/nilearn/image/resampling.py:468: FutureWarning: 'force_resample' will be set to 'True' by default in Nilearn 0.13.0. \n",
      "Use 'force_resample=True' to suppress this warning.\n",
      "  force_resample = _check_force_resample(force_resample)\n"
     ]
    },
    {
     "name": "stdout",
     "output_type": "stream",
     "text": [
      "[NiftiMasker.wrapped] Resampling images\n"
     ]
    },
    {
     "name": "stderr",
     "output_type": "stream",
     "text": [
      "/Users/poldrack/micromamba/envs/aineuro/lib/python3.12/site-packages/nilearn/maskers/nifti_masker.py:113: UserWarning: imgs are being resampled to the mask_img resolution. This process is memory intensive. You might want to provide a target_affine that is equal to the affine of the imgs or resample the mask beforehand to save memory and computation time.\n",
      "  warnings.warn(\n",
      "/Users/poldrack/micromamba/envs/aineuro/lib/python3.12/site-packages/nilearn/image/resampling.py:468: FutureWarning: 'force_resample' will be set to 'True' by default in Nilearn 0.13.0. \n",
      "Use 'force_resample=True' to suppress this warning.\n",
      "  force_resample = _check_force_resample(force_resample)\n"
     ]
    },
    {
     "name": "stdout",
     "output_type": "stream",
     "text": [
      "[NiftiMasker.wrapped] Resampling images\n",
      "Processing subject 3\n"
     ]
    },
    {
     "name": "stderr",
     "output_type": "stream",
     "text": [
      "/Users/poldrack/micromamba/envs/aineuro/lib/python3.12/site-packages/nilearn/maskers/nifti_masker.py:113: UserWarning: imgs are being resampled to the mask_img resolution. This process is memory intensive. You might want to provide a target_affine that is equal to the affine of the imgs or resample the mask beforehand to save memory and computation time.\n",
      "  warnings.warn(\n",
      "/Users/poldrack/micromamba/envs/aineuro/lib/python3.12/site-packages/nilearn/image/resampling.py:468: FutureWarning: 'force_resample' will be set to 'True' by default in Nilearn 0.13.0. \n",
      "Use 'force_resample=True' to suppress this warning.\n",
      "  force_resample = _check_force_resample(force_resample)\n"
     ]
    },
    {
     "name": "stdout",
     "output_type": "stream",
     "text": [
      "[NiftiMasker.wrapped] Resampling images\n"
     ]
    },
    {
     "name": "stderr",
     "output_type": "stream",
     "text": [
      "/Users/poldrack/micromamba/envs/aineuro/lib/python3.12/site-packages/nilearn/maskers/nifti_masker.py:113: UserWarning: imgs are being resampled to the mask_img resolution. This process is memory intensive. You might want to provide a target_affine that is equal to the affine of the imgs or resample the mask beforehand to save memory and computation time.\n",
      "  warnings.warn(\n",
      "/Users/poldrack/micromamba/envs/aineuro/lib/python3.12/site-packages/nilearn/image/resampling.py:468: FutureWarning: 'force_resample' will be set to 'True' by default in Nilearn 0.13.0. \n",
      "Use 'force_resample=True' to suppress this warning.\n",
      "  force_resample = _check_force_resample(force_resample)\n"
     ]
    },
    {
     "name": "stdout",
     "output_type": "stream",
     "text": [
      "[NiftiMasker.wrapped] Resampling images\n"
     ]
    },
    {
     "name": "stderr",
     "output_type": "stream",
     "text": [
      "/Users/poldrack/micromamba/envs/aineuro/lib/python3.12/site-packages/nilearn/maskers/nifti_masker.py:113: UserWarning: imgs are being resampled to the mask_img resolution. This process is memory intensive. You might want to provide a target_affine that is equal to the affine of the imgs or resample the mask beforehand to save memory and computation time.\n",
      "  warnings.warn(\n",
      "/Users/poldrack/micromamba/envs/aineuro/lib/python3.12/site-packages/nilearn/image/resampling.py:468: FutureWarning: 'force_resample' will be set to 'True' by default in Nilearn 0.13.0. \n",
      "Use 'force_resample=True' to suppress this warning.\n",
      "  force_resample = _check_force_resample(force_resample)\n"
     ]
    },
    {
     "name": "stdout",
     "output_type": "stream",
     "text": [
      "[NiftiMasker.wrapped] Resampling images\n"
     ]
    },
    {
     "name": "stderr",
     "output_type": "stream",
     "text": [
      "/Users/poldrack/micromamba/envs/aineuro/lib/python3.12/site-packages/nilearn/maskers/nifti_masker.py:113: UserWarning: imgs are being resampled to the mask_img resolution. This process is memory intensive. You might want to provide a target_affine that is equal to the affine of the imgs or resample the mask beforehand to save memory and computation time.\n",
      "  warnings.warn(\n",
      "/Users/poldrack/micromamba/envs/aineuro/lib/python3.12/site-packages/nilearn/image/resampling.py:468: FutureWarning: 'force_resample' will be set to 'True' by default in Nilearn 0.13.0. \n",
      "Use 'force_resample=True' to suppress this warning.\n",
      "  force_resample = _check_force_resample(force_resample)\n"
     ]
    },
    {
     "name": "stdout",
     "output_type": "stream",
     "text": [
      "[NiftiMasker.wrapped] Resampling images\n"
     ]
    },
    {
     "name": "stderr",
     "output_type": "stream",
     "text": [
      "/Users/poldrack/micromamba/envs/aineuro/lib/python3.12/site-packages/nilearn/maskers/nifti_masker.py:113: UserWarning: imgs are being resampled to the mask_img resolution. This process is memory intensive. You might want to provide a target_affine that is equal to the affine of the imgs or resample the mask beforehand to save memory and computation time.\n",
      "  warnings.warn(\n",
      "/Users/poldrack/micromamba/envs/aineuro/lib/python3.12/site-packages/nilearn/image/resampling.py:468: FutureWarning: 'force_resample' will be set to 'True' by default in Nilearn 0.13.0. \n",
      "Use 'force_resample=True' to suppress this warning.\n",
      "  force_resample = _check_force_resample(force_resample)\n"
     ]
    },
    {
     "name": "stdout",
     "output_type": "stream",
     "text": [
      "[NiftiMasker.wrapped] Resampling images\n"
     ]
    },
    {
     "name": "stderr",
     "output_type": "stream",
     "text": [
      "/Users/poldrack/micromamba/envs/aineuro/lib/python3.12/site-packages/nilearn/maskers/nifti_masker.py:113: UserWarning: imgs are being resampled to the mask_img resolution. This process is memory intensive. You might want to provide a target_affine that is equal to the affine of the imgs or resample the mask beforehand to save memory and computation time.\n",
      "  warnings.warn(\n",
      "/Users/poldrack/micromamba/envs/aineuro/lib/python3.12/site-packages/nilearn/image/resampling.py:468: FutureWarning: 'force_resample' will be set to 'True' by default in Nilearn 0.13.0. \n",
      "Use 'force_resample=True' to suppress this warning.\n",
      "  force_resample = _check_force_resample(force_resample)\n"
     ]
    },
    {
     "name": "stdout",
     "output_type": "stream",
     "text": [
      "[NiftiMasker.wrapped] Resampling images\n"
     ]
    },
    {
     "name": "stderr",
     "output_type": "stream",
     "text": [
      "/Users/poldrack/micromamba/envs/aineuro/lib/python3.12/site-packages/nilearn/maskers/nifti_masker.py:113: UserWarning: imgs are being resampled to the mask_img resolution. This process is memory intensive. You might want to provide a target_affine that is equal to the affine of the imgs or resample the mask beforehand to save memory and computation time.\n",
      "  warnings.warn(\n",
      "/Users/poldrack/micromamba/envs/aineuro/lib/python3.12/site-packages/nilearn/image/resampling.py:468: FutureWarning: 'force_resample' will be set to 'True' by default in Nilearn 0.13.0. \n",
      "Use 'force_resample=True' to suppress this warning.\n",
      "  force_resample = _check_force_resample(force_resample)\n"
     ]
    },
    {
     "name": "stdout",
     "output_type": "stream",
     "text": [
      "[NiftiMasker.wrapped] Resampling images\n"
     ]
    },
    {
     "name": "stderr",
     "output_type": "stream",
     "text": [
      "/Users/poldrack/micromamba/envs/aineuro/lib/python3.12/site-packages/nilearn/maskers/nifti_masker.py:113: UserWarning: imgs are being resampled to the mask_img resolution. This process is memory intensive. You might want to provide a target_affine that is equal to the affine of the imgs or resample the mask beforehand to save memory and computation time.\n",
      "  warnings.warn(\n",
      "/Users/poldrack/micromamba/envs/aineuro/lib/python3.12/site-packages/nilearn/image/resampling.py:468: FutureWarning: 'force_resample' will be set to 'True' by default in Nilearn 0.13.0. \n",
      "Use 'force_resample=True' to suppress this warning.\n",
      "  force_resample = _check_force_resample(force_resample)\n"
     ]
    },
    {
     "name": "stdout",
     "output_type": "stream",
     "text": [
      "[NiftiMasker.wrapped] Resampling images\n"
     ]
    },
    {
     "name": "stderr",
     "output_type": "stream",
     "text": [
      "/Users/poldrack/micromamba/envs/aineuro/lib/python3.12/site-packages/nilearn/maskers/nifti_masker.py:113: UserWarning: imgs are being resampled to the mask_img resolution. This process is memory intensive. You might want to provide a target_affine that is equal to the affine of the imgs or resample the mask beforehand to save memory and computation time.\n",
      "  warnings.warn(\n",
      "/Users/poldrack/micromamba/envs/aineuro/lib/python3.12/site-packages/nilearn/image/resampling.py:468: FutureWarning: 'force_resample' will be set to 'True' by default in Nilearn 0.13.0. \n",
      "Use 'force_resample=True' to suppress this warning.\n",
      "  force_resample = _check_force_resample(force_resample)\n"
     ]
    },
    {
     "name": "stdout",
     "output_type": "stream",
     "text": [
      "[NiftiMasker.wrapped] Resampling images\n"
     ]
    },
    {
     "name": "stderr",
     "output_type": "stream",
     "text": [
      "/Users/poldrack/micromamba/envs/aineuro/lib/python3.12/site-packages/nilearn/maskers/nifti_masker.py:113: UserWarning: imgs are being resampled to the mask_img resolution. This process is memory intensive. You might want to provide a target_affine that is equal to the affine of the imgs or resample the mask beforehand to save memory and computation time.\n",
      "  warnings.warn(\n",
      "/Users/poldrack/micromamba/envs/aineuro/lib/python3.12/site-packages/nilearn/image/resampling.py:468: FutureWarning: 'force_resample' will be set to 'True' by default in Nilearn 0.13.0. \n",
      "Use 'force_resample=True' to suppress this warning.\n",
      "  force_resample = _check_force_resample(force_resample)\n"
     ]
    },
    {
     "name": "stdout",
     "output_type": "stream",
     "text": [
      "[NiftiMasker.wrapped] Resampling images\n"
     ]
    },
    {
     "name": "stderr",
     "output_type": "stream",
     "text": [
      "/Users/poldrack/micromamba/envs/aineuro/lib/python3.12/site-packages/nilearn/maskers/nifti_masker.py:113: UserWarning: imgs are being resampled to the mask_img resolution. This process is memory intensive. You might want to provide a target_affine that is equal to the affine of the imgs or resample the mask beforehand to save memory and computation time.\n",
      "  warnings.warn(\n",
      "/Users/poldrack/micromamba/envs/aineuro/lib/python3.12/site-packages/nilearn/image/resampling.py:468: FutureWarning: 'force_resample' will be set to 'True' by default in Nilearn 0.13.0. \n",
      "Use 'force_resample=True' to suppress this warning.\n",
      "  force_resample = _check_force_resample(force_resample)\n"
     ]
    },
    {
     "name": "stdout",
     "output_type": "stream",
     "text": [
      "[NiftiMasker.wrapped] Resampling images\n"
     ]
    },
    {
     "name": "stderr",
     "output_type": "stream",
     "text": [
      "/Users/poldrack/micromamba/envs/aineuro/lib/python3.12/site-packages/nilearn/maskers/nifti_masker.py:113: UserWarning: imgs are being resampled to the mask_img resolution. This process is memory intensive. You might want to provide a target_affine that is equal to the affine of the imgs or resample the mask beforehand to save memory and computation time.\n",
      "  warnings.warn(\n",
      "/Users/poldrack/micromamba/envs/aineuro/lib/python3.12/site-packages/nilearn/image/resampling.py:468: FutureWarning: 'force_resample' will be set to 'True' by default in Nilearn 0.13.0. \n",
      "Use 'force_resample=True' to suppress this warning.\n",
      "  force_resample = _check_force_resample(force_resample)\n"
     ]
    },
    {
     "name": "stdout",
     "output_type": "stream",
     "text": [
      "[NiftiMasker.wrapped] Resampling images\n"
     ]
    },
    {
     "name": "stderr",
     "output_type": "stream",
     "text": [
      "/Users/poldrack/micromamba/envs/aineuro/lib/python3.12/site-packages/nilearn/maskers/nifti_masker.py:113: UserWarning: imgs are being resampled to the mask_img resolution. This process is memory intensive. You might want to provide a target_affine that is equal to the affine of the imgs or resample the mask beforehand to save memory and computation time.\n",
      "  warnings.warn(\n",
      "/Users/poldrack/micromamba/envs/aineuro/lib/python3.12/site-packages/nilearn/image/resampling.py:468: FutureWarning: 'force_resample' will be set to 'True' by default in Nilearn 0.13.0. \n",
      "Use 'force_resample=True' to suppress this warning.\n",
      "  force_resample = _check_force_resample(force_resample)\n"
     ]
    },
    {
     "name": "stdout",
     "output_type": "stream",
     "text": [
      "[NiftiMasker.wrapped] Resampling images\n"
     ]
    },
    {
     "name": "stderr",
     "output_type": "stream",
     "text": [
      "/Users/poldrack/micromamba/envs/aineuro/lib/python3.12/site-packages/nilearn/maskers/nifti_masker.py:113: UserWarning: imgs are being resampled to the mask_img resolution. This process is memory intensive. You might want to provide a target_affine that is equal to the affine of the imgs or resample the mask beforehand to save memory and computation time.\n",
      "  warnings.warn(\n",
      "/Users/poldrack/micromamba/envs/aineuro/lib/python3.12/site-packages/nilearn/image/resampling.py:468: FutureWarning: 'force_resample' will be set to 'True' by default in Nilearn 0.13.0. \n",
      "Use 'force_resample=True' to suppress this warning.\n",
      "  force_resample = _check_force_resample(force_resample)\n"
     ]
    },
    {
     "name": "stdout",
     "output_type": "stream",
     "text": [
      "[NiftiMasker.wrapped] Resampling images\n"
     ]
    },
    {
     "name": "stderr",
     "output_type": "stream",
     "text": [
      "/Users/poldrack/micromamba/envs/aineuro/lib/python3.12/site-packages/nilearn/maskers/nifti_masker.py:113: UserWarning: imgs are being resampled to the mask_img resolution. This process is memory intensive. You might want to provide a target_affine that is equal to the affine of the imgs or resample the mask beforehand to save memory and computation time.\n",
      "  warnings.warn(\n",
      "/Users/poldrack/micromamba/envs/aineuro/lib/python3.12/site-packages/nilearn/image/resampling.py:468: FutureWarning: 'force_resample' will be set to 'True' by default in Nilearn 0.13.0. \n",
      "Use 'force_resample=True' to suppress this warning.\n",
      "  force_resample = _check_force_resample(force_resample)\n"
     ]
    },
    {
     "name": "stdout",
     "output_type": "stream",
     "text": [
      "[NiftiMasker.wrapped] Resampling images\n"
     ]
    },
    {
     "name": "stderr",
     "output_type": "stream",
     "text": [
      "/Users/poldrack/micromamba/envs/aineuro/lib/python3.12/site-packages/nilearn/maskers/nifti_masker.py:113: UserWarning: imgs are being resampled to the mask_img resolution. This process is memory intensive. You might want to provide a target_affine that is equal to the affine of the imgs or resample the mask beforehand to save memory and computation time.\n",
      "  warnings.warn(\n",
      "/Users/poldrack/micromamba/envs/aineuro/lib/python3.12/site-packages/nilearn/image/resampling.py:468: FutureWarning: 'force_resample' will be set to 'True' by default in Nilearn 0.13.0. \n",
      "Use 'force_resample=True' to suppress this warning.\n",
      "  force_resample = _check_force_resample(force_resample)\n"
     ]
    },
    {
     "name": "stdout",
     "output_type": "stream",
     "text": [
      "[NiftiMasker.wrapped] Resampling images\n"
     ]
    },
    {
     "name": "stderr",
     "output_type": "stream",
     "text": [
      "/Users/poldrack/micromamba/envs/aineuro/lib/python3.12/site-packages/nilearn/maskers/nifti_masker.py:113: UserWarning: imgs are being resampled to the mask_img resolution. This process is memory intensive. You might want to provide a target_affine that is equal to the affine of the imgs or resample the mask beforehand to save memory and computation time.\n",
      "  warnings.warn(\n",
      "/Users/poldrack/micromamba/envs/aineuro/lib/python3.12/site-packages/nilearn/image/resampling.py:468: FutureWarning: 'force_resample' will be set to 'True' by default in Nilearn 0.13.0. \n",
      "Use 'force_resample=True' to suppress this warning.\n",
      "  force_resample = _check_force_resample(force_resample)\n"
     ]
    },
    {
     "name": "stdout",
     "output_type": "stream",
     "text": [
      "[NiftiMasker.wrapped] Resampling images\n"
     ]
    },
    {
     "name": "stderr",
     "output_type": "stream",
     "text": [
      "/Users/poldrack/micromamba/envs/aineuro/lib/python3.12/site-packages/nilearn/maskers/nifti_masker.py:113: UserWarning: imgs are being resampled to the mask_img resolution. This process is memory intensive. You might want to provide a target_affine that is equal to the affine of the imgs or resample the mask beforehand to save memory and computation time.\n",
      "  warnings.warn(\n",
      "/Users/poldrack/micromamba/envs/aineuro/lib/python3.12/site-packages/nilearn/image/resampling.py:468: FutureWarning: 'force_resample' will be set to 'True' by default in Nilearn 0.13.0. \n",
      "Use 'force_resample=True' to suppress this warning.\n",
      "  force_resample = _check_force_resample(force_resample)\n"
     ]
    },
    {
     "name": "stdout",
     "output_type": "stream",
     "text": [
      "[NiftiMasker.wrapped] Resampling images\n"
     ]
    },
    {
     "name": "stderr",
     "output_type": "stream",
     "text": [
      "/Users/poldrack/micromamba/envs/aineuro/lib/python3.12/site-packages/nilearn/maskers/nifti_masker.py:113: UserWarning: imgs are being resampled to the mask_img resolution. This process is memory intensive. You might want to provide a target_affine that is equal to the affine of the imgs or resample the mask beforehand to save memory and computation time.\n",
      "  warnings.warn(\n",
      "/Users/poldrack/micromamba/envs/aineuro/lib/python3.12/site-packages/nilearn/image/resampling.py:468: FutureWarning: 'force_resample' will be set to 'True' by default in Nilearn 0.13.0. \n",
      "Use 'force_resample=True' to suppress this warning.\n",
      "  force_resample = _check_force_resample(force_resample)\n"
     ]
    },
    {
     "name": "stdout",
     "output_type": "stream",
     "text": [
      "[NiftiMasker.wrapped] Resampling images\n"
     ]
    },
    {
     "name": "stderr",
     "output_type": "stream",
     "text": [
      "/Users/poldrack/micromamba/envs/aineuro/lib/python3.12/site-packages/nilearn/maskers/nifti_masker.py:113: UserWarning: imgs are being resampled to the mask_img resolution. This process is memory intensive. You might want to provide a target_affine that is equal to the affine of the imgs or resample the mask beforehand to save memory and computation time.\n",
      "  warnings.warn(\n",
      "/Users/poldrack/micromamba/envs/aineuro/lib/python3.12/site-packages/nilearn/image/resampling.py:468: FutureWarning: 'force_resample' will be set to 'True' by default in Nilearn 0.13.0. \n",
      "Use 'force_resample=True' to suppress this warning.\n",
      "  force_resample = _check_force_resample(force_resample)\n"
     ]
    },
    {
     "name": "stdout",
     "output_type": "stream",
     "text": [
      "[NiftiMasker.wrapped] Resampling images\n"
     ]
    },
    {
     "name": "stderr",
     "output_type": "stream",
     "text": [
      "/Users/poldrack/micromamba/envs/aineuro/lib/python3.12/site-packages/nilearn/maskers/nifti_masker.py:113: UserWarning: imgs are being resampled to the mask_img resolution. This process is memory intensive. You might want to provide a target_affine that is equal to the affine of the imgs or resample the mask beforehand to save memory and computation time.\n",
      "  warnings.warn(\n",
      "/Users/poldrack/micromamba/envs/aineuro/lib/python3.12/site-packages/nilearn/image/resampling.py:468: FutureWarning: 'force_resample' will be set to 'True' by default in Nilearn 0.13.0. \n",
      "Use 'force_resample=True' to suppress this warning.\n",
      "  force_resample = _check_force_resample(force_resample)\n"
     ]
    },
    {
     "name": "stdout",
     "output_type": "stream",
     "text": [
      "[NiftiMasker.wrapped] Resampling images\n"
     ]
    },
    {
     "name": "stderr",
     "output_type": "stream",
     "text": [
      "/Users/poldrack/micromamba/envs/aineuro/lib/python3.12/site-packages/nilearn/maskers/nifti_masker.py:113: UserWarning: imgs are being resampled to the mask_img resolution. This process is memory intensive. You might want to provide a target_affine that is equal to the affine of the imgs or resample the mask beforehand to save memory and computation time.\n",
      "  warnings.warn(\n",
      "/Users/poldrack/micromamba/envs/aineuro/lib/python3.12/site-packages/nilearn/image/resampling.py:468: FutureWarning: 'force_resample' will be set to 'True' by default in Nilearn 0.13.0. \n",
      "Use 'force_resample=True' to suppress this warning.\n",
      "  force_resample = _check_force_resample(force_resample)\n"
     ]
    },
    {
     "name": "stdout",
     "output_type": "stream",
     "text": [
      "[NiftiMasker.wrapped] Resampling images\n"
     ]
    },
    {
     "name": "stderr",
     "output_type": "stream",
     "text": [
      "/Users/poldrack/micromamba/envs/aineuro/lib/python3.12/site-packages/nilearn/maskers/nifti_masker.py:113: UserWarning: imgs are being resampled to the mask_img resolution. This process is memory intensive. You might want to provide a target_affine that is equal to the affine of the imgs or resample the mask beforehand to save memory and computation time.\n",
      "  warnings.warn(\n",
      "/Users/poldrack/micromamba/envs/aineuro/lib/python3.12/site-packages/nilearn/image/resampling.py:468: FutureWarning: 'force_resample' will be set to 'True' by default in Nilearn 0.13.0. \n",
      "Use 'force_resample=True' to suppress this warning.\n",
      "  force_resample = _check_force_resample(force_resample)\n"
     ]
    },
    {
     "name": "stdout",
     "output_type": "stream",
     "text": [
      "[NiftiMasker.wrapped] Resampling images\n"
     ]
    },
    {
     "name": "stderr",
     "output_type": "stream",
     "text": [
      "/Users/poldrack/micromamba/envs/aineuro/lib/python3.12/site-packages/nilearn/maskers/nifti_masker.py:113: UserWarning: imgs are being resampled to the mask_img resolution. This process is memory intensive. You might want to provide a target_affine that is equal to the affine of the imgs or resample the mask beforehand to save memory and computation time.\n",
      "  warnings.warn(\n",
      "/Users/poldrack/micromamba/envs/aineuro/lib/python3.12/site-packages/nilearn/image/resampling.py:468: FutureWarning: 'force_resample' will be set to 'True' by default in Nilearn 0.13.0. \n",
      "Use 'force_resample=True' to suppress this warning.\n",
      "  force_resample = _check_force_resample(force_resample)\n"
     ]
    },
    {
     "name": "stdout",
     "output_type": "stream",
     "text": [
      "[NiftiMasker.wrapped] Resampling images\n",
      "Processing subject 4\n"
     ]
    },
    {
     "name": "stderr",
     "output_type": "stream",
     "text": [
      "/Users/poldrack/micromamba/envs/aineuro/lib/python3.12/site-packages/nilearn/maskers/nifti_masker.py:113: UserWarning: imgs are being resampled to the mask_img resolution. This process is memory intensive. You might want to provide a target_affine that is equal to the affine of the imgs or resample the mask beforehand to save memory and computation time.\n",
      "  warnings.warn(\n",
      "/Users/poldrack/micromamba/envs/aineuro/lib/python3.12/site-packages/nilearn/image/resampling.py:468: FutureWarning: 'force_resample' will be set to 'True' by default in Nilearn 0.13.0. \n",
      "Use 'force_resample=True' to suppress this warning.\n",
      "  force_resample = _check_force_resample(force_resample)\n"
     ]
    },
    {
     "name": "stdout",
     "output_type": "stream",
     "text": [
      "[NiftiMasker.wrapped] Resampling images\n"
     ]
    },
    {
     "name": "stderr",
     "output_type": "stream",
     "text": [
      "/Users/poldrack/micromamba/envs/aineuro/lib/python3.12/site-packages/nilearn/maskers/nifti_masker.py:113: UserWarning: imgs are being resampled to the mask_img resolution. This process is memory intensive. You might want to provide a target_affine that is equal to the affine of the imgs or resample the mask beforehand to save memory and computation time.\n",
      "  warnings.warn(\n",
      "/Users/poldrack/micromamba/envs/aineuro/lib/python3.12/site-packages/nilearn/image/resampling.py:468: FutureWarning: 'force_resample' will be set to 'True' by default in Nilearn 0.13.0. \n",
      "Use 'force_resample=True' to suppress this warning.\n",
      "  force_resample = _check_force_resample(force_resample)\n"
     ]
    },
    {
     "name": "stdout",
     "output_type": "stream",
     "text": [
      "[NiftiMasker.wrapped] Resampling images\n"
     ]
    },
    {
     "name": "stderr",
     "output_type": "stream",
     "text": [
      "/Users/poldrack/micromamba/envs/aineuro/lib/python3.12/site-packages/nilearn/maskers/nifti_masker.py:113: UserWarning: imgs are being resampled to the mask_img resolution. This process is memory intensive. You might want to provide a target_affine that is equal to the affine of the imgs or resample the mask beforehand to save memory and computation time.\n",
      "  warnings.warn(\n",
      "/Users/poldrack/micromamba/envs/aineuro/lib/python3.12/site-packages/nilearn/image/resampling.py:468: FutureWarning: 'force_resample' will be set to 'True' by default in Nilearn 0.13.0. \n",
      "Use 'force_resample=True' to suppress this warning.\n",
      "  force_resample = _check_force_resample(force_resample)\n"
     ]
    },
    {
     "name": "stdout",
     "output_type": "stream",
     "text": [
      "[NiftiMasker.wrapped] Resampling images\n"
     ]
    },
    {
     "name": "stderr",
     "output_type": "stream",
     "text": [
      "/Users/poldrack/micromamba/envs/aineuro/lib/python3.12/site-packages/nilearn/maskers/nifti_masker.py:113: UserWarning: imgs are being resampled to the mask_img resolution. This process is memory intensive. You might want to provide a target_affine that is equal to the affine of the imgs or resample the mask beforehand to save memory and computation time.\n",
      "  warnings.warn(\n",
      "/Users/poldrack/micromamba/envs/aineuro/lib/python3.12/site-packages/nilearn/image/resampling.py:468: FutureWarning: 'force_resample' will be set to 'True' by default in Nilearn 0.13.0. \n",
      "Use 'force_resample=True' to suppress this warning.\n",
      "  force_resample = _check_force_resample(force_resample)\n"
     ]
    },
    {
     "name": "stdout",
     "output_type": "stream",
     "text": [
      "[NiftiMasker.wrapped] Resampling images\n"
     ]
    },
    {
     "name": "stderr",
     "output_type": "stream",
     "text": [
      "/Users/poldrack/micromamba/envs/aineuro/lib/python3.12/site-packages/nilearn/maskers/nifti_masker.py:113: UserWarning: imgs are being resampled to the mask_img resolution. This process is memory intensive. You might want to provide a target_affine that is equal to the affine of the imgs or resample the mask beforehand to save memory and computation time.\n",
      "  warnings.warn(\n",
      "/Users/poldrack/micromamba/envs/aineuro/lib/python3.12/site-packages/nilearn/image/resampling.py:468: FutureWarning: 'force_resample' will be set to 'True' by default in Nilearn 0.13.0. \n",
      "Use 'force_resample=True' to suppress this warning.\n",
      "  force_resample = _check_force_resample(force_resample)\n"
     ]
    },
    {
     "name": "stdout",
     "output_type": "stream",
     "text": [
      "[NiftiMasker.wrapped] Resampling images\n"
     ]
    },
    {
     "name": "stderr",
     "output_type": "stream",
     "text": [
      "/Users/poldrack/micromamba/envs/aineuro/lib/python3.12/site-packages/nilearn/maskers/nifti_masker.py:113: UserWarning: imgs are being resampled to the mask_img resolution. This process is memory intensive. You might want to provide a target_affine that is equal to the affine of the imgs or resample the mask beforehand to save memory and computation time.\n",
      "  warnings.warn(\n",
      "/Users/poldrack/micromamba/envs/aineuro/lib/python3.12/site-packages/nilearn/image/resampling.py:468: FutureWarning: 'force_resample' will be set to 'True' by default in Nilearn 0.13.0. \n",
      "Use 'force_resample=True' to suppress this warning.\n",
      "  force_resample = _check_force_resample(force_resample)\n"
     ]
    },
    {
     "name": "stdout",
     "output_type": "stream",
     "text": [
      "[NiftiMasker.wrapped] Resampling images\n"
     ]
    },
    {
     "name": "stderr",
     "output_type": "stream",
     "text": [
      "/Users/poldrack/micromamba/envs/aineuro/lib/python3.12/site-packages/nilearn/maskers/nifti_masker.py:113: UserWarning: imgs are being resampled to the mask_img resolution. This process is memory intensive. You might want to provide a target_affine that is equal to the affine of the imgs or resample the mask beforehand to save memory and computation time.\n",
      "  warnings.warn(\n",
      "/Users/poldrack/micromamba/envs/aineuro/lib/python3.12/site-packages/nilearn/image/resampling.py:468: FutureWarning: 'force_resample' will be set to 'True' by default in Nilearn 0.13.0. \n",
      "Use 'force_resample=True' to suppress this warning.\n",
      "  force_resample = _check_force_resample(force_resample)\n"
     ]
    },
    {
     "name": "stdout",
     "output_type": "stream",
     "text": [
      "[NiftiMasker.wrapped] Resampling images\n"
     ]
    },
    {
     "name": "stderr",
     "output_type": "stream",
     "text": [
      "/Users/poldrack/micromamba/envs/aineuro/lib/python3.12/site-packages/nilearn/maskers/nifti_masker.py:113: UserWarning: imgs are being resampled to the mask_img resolution. This process is memory intensive. You might want to provide a target_affine that is equal to the affine of the imgs or resample the mask beforehand to save memory and computation time.\n",
      "  warnings.warn(\n",
      "/Users/poldrack/micromamba/envs/aineuro/lib/python3.12/site-packages/nilearn/image/resampling.py:468: FutureWarning: 'force_resample' will be set to 'True' by default in Nilearn 0.13.0. \n",
      "Use 'force_resample=True' to suppress this warning.\n",
      "  force_resample = _check_force_resample(force_resample)\n"
     ]
    },
    {
     "name": "stdout",
     "output_type": "stream",
     "text": [
      "[NiftiMasker.wrapped] Resampling images\n"
     ]
    },
    {
     "name": "stderr",
     "output_type": "stream",
     "text": [
      "/Users/poldrack/micromamba/envs/aineuro/lib/python3.12/site-packages/nilearn/maskers/nifti_masker.py:113: UserWarning: imgs are being resampled to the mask_img resolution. This process is memory intensive. You might want to provide a target_affine that is equal to the affine of the imgs or resample the mask beforehand to save memory and computation time.\n",
      "  warnings.warn(\n",
      "/Users/poldrack/micromamba/envs/aineuro/lib/python3.12/site-packages/nilearn/image/resampling.py:468: FutureWarning: 'force_resample' will be set to 'True' by default in Nilearn 0.13.0. \n",
      "Use 'force_resample=True' to suppress this warning.\n",
      "  force_resample = _check_force_resample(force_resample)\n"
     ]
    },
    {
     "name": "stdout",
     "output_type": "stream",
     "text": [
      "[NiftiMasker.wrapped] Resampling images\n"
     ]
    },
    {
     "name": "stderr",
     "output_type": "stream",
     "text": [
      "/Users/poldrack/micromamba/envs/aineuro/lib/python3.12/site-packages/nilearn/maskers/nifti_masker.py:113: UserWarning: imgs are being resampled to the mask_img resolution. This process is memory intensive. You might want to provide a target_affine that is equal to the affine of the imgs or resample the mask beforehand to save memory and computation time.\n",
      "  warnings.warn(\n",
      "/Users/poldrack/micromamba/envs/aineuro/lib/python3.12/site-packages/nilearn/image/resampling.py:468: FutureWarning: 'force_resample' will be set to 'True' by default in Nilearn 0.13.0. \n",
      "Use 'force_resample=True' to suppress this warning.\n",
      "  force_resample = _check_force_resample(force_resample)\n"
     ]
    },
    {
     "name": "stdout",
     "output_type": "stream",
     "text": [
      "[NiftiMasker.wrapped] Resampling images\n"
     ]
    },
    {
     "name": "stderr",
     "output_type": "stream",
     "text": [
      "/Users/poldrack/micromamba/envs/aineuro/lib/python3.12/site-packages/nilearn/maskers/nifti_masker.py:113: UserWarning: imgs are being resampled to the mask_img resolution. This process is memory intensive. You might want to provide a target_affine that is equal to the affine of the imgs or resample the mask beforehand to save memory and computation time.\n",
      "  warnings.warn(\n",
      "/Users/poldrack/micromamba/envs/aineuro/lib/python3.12/site-packages/nilearn/image/resampling.py:468: FutureWarning: 'force_resample' will be set to 'True' by default in Nilearn 0.13.0. \n",
      "Use 'force_resample=True' to suppress this warning.\n",
      "  force_resample = _check_force_resample(force_resample)\n"
     ]
    },
    {
     "name": "stdout",
     "output_type": "stream",
     "text": [
      "[NiftiMasker.wrapped] Resampling images\n"
     ]
    },
    {
     "name": "stderr",
     "output_type": "stream",
     "text": [
      "/Users/poldrack/micromamba/envs/aineuro/lib/python3.12/site-packages/nilearn/maskers/nifti_masker.py:113: UserWarning: imgs are being resampled to the mask_img resolution. This process is memory intensive. You might want to provide a target_affine that is equal to the affine of the imgs or resample the mask beforehand to save memory and computation time.\n",
      "  warnings.warn(\n",
      "/Users/poldrack/micromamba/envs/aineuro/lib/python3.12/site-packages/nilearn/image/resampling.py:468: FutureWarning: 'force_resample' will be set to 'True' by default in Nilearn 0.13.0. \n",
      "Use 'force_resample=True' to suppress this warning.\n",
      "  force_resample = _check_force_resample(force_resample)\n"
     ]
    },
    {
     "name": "stdout",
     "output_type": "stream",
     "text": [
      "[NiftiMasker.wrapped] Resampling images\n"
     ]
    },
    {
     "name": "stderr",
     "output_type": "stream",
     "text": [
      "/Users/poldrack/micromamba/envs/aineuro/lib/python3.12/site-packages/nilearn/maskers/nifti_masker.py:113: UserWarning: imgs are being resampled to the mask_img resolution. This process is memory intensive. You might want to provide a target_affine that is equal to the affine of the imgs or resample the mask beforehand to save memory and computation time.\n",
      "  warnings.warn(\n",
      "/Users/poldrack/micromamba/envs/aineuro/lib/python3.12/site-packages/nilearn/image/resampling.py:468: FutureWarning: 'force_resample' will be set to 'True' by default in Nilearn 0.13.0. \n",
      "Use 'force_resample=True' to suppress this warning.\n",
      "  force_resample = _check_force_resample(force_resample)\n"
     ]
    },
    {
     "name": "stdout",
     "output_type": "stream",
     "text": [
      "[NiftiMasker.wrapped] Resampling images\n"
     ]
    },
    {
     "name": "stderr",
     "output_type": "stream",
     "text": [
      "/Users/poldrack/micromamba/envs/aineuro/lib/python3.12/site-packages/nilearn/maskers/nifti_masker.py:113: UserWarning: imgs are being resampled to the mask_img resolution. This process is memory intensive. You might want to provide a target_affine that is equal to the affine of the imgs or resample the mask beforehand to save memory and computation time.\n",
      "  warnings.warn(\n",
      "/Users/poldrack/micromamba/envs/aineuro/lib/python3.12/site-packages/nilearn/image/resampling.py:468: FutureWarning: 'force_resample' will be set to 'True' by default in Nilearn 0.13.0. \n",
      "Use 'force_resample=True' to suppress this warning.\n",
      "  force_resample = _check_force_resample(force_resample)\n"
     ]
    },
    {
     "name": "stdout",
     "output_type": "stream",
     "text": [
      "[NiftiMasker.wrapped] Resampling images\n"
     ]
    },
    {
     "name": "stderr",
     "output_type": "stream",
     "text": [
      "/Users/poldrack/micromamba/envs/aineuro/lib/python3.12/site-packages/nilearn/maskers/nifti_masker.py:113: UserWarning: imgs are being resampled to the mask_img resolution. This process is memory intensive. You might want to provide a target_affine that is equal to the affine of the imgs or resample the mask beforehand to save memory and computation time.\n",
      "  warnings.warn(\n",
      "/Users/poldrack/micromamba/envs/aineuro/lib/python3.12/site-packages/nilearn/image/resampling.py:468: FutureWarning: 'force_resample' will be set to 'True' by default in Nilearn 0.13.0. \n",
      "Use 'force_resample=True' to suppress this warning.\n",
      "  force_resample = _check_force_resample(force_resample)\n"
     ]
    },
    {
     "name": "stdout",
     "output_type": "stream",
     "text": [
      "[NiftiMasker.wrapped] Resampling images\n"
     ]
    },
    {
     "name": "stderr",
     "output_type": "stream",
     "text": [
      "/Users/poldrack/micromamba/envs/aineuro/lib/python3.12/site-packages/nilearn/maskers/nifti_masker.py:113: UserWarning: imgs are being resampled to the mask_img resolution. This process is memory intensive. You might want to provide a target_affine that is equal to the affine of the imgs or resample the mask beforehand to save memory and computation time.\n",
      "  warnings.warn(\n",
      "/Users/poldrack/micromamba/envs/aineuro/lib/python3.12/site-packages/nilearn/image/resampling.py:468: FutureWarning: 'force_resample' will be set to 'True' by default in Nilearn 0.13.0. \n",
      "Use 'force_resample=True' to suppress this warning.\n",
      "  force_resample = _check_force_resample(force_resample)\n"
     ]
    },
    {
     "name": "stdout",
     "output_type": "stream",
     "text": [
      "[NiftiMasker.wrapped] Resampling images\n"
     ]
    },
    {
     "name": "stderr",
     "output_type": "stream",
     "text": [
      "/Users/poldrack/micromamba/envs/aineuro/lib/python3.12/site-packages/nilearn/maskers/nifti_masker.py:113: UserWarning: imgs are being resampled to the mask_img resolution. This process is memory intensive. You might want to provide a target_affine that is equal to the affine of the imgs or resample the mask beforehand to save memory and computation time.\n",
      "  warnings.warn(\n",
      "/Users/poldrack/micromamba/envs/aineuro/lib/python3.12/site-packages/nilearn/image/resampling.py:468: FutureWarning: 'force_resample' will be set to 'True' by default in Nilearn 0.13.0. \n",
      "Use 'force_resample=True' to suppress this warning.\n",
      "  force_resample = _check_force_resample(force_resample)\n"
     ]
    },
    {
     "name": "stdout",
     "output_type": "stream",
     "text": [
      "[NiftiMasker.wrapped] Resampling images\n"
     ]
    },
    {
     "name": "stderr",
     "output_type": "stream",
     "text": [
      "/Users/poldrack/micromamba/envs/aineuro/lib/python3.12/site-packages/nilearn/maskers/nifti_masker.py:113: UserWarning: imgs are being resampled to the mask_img resolution. This process is memory intensive. You might want to provide a target_affine that is equal to the affine of the imgs or resample the mask beforehand to save memory and computation time.\n",
      "  warnings.warn(\n",
      "/Users/poldrack/micromamba/envs/aineuro/lib/python3.12/site-packages/nilearn/image/resampling.py:468: FutureWarning: 'force_resample' will be set to 'True' by default in Nilearn 0.13.0. \n",
      "Use 'force_resample=True' to suppress this warning.\n",
      "  force_resample = _check_force_resample(force_resample)\n"
     ]
    },
    {
     "name": "stdout",
     "output_type": "stream",
     "text": [
      "[NiftiMasker.wrapped] Resampling images\n"
     ]
    },
    {
     "name": "stderr",
     "output_type": "stream",
     "text": [
      "/Users/poldrack/micromamba/envs/aineuro/lib/python3.12/site-packages/nilearn/maskers/nifti_masker.py:113: UserWarning: imgs are being resampled to the mask_img resolution. This process is memory intensive. You might want to provide a target_affine that is equal to the affine of the imgs or resample the mask beforehand to save memory and computation time.\n",
      "  warnings.warn(\n",
      "/Users/poldrack/micromamba/envs/aineuro/lib/python3.12/site-packages/nilearn/image/resampling.py:468: FutureWarning: 'force_resample' will be set to 'True' by default in Nilearn 0.13.0. \n",
      "Use 'force_resample=True' to suppress this warning.\n",
      "  force_resample = _check_force_resample(force_resample)\n"
     ]
    },
    {
     "name": "stdout",
     "output_type": "stream",
     "text": [
      "[NiftiMasker.wrapped] Resampling images\n"
     ]
    },
    {
     "name": "stderr",
     "output_type": "stream",
     "text": [
      "/Users/poldrack/micromamba/envs/aineuro/lib/python3.12/site-packages/nilearn/maskers/nifti_masker.py:113: UserWarning: imgs are being resampled to the mask_img resolution. This process is memory intensive. You might want to provide a target_affine that is equal to the affine of the imgs or resample the mask beforehand to save memory and computation time.\n",
      "  warnings.warn(\n",
      "/Users/poldrack/micromamba/envs/aineuro/lib/python3.12/site-packages/nilearn/image/resampling.py:468: FutureWarning: 'force_resample' will be set to 'True' by default in Nilearn 0.13.0. \n",
      "Use 'force_resample=True' to suppress this warning.\n",
      "  force_resample = _check_force_resample(force_resample)\n"
     ]
    },
    {
     "name": "stdout",
     "output_type": "stream",
     "text": [
      "[NiftiMasker.wrapped] Resampling images\n"
     ]
    },
    {
     "name": "stderr",
     "output_type": "stream",
     "text": [
      "/Users/poldrack/micromamba/envs/aineuro/lib/python3.12/site-packages/nilearn/maskers/nifti_masker.py:113: UserWarning: imgs are being resampled to the mask_img resolution. This process is memory intensive. You might want to provide a target_affine that is equal to the affine of the imgs or resample the mask beforehand to save memory and computation time.\n",
      "  warnings.warn(\n",
      "/Users/poldrack/micromamba/envs/aineuro/lib/python3.12/site-packages/nilearn/image/resampling.py:468: FutureWarning: 'force_resample' will be set to 'True' by default in Nilearn 0.13.0. \n",
      "Use 'force_resample=True' to suppress this warning.\n",
      "  force_resample = _check_force_resample(force_resample)\n"
     ]
    },
    {
     "name": "stdout",
     "output_type": "stream",
     "text": [
      "[NiftiMasker.wrapped] Resampling images\n"
     ]
    },
    {
     "name": "stderr",
     "output_type": "stream",
     "text": [
      "/Users/poldrack/micromamba/envs/aineuro/lib/python3.12/site-packages/nilearn/maskers/nifti_masker.py:113: UserWarning: imgs are being resampled to the mask_img resolution. This process is memory intensive. You might want to provide a target_affine that is equal to the affine of the imgs or resample the mask beforehand to save memory and computation time.\n",
      "  warnings.warn(\n",
      "/Users/poldrack/micromamba/envs/aineuro/lib/python3.12/site-packages/nilearn/image/resampling.py:468: FutureWarning: 'force_resample' will be set to 'True' by default in Nilearn 0.13.0. \n",
      "Use 'force_resample=True' to suppress this warning.\n",
      "  force_resample = _check_force_resample(force_resample)\n"
     ]
    },
    {
     "name": "stdout",
     "output_type": "stream",
     "text": [
      "[NiftiMasker.wrapped] Resampling images\n"
     ]
    },
    {
     "name": "stderr",
     "output_type": "stream",
     "text": [
      "/Users/poldrack/micromamba/envs/aineuro/lib/python3.12/site-packages/nilearn/maskers/nifti_masker.py:113: UserWarning: imgs are being resampled to the mask_img resolution. This process is memory intensive. You might want to provide a target_affine that is equal to the affine of the imgs or resample the mask beforehand to save memory and computation time.\n",
      "  warnings.warn(\n",
      "/Users/poldrack/micromamba/envs/aineuro/lib/python3.12/site-packages/nilearn/image/resampling.py:468: FutureWarning: 'force_resample' will be set to 'True' by default in Nilearn 0.13.0. \n",
      "Use 'force_resample=True' to suppress this warning.\n",
      "  force_resample = _check_force_resample(force_resample)\n"
     ]
    },
    {
     "name": "stdout",
     "output_type": "stream",
     "text": [
      "[NiftiMasker.wrapped] Resampling images\n"
     ]
    },
    {
     "name": "stderr",
     "output_type": "stream",
     "text": [
      "/Users/poldrack/micromamba/envs/aineuro/lib/python3.12/site-packages/nilearn/maskers/nifti_masker.py:113: UserWarning: imgs are being resampled to the mask_img resolution. This process is memory intensive. You might want to provide a target_affine that is equal to the affine of the imgs or resample the mask beforehand to save memory and computation time.\n",
      "  warnings.warn(\n",
      "/Users/poldrack/micromamba/envs/aineuro/lib/python3.12/site-packages/nilearn/image/resampling.py:468: FutureWarning: 'force_resample' will be set to 'True' by default in Nilearn 0.13.0. \n",
      "Use 'force_resample=True' to suppress this warning.\n",
      "  force_resample = _check_force_resample(force_resample)\n"
     ]
    },
    {
     "name": "stdout",
     "output_type": "stream",
     "text": [
      "[NiftiMasker.wrapped] Resampling images\n",
      "Processing subject 5\n"
     ]
    },
    {
     "name": "stderr",
     "output_type": "stream",
     "text": [
      "/Users/poldrack/micromamba/envs/aineuro/lib/python3.12/site-packages/nilearn/maskers/nifti_masker.py:113: UserWarning: imgs are being resampled to the mask_img resolution. This process is memory intensive. You might want to provide a target_affine that is equal to the affine of the imgs or resample the mask beforehand to save memory and computation time.\n",
      "  warnings.warn(\n",
      "/Users/poldrack/micromamba/envs/aineuro/lib/python3.12/site-packages/nilearn/image/resampling.py:468: FutureWarning: 'force_resample' will be set to 'True' by default in Nilearn 0.13.0. \n",
      "Use 'force_resample=True' to suppress this warning.\n",
      "  force_resample = _check_force_resample(force_resample)\n"
     ]
    },
    {
     "name": "stdout",
     "output_type": "stream",
     "text": [
      "[NiftiMasker.wrapped] Resampling images\n"
     ]
    },
    {
     "name": "stderr",
     "output_type": "stream",
     "text": [
      "/Users/poldrack/micromamba/envs/aineuro/lib/python3.12/site-packages/nilearn/maskers/nifti_masker.py:113: UserWarning: imgs are being resampled to the mask_img resolution. This process is memory intensive. You might want to provide a target_affine that is equal to the affine of the imgs or resample the mask beforehand to save memory and computation time.\n",
      "  warnings.warn(\n",
      "/Users/poldrack/micromamba/envs/aineuro/lib/python3.12/site-packages/nilearn/image/resampling.py:468: FutureWarning: 'force_resample' will be set to 'True' by default in Nilearn 0.13.0. \n",
      "Use 'force_resample=True' to suppress this warning.\n",
      "  force_resample = _check_force_resample(force_resample)\n"
     ]
    },
    {
     "name": "stdout",
     "output_type": "stream",
     "text": [
      "[NiftiMasker.wrapped] Resampling images\n"
     ]
    },
    {
     "name": "stderr",
     "output_type": "stream",
     "text": [
      "/Users/poldrack/micromamba/envs/aineuro/lib/python3.12/site-packages/nilearn/maskers/nifti_masker.py:113: UserWarning: imgs are being resampled to the mask_img resolution. This process is memory intensive. You might want to provide a target_affine that is equal to the affine of the imgs or resample the mask beforehand to save memory and computation time.\n",
      "  warnings.warn(\n",
      "/Users/poldrack/micromamba/envs/aineuro/lib/python3.12/site-packages/nilearn/image/resampling.py:468: FutureWarning: 'force_resample' will be set to 'True' by default in Nilearn 0.13.0. \n",
      "Use 'force_resample=True' to suppress this warning.\n",
      "  force_resample = _check_force_resample(force_resample)\n"
     ]
    },
    {
     "name": "stdout",
     "output_type": "stream",
     "text": [
      "[NiftiMasker.wrapped] Resampling images\n"
     ]
    },
    {
     "name": "stderr",
     "output_type": "stream",
     "text": [
      "/Users/poldrack/micromamba/envs/aineuro/lib/python3.12/site-packages/nilearn/maskers/nifti_masker.py:113: UserWarning: imgs are being resampled to the mask_img resolution. This process is memory intensive. You might want to provide a target_affine that is equal to the affine of the imgs or resample the mask beforehand to save memory and computation time.\n",
      "  warnings.warn(\n",
      "/Users/poldrack/micromamba/envs/aineuro/lib/python3.12/site-packages/nilearn/image/resampling.py:468: FutureWarning: 'force_resample' will be set to 'True' by default in Nilearn 0.13.0. \n",
      "Use 'force_resample=True' to suppress this warning.\n",
      "  force_resample = _check_force_resample(force_resample)\n"
     ]
    },
    {
     "name": "stdout",
     "output_type": "stream",
     "text": [
      "[NiftiMasker.wrapped] Resampling images\n"
     ]
    },
    {
     "name": "stderr",
     "output_type": "stream",
     "text": [
      "/Users/poldrack/micromamba/envs/aineuro/lib/python3.12/site-packages/nilearn/maskers/nifti_masker.py:113: UserWarning: imgs are being resampled to the mask_img resolution. This process is memory intensive. You might want to provide a target_affine that is equal to the affine of the imgs or resample the mask beforehand to save memory and computation time.\n",
      "  warnings.warn(\n",
      "/Users/poldrack/micromamba/envs/aineuro/lib/python3.12/site-packages/nilearn/image/resampling.py:468: FutureWarning: 'force_resample' will be set to 'True' by default in Nilearn 0.13.0. \n",
      "Use 'force_resample=True' to suppress this warning.\n",
      "  force_resample = _check_force_resample(force_resample)\n"
     ]
    },
    {
     "name": "stdout",
     "output_type": "stream",
     "text": [
      "[NiftiMasker.wrapped] Resampling images\n"
     ]
    },
    {
     "name": "stderr",
     "output_type": "stream",
     "text": [
      "/Users/poldrack/micromamba/envs/aineuro/lib/python3.12/site-packages/nilearn/maskers/nifti_masker.py:113: UserWarning: imgs are being resampled to the mask_img resolution. This process is memory intensive. You might want to provide a target_affine that is equal to the affine of the imgs or resample the mask beforehand to save memory and computation time.\n",
      "  warnings.warn(\n",
      "/Users/poldrack/micromamba/envs/aineuro/lib/python3.12/site-packages/nilearn/image/resampling.py:468: FutureWarning: 'force_resample' will be set to 'True' by default in Nilearn 0.13.0. \n",
      "Use 'force_resample=True' to suppress this warning.\n",
      "  force_resample = _check_force_resample(force_resample)\n"
     ]
    },
    {
     "name": "stdout",
     "output_type": "stream",
     "text": [
      "[NiftiMasker.wrapped] Resampling images\n"
     ]
    },
    {
     "name": "stderr",
     "output_type": "stream",
     "text": [
      "/Users/poldrack/micromamba/envs/aineuro/lib/python3.12/site-packages/nilearn/maskers/nifti_masker.py:113: UserWarning: imgs are being resampled to the mask_img resolution. This process is memory intensive. You might want to provide a target_affine that is equal to the affine of the imgs or resample the mask beforehand to save memory and computation time.\n",
      "  warnings.warn(\n",
      "/Users/poldrack/micromamba/envs/aineuro/lib/python3.12/site-packages/nilearn/image/resampling.py:468: FutureWarning: 'force_resample' will be set to 'True' by default in Nilearn 0.13.0. \n",
      "Use 'force_resample=True' to suppress this warning.\n",
      "  force_resample = _check_force_resample(force_resample)\n"
     ]
    },
    {
     "name": "stdout",
     "output_type": "stream",
     "text": [
      "[NiftiMasker.wrapped] Resampling images\n"
     ]
    },
    {
     "name": "stderr",
     "output_type": "stream",
     "text": [
      "/Users/poldrack/micromamba/envs/aineuro/lib/python3.12/site-packages/nilearn/maskers/nifti_masker.py:113: UserWarning: imgs are being resampled to the mask_img resolution. This process is memory intensive. You might want to provide a target_affine that is equal to the affine of the imgs or resample the mask beforehand to save memory and computation time.\n",
      "  warnings.warn(\n",
      "/Users/poldrack/micromamba/envs/aineuro/lib/python3.12/site-packages/nilearn/image/resampling.py:468: FutureWarning: 'force_resample' will be set to 'True' by default in Nilearn 0.13.0. \n",
      "Use 'force_resample=True' to suppress this warning.\n",
      "  force_resample = _check_force_resample(force_resample)\n"
     ]
    },
    {
     "name": "stdout",
     "output_type": "stream",
     "text": [
      "[NiftiMasker.wrapped] Resampling images\n"
     ]
    },
    {
     "name": "stderr",
     "output_type": "stream",
     "text": [
      "/Users/poldrack/micromamba/envs/aineuro/lib/python3.12/site-packages/nilearn/maskers/nifti_masker.py:113: UserWarning: imgs are being resampled to the mask_img resolution. This process is memory intensive. You might want to provide a target_affine that is equal to the affine of the imgs or resample the mask beforehand to save memory and computation time.\n",
      "  warnings.warn(\n",
      "/Users/poldrack/micromamba/envs/aineuro/lib/python3.12/site-packages/nilearn/image/resampling.py:468: FutureWarning: 'force_resample' will be set to 'True' by default in Nilearn 0.13.0. \n",
      "Use 'force_resample=True' to suppress this warning.\n",
      "  force_resample = _check_force_resample(force_resample)\n"
     ]
    },
    {
     "name": "stdout",
     "output_type": "stream",
     "text": [
      "[NiftiMasker.wrapped] Resampling images\n"
     ]
    },
    {
     "name": "stderr",
     "output_type": "stream",
     "text": [
      "/Users/poldrack/micromamba/envs/aineuro/lib/python3.12/site-packages/nilearn/maskers/nifti_masker.py:113: UserWarning: imgs are being resampled to the mask_img resolution. This process is memory intensive. You might want to provide a target_affine that is equal to the affine of the imgs or resample the mask beforehand to save memory and computation time.\n",
      "  warnings.warn(\n",
      "/Users/poldrack/micromamba/envs/aineuro/lib/python3.12/site-packages/nilearn/image/resampling.py:468: FutureWarning: 'force_resample' will be set to 'True' by default in Nilearn 0.13.0. \n",
      "Use 'force_resample=True' to suppress this warning.\n",
      "  force_resample = _check_force_resample(force_resample)\n"
     ]
    },
    {
     "name": "stdout",
     "output_type": "stream",
     "text": [
      "[NiftiMasker.wrapped] Resampling images\n"
     ]
    },
    {
     "name": "stderr",
     "output_type": "stream",
     "text": [
      "/Users/poldrack/micromamba/envs/aineuro/lib/python3.12/site-packages/nilearn/maskers/nifti_masker.py:113: UserWarning: imgs are being resampled to the mask_img resolution. This process is memory intensive. You might want to provide a target_affine that is equal to the affine of the imgs or resample the mask beforehand to save memory and computation time.\n",
      "  warnings.warn(\n",
      "/Users/poldrack/micromamba/envs/aineuro/lib/python3.12/site-packages/nilearn/image/resampling.py:468: FutureWarning: 'force_resample' will be set to 'True' by default in Nilearn 0.13.0. \n",
      "Use 'force_resample=True' to suppress this warning.\n",
      "  force_resample = _check_force_resample(force_resample)\n"
     ]
    },
    {
     "name": "stdout",
     "output_type": "stream",
     "text": [
      "[NiftiMasker.wrapped] Resampling images\n"
     ]
    },
    {
     "name": "stderr",
     "output_type": "stream",
     "text": [
      "/Users/poldrack/micromamba/envs/aineuro/lib/python3.12/site-packages/nilearn/maskers/nifti_masker.py:113: UserWarning: imgs are being resampled to the mask_img resolution. This process is memory intensive. You might want to provide a target_affine that is equal to the affine of the imgs or resample the mask beforehand to save memory and computation time.\n",
      "  warnings.warn(\n",
      "/Users/poldrack/micromamba/envs/aineuro/lib/python3.12/site-packages/nilearn/image/resampling.py:468: FutureWarning: 'force_resample' will be set to 'True' by default in Nilearn 0.13.0. \n",
      "Use 'force_resample=True' to suppress this warning.\n",
      "  force_resample = _check_force_resample(force_resample)\n"
     ]
    },
    {
     "name": "stdout",
     "output_type": "stream",
     "text": [
      "[NiftiMasker.wrapped] Resampling images\n"
     ]
    },
    {
     "name": "stderr",
     "output_type": "stream",
     "text": [
      "/Users/poldrack/micromamba/envs/aineuro/lib/python3.12/site-packages/nilearn/maskers/nifti_masker.py:113: UserWarning: imgs are being resampled to the mask_img resolution. This process is memory intensive. You might want to provide a target_affine that is equal to the affine of the imgs or resample the mask beforehand to save memory and computation time.\n",
      "  warnings.warn(\n",
      "/Users/poldrack/micromamba/envs/aineuro/lib/python3.12/site-packages/nilearn/image/resampling.py:468: FutureWarning: 'force_resample' will be set to 'True' by default in Nilearn 0.13.0. \n",
      "Use 'force_resample=True' to suppress this warning.\n",
      "  force_resample = _check_force_resample(force_resample)\n"
     ]
    },
    {
     "name": "stdout",
     "output_type": "stream",
     "text": [
      "[NiftiMasker.wrapped] Resampling images\n"
     ]
    },
    {
     "name": "stderr",
     "output_type": "stream",
     "text": [
      "/Users/poldrack/micromamba/envs/aineuro/lib/python3.12/site-packages/nilearn/maskers/nifti_masker.py:113: UserWarning: imgs are being resampled to the mask_img resolution. This process is memory intensive. You might want to provide a target_affine that is equal to the affine of the imgs or resample the mask beforehand to save memory and computation time.\n",
      "  warnings.warn(\n",
      "/Users/poldrack/micromamba/envs/aineuro/lib/python3.12/site-packages/nilearn/image/resampling.py:468: FutureWarning: 'force_resample' will be set to 'True' by default in Nilearn 0.13.0. \n",
      "Use 'force_resample=True' to suppress this warning.\n",
      "  force_resample = _check_force_resample(force_resample)\n"
     ]
    },
    {
     "name": "stdout",
     "output_type": "stream",
     "text": [
      "[NiftiMasker.wrapped] Resampling images\n"
     ]
    },
    {
     "name": "stderr",
     "output_type": "stream",
     "text": [
      "/Users/poldrack/micromamba/envs/aineuro/lib/python3.12/site-packages/nilearn/maskers/nifti_masker.py:113: UserWarning: imgs are being resampled to the mask_img resolution. This process is memory intensive. You might want to provide a target_affine that is equal to the affine of the imgs or resample the mask beforehand to save memory and computation time.\n",
      "  warnings.warn(\n",
      "/Users/poldrack/micromamba/envs/aineuro/lib/python3.12/site-packages/nilearn/image/resampling.py:468: FutureWarning: 'force_resample' will be set to 'True' by default in Nilearn 0.13.0. \n",
      "Use 'force_resample=True' to suppress this warning.\n",
      "  force_resample = _check_force_resample(force_resample)\n"
     ]
    },
    {
     "name": "stdout",
     "output_type": "stream",
     "text": [
      "[NiftiMasker.wrapped] Resampling images\n"
     ]
    },
    {
     "name": "stderr",
     "output_type": "stream",
     "text": [
      "/Users/poldrack/micromamba/envs/aineuro/lib/python3.12/site-packages/nilearn/maskers/nifti_masker.py:113: UserWarning: imgs are being resampled to the mask_img resolution. This process is memory intensive. You might want to provide a target_affine that is equal to the affine of the imgs or resample the mask beforehand to save memory and computation time.\n",
      "  warnings.warn(\n",
      "/Users/poldrack/micromamba/envs/aineuro/lib/python3.12/site-packages/nilearn/image/resampling.py:468: FutureWarning: 'force_resample' will be set to 'True' by default in Nilearn 0.13.0. \n",
      "Use 'force_resample=True' to suppress this warning.\n",
      "  force_resample = _check_force_resample(force_resample)\n"
     ]
    },
    {
     "name": "stdout",
     "output_type": "stream",
     "text": [
      "[NiftiMasker.wrapped] Resampling images\n"
     ]
    },
    {
     "name": "stderr",
     "output_type": "stream",
     "text": [
      "/Users/poldrack/micromamba/envs/aineuro/lib/python3.12/site-packages/nilearn/maskers/nifti_masker.py:113: UserWarning: imgs are being resampled to the mask_img resolution. This process is memory intensive. You might want to provide a target_affine that is equal to the affine of the imgs or resample the mask beforehand to save memory and computation time.\n",
      "  warnings.warn(\n",
      "/Users/poldrack/micromamba/envs/aineuro/lib/python3.12/site-packages/nilearn/image/resampling.py:468: FutureWarning: 'force_resample' will be set to 'True' by default in Nilearn 0.13.0. \n",
      "Use 'force_resample=True' to suppress this warning.\n",
      "  force_resample = _check_force_resample(force_resample)\n"
     ]
    },
    {
     "name": "stdout",
     "output_type": "stream",
     "text": [
      "[NiftiMasker.wrapped] Resampling images\n"
     ]
    },
    {
     "name": "stderr",
     "output_type": "stream",
     "text": [
      "/Users/poldrack/micromamba/envs/aineuro/lib/python3.12/site-packages/nilearn/maskers/nifti_masker.py:113: UserWarning: imgs are being resampled to the mask_img resolution. This process is memory intensive. You might want to provide a target_affine that is equal to the affine of the imgs or resample the mask beforehand to save memory and computation time.\n",
      "  warnings.warn(\n",
      "/Users/poldrack/micromamba/envs/aineuro/lib/python3.12/site-packages/nilearn/image/resampling.py:468: FutureWarning: 'force_resample' will be set to 'True' by default in Nilearn 0.13.0. \n",
      "Use 'force_resample=True' to suppress this warning.\n",
      "  force_resample = _check_force_resample(force_resample)\n"
     ]
    },
    {
     "name": "stdout",
     "output_type": "stream",
     "text": [
      "[NiftiMasker.wrapped] Resampling images\n"
     ]
    },
    {
     "name": "stderr",
     "output_type": "stream",
     "text": [
      "/Users/poldrack/micromamba/envs/aineuro/lib/python3.12/site-packages/nilearn/maskers/nifti_masker.py:113: UserWarning: imgs are being resampled to the mask_img resolution. This process is memory intensive. You might want to provide a target_affine that is equal to the affine of the imgs or resample the mask beforehand to save memory and computation time.\n",
      "  warnings.warn(\n",
      "/Users/poldrack/micromamba/envs/aineuro/lib/python3.12/site-packages/nilearn/image/resampling.py:468: FutureWarning: 'force_resample' will be set to 'True' by default in Nilearn 0.13.0. \n",
      "Use 'force_resample=True' to suppress this warning.\n",
      "  force_resample = _check_force_resample(force_resample)\n"
     ]
    },
    {
     "name": "stdout",
     "output_type": "stream",
     "text": [
      "[NiftiMasker.wrapped] Resampling images\n"
     ]
    },
    {
     "name": "stderr",
     "output_type": "stream",
     "text": [
      "/Users/poldrack/micromamba/envs/aineuro/lib/python3.12/site-packages/nilearn/maskers/nifti_masker.py:113: UserWarning: imgs are being resampled to the mask_img resolution. This process is memory intensive. You might want to provide a target_affine that is equal to the affine of the imgs or resample the mask beforehand to save memory and computation time.\n",
      "  warnings.warn(\n",
      "/Users/poldrack/micromamba/envs/aineuro/lib/python3.12/site-packages/nilearn/image/resampling.py:468: FutureWarning: 'force_resample' will be set to 'True' by default in Nilearn 0.13.0. \n",
      "Use 'force_resample=True' to suppress this warning.\n",
      "  force_resample = _check_force_resample(force_resample)\n"
     ]
    },
    {
     "name": "stdout",
     "output_type": "stream",
     "text": [
      "[NiftiMasker.wrapped] Resampling images\n"
     ]
    },
    {
     "name": "stderr",
     "output_type": "stream",
     "text": [
      "/Users/poldrack/micromamba/envs/aineuro/lib/python3.12/site-packages/nilearn/maskers/nifti_masker.py:113: UserWarning: imgs are being resampled to the mask_img resolution. This process is memory intensive. You might want to provide a target_affine that is equal to the affine of the imgs or resample the mask beforehand to save memory and computation time.\n",
      "  warnings.warn(\n",
      "/Users/poldrack/micromamba/envs/aineuro/lib/python3.12/site-packages/nilearn/image/resampling.py:468: FutureWarning: 'force_resample' will be set to 'True' by default in Nilearn 0.13.0. \n",
      "Use 'force_resample=True' to suppress this warning.\n",
      "  force_resample = _check_force_resample(force_resample)\n"
     ]
    },
    {
     "name": "stdout",
     "output_type": "stream",
     "text": [
      "[NiftiMasker.wrapped] Resampling images\n"
     ]
    },
    {
     "name": "stderr",
     "output_type": "stream",
     "text": [
      "/Users/poldrack/micromamba/envs/aineuro/lib/python3.12/site-packages/nilearn/maskers/nifti_masker.py:113: UserWarning: imgs are being resampled to the mask_img resolution. This process is memory intensive. You might want to provide a target_affine that is equal to the affine of the imgs or resample the mask beforehand to save memory and computation time.\n",
      "  warnings.warn(\n",
      "/Users/poldrack/micromamba/envs/aineuro/lib/python3.12/site-packages/nilearn/image/resampling.py:468: FutureWarning: 'force_resample' will be set to 'True' by default in Nilearn 0.13.0. \n",
      "Use 'force_resample=True' to suppress this warning.\n",
      "  force_resample = _check_force_resample(force_resample)\n"
     ]
    },
    {
     "name": "stdout",
     "output_type": "stream",
     "text": [
      "[NiftiMasker.wrapped] Resampling images\n",
      "Processing subject 6\n"
     ]
    },
    {
     "name": "stderr",
     "output_type": "stream",
     "text": [
      "/Users/poldrack/micromamba/envs/aineuro/lib/python3.12/site-packages/nilearn/maskers/nifti_masker.py:113: UserWarning: imgs are being resampled to the mask_img resolution. This process is memory intensive. You might want to provide a target_affine that is equal to the affine of the imgs or resample the mask beforehand to save memory and computation time.\n",
      "  warnings.warn(\n",
      "/Users/poldrack/micromamba/envs/aineuro/lib/python3.12/site-packages/nilearn/image/resampling.py:468: FutureWarning: 'force_resample' will be set to 'True' by default in Nilearn 0.13.0. \n",
      "Use 'force_resample=True' to suppress this warning.\n",
      "  force_resample = _check_force_resample(force_resample)\n"
     ]
    },
    {
     "name": "stdout",
     "output_type": "stream",
     "text": [
      "[NiftiMasker.wrapped] Resampling images\n"
     ]
    },
    {
     "name": "stderr",
     "output_type": "stream",
     "text": [
      "/Users/poldrack/micromamba/envs/aineuro/lib/python3.12/site-packages/nilearn/maskers/nifti_masker.py:113: UserWarning: imgs are being resampled to the mask_img resolution. This process is memory intensive. You might want to provide a target_affine that is equal to the affine of the imgs or resample the mask beforehand to save memory and computation time.\n",
      "  warnings.warn(\n",
      "/Users/poldrack/micromamba/envs/aineuro/lib/python3.12/site-packages/nilearn/image/resampling.py:468: FutureWarning: 'force_resample' will be set to 'True' by default in Nilearn 0.13.0. \n",
      "Use 'force_resample=True' to suppress this warning.\n",
      "  force_resample = _check_force_resample(force_resample)\n"
     ]
    },
    {
     "name": "stdout",
     "output_type": "stream",
     "text": [
      "[NiftiMasker.wrapped] Resampling images\n"
     ]
    },
    {
     "name": "stderr",
     "output_type": "stream",
     "text": [
      "/Users/poldrack/micromamba/envs/aineuro/lib/python3.12/site-packages/nilearn/maskers/nifti_masker.py:113: UserWarning: imgs are being resampled to the mask_img resolution. This process is memory intensive. You might want to provide a target_affine that is equal to the affine of the imgs or resample the mask beforehand to save memory and computation time.\n",
      "  warnings.warn(\n",
      "/Users/poldrack/micromamba/envs/aineuro/lib/python3.12/site-packages/nilearn/image/resampling.py:468: FutureWarning: 'force_resample' will be set to 'True' by default in Nilearn 0.13.0. \n",
      "Use 'force_resample=True' to suppress this warning.\n",
      "  force_resample = _check_force_resample(force_resample)\n"
     ]
    },
    {
     "name": "stdout",
     "output_type": "stream",
     "text": [
      "[NiftiMasker.wrapped] Resampling images\n"
     ]
    },
    {
     "name": "stderr",
     "output_type": "stream",
     "text": [
      "/Users/poldrack/micromamba/envs/aineuro/lib/python3.12/site-packages/nilearn/maskers/nifti_masker.py:113: UserWarning: imgs are being resampled to the mask_img resolution. This process is memory intensive. You might want to provide a target_affine that is equal to the affine of the imgs or resample the mask beforehand to save memory and computation time.\n",
      "  warnings.warn(\n",
      "/Users/poldrack/micromamba/envs/aineuro/lib/python3.12/site-packages/nilearn/image/resampling.py:468: FutureWarning: 'force_resample' will be set to 'True' by default in Nilearn 0.13.0. \n",
      "Use 'force_resample=True' to suppress this warning.\n",
      "  force_resample = _check_force_resample(force_resample)\n"
     ]
    },
    {
     "name": "stdout",
     "output_type": "stream",
     "text": [
      "[NiftiMasker.wrapped] Resampling images\n"
     ]
    },
    {
     "name": "stderr",
     "output_type": "stream",
     "text": [
      "/Users/poldrack/micromamba/envs/aineuro/lib/python3.12/site-packages/nilearn/maskers/nifti_masker.py:113: UserWarning: imgs are being resampled to the mask_img resolution. This process is memory intensive. You might want to provide a target_affine that is equal to the affine of the imgs or resample the mask beforehand to save memory and computation time.\n",
      "  warnings.warn(\n",
      "/Users/poldrack/micromamba/envs/aineuro/lib/python3.12/site-packages/nilearn/image/resampling.py:468: FutureWarning: 'force_resample' will be set to 'True' by default in Nilearn 0.13.0. \n",
      "Use 'force_resample=True' to suppress this warning.\n",
      "  force_resample = _check_force_resample(force_resample)\n"
     ]
    },
    {
     "name": "stdout",
     "output_type": "stream",
     "text": [
      "[NiftiMasker.wrapped] Resampling images\n"
     ]
    },
    {
     "name": "stderr",
     "output_type": "stream",
     "text": [
      "/Users/poldrack/micromamba/envs/aineuro/lib/python3.12/site-packages/nilearn/maskers/nifti_masker.py:113: UserWarning: imgs are being resampled to the mask_img resolution. This process is memory intensive. You might want to provide a target_affine that is equal to the affine of the imgs or resample the mask beforehand to save memory and computation time.\n",
      "  warnings.warn(\n",
      "/Users/poldrack/micromamba/envs/aineuro/lib/python3.12/site-packages/nilearn/image/resampling.py:468: FutureWarning: 'force_resample' will be set to 'True' by default in Nilearn 0.13.0. \n",
      "Use 'force_resample=True' to suppress this warning.\n",
      "  force_resample = _check_force_resample(force_resample)\n"
     ]
    },
    {
     "name": "stdout",
     "output_type": "stream",
     "text": [
      "[NiftiMasker.wrapped] Resampling images\n"
     ]
    },
    {
     "name": "stderr",
     "output_type": "stream",
     "text": [
      "/Users/poldrack/micromamba/envs/aineuro/lib/python3.12/site-packages/nilearn/maskers/nifti_masker.py:113: UserWarning: imgs are being resampled to the mask_img resolution. This process is memory intensive. You might want to provide a target_affine that is equal to the affine of the imgs or resample the mask beforehand to save memory and computation time.\n",
      "  warnings.warn(\n",
      "/Users/poldrack/micromamba/envs/aineuro/lib/python3.12/site-packages/nilearn/image/resampling.py:468: FutureWarning: 'force_resample' will be set to 'True' by default in Nilearn 0.13.0. \n",
      "Use 'force_resample=True' to suppress this warning.\n",
      "  force_resample = _check_force_resample(force_resample)\n"
     ]
    },
    {
     "name": "stdout",
     "output_type": "stream",
     "text": [
      "[NiftiMasker.wrapped] Resampling images\n"
     ]
    },
    {
     "name": "stderr",
     "output_type": "stream",
     "text": [
      "/Users/poldrack/micromamba/envs/aineuro/lib/python3.12/site-packages/nilearn/maskers/nifti_masker.py:113: UserWarning: imgs are being resampled to the mask_img resolution. This process is memory intensive. You might want to provide a target_affine that is equal to the affine of the imgs or resample the mask beforehand to save memory and computation time.\n",
      "  warnings.warn(\n",
      "/Users/poldrack/micromamba/envs/aineuro/lib/python3.12/site-packages/nilearn/image/resampling.py:468: FutureWarning: 'force_resample' will be set to 'True' by default in Nilearn 0.13.0. \n",
      "Use 'force_resample=True' to suppress this warning.\n",
      "  force_resample = _check_force_resample(force_resample)\n"
     ]
    },
    {
     "name": "stdout",
     "output_type": "stream",
     "text": [
      "[NiftiMasker.wrapped] Resampling images\n"
     ]
    },
    {
     "name": "stderr",
     "output_type": "stream",
     "text": [
      "/Users/poldrack/micromamba/envs/aineuro/lib/python3.12/site-packages/nilearn/maskers/nifti_masker.py:113: UserWarning: imgs are being resampled to the mask_img resolution. This process is memory intensive. You might want to provide a target_affine that is equal to the affine of the imgs or resample the mask beforehand to save memory and computation time.\n",
      "  warnings.warn(\n",
      "/Users/poldrack/micromamba/envs/aineuro/lib/python3.12/site-packages/nilearn/image/resampling.py:468: FutureWarning: 'force_resample' will be set to 'True' by default in Nilearn 0.13.0. \n",
      "Use 'force_resample=True' to suppress this warning.\n",
      "  force_resample = _check_force_resample(force_resample)\n"
     ]
    },
    {
     "name": "stdout",
     "output_type": "stream",
     "text": [
      "[NiftiMasker.wrapped] Resampling images\n"
     ]
    },
    {
     "name": "stderr",
     "output_type": "stream",
     "text": [
      "/Users/poldrack/micromamba/envs/aineuro/lib/python3.12/site-packages/nilearn/maskers/nifti_masker.py:113: UserWarning: imgs are being resampled to the mask_img resolution. This process is memory intensive. You might want to provide a target_affine that is equal to the affine of the imgs or resample the mask beforehand to save memory and computation time.\n",
      "  warnings.warn(\n",
      "/Users/poldrack/micromamba/envs/aineuro/lib/python3.12/site-packages/nilearn/image/resampling.py:468: FutureWarning: 'force_resample' will be set to 'True' by default in Nilearn 0.13.0. \n",
      "Use 'force_resample=True' to suppress this warning.\n",
      "  force_resample = _check_force_resample(force_resample)\n"
     ]
    },
    {
     "name": "stdout",
     "output_type": "stream",
     "text": [
      "[NiftiMasker.wrapped] Resampling images\n"
     ]
    },
    {
     "name": "stderr",
     "output_type": "stream",
     "text": [
      "/Users/poldrack/micromamba/envs/aineuro/lib/python3.12/site-packages/nilearn/maskers/nifti_masker.py:113: UserWarning: imgs are being resampled to the mask_img resolution. This process is memory intensive. You might want to provide a target_affine that is equal to the affine of the imgs or resample the mask beforehand to save memory and computation time.\n",
      "  warnings.warn(\n",
      "/Users/poldrack/micromamba/envs/aineuro/lib/python3.12/site-packages/nilearn/image/resampling.py:468: FutureWarning: 'force_resample' will be set to 'True' by default in Nilearn 0.13.0. \n",
      "Use 'force_resample=True' to suppress this warning.\n",
      "  force_resample = _check_force_resample(force_resample)\n"
     ]
    },
    {
     "name": "stdout",
     "output_type": "stream",
     "text": [
      "[NiftiMasker.wrapped] Resampling images\n"
     ]
    },
    {
     "name": "stderr",
     "output_type": "stream",
     "text": [
      "/Users/poldrack/micromamba/envs/aineuro/lib/python3.12/site-packages/nilearn/maskers/nifti_masker.py:113: UserWarning: imgs are being resampled to the mask_img resolution. This process is memory intensive. You might want to provide a target_affine that is equal to the affine of the imgs or resample the mask beforehand to save memory and computation time.\n",
      "  warnings.warn(\n",
      "/Users/poldrack/micromamba/envs/aineuro/lib/python3.12/site-packages/nilearn/image/resampling.py:468: FutureWarning: 'force_resample' will be set to 'True' by default in Nilearn 0.13.0. \n",
      "Use 'force_resample=True' to suppress this warning.\n",
      "  force_resample = _check_force_resample(force_resample)\n"
     ]
    },
    {
     "name": "stdout",
     "output_type": "stream",
     "text": [
      "[NiftiMasker.wrapped] Resampling images\n"
     ]
    },
    {
     "name": "stderr",
     "output_type": "stream",
     "text": [
      "/Users/poldrack/micromamba/envs/aineuro/lib/python3.12/site-packages/nilearn/maskers/nifti_masker.py:113: UserWarning: imgs are being resampled to the mask_img resolution. This process is memory intensive. You might want to provide a target_affine that is equal to the affine of the imgs or resample the mask beforehand to save memory and computation time.\n",
      "  warnings.warn(\n",
      "/Users/poldrack/micromamba/envs/aineuro/lib/python3.12/site-packages/nilearn/image/resampling.py:468: FutureWarning: 'force_resample' will be set to 'True' by default in Nilearn 0.13.0. \n",
      "Use 'force_resample=True' to suppress this warning.\n",
      "  force_resample = _check_force_resample(force_resample)\n"
     ]
    },
    {
     "name": "stdout",
     "output_type": "stream",
     "text": [
      "[NiftiMasker.wrapped] Resampling images\n"
     ]
    },
    {
     "name": "stderr",
     "output_type": "stream",
     "text": [
      "/Users/poldrack/micromamba/envs/aineuro/lib/python3.12/site-packages/nilearn/maskers/nifti_masker.py:113: UserWarning: imgs are being resampled to the mask_img resolution. This process is memory intensive. You might want to provide a target_affine that is equal to the affine of the imgs or resample the mask beforehand to save memory and computation time.\n",
      "  warnings.warn(\n",
      "/Users/poldrack/micromamba/envs/aineuro/lib/python3.12/site-packages/nilearn/image/resampling.py:468: FutureWarning: 'force_resample' will be set to 'True' by default in Nilearn 0.13.0. \n",
      "Use 'force_resample=True' to suppress this warning.\n",
      "  force_resample = _check_force_resample(force_resample)\n"
     ]
    },
    {
     "name": "stdout",
     "output_type": "stream",
     "text": [
      "[NiftiMasker.wrapped] Resampling images\n"
     ]
    },
    {
     "name": "stderr",
     "output_type": "stream",
     "text": [
      "/Users/poldrack/micromamba/envs/aineuro/lib/python3.12/site-packages/nilearn/maskers/nifti_masker.py:113: UserWarning: imgs are being resampled to the mask_img resolution. This process is memory intensive. You might want to provide a target_affine that is equal to the affine of the imgs or resample the mask beforehand to save memory and computation time.\n",
      "  warnings.warn(\n",
      "/Users/poldrack/micromamba/envs/aineuro/lib/python3.12/site-packages/nilearn/image/resampling.py:468: FutureWarning: 'force_resample' will be set to 'True' by default in Nilearn 0.13.0. \n",
      "Use 'force_resample=True' to suppress this warning.\n",
      "  force_resample = _check_force_resample(force_resample)\n"
     ]
    },
    {
     "name": "stdout",
     "output_type": "stream",
     "text": [
      "[NiftiMasker.wrapped] Resampling images\n"
     ]
    },
    {
     "name": "stderr",
     "output_type": "stream",
     "text": [
      "/Users/poldrack/micromamba/envs/aineuro/lib/python3.12/site-packages/nilearn/maskers/nifti_masker.py:113: UserWarning: imgs are being resampled to the mask_img resolution. This process is memory intensive. You might want to provide a target_affine that is equal to the affine of the imgs or resample the mask beforehand to save memory and computation time.\n",
      "  warnings.warn(\n",
      "/Users/poldrack/micromamba/envs/aineuro/lib/python3.12/site-packages/nilearn/image/resampling.py:468: FutureWarning: 'force_resample' will be set to 'True' by default in Nilearn 0.13.0. \n",
      "Use 'force_resample=True' to suppress this warning.\n",
      "  force_resample = _check_force_resample(force_resample)\n"
     ]
    },
    {
     "name": "stdout",
     "output_type": "stream",
     "text": [
      "[NiftiMasker.wrapped] Resampling images\n"
     ]
    },
    {
     "name": "stderr",
     "output_type": "stream",
     "text": [
      "/Users/poldrack/micromamba/envs/aineuro/lib/python3.12/site-packages/nilearn/maskers/nifti_masker.py:113: UserWarning: imgs are being resampled to the mask_img resolution. This process is memory intensive. You might want to provide a target_affine that is equal to the affine of the imgs or resample the mask beforehand to save memory and computation time.\n",
      "  warnings.warn(\n",
      "/Users/poldrack/micromamba/envs/aineuro/lib/python3.12/site-packages/nilearn/image/resampling.py:468: FutureWarning: 'force_resample' will be set to 'True' by default in Nilearn 0.13.0. \n",
      "Use 'force_resample=True' to suppress this warning.\n",
      "  force_resample = _check_force_resample(force_resample)\n"
     ]
    },
    {
     "name": "stdout",
     "output_type": "stream",
     "text": [
      "[NiftiMasker.wrapped] Resampling images\n"
     ]
    },
    {
     "name": "stderr",
     "output_type": "stream",
     "text": [
      "/Users/poldrack/micromamba/envs/aineuro/lib/python3.12/site-packages/nilearn/maskers/nifti_masker.py:113: UserWarning: imgs are being resampled to the mask_img resolution. This process is memory intensive. You might want to provide a target_affine that is equal to the affine of the imgs or resample the mask beforehand to save memory and computation time.\n",
      "  warnings.warn(\n",
      "/Users/poldrack/micromamba/envs/aineuro/lib/python3.12/site-packages/nilearn/image/resampling.py:468: FutureWarning: 'force_resample' will be set to 'True' by default in Nilearn 0.13.0. \n",
      "Use 'force_resample=True' to suppress this warning.\n",
      "  force_resample = _check_force_resample(force_resample)\n"
     ]
    },
    {
     "name": "stdout",
     "output_type": "stream",
     "text": [
      "[NiftiMasker.wrapped] Resampling images\n"
     ]
    },
    {
     "name": "stderr",
     "output_type": "stream",
     "text": [
      "/Users/poldrack/micromamba/envs/aineuro/lib/python3.12/site-packages/nilearn/maskers/nifti_masker.py:113: UserWarning: imgs are being resampled to the mask_img resolution. This process is memory intensive. You might want to provide a target_affine that is equal to the affine of the imgs or resample the mask beforehand to save memory and computation time.\n",
      "  warnings.warn(\n",
      "/Users/poldrack/micromamba/envs/aineuro/lib/python3.12/site-packages/nilearn/image/resampling.py:468: FutureWarning: 'force_resample' will be set to 'True' by default in Nilearn 0.13.0. \n",
      "Use 'force_resample=True' to suppress this warning.\n",
      "  force_resample = _check_force_resample(force_resample)\n"
     ]
    },
    {
     "name": "stdout",
     "output_type": "stream",
     "text": [
      "[NiftiMasker.wrapped] Resampling images\n"
     ]
    },
    {
     "name": "stderr",
     "output_type": "stream",
     "text": [
      "/Users/poldrack/micromamba/envs/aineuro/lib/python3.12/site-packages/nilearn/maskers/nifti_masker.py:113: UserWarning: imgs are being resampled to the mask_img resolution. This process is memory intensive. You might want to provide a target_affine that is equal to the affine of the imgs or resample the mask beforehand to save memory and computation time.\n",
      "  warnings.warn(\n",
      "/Users/poldrack/micromamba/envs/aineuro/lib/python3.12/site-packages/nilearn/image/resampling.py:468: FutureWarning: 'force_resample' will be set to 'True' by default in Nilearn 0.13.0. \n",
      "Use 'force_resample=True' to suppress this warning.\n",
      "  force_resample = _check_force_resample(force_resample)\n"
     ]
    },
    {
     "name": "stdout",
     "output_type": "stream",
     "text": [
      "[NiftiMasker.wrapped] Resampling images\n"
     ]
    },
    {
     "name": "stderr",
     "output_type": "stream",
     "text": [
      "/Users/poldrack/micromamba/envs/aineuro/lib/python3.12/site-packages/nilearn/maskers/nifti_masker.py:113: UserWarning: imgs are being resampled to the mask_img resolution. This process is memory intensive. You might want to provide a target_affine that is equal to the affine of the imgs or resample the mask beforehand to save memory and computation time.\n",
      "  warnings.warn(\n",
      "/Users/poldrack/micromamba/envs/aineuro/lib/python3.12/site-packages/nilearn/image/resampling.py:468: FutureWarning: 'force_resample' will be set to 'True' by default in Nilearn 0.13.0. \n",
      "Use 'force_resample=True' to suppress this warning.\n",
      "  force_resample = _check_force_resample(force_resample)\n"
     ]
    },
    {
     "name": "stdout",
     "output_type": "stream",
     "text": [
      "[NiftiMasker.wrapped] Resampling images\n"
     ]
    },
    {
     "name": "stderr",
     "output_type": "stream",
     "text": [
      "/Users/poldrack/micromamba/envs/aineuro/lib/python3.12/site-packages/nilearn/maskers/nifti_masker.py:113: UserWarning: imgs are being resampled to the mask_img resolution. This process is memory intensive. You might want to provide a target_affine that is equal to the affine of the imgs or resample the mask beforehand to save memory and computation time.\n",
      "  warnings.warn(\n",
      "/Users/poldrack/micromamba/envs/aineuro/lib/python3.12/site-packages/nilearn/image/resampling.py:468: FutureWarning: 'force_resample' will be set to 'True' by default in Nilearn 0.13.0. \n",
      "Use 'force_resample=True' to suppress this warning.\n",
      "  force_resample = _check_force_resample(force_resample)\n"
     ]
    },
    {
     "name": "stdout",
     "output_type": "stream",
     "text": [
      "[NiftiMasker.wrapped] Resampling images\n"
     ]
    },
    {
     "name": "stderr",
     "output_type": "stream",
     "text": [
      "/Users/poldrack/micromamba/envs/aineuro/lib/python3.12/site-packages/nilearn/maskers/nifti_masker.py:113: UserWarning: imgs are being resampled to the mask_img resolution. This process is memory intensive. You might want to provide a target_affine that is equal to the affine of the imgs or resample the mask beforehand to save memory and computation time.\n",
      "  warnings.warn(\n",
      "/Users/poldrack/micromamba/envs/aineuro/lib/python3.12/site-packages/nilearn/image/resampling.py:468: FutureWarning: 'force_resample' will be set to 'True' by default in Nilearn 0.13.0. \n",
      "Use 'force_resample=True' to suppress this warning.\n",
      "  force_resample = _check_force_resample(force_resample)\n"
     ]
    },
    {
     "name": "stdout",
     "output_type": "stream",
     "text": [
      "[NiftiMasker.wrapped] Resampling images\n"
     ]
    },
    {
     "name": "stderr",
     "output_type": "stream",
     "text": [
      "/Users/poldrack/micromamba/envs/aineuro/lib/python3.12/site-packages/nilearn/maskers/nifti_masker.py:113: UserWarning: imgs are being resampled to the mask_img resolution. This process is memory intensive. You might want to provide a target_affine that is equal to the affine of the imgs or resample the mask beforehand to save memory and computation time.\n",
      "  warnings.warn(\n",
      "/Users/poldrack/micromamba/envs/aineuro/lib/python3.12/site-packages/nilearn/image/resampling.py:468: FutureWarning: 'force_resample' will be set to 'True' by default in Nilearn 0.13.0. \n",
      "Use 'force_resample=True' to suppress this warning.\n",
      "  force_resample = _check_force_resample(force_resample)\n"
     ]
    },
    {
     "name": "stdout",
     "output_type": "stream",
     "text": [
      "[NiftiMasker.wrapped] Resampling images\n"
     ]
    }
   ],
   "source": [
    "subjects = [int(sub) for sub in layout.get_subjects()]\n",
    "\n",
    "\n",
    "difumo = datasets.fetch_atlas_difumo(\n",
    "    dimension=1024, resolution_mm=3, legacy_format=False\n",
    ")\n",
    "difumo_masker = MultiNiftiMapsMasker(\n",
    "    maps_img=difumo.maps,\n",
    "    n_jobs=12,\n",
    ")\n",
    "\n",
    "vtmaskdir = os.path.join(data_dir, 'derivatives', 'vtmasks')\n",
    "with h5py.File(os.path.join(output_dir, 'haxby_data_cleaned.h5'), 'w') as hf:\n",
    "\n",
    "    for subject in subjects:\n",
    "        print(f'Processing subject {subject}')\n",
    "        g1 = hf.create_group(f'sub-{subject}')\n",
    "\n",
    "        runs = get_subject_runs(subject, data_dir)\n",
    "        sub_mask = get_subject_common_brain_mask(subject, data_dir)\n",
    "        masker = NiftiMasker(mask_img=sub_mask)\n",
    "        vt_mask = nib.load(\n",
    "            os.path.join(\n",
    "                vtmaskdir,\n",
    "                f'sub-{subject}_mask4vt_space-MNI152NLin2009cAsym_res-3.nii.gz',\n",
    "            )\n",
    "        )\n",
    "\n",
    "        vtmasker = NiftiMasker(mask_img=vt_mask)\n",
    "        for run in runs:\n",
    "            g2 = g1.create_group(f'run-{run}')\n",
    "\n",
    "            vt_data = vtmasker.fit_transform(task_images[subject][run])\n",
    "            assert vt_data.shape[0] == task_images[subject][run].shape[-1]\n",
    "            assert vt_data.shape[1] == np.sum(vt_mask.get_fdata())\n",
    "            g2.create_dataset('vtmaskdata', data=vt_data)\n",
    "\n",
    "            # get the whole brain data\n",
    "            braindata = masker.fit_transform(task_images[subject][run])\n",
    "            assert braindata.shape[0] == task_images[subject][run].shape[-1]\n",
    "            assert braindata.shape[1] == np.sum(sub_mask.get_fdata())\n",
    "            g2.create_dataset('braindata', data=braindata)\n",
    "\n",
    "            g2.create_dataset(\n",
    "                'conditions',\n",
    "                data=[\n",
    "                    c.encode('utf-8')\n",
    "                    for c in task_info[subject][run].condition.tolist()\n",
    "                ],\n",
    "            )\n",
    "\n",
    "            # get the difumo data\n",
    "            difumo_data = difumo_masker.fit_transform(\n",
    "                task_images[subject][run]\n",
    "            )\n",
    "            assert difumo_data.shape[0] == task_images[subject][run].shape[-1]\n",
    "            g2.create_dataset('difumodata', data=difumo_data)"
   ]
  },
  {
   "cell_type": "markdown",
   "id": "b95db5af",
   "metadata": {},
   "source": []
  },
  {
   "cell_type": "markdown",
   "id": "2248576a",
   "metadata": {},
   "source": [
    "### Average within blocks\n",
    "\n"
   ]
  },
  {
   "cell_type": "code",
   "execution_count": null,
   "id": "055b001a",
   "metadata": {
    "lines_to_next_cell": 2
   },
   "outputs": [],
   "source": [
    "with h5py.File(os.path.join(output_dir, 'haxby_data_cleaned.h5'), 'a') as hf:\n",
    "\n",
    "    subjects = [int(sub) for sub in layout.get_subjects()]\n",
    "    for subject in subjects:\n",
    "        runs = get_subject_runs(subject, data_dir)\n",
    "        for run in runs:\n",
    "            conditions = [\n",
    "                i.decode('utf-8')\n",
    "                for i in hf[f'sub-{subject}/run-{run}']['conditions'][:]\n",
    "            ]\n",
    "\n",
    "            vt_df = pd.DataFrame(\n",
    "                hf[f'sub-{subject}/run-{run}']['vtmaskdata'][:]\n",
    "            )\n",
    "            condition_mean_df = vt_df.groupby(conditions).mean().sort_index()\n",
    "            conditions_collapsed = condition_mean_df.index.values\n",
    "            hf[f'sub-{subject}/run-{run}'].create_dataset(\n",
    "                'mean_vtmaskdata', data=condition_mean_df\n",
    "            )\n",
    "            hf[f'sub-{subject}/run-{run}'].create_dataset(\n",
    "                'mean_conditions', data=condition_mean_df.index.values\n",
    "            )\n",
    "\n",
    "            # same for whole brain\n",
    "            brain_df = pd.DataFrame(\n",
    "                hf[f'sub-{subject}/run-{run}']['braindata'][:]\n",
    "            )\n",
    "            condition_mean_df = (\n",
    "                brain_df.groupby(conditions).mean().sort_index()\n",
    "            )\n",
    "            # make sure conditions are the same between the two\n",
    "            assert np.all(\n",
    "                condition_mean_df.index.values == conditions_collapsed\n",
    "            )\n",
    "            hf[f'sub-{subject}/run-{run}'].create_dataset(\n",
    "                'mean_braindata', data=condition_mean_df\n",
    "            )\n",
    "\n",
    "            # same for difumo\n",
    "            difumo_df = pd.DataFrame(\n",
    "                hf[f'sub-{subject}/run-{run}']['difumodata'][:]\n",
    "            )\n",
    "            condition_mean_df = (\n",
    "                difumo_df.groupby(conditions).mean().sort_index()\n",
    "            )\n",
    "            # make sure conditions are the same between the two\n",
    "            assert np.all(\n",
    "                condition_mean_df.index.values == conditions_collapsed\n",
    "            )\n",
    "            hf[f'sub-{subject}/run-{run}'].create_dataset(\n",
    "                'mean_difumodata', data=condition_mean_df\n",
    "            )"
   ]
  },
  {
   "cell_type": "code",
   "execution_count": null,
   "id": "9f1d053e",
   "metadata": {},
   "outputs": [
    {
     "data": {
      "text/html": [
       "<div>\n",
       "<style scoped>\n",
       "    .dataframe tbody tr th:only-of-type {\n",
       "        vertical-align: middle;\n",
       "    }\n",
       "\n",
       "    .dataframe tbody tr th {\n",
       "        vertical-align: top;\n",
       "    }\n",
       "\n",
       "    .dataframe thead th {\n",
       "        text-align: right;\n",
       "    }\n",
       "</style>\n",
       "<table border=\"1\" class=\"dataframe\">\n",
       "  <thead>\n",
       "    <tr style=\"text-align: right;\">\n",
       "      <th></th>\n",
       "      <th>0</th>\n",
       "      <th>1</th>\n",
       "      <th>2</th>\n",
       "      <th>3</th>\n",
       "      <th>4</th>\n",
       "      <th>5</th>\n",
       "      <th>6</th>\n",
       "      <th>7</th>\n",
       "      <th>8</th>\n",
       "      <th>9</th>\n",
       "      <th>...</th>\n",
       "      <th>1014</th>\n",
       "      <th>1015</th>\n",
       "      <th>1016</th>\n",
       "      <th>1017</th>\n",
       "      <th>1018</th>\n",
       "      <th>1019</th>\n",
       "      <th>1020</th>\n",
       "      <th>1021</th>\n",
       "      <th>1022</th>\n",
       "      <th>1023</th>\n",
       "    </tr>\n",
       "  </thead>\n",
       "  <tbody>\n",
       "    <tr>\n",
       "      <th>bottle</th>\n",
       "      <td>20.341734</td>\n",
       "      <td>-22.073200</td>\n",
       "      <td>30.922354</td>\n",
       "      <td>81.861571</td>\n",
       "      <td>10.665755</td>\n",
       "      <td>29.259479</td>\n",
       "      <td>26.578807</td>\n",
       "      <td>37.862923</td>\n",
       "      <td>25.216348</td>\n",
       "      <td>82.032037</td>\n",
       "      <td>...</td>\n",
       "      <td>-14.311384</td>\n",
       "      <td>52.877827</td>\n",
       "      <td>60.923288</td>\n",
       "      <td>-41.514604</td>\n",
       "      <td>2.015644</td>\n",
       "      <td>-99.266953</td>\n",
       "      <td>18.120706</td>\n",
       "      <td>54.487036</td>\n",
       "      <td>50.416629</td>\n",
       "      <td>35.946949</td>\n",
       "    </tr>\n",
       "    <tr>\n",
       "      <th>cat</th>\n",
       "      <td>73.022439</td>\n",
       "      <td>71.218620</td>\n",
       "      <td>46.982960</td>\n",
       "      <td>-99.943771</td>\n",
       "      <td>-82.997792</td>\n",
       "      <td>-19.376414</td>\n",
       "      <td>-14.533978</td>\n",
       "      <td>14.493988</td>\n",
       "      <td>-52.933645</td>\n",
       "      <td>-23.939585</td>\n",
       "      <td>...</td>\n",
       "      <td>10.189615</td>\n",
       "      <td>-53.768042</td>\n",
       "      <td>-146.085152</td>\n",
       "      <td>-10.787128</td>\n",
       "      <td>20.850278</td>\n",
       "      <td>-4.142285</td>\n",
       "      <td>7.458493</td>\n",
       "      <td>-76.636407</td>\n",
       "      <td>-1.792390</td>\n",
       "      <td>-6.332361</td>\n",
       "    </tr>\n",
       "    <tr>\n",
       "      <th>chair</th>\n",
       "      <td>82.101613</td>\n",
       "      <td>48.521353</td>\n",
       "      <td>-88.396513</td>\n",
       "      <td>-89.974685</td>\n",
       "      <td>-0.374359</td>\n",
       "      <td>35.881146</td>\n",
       "      <td>-70.357718</td>\n",
       "      <td>29.602928</td>\n",
       "      <td>53.560321</td>\n",
       "      <td>-82.957480</td>\n",
       "      <td>...</td>\n",
       "      <td>-52.619997</td>\n",
       "      <td>-166.651067</td>\n",
       "      <td>37.305991</td>\n",
       "      <td>44.897594</td>\n",
       "      <td>34.454688</td>\n",
       "      <td>4.210086</td>\n",
       "      <td>-2.724119</td>\n",
       "      <td>33.191607</td>\n",
       "      <td>-55.610099</td>\n",
       "      <td>-53.686152</td>\n",
       "    </tr>\n",
       "    <tr>\n",
       "      <th>face</th>\n",
       "      <td>-28.963589</td>\n",
       "      <td>-70.509686</td>\n",
       "      <td>57.058891</td>\n",
       "      <td>40.271820</td>\n",
       "      <td>10.561323</td>\n",
       "      <td>70.224889</td>\n",
       "      <td>84.412823</td>\n",
       "      <td>-60.448015</td>\n",
       "      <td>39.220059</td>\n",
       "      <td>45.625593</td>\n",
       "      <td>...</td>\n",
       "      <td>-20.596774</td>\n",
       "      <td>147.662777</td>\n",
       "      <td>-64.983100</td>\n",
       "      <td>-61.369503</td>\n",
       "      <td>-93.389251</td>\n",
       "      <td>51.616918</td>\n",
       "      <td>4.501937</td>\n",
       "      <td>17.277040</td>\n",
       "      <td>77.824657</td>\n",
       "      <td>51.903456</td>\n",
       "    </tr>\n",
       "    <tr>\n",
       "      <th>house</th>\n",
       "      <td>2.912803</td>\n",
       "      <td>12.882667</td>\n",
       "      <td>-7.099153</td>\n",
       "      <td>-7.423538</td>\n",
       "      <td>25.423917</td>\n",
       "      <td>-45.242598</td>\n",
       "      <td>57.412470</td>\n",
       "      <td>11.389244</td>\n",
       "      <td>6.948350</td>\n",
       "      <td>14.118769</td>\n",
       "      <td>...</td>\n",
       "      <td>48.796809</td>\n",
       "      <td>32.558964</td>\n",
       "      <td>-21.311686</td>\n",
       "      <td>-31.977507</td>\n",
       "      <td>63.587849</td>\n",
       "      <td>-34.579945</td>\n",
       "      <td>-9.206479</td>\n",
       "      <td>-13.823469</td>\n",
       "      <td>-15.670533</td>\n",
       "      <td>25.304241</td>\n",
       "    </tr>\n",
       "    <tr>\n",
       "      <th>scissors</th>\n",
       "      <td>30.187111</td>\n",
       "      <td>3.495322</td>\n",
       "      <td>55.949960</td>\n",
       "      <td>-78.546075</td>\n",
       "      <td>-24.779875</td>\n",
       "      <td>-27.612369</td>\n",
       "      <td>82.711626</td>\n",
       "      <td>61.587111</td>\n",
       "      <td>-40.623987</td>\n",
       "      <td>0.200194</td>\n",
       "      <td>...</td>\n",
       "      <td>-61.802673</td>\n",
       "      <td>-4.264875</td>\n",
       "      <td>29.472675</td>\n",
       "      <td>-20.350482</td>\n",
       "      <td>-90.505631</td>\n",
       "      <td>44.947990</td>\n",
       "      <td>14.169799</td>\n",
       "      <td>-33.443818</td>\n",
       "      <td>-3.009493</td>\n",
       "      <td>66.552137</td>\n",
       "    </tr>\n",
       "    <tr>\n",
       "      <th>scrambledpix</th>\n",
       "      <td>42.561030</td>\n",
       "      <td>5.114049</td>\n",
       "      <td>6.168402</td>\n",
       "      <td>-67.019671</td>\n",
       "      <td>-83.211353</td>\n",
       "      <td>-24.716696</td>\n",
       "      <td>-11.574379</td>\n",
       "      <td>-59.429898</td>\n",
       "      <td>-39.038987</td>\n",
       "      <td>24.214875</td>\n",
       "      <td>...</td>\n",
       "      <td>-87.852859</td>\n",
       "      <td>42.776716</td>\n",
       "      <td>-105.855710</td>\n",
       "      <td>19.343371</td>\n",
       "      <td>-37.621537</td>\n",
       "      <td>37.560987</td>\n",
       "      <td>-0.718161</td>\n",
       "      <td>8.677190</td>\n",
       "      <td>117.592131</td>\n",
       "      <td>16.541259</td>\n",
       "    </tr>\n",
       "    <tr>\n",
       "      <th>shoe</th>\n",
       "      <td>-42.608003</td>\n",
       "      <td>37.353265</td>\n",
       "      <td>6.704696</td>\n",
       "      <td>-168.859276</td>\n",
       "      <td>5.502879</td>\n",
       "      <td>7.342246</td>\n",
       "      <td>-77.216618</td>\n",
       "      <td>-90.939512</td>\n",
       "      <td>-50.614532</td>\n",
       "      <td>8.119633</td>\n",
       "      <td>...</td>\n",
       "      <td>39.158401</td>\n",
       "      <td>-122.901523</td>\n",
       "      <td>29.642258</td>\n",
       "      <td>37.121569</td>\n",
       "      <td>-78.808787</td>\n",
       "      <td>21.077915</td>\n",
       "      <td>3.451898</td>\n",
       "      <td>-33.081502</td>\n",
       "      <td>-34.341228</td>\n",
       "      <td>-41.835821</td>\n",
       "    </tr>\n",
       "  </tbody>\n",
       "</table>\n",
       "<p>8 rows × 1024 columns</p>\n",
       "</div>"
      ],
      "text/plain": [
       "                   0          1          2           3          4     \\\n",
       "bottle        20.341734 -22.073200  30.922354   81.861571  10.665755   \n",
       "cat           73.022439  71.218620  46.982960  -99.943771 -82.997792   \n",
       "chair         82.101613  48.521353 -88.396513  -89.974685  -0.374359   \n",
       "face         -28.963589 -70.509686  57.058891   40.271820  10.561323   \n",
       "house          2.912803  12.882667  -7.099153   -7.423538  25.423917   \n",
       "scissors      30.187111   3.495322  55.949960  -78.546075 -24.779875   \n",
       "scrambledpix  42.561030   5.114049   6.168402  -67.019671 -83.211353   \n",
       "shoe         -42.608003  37.353265   6.704696 -168.859276   5.502879   \n",
       "\n",
       "                   5          6          7          8          9     ...  \\\n",
       "bottle        29.259479  26.578807  37.862923  25.216348  82.032037  ...   \n",
       "cat          -19.376414 -14.533978  14.493988 -52.933645 -23.939585  ...   \n",
       "chair         35.881146 -70.357718  29.602928  53.560321 -82.957480  ...   \n",
       "face          70.224889  84.412823 -60.448015  39.220059  45.625593  ...   \n",
       "house        -45.242598  57.412470  11.389244   6.948350  14.118769  ...   \n",
       "scissors     -27.612369  82.711626  61.587111 -40.623987   0.200194  ...   \n",
       "scrambledpix -24.716696 -11.574379 -59.429898 -39.038987  24.214875  ...   \n",
       "shoe           7.342246 -77.216618 -90.939512 -50.614532   8.119633  ...   \n",
       "\n",
       "                   1014        1015        1016       1017       1018  \\\n",
       "bottle       -14.311384   52.877827   60.923288 -41.514604   2.015644   \n",
       "cat           10.189615  -53.768042 -146.085152 -10.787128  20.850278   \n",
       "chair        -52.619997 -166.651067   37.305991  44.897594  34.454688   \n",
       "face         -20.596774  147.662777  -64.983100 -61.369503 -93.389251   \n",
       "house         48.796809   32.558964  -21.311686 -31.977507  63.587849   \n",
       "scissors     -61.802673   -4.264875   29.472675 -20.350482 -90.505631   \n",
       "scrambledpix -87.852859   42.776716 -105.855710  19.343371 -37.621537   \n",
       "shoe          39.158401 -122.901523   29.642258  37.121569 -78.808787   \n",
       "\n",
       "                   1019       1020       1021        1022       1023  \n",
       "bottle       -99.266953  18.120706  54.487036   50.416629  35.946949  \n",
       "cat           -4.142285   7.458493 -76.636407   -1.792390  -6.332361  \n",
       "chair          4.210086  -2.724119  33.191607  -55.610099 -53.686152  \n",
       "face          51.616918   4.501937  17.277040   77.824657  51.903456  \n",
       "house        -34.579945  -9.206479 -13.823469  -15.670533  25.304241  \n",
       "scissors      44.947990  14.169799 -33.443818   -3.009493  66.552137  \n",
       "scrambledpix  37.560987  -0.718161   8.677190  117.592131  16.541259  \n",
       "shoe          21.077915   3.451898 -33.081502  -34.341228 -41.835821  \n",
       "\n",
       "[8 rows x 1024 columns]"
      ]
     },
     "execution_count": 24,
     "metadata": {},
     "output_type": "execute_result"
    }
   ],
   "source": [
    "condition_mean_df.sort_index()"
   ]
  },
  {
   "cell_type": "code",
   "execution_count": null,
   "id": "a1b8babe",
   "metadata": {
    "lines_to_next_cell": 2
   },
   "outputs": [
    {
     "name": "stdout",
     "output_type": "stream",
     "text": [
      "(64, 71991)\n",
      "(64, 746)\n",
      "(64, 1024)\n",
      "(64,)\n",
      "(8,)\n"
     ]
    }
   ],
   "source": [
    "\n",
    "with h5py.File(os.path.join(output_dir, 'haxby_data_cleaned.h5'), 'r') as hf:\n",
    "\n",
    "    # utils.list_all_datasets(hf)\n",
    "    print(hf[f'sub-{subject}/run-{run}']['braindata'].shape)\n",
    "    print(hf[f'sub-{subject}/run-{run}']['vtmaskdata'].shape)\n",
    "    print(hf[f'sub-{subject}/run-{run}']['difumodata'].shape)\n",
    "\n",
    "    print(hf[f'sub-{subject}/run-{run}']['conditions'].shape)\n",
    "    print(hf[f'sub-{subject}/run-{run}']['mean_conditions'].shape)"
   ]
  },
  {
   "cell_type": "code",
   "execution_count": null,
   "id": "9edf4002",
   "metadata": {},
   "outputs": [],
   "source": []
  }
 ],
 "metadata": {
  "kernelspec": {
   "display_name": "Python 3",
   "language": "python",
   "name": "python3"
  },
  "language_info": {
   "codemirror_mode": {
    "name": "ipython",
    "version": 3
   },
   "file_extension": ".py",
   "mimetype": "text/x-python",
   "name": "python",
   "nbconvert_exporter": "python",
   "pygments_lexer": "ipython3",
   "version": "3.12.4"
  }
 },
 "nbformat": 4,
 "nbformat_minor": 5
}
