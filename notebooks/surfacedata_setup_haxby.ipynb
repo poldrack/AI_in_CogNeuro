{
 "cells": [
  {
   "cell_type": "markdown",
   "id": "d8dfa354",
   "metadata": {},
   "source": [
    "## Surface data preparation for encoding/decoding models\n",
    "\n",
    "For this example, we will use the data from Haxby et al., 2001., which are shared via OpenNeuro:\n",
    "\n",
    "https://openneuro.org/datasets/ds000105/versions/3.0.0\n",
    "\n",
    "The surface data were generated using fMRIPrep.\n",
    "\n",
    "The data are formatted according to the BIDS standard: https://bids-specification.readthedocs.io/en/stable/index.html\n",
    "\n",
    "First, import required dependencies. You can install these using `pip install -r requirements.txt` from the main repo directory."
   ]
  },
  {
   "cell_type": "code",
   "execution_count": 29,
   "id": "19ba6348",
   "metadata": {},
   "outputs": [
    {
     "name": "stdout",
     "output_type": "stream",
     "text": [
      "The autoreload extension is already loaded. To reload it, use:\n",
      "  %reload_ext autoreload\n"
     ]
    }
   ],
   "source": [
    "%load_ext autoreload\n",
    "%autoreload 2\n",
    "\n",
    "import os\n",
    "import nilearn\n",
    "from nilearn import datasets\n",
    "from nilearn.maskers import NiftiMasker\n",
    "from nilearn.maskers import MultiNiftiMapsMasker\n",
    "import h5py\n",
    "import numpy as np\n",
    "import nibabel as nib\n",
    "import datalad.api as dl\n",
    "import pandas as pd\n",
    "import tqdm\n",
    "import templateflow.api as tflow\n",
    "from utils import (\n",
    "    get_subject_common_brain_mask,\n",
    "    get_group_common_mask,\n",
    "    get_subject_runs,\n",
    "    get_layouts,\n",
    ")"
   ]
  },
  {
   "cell_type": "markdown",
   "id": "a8ef9986",
   "metadata": {},
   "source": [
    "#### Get the data using datalad\n",
    "\n",
    "We will use a tool called [Datalad](https://www.datalad.org/) to obtain the data from openneuro.\n",
    "\n",
    "We will download the raw data, as well as the processed data (using [fMRIPrep](https://fmriprep.org/en/stable/).  Note that downloading these derivative data can take quite a while depending on the speed of one's connection."
   ]
  },
  {
   "cell_type": "code",
   "execution_count": 2,
   "id": "7f66a0e3",
   "metadata": {},
   "outputs": [
    {
     "name": "stderr",
     "output_type": "stream",
     "text": [
      "[INFO] Ensuring presence of Dataset(/Users/poldrack/data_unsynced/ds000105) to get /Users/poldrack/data_unsynced/ds000105 \n"
     ]
    }
   ],
   "source": [
    "data_dir = '/Users/poldrack/data_unsynced/ds000105'\n",
    "assert os.path.exists(data_dir), 'Data directory not found: %s' % data_dir\n",
    "fmriprep_dir = os.path.join(data_dir, 'derivatives', 'fmriprep')\n",
    "\n",
    "output_dir = os.path.join(data_dir, 'derivatives', 'cleaned')\n",
    "if not os.path.exists(output_dir):\n",
    "    os.makedirs(output_dir)\n",
    "\n",
    "\n",
    "# get the raw data\n",
    "ds = dl.clone(\n",
    "    path=data_dir,\n",
    "    source='https://github.com/OpenNeuroDatasets/ds000105.git',\n",
    ")\n",
    "dl.get(dataset=data_dir, recursive=True)\n",
    "\n",
    "get_fmriprep = False  # set to false after downloading fmriprep once\n",
    "\n",
    "# get the preprocessed derivatives - this takes some time!\n",
    "if get_fmriprep:\n",
    "    dl.clone(\n",
    "        path=fmriprep_dir,\n",
    "        source='https://github.com/OpenNeuroDerivatives/ds000105-fmriprep.git',\n",
    "    )\n",
    "    dl.get(dataset=fmriprep_dir, recursive=True)"
   ]
  },
  {
   "cell_type": "markdown",
   "id": "a3eb4068",
   "metadata": {},
   "source": [
    "### Get fsaverage5 surface\n",
    "\n",
    "We need the surface files in order to visualize things.  We will use templateflow to get them."
   ]
  },
  {
   "cell_type": "code",
   "execution_count": 41,
   "id": "d52dec71",
   "metadata": {},
   "outputs": [
    {
     "name": "stdout",
     "output_type": "stream",
     "text": [
      "(10242, 3)\n"
     ]
    }
   ],
   "source": [
    "fsavg = tflow.get('fsaverage', density='10k')\n",
    "# confirm that this matches the fmriprep data\n",
    "pial_files = [i for i in fsavg if 'pial' in i.name]\n",
    "assert len(pial_files) == 2, 'Did not find 2 pial files in fsaverage'\n",
    "\n",
    "pial_img = nib.load(pial_files[0])\n",
    "print(pial_img.darrays[0].data.shape)\n"
   ]
  },
  {
   "cell_type": "markdown",
   "id": "cc5748c0",
   "metadata": {},
   "source": [
    "### Query the dataset using PyBIDS\n",
    "\n",
    "Because the dataset is organized using the BIDS standard, we can use the [PyBIDS](https://bids-standard.github.io/pybids/) tool to query the dataset and obtain useful metadata.\n"
   ]
  },
  {
   "cell_type": "code",
   "execution_count": 3,
   "id": "fad1ecee",
   "metadata": {
    "lines_to_next_cell": 2
   },
   "outputs": [
    {
     "name": "stderr",
     "output_type": "stream",
     "text": [
      "/Users/poldrack/micromamba/envs/aineuro/lib/python3.12/site-packages/bids/layout/layout.py:516: UserWarning: Derivative indexing was requested, but no valid datasets were found in the specified locations ([PosixPath('/Users/poldrack/data_unsynced/ds000105/derivatives/fmriprep/derivatives')]). Note that all BIDS-Derivatives datasets must meet all the requirements for BIDS-Raw datasets (a common problem is to fail to include a 'dataset_description.json' file in derivatives datasets).\n",
      "Example contents of 'dataset_description.json':\n",
      "{\"Name\": \"Example dataset\", \"BIDSVersion\": \"1.0.2\", \"GeneratedBy\": [{\"Name\": \"Example pipeline\"}]}\n",
      "  warnings.warn(\"Derivative indexing was requested, but no valid \"\n"
     ]
    }
   ],
   "source": [
    "# load the dataset using pybids and get runs for each subject\n",
    "\n",
    "\n",
    "layout, deriv_layout = get_layouts(data_dir, fmriprep_dir)"
   ]
  },
  {
   "cell_type": "markdown",
   "id": "7b055d4f",
   "metadata": {},
   "source": [
    "### Confound regression\n",
    "\n",
    "Use the outputs from fMRIPrep to generate a denoised version of the data.\n",
    "\n"
   ]
  },
  {
   "cell_type": "code",
   "execution_count": 56,
   "id": "f6874301",
   "metadata": {},
   "outputs": [
    {
     "name": "stdout",
     "output_type": "stream",
     "text": [
      "(121, 10242)\n",
      "(121, 10242)\n"
     ]
    }
   ],
   "source": [
    "subject = 1\n",
    "run = 1\n",
    "\n",
    "def get_surface_files(subject, run):\n",
    "    preproc_surf_files = {}\n",
    "    preproc_surf_data = {}\n",
    "\n",
    "    for hemis in ['L', 'R']:\n",
    "        preproc_surf_files[hemis] = deriv_layout.get(\n",
    "            subject=subject,\n",
    "            run=run,\n",
    "            hemi=hemis,\n",
    "            space='fsaverage5',\n",
    "            extension='func.gii',\n",
    "            return_type='file')[0]\n",
    "        preproc_surf_img = nib.load(preproc_surf_files[hemis])\n",
    "        for i in range(len(preproc_surf_img.darrays)):\n",
    "            if i == 0:\n",
    "                preproc_surf_data[hemis] = preproc_surf_img.darrays[i].data\n",
    "            else:\n",
    "                preproc_surf_data[hemis] = np.vstack(\n",
    "                    (preproc_surf_data[hemis], preproc_surf_img.darrays[i].data))\n",
    "\n",
    "        print(preproc_surf_data[hemis].shape)\n",
    "    return preproc_surf_files, preproc_surf_data\n",
    "\n",
    "# make sure we have the correct fsaverage surface\n",
    "preproc_surf_files, preproc_surf_data = get_surface_files(subject, run)\n",
    "assert pial_img.darrays[0].data.shape[0] == preproc_surf_data['L'].shape[1]\n"
   ]
  },
  {
   "cell_type": "code",
   "execution_count": 59,
   "id": "ad9be120",
   "metadata": {},
   "outputs": [
    {
     "name": "stderr",
     "output_type": "stream",
     "text": [
      "/Users/poldrack/micromamba/envs/aineuro/lib/python3.12/site-packages/bids/layout/layout.py:516: UserWarning: Derivative indexing was requested, but no valid datasets were found in the specified locations ([PosixPath('/Users/poldrack/data_unsynced/ds000105/derivatives/fmriprep/derivatives')]). Note that all BIDS-Derivatives datasets must meet all the requirements for BIDS-Raw datasets (a common problem is to fail to include a 'dataset_description.json' file in derivatives datasets).\n",
      "Example contents of 'dataset_description.json':\n",
      "{\"Name\": \"Example dataset\", \"BIDSVersion\": \"1.0.2\", \"GeneratedBy\": [{\"Name\": \"Example pipeline\"}]}\n",
      "  warnings.warn(\"Derivative indexing was requested, but no valid \"\n"
     ]
    },
    {
     "name": "stdout",
     "output_type": "stream",
     "text": [
      "Subject 1 has 12 runs\n",
      "(121, 10242)\n",
      "(121, 10242)\n"
     ]
    },
    {
     "name": "stderr",
     "output_type": "stream",
     "text": [
      "/var/folders/r2/f85nyfr1785fj4257wkdj7480000gn/T/ipykernel_77676/893423826.py:49: DeprecationWarning: The default strategy for standardize is currently 'zscore' which incorrectly uses population std to calculate sample zscores. The new strategy 'zscore_sample' corrects this behavior by using the sample std. In release 0.13, the default strategy will be replaced by the new strategy and the 'zscore' option will be removed. Please use 'zscore_sample' instead.\n",
      "  cleaned_data = nilearn.signal.clean(\n"
     ]
    },
    {
     "name": "stdout",
     "output_type": "stream",
     "text": [
      "(121, 10242)\n",
      "(121, 10242)\n"
     ]
    },
    {
     "name": "stderr",
     "output_type": "stream",
     "text": [
      "/var/folders/r2/f85nyfr1785fj4257wkdj7480000gn/T/ipykernel_77676/893423826.py:49: DeprecationWarning: The default strategy for standardize is currently 'zscore' which incorrectly uses population std to calculate sample zscores. The new strategy 'zscore_sample' corrects this behavior by using the sample std. In release 0.13, the default strategy will be replaced by the new strategy and the 'zscore' option will be removed. Please use 'zscore_sample' instead.\n",
      "  cleaned_data = nilearn.signal.clean(\n"
     ]
    },
    {
     "name": "stdout",
     "output_type": "stream",
     "text": [
      "(121, 10242)\n",
      "(121, 10242)\n"
     ]
    },
    {
     "name": "stderr",
     "output_type": "stream",
     "text": [
      "/var/folders/r2/f85nyfr1785fj4257wkdj7480000gn/T/ipykernel_77676/893423826.py:49: DeprecationWarning: The default strategy for standardize is currently 'zscore' which incorrectly uses population std to calculate sample zscores. The new strategy 'zscore_sample' corrects this behavior by using the sample std. In release 0.13, the default strategy will be replaced by the new strategy and the 'zscore' option will be removed. Please use 'zscore_sample' instead.\n",
      "  cleaned_data = nilearn.signal.clean(\n"
     ]
    },
    {
     "name": "stdout",
     "output_type": "stream",
     "text": [
      "(121, 10242)\n",
      "(121, 10242)\n"
     ]
    },
    {
     "name": "stderr",
     "output_type": "stream",
     "text": [
      "/var/folders/r2/f85nyfr1785fj4257wkdj7480000gn/T/ipykernel_77676/893423826.py:49: DeprecationWarning: The default strategy for standardize is currently 'zscore' which incorrectly uses population std to calculate sample zscores. The new strategy 'zscore_sample' corrects this behavior by using the sample std. In release 0.13, the default strategy will be replaced by the new strategy and the 'zscore' option will be removed. Please use 'zscore_sample' instead.\n",
      "  cleaned_data = nilearn.signal.clean(\n"
     ]
    },
    {
     "name": "stdout",
     "output_type": "stream",
     "text": [
      "(121, 10242)\n",
      "(121, 10242)\n"
     ]
    },
    {
     "name": "stderr",
     "output_type": "stream",
     "text": [
      "/var/folders/r2/f85nyfr1785fj4257wkdj7480000gn/T/ipykernel_77676/893423826.py:49: DeprecationWarning: The default strategy for standardize is currently 'zscore' which incorrectly uses population std to calculate sample zscores. The new strategy 'zscore_sample' corrects this behavior by using the sample std. In release 0.13, the default strategy will be replaced by the new strategy and the 'zscore' option will be removed. Please use 'zscore_sample' instead.\n",
      "  cleaned_data = nilearn.signal.clean(\n"
     ]
    },
    {
     "name": "stdout",
     "output_type": "stream",
     "text": [
      "(121, 10242)\n",
      "(121, 10242)\n"
     ]
    },
    {
     "name": "stderr",
     "output_type": "stream",
     "text": [
      "/var/folders/r2/f85nyfr1785fj4257wkdj7480000gn/T/ipykernel_77676/893423826.py:49: DeprecationWarning: The default strategy for standardize is currently 'zscore' which incorrectly uses population std to calculate sample zscores. The new strategy 'zscore_sample' corrects this behavior by using the sample std. In release 0.13, the default strategy will be replaced by the new strategy and the 'zscore' option will be removed. Please use 'zscore_sample' instead.\n",
      "  cleaned_data = nilearn.signal.clean(\n"
     ]
    },
    {
     "name": "stdout",
     "output_type": "stream",
     "text": [
      "(121, 10242)\n",
      "(121, 10242)\n"
     ]
    },
    {
     "name": "stderr",
     "output_type": "stream",
     "text": [
      "/var/folders/r2/f85nyfr1785fj4257wkdj7480000gn/T/ipykernel_77676/893423826.py:49: DeprecationWarning: The default strategy for standardize is currently 'zscore' which incorrectly uses population std to calculate sample zscores. The new strategy 'zscore_sample' corrects this behavior by using the sample std. In release 0.13, the default strategy will be replaced by the new strategy and the 'zscore' option will be removed. Please use 'zscore_sample' instead.\n",
      "  cleaned_data = nilearn.signal.clean(\n"
     ]
    },
    {
     "name": "stdout",
     "output_type": "stream",
     "text": [
      "(121, 10242)\n",
      "(121, 10242)\n"
     ]
    },
    {
     "name": "stderr",
     "output_type": "stream",
     "text": [
      "/var/folders/r2/f85nyfr1785fj4257wkdj7480000gn/T/ipykernel_77676/893423826.py:49: DeprecationWarning: The default strategy for standardize is currently 'zscore' which incorrectly uses population std to calculate sample zscores. The new strategy 'zscore_sample' corrects this behavior by using the sample std. In release 0.13, the default strategy will be replaced by the new strategy and the 'zscore' option will be removed. Please use 'zscore_sample' instead.\n",
      "  cleaned_data = nilearn.signal.clean(\n"
     ]
    },
    {
     "name": "stdout",
     "output_type": "stream",
     "text": [
      "(121, 10242)\n",
      "(121, 10242)\n"
     ]
    },
    {
     "name": "stderr",
     "output_type": "stream",
     "text": [
      "/var/folders/r2/f85nyfr1785fj4257wkdj7480000gn/T/ipykernel_77676/893423826.py:49: DeprecationWarning: The default strategy for standardize is currently 'zscore' which incorrectly uses population std to calculate sample zscores. The new strategy 'zscore_sample' corrects this behavior by using the sample std. In release 0.13, the default strategy will be replaced by the new strategy and the 'zscore' option will be removed. Please use 'zscore_sample' instead.\n",
      "  cleaned_data = nilearn.signal.clean(\n"
     ]
    },
    {
     "name": "stdout",
     "output_type": "stream",
     "text": [
      "(121, 10242)\n",
      "(121, 10242)\n"
     ]
    },
    {
     "name": "stderr",
     "output_type": "stream",
     "text": [
      "/var/folders/r2/f85nyfr1785fj4257wkdj7480000gn/T/ipykernel_77676/893423826.py:49: DeprecationWarning: The default strategy for standardize is currently 'zscore' which incorrectly uses population std to calculate sample zscores. The new strategy 'zscore_sample' corrects this behavior by using the sample std. In release 0.13, the default strategy will be replaced by the new strategy and the 'zscore' option will be removed. Please use 'zscore_sample' instead.\n",
      "  cleaned_data = nilearn.signal.clean(\n"
     ]
    },
    {
     "name": "stdout",
     "output_type": "stream",
     "text": [
      "(121, 10242)\n",
      "(121, 10242)\n"
     ]
    },
    {
     "name": "stderr",
     "output_type": "stream",
     "text": [
      "/var/folders/r2/f85nyfr1785fj4257wkdj7480000gn/T/ipykernel_77676/893423826.py:49: DeprecationWarning: The default strategy for standardize is currently 'zscore' which incorrectly uses population std to calculate sample zscores. The new strategy 'zscore_sample' corrects this behavior by using the sample std. In release 0.13, the default strategy will be replaced by the new strategy and the 'zscore' option will be removed. Please use 'zscore_sample' instead.\n",
      "  cleaned_data = nilearn.signal.clean(\n"
     ]
    },
    {
     "name": "stdout",
     "output_type": "stream",
     "text": [
      "(121, 10242)\n",
      "(121, 10242)\n"
     ]
    },
    {
     "name": "stderr",
     "output_type": "stream",
     "text": [
      "/var/folders/r2/f85nyfr1785fj4257wkdj7480000gn/T/ipykernel_77676/893423826.py:49: DeprecationWarning: The default strategy for standardize is currently 'zscore' which incorrectly uses population std to calculate sample zscores. The new strategy 'zscore_sample' corrects this behavior by using the sample std. In release 0.13, the default strategy will be replaced by the new strategy and the 'zscore' option will be removed. Please use 'zscore_sample' instead.\n",
      "  cleaned_data = nilearn.signal.clean(\n"
     ]
    },
    {
     "name": "stdout",
     "output_type": "stream",
     "text": [
      "Subject 2 has 12 runs\n",
      "(121, 10242)\n",
      "(121, 10242)\n"
     ]
    },
    {
     "name": "stderr",
     "output_type": "stream",
     "text": [
      "/var/folders/r2/f85nyfr1785fj4257wkdj7480000gn/T/ipykernel_77676/893423826.py:49: DeprecationWarning: The default strategy for standardize is currently 'zscore' which incorrectly uses population std to calculate sample zscores. The new strategy 'zscore_sample' corrects this behavior by using the sample std. In release 0.13, the default strategy will be replaced by the new strategy and the 'zscore' option will be removed. Please use 'zscore_sample' instead.\n",
      "  cleaned_data = nilearn.signal.clean(\n"
     ]
    },
    {
     "name": "stdout",
     "output_type": "stream",
     "text": [
      "(121, 10242)\n",
      "(121, 10242)\n"
     ]
    },
    {
     "name": "stderr",
     "output_type": "stream",
     "text": [
      "/var/folders/r2/f85nyfr1785fj4257wkdj7480000gn/T/ipykernel_77676/893423826.py:49: DeprecationWarning: The default strategy for standardize is currently 'zscore' which incorrectly uses population std to calculate sample zscores. The new strategy 'zscore_sample' corrects this behavior by using the sample std. In release 0.13, the default strategy will be replaced by the new strategy and the 'zscore' option will be removed. Please use 'zscore_sample' instead.\n",
      "  cleaned_data = nilearn.signal.clean(\n"
     ]
    },
    {
     "name": "stdout",
     "output_type": "stream",
     "text": [
      "(121, 10242)\n",
      "(121, 10242)\n"
     ]
    },
    {
     "name": "stderr",
     "output_type": "stream",
     "text": [
      "/var/folders/r2/f85nyfr1785fj4257wkdj7480000gn/T/ipykernel_77676/893423826.py:49: DeprecationWarning: The default strategy for standardize is currently 'zscore' which incorrectly uses population std to calculate sample zscores. The new strategy 'zscore_sample' corrects this behavior by using the sample std. In release 0.13, the default strategy will be replaced by the new strategy and the 'zscore' option will be removed. Please use 'zscore_sample' instead.\n",
      "  cleaned_data = nilearn.signal.clean(\n"
     ]
    },
    {
     "name": "stdout",
     "output_type": "stream",
     "text": [
      "(121, 10242)\n",
      "(121, 10242)\n"
     ]
    },
    {
     "name": "stderr",
     "output_type": "stream",
     "text": [
      "/var/folders/r2/f85nyfr1785fj4257wkdj7480000gn/T/ipykernel_77676/893423826.py:49: DeprecationWarning: The default strategy for standardize is currently 'zscore' which incorrectly uses population std to calculate sample zscores. The new strategy 'zscore_sample' corrects this behavior by using the sample std. In release 0.13, the default strategy will be replaced by the new strategy and the 'zscore' option will be removed. Please use 'zscore_sample' instead.\n",
      "  cleaned_data = nilearn.signal.clean(\n"
     ]
    },
    {
     "name": "stdout",
     "output_type": "stream",
     "text": [
      "(121, 10242)\n",
      "(121, 10242)\n"
     ]
    },
    {
     "name": "stderr",
     "output_type": "stream",
     "text": [
      "/var/folders/r2/f85nyfr1785fj4257wkdj7480000gn/T/ipykernel_77676/893423826.py:49: DeprecationWarning: The default strategy for standardize is currently 'zscore' which incorrectly uses population std to calculate sample zscores. The new strategy 'zscore_sample' corrects this behavior by using the sample std. In release 0.13, the default strategy will be replaced by the new strategy and the 'zscore' option will be removed. Please use 'zscore_sample' instead.\n",
      "  cleaned_data = nilearn.signal.clean(\n"
     ]
    },
    {
     "name": "stdout",
     "output_type": "stream",
     "text": [
      "(121, 10242)\n",
      "(121, 10242)\n"
     ]
    },
    {
     "name": "stderr",
     "output_type": "stream",
     "text": [
      "/var/folders/r2/f85nyfr1785fj4257wkdj7480000gn/T/ipykernel_77676/893423826.py:49: DeprecationWarning: The default strategy for standardize is currently 'zscore' which incorrectly uses population std to calculate sample zscores. The new strategy 'zscore_sample' corrects this behavior by using the sample std. In release 0.13, the default strategy will be replaced by the new strategy and the 'zscore' option will be removed. Please use 'zscore_sample' instead.\n",
      "  cleaned_data = nilearn.signal.clean(\n"
     ]
    },
    {
     "name": "stdout",
     "output_type": "stream",
     "text": [
      "(121, 10242)\n",
      "(121, 10242)\n"
     ]
    },
    {
     "name": "stderr",
     "output_type": "stream",
     "text": [
      "/var/folders/r2/f85nyfr1785fj4257wkdj7480000gn/T/ipykernel_77676/893423826.py:49: DeprecationWarning: The default strategy for standardize is currently 'zscore' which incorrectly uses population std to calculate sample zscores. The new strategy 'zscore_sample' corrects this behavior by using the sample std. In release 0.13, the default strategy will be replaced by the new strategy and the 'zscore' option will be removed. Please use 'zscore_sample' instead.\n",
      "  cleaned_data = nilearn.signal.clean(\n"
     ]
    },
    {
     "name": "stdout",
     "output_type": "stream",
     "text": [
      "(121, 10242)\n",
      "(121, 10242)\n"
     ]
    },
    {
     "name": "stderr",
     "output_type": "stream",
     "text": [
      "/var/folders/r2/f85nyfr1785fj4257wkdj7480000gn/T/ipykernel_77676/893423826.py:49: DeprecationWarning: The default strategy for standardize is currently 'zscore' which incorrectly uses population std to calculate sample zscores. The new strategy 'zscore_sample' corrects this behavior by using the sample std. In release 0.13, the default strategy will be replaced by the new strategy and the 'zscore' option will be removed. Please use 'zscore_sample' instead.\n",
      "  cleaned_data = nilearn.signal.clean(\n"
     ]
    },
    {
     "name": "stdout",
     "output_type": "stream",
     "text": [
      "(121, 10242)\n",
      "(121, 10242)\n"
     ]
    },
    {
     "name": "stderr",
     "output_type": "stream",
     "text": [
      "/var/folders/r2/f85nyfr1785fj4257wkdj7480000gn/T/ipykernel_77676/893423826.py:49: DeprecationWarning: The default strategy for standardize is currently 'zscore' which incorrectly uses population std to calculate sample zscores. The new strategy 'zscore_sample' corrects this behavior by using the sample std. In release 0.13, the default strategy will be replaced by the new strategy and the 'zscore' option will be removed. Please use 'zscore_sample' instead.\n",
      "  cleaned_data = nilearn.signal.clean(\n"
     ]
    },
    {
     "name": "stdout",
     "output_type": "stream",
     "text": [
      "(121, 10242)\n",
      "(121, 10242)\n"
     ]
    },
    {
     "name": "stderr",
     "output_type": "stream",
     "text": [
      "/var/folders/r2/f85nyfr1785fj4257wkdj7480000gn/T/ipykernel_77676/893423826.py:49: DeprecationWarning: The default strategy for standardize is currently 'zscore' which incorrectly uses population std to calculate sample zscores. The new strategy 'zscore_sample' corrects this behavior by using the sample std. In release 0.13, the default strategy will be replaced by the new strategy and the 'zscore' option will be removed. Please use 'zscore_sample' instead.\n",
      "  cleaned_data = nilearn.signal.clean(\n"
     ]
    },
    {
     "name": "stdout",
     "output_type": "stream",
     "text": [
      "(121, 10242)\n",
      "(121, 10242)\n"
     ]
    },
    {
     "name": "stderr",
     "output_type": "stream",
     "text": [
      "/var/folders/r2/f85nyfr1785fj4257wkdj7480000gn/T/ipykernel_77676/893423826.py:49: DeprecationWarning: The default strategy for standardize is currently 'zscore' which incorrectly uses population std to calculate sample zscores. The new strategy 'zscore_sample' corrects this behavior by using the sample std. In release 0.13, the default strategy will be replaced by the new strategy and the 'zscore' option will be removed. Please use 'zscore_sample' instead.\n",
      "  cleaned_data = nilearn.signal.clean(\n"
     ]
    },
    {
     "name": "stdout",
     "output_type": "stream",
     "text": [
      "(121, 10242)\n",
      "(121, 10242)\n"
     ]
    },
    {
     "name": "stderr",
     "output_type": "stream",
     "text": [
      "/var/folders/r2/f85nyfr1785fj4257wkdj7480000gn/T/ipykernel_77676/893423826.py:49: DeprecationWarning: The default strategy for standardize is currently 'zscore' which incorrectly uses population std to calculate sample zscores. The new strategy 'zscore_sample' corrects this behavior by using the sample std. In release 0.13, the default strategy will be replaced by the new strategy and the 'zscore' option will be removed. Please use 'zscore_sample' instead.\n",
      "  cleaned_data = nilearn.signal.clean(\n"
     ]
    },
    {
     "name": "stdout",
     "output_type": "stream",
     "text": [
      "Subject 3 has 12 runs\n",
      "(121, 10242)\n",
      "(121, 10242)\n"
     ]
    },
    {
     "name": "stderr",
     "output_type": "stream",
     "text": [
      "/var/folders/r2/f85nyfr1785fj4257wkdj7480000gn/T/ipykernel_77676/893423826.py:49: DeprecationWarning: The default strategy for standardize is currently 'zscore' which incorrectly uses population std to calculate sample zscores. The new strategy 'zscore_sample' corrects this behavior by using the sample std. In release 0.13, the default strategy will be replaced by the new strategy and the 'zscore' option will be removed. Please use 'zscore_sample' instead.\n",
      "  cleaned_data = nilearn.signal.clean(\n"
     ]
    },
    {
     "name": "stdout",
     "output_type": "stream",
     "text": [
      "(121, 10242)\n",
      "(121, 10242)\n"
     ]
    },
    {
     "name": "stderr",
     "output_type": "stream",
     "text": [
      "/var/folders/r2/f85nyfr1785fj4257wkdj7480000gn/T/ipykernel_77676/893423826.py:49: DeprecationWarning: The default strategy for standardize is currently 'zscore' which incorrectly uses population std to calculate sample zscores. The new strategy 'zscore_sample' corrects this behavior by using the sample std. In release 0.13, the default strategy will be replaced by the new strategy and the 'zscore' option will be removed. Please use 'zscore_sample' instead.\n",
      "  cleaned_data = nilearn.signal.clean(\n"
     ]
    },
    {
     "name": "stdout",
     "output_type": "stream",
     "text": [
      "(121, 10242)\n",
      "(121, 10242)\n"
     ]
    },
    {
     "name": "stderr",
     "output_type": "stream",
     "text": [
      "/var/folders/r2/f85nyfr1785fj4257wkdj7480000gn/T/ipykernel_77676/893423826.py:49: DeprecationWarning: The default strategy for standardize is currently 'zscore' which incorrectly uses population std to calculate sample zscores. The new strategy 'zscore_sample' corrects this behavior by using the sample std. In release 0.13, the default strategy will be replaced by the new strategy and the 'zscore' option will be removed. Please use 'zscore_sample' instead.\n",
      "  cleaned_data = nilearn.signal.clean(\n"
     ]
    },
    {
     "name": "stdout",
     "output_type": "stream",
     "text": [
      "(121, 10242)\n",
      "(121, 10242)\n"
     ]
    },
    {
     "name": "stderr",
     "output_type": "stream",
     "text": [
      "/var/folders/r2/f85nyfr1785fj4257wkdj7480000gn/T/ipykernel_77676/893423826.py:49: DeprecationWarning: The default strategy for standardize is currently 'zscore' which incorrectly uses population std to calculate sample zscores. The new strategy 'zscore_sample' corrects this behavior by using the sample std. In release 0.13, the default strategy will be replaced by the new strategy and the 'zscore' option will be removed. Please use 'zscore_sample' instead.\n",
      "  cleaned_data = nilearn.signal.clean(\n"
     ]
    },
    {
     "name": "stdout",
     "output_type": "stream",
     "text": [
      "(121, 10242)\n",
      "(121, 10242)\n"
     ]
    },
    {
     "name": "stderr",
     "output_type": "stream",
     "text": [
      "/var/folders/r2/f85nyfr1785fj4257wkdj7480000gn/T/ipykernel_77676/893423826.py:49: DeprecationWarning: The default strategy for standardize is currently 'zscore' which incorrectly uses population std to calculate sample zscores. The new strategy 'zscore_sample' corrects this behavior by using the sample std. In release 0.13, the default strategy will be replaced by the new strategy and the 'zscore' option will be removed. Please use 'zscore_sample' instead.\n",
      "  cleaned_data = nilearn.signal.clean(\n"
     ]
    },
    {
     "name": "stdout",
     "output_type": "stream",
     "text": [
      "(121, 10242)\n",
      "(121, 10242)\n"
     ]
    },
    {
     "name": "stderr",
     "output_type": "stream",
     "text": [
      "/var/folders/r2/f85nyfr1785fj4257wkdj7480000gn/T/ipykernel_77676/893423826.py:49: DeprecationWarning: The default strategy for standardize is currently 'zscore' which incorrectly uses population std to calculate sample zscores. The new strategy 'zscore_sample' corrects this behavior by using the sample std. In release 0.13, the default strategy will be replaced by the new strategy and the 'zscore' option will be removed. Please use 'zscore_sample' instead.\n",
      "  cleaned_data = nilearn.signal.clean(\n"
     ]
    },
    {
     "name": "stdout",
     "output_type": "stream",
     "text": [
      "(121, 10242)\n",
      "(121, 10242)\n"
     ]
    },
    {
     "name": "stderr",
     "output_type": "stream",
     "text": [
      "/var/folders/r2/f85nyfr1785fj4257wkdj7480000gn/T/ipykernel_77676/893423826.py:49: DeprecationWarning: The default strategy for standardize is currently 'zscore' which incorrectly uses population std to calculate sample zscores. The new strategy 'zscore_sample' corrects this behavior by using the sample std. In release 0.13, the default strategy will be replaced by the new strategy and the 'zscore' option will be removed. Please use 'zscore_sample' instead.\n",
      "  cleaned_data = nilearn.signal.clean(\n"
     ]
    },
    {
     "name": "stdout",
     "output_type": "stream",
     "text": [
      "(121, 10242)\n",
      "(121, 10242)\n"
     ]
    },
    {
     "name": "stderr",
     "output_type": "stream",
     "text": [
      "/var/folders/r2/f85nyfr1785fj4257wkdj7480000gn/T/ipykernel_77676/893423826.py:49: DeprecationWarning: The default strategy for standardize is currently 'zscore' which incorrectly uses population std to calculate sample zscores. The new strategy 'zscore_sample' corrects this behavior by using the sample std. In release 0.13, the default strategy will be replaced by the new strategy and the 'zscore' option will be removed. Please use 'zscore_sample' instead.\n",
      "  cleaned_data = nilearn.signal.clean(\n"
     ]
    },
    {
     "name": "stdout",
     "output_type": "stream",
     "text": [
      "(121, 10242)\n",
      "(121, 10242)\n"
     ]
    },
    {
     "name": "stderr",
     "output_type": "stream",
     "text": [
      "/var/folders/r2/f85nyfr1785fj4257wkdj7480000gn/T/ipykernel_77676/893423826.py:49: DeprecationWarning: The default strategy for standardize is currently 'zscore' which incorrectly uses population std to calculate sample zscores. The new strategy 'zscore_sample' corrects this behavior by using the sample std. In release 0.13, the default strategy will be replaced by the new strategy and the 'zscore' option will be removed. Please use 'zscore_sample' instead.\n",
      "  cleaned_data = nilearn.signal.clean(\n"
     ]
    },
    {
     "name": "stdout",
     "output_type": "stream",
     "text": [
      "(121, 10242)\n",
      "(121, 10242)\n"
     ]
    },
    {
     "name": "stderr",
     "output_type": "stream",
     "text": [
      "/var/folders/r2/f85nyfr1785fj4257wkdj7480000gn/T/ipykernel_77676/893423826.py:49: DeprecationWarning: The default strategy for standardize is currently 'zscore' which incorrectly uses population std to calculate sample zscores. The new strategy 'zscore_sample' corrects this behavior by using the sample std. In release 0.13, the default strategy will be replaced by the new strategy and the 'zscore' option will be removed. Please use 'zscore_sample' instead.\n",
      "  cleaned_data = nilearn.signal.clean(\n"
     ]
    },
    {
     "name": "stdout",
     "output_type": "stream",
     "text": [
      "(121, 10242)\n",
      "(121, 10242)\n"
     ]
    },
    {
     "name": "stderr",
     "output_type": "stream",
     "text": [
      "/var/folders/r2/f85nyfr1785fj4257wkdj7480000gn/T/ipykernel_77676/893423826.py:49: DeprecationWarning: The default strategy for standardize is currently 'zscore' which incorrectly uses population std to calculate sample zscores. The new strategy 'zscore_sample' corrects this behavior by using the sample std. In release 0.13, the default strategy will be replaced by the new strategy and the 'zscore' option will be removed. Please use 'zscore_sample' instead.\n",
      "  cleaned_data = nilearn.signal.clean(\n"
     ]
    },
    {
     "name": "stdout",
     "output_type": "stream",
     "text": [
      "(121, 10242)\n",
      "(121, 10242)\n"
     ]
    },
    {
     "name": "stderr",
     "output_type": "stream",
     "text": [
      "/var/folders/r2/f85nyfr1785fj4257wkdj7480000gn/T/ipykernel_77676/893423826.py:49: DeprecationWarning: The default strategy for standardize is currently 'zscore' which incorrectly uses population std to calculate sample zscores. The new strategy 'zscore_sample' corrects this behavior by using the sample std. In release 0.13, the default strategy will be replaced by the new strategy and the 'zscore' option will be removed. Please use 'zscore_sample' instead.\n",
      "  cleaned_data = nilearn.signal.clean(\n"
     ]
    },
    {
     "name": "stdout",
     "output_type": "stream",
     "text": [
      "Subject 4 has 12 runs\n",
      "(121, 10242)\n",
      "(121, 10242)\n"
     ]
    },
    {
     "name": "stderr",
     "output_type": "stream",
     "text": [
      "/var/folders/r2/f85nyfr1785fj4257wkdj7480000gn/T/ipykernel_77676/893423826.py:49: DeprecationWarning: The default strategy for standardize is currently 'zscore' which incorrectly uses population std to calculate sample zscores. The new strategy 'zscore_sample' corrects this behavior by using the sample std. In release 0.13, the default strategy will be replaced by the new strategy and the 'zscore' option will be removed. Please use 'zscore_sample' instead.\n",
      "  cleaned_data = nilearn.signal.clean(\n"
     ]
    },
    {
     "name": "stdout",
     "output_type": "stream",
     "text": [
      "(121, 10242)\n",
      "(121, 10242)\n"
     ]
    },
    {
     "name": "stderr",
     "output_type": "stream",
     "text": [
      "/var/folders/r2/f85nyfr1785fj4257wkdj7480000gn/T/ipykernel_77676/893423826.py:49: DeprecationWarning: The default strategy for standardize is currently 'zscore' which incorrectly uses population std to calculate sample zscores. The new strategy 'zscore_sample' corrects this behavior by using the sample std. In release 0.13, the default strategy will be replaced by the new strategy and the 'zscore' option will be removed. Please use 'zscore_sample' instead.\n",
      "  cleaned_data = nilearn.signal.clean(\n"
     ]
    },
    {
     "name": "stdout",
     "output_type": "stream",
     "text": [
      "(121, 10242)\n",
      "(121, 10242)\n"
     ]
    },
    {
     "name": "stderr",
     "output_type": "stream",
     "text": [
      "/var/folders/r2/f85nyfr1785fj4257wkdj7480000gn/T/ipykernel_77676/893423826.py:49: DeprecationWarning: The default strategy for standardize is currently 'zscore' which incorrectly uses population std to calculate sample zscores. The new strategy 'zscore_sample' corrects this behavior by using the sample std. In release 0.13, the default strategy will be replaced by the new strategy and the 'zscore' option will be removed. Please use 'zscore_sample' instead.\n",
      "  cleaned_data = nilearn.signal.clean(\n"
     ]
    },
    {
     "name": "stdout",
     "output_type": "stream",
     "text": [
      "(121, 10242)\n",
      "(121, 10242)\n"
     ]
    },
    {
     "name": "stderr",
     "output_type": "stream",
     "text": [
      "/var/folders/r2/f85nyfr1785fj4257wkdj7480000gn/T/ipykernel_77676/893423826.py:49: DeprecationWarning: The default strategy for standardize is currently 'zscore' which incorrectly uses population std to calculate sample zscores. The new strategy 'zscore_sample' corrects this behavior by using the sample std. In release 0.13, the default strategy will be replaced by the new strategy and the 'zscore' option will be removed. Please use 'zscore_sample' instead.\n",
      "  cleaned_data = nilearn.signal.clean(\n"
     ]
    },
    {
     "name": "stdout",
     "output_type": "stream",
     "text": [
      "(121, 10242)\n",
      "(121, 10242)\n"
     ]
    },
    {
     "name": "stderr",
     "output_type": "stream",
     "text": [
      "/var/folders/r2/f85nyfr1785fj4257wkdj7480000gn/T/ipykernel_77676/893423826.py:49: DeprecationWarning: The default strategy for standardize is currently 'zscore' which incorrectly uses population std to calculate sample zscores. The new strategy 'zscore_sample' corrects this behavior by using the sample std. In release 0.13, the default strategy will be replaced by the new strategy and the 'zscore' option will be removed. Please use 'zscore_sample' instead.\n",
      "  cleaned_data = nilearn.signal.clean(\n"
     ]
    },
    {
     "name": "stdout",
     "output_type": "stream",
     "text": [
      "(121, 10242)\n",
      "(121, 10242)\n"
     ]
    },
    {
     "name": "stderr",
     "output_type": "stream",
     "text": [
      "/var/folders/r2/f85nyfr1785fj4257wkdj7480000gn/T/ipykernel_77676/893423826.py:49: DeprecationWarning: The default strategy for standardize is currently 'zscore' which incorrectly uses population std to calculate sample zscores. The new strategy 'zscore_sample' corrects this behavior by using the sample std. In release 0.13, the default strategy will be replaced by the new strategy and the 'zscore' option will be removed. Please use 'zscore_sample' instead.\n",
      "  cleaned_data = nilearn.signal.clean(\n"
     ]
    },
    {
     "name": "stdout",
     "output_type": "stream",
     "text": [
      "(121, 10242)\n",
      "(121, 10242)\n"
     ]
    },
    {
     "name": "stderr",
     "output_type": "stream",
     "text": [
      "/var/folders/r2/f85nyfr1785fj4257wkdj7480000gn/T/ipykernel_77676/893423826.py:49: DeprecationWarning: The default strategy for standardize is currently 'zscore' which incorrectly uses population std to calculate sample zscores. The new strategy 'zscore_sample' corrects this behavior by using the sample std. In release 0.13, the default strategy will be replaced by the new strategy and the 'zscore' option will be removed. Please use 'zscore_sample' instead.\n",
      "  cleaned_data = nilearn.signal.clean(\n"
     ]
    },
    {
     "name": "stdout",
     "output_type": "stream",
     "text": [
      "(121, 10242)\n",
      "(121, 10242)\n"
     ]
    },
    {
     "name": "stderr",
     "output_type": "stream",
     "text": [
      "/var/folders/r2/f85nyfr1785fj4257wkdj7480000gn/T/ipykernel_77676/893423826.py:49: DeprecationWarning: The default strategy for standardize is currently 'zscore' which incorrectly uses population std to calculate sample zscores. The new strategy 'zscore_sample' corrects this behavior by using the sample std. In release 0.13, the default strategy will be replaced by the new strategy and the 'zscore' option will be removed. Please use 'zscore_sample' instead.\n",
      "  cleaned_data = nilearn.signal.clean(\n"
     ]
    },
    {
     "name": "stdout",
     "output_type": "stream",
     "text": [
      "(121, 10242)\n",
      "(121, 10242)\n"
     ]
    },
    {
     "name": "stderr",
     "output_type": "stream",
     "text": [
      "/var/folders/r2/f85nyfr1785fj4257wkdj7480000gn/T/ipykernel_77676/893423826.py:49: DeprecationWarning: The default strategy for standardize is currently 'zscore' which incorrectly uses population std to calculate sample zscores. The new strategy 'zscore_sample' corrects this behavior by using the sample std. In release 0.13, the default strategy will be replaced by the new strategy and the 'zscore' option will be removed. Please use 'zscore_sample' instead.\n",
      "  cleaned_data = nilearn.signal.clean(\n"
     ]
    },
    {
     "name": "stdout",
     "output_type": "stream",
     "text": [
      "(121, 10242)\n",
      "(121, 10242)\n"
     ]
    },
    {
     "name": "stderr",
     "output_type": "stream",
     "text": [
      "/var/folders/r2/f85nyfr1785fj4257wkdj7480000gn/T/ipykernel_77676/893423826.py:49: DeprecationWarning: The default strategy for standardize is currently 'zscore' which incorrectly uses population std to calculate sample zscores. The new strategy 'zscore_sample' corrects this behavior by using the sample std. In release 0.13, the default strategy will be replaced by the new strategy and the 'zscore' option will be removed. Please use 'zscore_sample' instead.\n",
      "  cleaned_data = nilearn.signal.clean(\n"
     ]
    },
    {
     "name": "stdout",
     "output_type": "stream",
     "text": [
      "(121, 10242)\n",
      "(121, 10242)\n"
     ]
    },
    {
     "name": "stderr",
     "output_type": "stream",
     "text": [
      "/var/folders/r2/f85nyfr1785fj4257wkdj7480000gn/T/ipykernel_77676/893423826.py:49: DeprecationWarning: The default strategy for standardize is currently 'zscore' which incorrectly uses population std to calculate sample zscores. The new strategy 'zscore_sample' corrects this behavior by using the sample std. In release 0.13, the default strategy will be replaced by the new strategy and the 'zscore' option will be removed. Please use 'zscore_sample' instead.\n",
      "  cleaned_data = nilearn.signal.clean(\n"
     ]
    },
    {
     "name": "stdout",
     "output_type": "stream",
     "text": [
      "(121, 10242)\n",
      "(121, 10242)\n"
     ]
    },
    {
     "name": "stderr",
     "output_type": "stream",
     "text": [
      "/var/folders/r2/f85nyfr1785fj4257wkdj7480000gn/T/ipykernel_77676/893423826.py:49: DeprecationWarning: The default strategy for standardize is currently 'zscore' which incorrectly uses population std to calculate sample zscores. The new strategy 'zscore_sample' corrects this behavior by using the sample std. In release 0.13, the default strategy will be replaced by the new strategy and the 'zscore' option will be removed. Please use 'zscore_sample' instead.\n",
      "  cleaned_data = nilearn.signal.clean(\n"
     ]
    },
    {
     "name": "stdout",
     "output_type": "stream",
     "text": [
      "Subject 5 has 11 runs\n",
      "(121, 10242)\n",
      "(121, 10242)\n"
     ]
    },
    {
     "name": "stderr",
     "output_type": "stream",
     "text": [
      "/var/folders/r2/f85nyfr1785fj4257wkdj7480000gn/T/ipykernel_77676/893423826.py:49: DeprecationWarning: The default strategy for standardize is currently 'zscore' which incorrectly uses population std to calculate sample zscores. The new strategy 'zscore_sample' corrects this behavior by using the sample std. In release 0.13, the default strategy will be replaced by the new strategy and the 'zscore' option will be removed. Please use 'zscore_sample' instead.\n",
      "  cleaned_data = nilearn.signal.clean(\n"
     ]
    },
    {
     "name": "stdout",
     "output_type": "stream",
     "text": [
      "(121, 10242)\n",
      "(121, 10242)\n"
     ]
    },
    {
     "name": "stderr",
     "output_type": "stream",
     "text": [
      "/var/folders/r2/f85nyfr1785fj4257wkdj7480000gn/T/ipykernel_77676/893423826.py:49: DeprecationWarning: The default strategy for standardize is currently 'zscore' which incorrectly uses population std to calculate sample zscores. The new strategy 'zscore_sample' corrects this behavior by using the sample std. In release 0.13, the default strategy will be replaced by the new strategy and the 'zscore' option will be removed. Please use 'zscore_sample' instead.\n",
      "  cleaned_data = nilearn.signal.clean(\n"
     ]
    },
    {
     "name": "stdout",
     "output_type": "stream",
     "text": [
      "(121, 10242)\n",
      "(121, 10242)\n"
     ]
    },
    {
     "name": "stderr",
     "output_type": "stream",
     "text": [
      "/var/folders/r2/f85nyfr1785fj4257wkdj7480000gn/T/ipykernel_77676/893423826.py:49: DeprecationWarning: The default strategy for standardize is currently 'zscore' which incorrectly uses population std to calculate sample zscores. The new strategy 'zscore_sample' corrects this behavior by using the sample std. In release 0.13, the default strategy will be replaced by the new strategy and the 'zscore' option will be removed. Please use 'zscore_sample' instead.\n",
      "  cleaned_data = nilearn.signal.clean(\n"
     ]
    },
    {
     "name": "stdout",
     "output_type": "stream",
     "text": [
      "(121, 10242)\n",
      "(121, 10242)\n"
     ]
    },
    {
     "name": "stderr",
     "output_type": "stream",
     "text": [
      "/var/folders/r2/f85nyfr1785fj4257wkdj7480000gn/T/ipykernel_77676/893423826.py:49: DeprecationWarning: The default strategy for standardize is currently 'zscore' which incorrectly uses population std to calculate sample zscores. The new strategy 'zscore_sample' corrects this behavior by using the sample std. In release 0.13, the default strategy will be replaced by the new strategy and the 'zscore' option will be removed. Please use 'zscore_sample' instead.\n",
      "  cleaned_data = nilearn.signal.clean(\n"
     ]
    },
    {
     "name": "stdout",
     "output_type": "stream",
     "text": [
      "(121, 10242)\n",
      "(121, 10242)\n"
     ]
    },
    {
     "name": "stderr",
     "output_type": "stream",
     "text": [
      "/var/folders/r2/f85nyfr1785fj4257wkdj7480000gn/T/ipykernel_77676/893423826.py:49: DeprecationWarning: The default strategy for standardize is currently 'zscore' which incorrectly uses population std to calculate sample zscores. The new strategy 'zscore_sample' corrects this behavior by using the sample std. In release 0.13, the default strategy will be replaced by the new strategy and the 'zscore' option will be removed. Please use 'zscore_sample' instead.\n",
      "  cleaned_data = nilearn.signal.clean(\n"
     ]
    },
    {
     "name": "stdout",
     "output_type": "stream",
     "text": [
      "(121, 10242)\n",
      "(121, 10242)\n"
     ]
    },
    {
     "name": "stderr",
     "output_type": "stream",
     "text": [
      "/var/folders/r2/f85nyfr1785fj4257wkdj7480000gn/T/ipykernel_77676/893423826.py:49: DeprecationWarning: The default strategy for standardize is currently 'zscore' which incorrectly uses population std to calculate sample zscores. The new strategy 'zscore_sample' corrects this behavior by using the sample std. In release 0.13, the default strategy will be replaced by the new strategy and the 'zscore' option will be removed. Please use 'zscore_sample' instead.\n",
      "  cleaned_data = nilearn.signal.clean(\n"
     ]
    },
    {
     "name": "stdout",
     "output_type": "stream",
     "text": [
      "(121, 10242)\n",
      "(121, 10242)\n"
     ]
    },
    {
     "name": "stderr",
     "output_type": "stream",
     "text": [
      "/var/folders/r2/f85nyfr1785fj4257wkdj7480000gn/T/ipykernel_77676/893423826.py:49: DeprecationWarning: The default strategy for standardize is currently 'zscore' which incorrectly uses population std to calculate sample zscores. The new strategy 'zscore_sample' corrects this behavior by using the sample std. In release 0.13, the default strategy will be replaced by the new strategy and the 'zscore' option will be removed. Please use 'zscore_sample' instead.\n",
      "  cleaned_data = nilearn.signal.clean(\n"
     ]
    },
    {
     "name": "stdout",
     "output_type": "stream",
     "text": [
      "(121, 10242)\n",
      "(121, 10242)\n"
     ]
    },
    {
     "name": "stderr",
     "output_type": "stream",
     "text": [
      "/var/folders/r2/f85nyfr1785fj4257wkdj7480000gn/T/ipykernel_77676/893423826.py:49: DeprecationWarning: The default strategy for standardize is currently 'zscore' which incorrectly uses population std to calculate sample zscores. The new strategy 'zscore_sample' corrects this behavior by using the sample std. In release 0.13, the default strategy will be replaced by the new strategy and the 'zscore' option will be removed. Please use 'zscore_sample' instead.\n",
      "  cleaned_data = nilearn.signal.clean(\n"
     ]
    },
    {
     "name": "stdout",
     "output_type": "stream",
     "text": [
      "(121, 10242)\n",
      "(121, 10242)\n"
     ]
    },
    {
     "name": "stderr",
     "output_type": "stream",
     "text": [
      "/var/folders/r2/f85nyfr1785fj4257wkdj7480000gn/T/ipykernel_77676/893423826.py:49: DeprecationWarning: The default strategy for standardize is currently 'zscore' which incorrectly uses population std to calculate sample zscores. The new strategy 'zscore_sample' corrects this behavior by using the sample std. In release 0.13, the default strategy will be replaced by the new strategy and the 'zscore' option will be removed. Please use 'zscore_sample' instead.\n",
      "  cleaned_data = nilearn.signal.clean(\n"
     ]
    },
    {
     "name": "stdout",
     "output_type": "stream",
     "text": [
      "(121, 10242)\n",
      "(121, 10242)\n"
     ]
    },
    {
     "name": "stderr",
     "output_type": "stream",
     "text": [
      "/var/folders/r2/f85nyfr1785fj4257wkdj7480000gn/T/ipykernel_77676/893423826.py:49: DeprecationWarning: The default strategy for standardize is currently 'zscore' which incorrectly uses population std to calculate sample zscores. The new strategy 'zscore_sample' corrects this behavior by using the sample std. In release 0.13, the default strategy will be replaced by the new strategy and the 'zscore' option will be removed. Please use 'zscore_sample' instead.\n",
      "  cleaned_data = nilearn.signal.clean(\n"
     ]
    },
    {
     "name": "stdout",
     "output_type": "stream",
     "text": [
      "(121, 10242)\n",
      "(121, 10242)\n"
     ]
    },
    {
     "name": "stderr",
     "output_type": "stream",
     "text": [
      "/var/folders/r2/f85nyfr1785fj4257wkdj7480000gn/T/ipykernel_77676/893423826.py:49: DeprecationWarning: The default strategy for standardize is currently 'zscore' which incorrectly uses population std to calculate sample zscores. The new strategy 'zscore_sample' corrects this behavior by using the sample std. In release 0.13, the default strategy will be replaced by the new strategy and the 'zscore' option will be removed. Please use 'zscore_sample' instead.\n",
      "  cleaned_data = nilearn.signal.clean(\n"
     ]
    },
    {
     "name": "stdout",
     "output_type": "stream",
     "text": [
      "Subject 6 has 12 runs\n",
      "(121, 10242)\n",
      "(121, 10242)\n"
     ]
    },
    {
     "name": "stderr",
     "output_type": "stream",
     "text": [
      "/var/folders/r2/f85nyfr1785fj4257wkdj7480000gn/T/ipykernel_77676/893423826.py:49: DeprecationWarning: The default strategy for standardize is currently 'zscore' which incorrectly uses population std to calculate sample zscores. The new strategy 'zscore_sample' corrects this behavior by using the sample std. In release 0.13, the default strategy will be replaced by the new strategy and the 'zscore' option will be removed. Please use 'zscore_sample' instead.\n",
      "  cleaned_data = nilearn.signal.clean(\n"
     ]
    },
    {
     "name": "stdout",
     "output_type": "stream",
     "text": [
      "(121, 10242)\n",
      "(121, 10242)\n"
     ]
    },
    {
     "name": "stderr",
     "output_type": "stream",
     "text": [
      "/var/folders/r2/f85nyfr1785fj4257wkdj7480000gn/T/ipykernel_77676/893423826.py:49: DeprecationWarning: The default strategy for standardize is currently 'zscore' which incorrectly uses population std to calculate sample zscores. The new strategy 'zscore_sample' corrects this behavior by using the sample std. In release 0.13, the default strategy will be replaced by the new strategy and the 'zscore' option will be removed. Please use 'zscore_sample' instead.\n",
      "  cleaned_data = nilearn.signal.clean(\n"
     ]
    },
    {
     "name": "stdout",
     "output_type": "stream",
     "text": [
      "(121, 10242)\n",
      "(121, 10242)\n"
     ]
    },
    {
     "name": "stderr",
     "output_type": "stream",
     "text": [
      "/var/folders/r2/f85nyfr1785fj4257wkdj7480000gn/T/ipykernel_77676/893423826.py:49: DeprecationWarning: The default strategy for standardize is currently 'zscore' which incorrectly uses population std to calculate sample zscores. The new strategy 'zscore_sample' corrects this behavior by using the sample std. In release 0.13, the default strategy will be replaced by the new strategy and the 'zscore' option will be removed. Please use 'zscore_sample' instead.\n",
      "  cleaned_data = nilearn.signal.clean(\n"
     ]
    },
    {
     "name": "stdout",
     "output_type": "stream",
     "text": [
      "(121, 10242)\n",
      "(121, 10242)\n"
     ]
    },
    {
     "name": "stderr",
     "output_type": "stream",
     "text": [
      "/var/folders/r2/f85nyfr1785fj4257wkdj7480000gn/T/ipykernel_77676/893423826.py:49: DeprecationWarning: The default strategy for standardize is currently 'zscore' which incorrectly uses population std to calculate sample zscores. The new strategy 'zscore_sample' corrects this behavior by using the sample std. In release 0.13, the default strategy will be replaced by the new strategy and the 'zscore' option will be removed. Please use 'zscore_sample' instead.\n",
      "  cleaned_data = nilearn.signal.clean(\n"
     ]
    },
    {
     "name": "stdout",
     "output_type": "stream",
     "text": [
      "(121, 10242)\n",
      "(121, 10242)\n"
     ]
    },
    {
     "name": "stderr",
     "output_type": "stream",
     "text": [
      "/var/folders/r2/f85nyfr1785fj4257wkdj7480000gn/T/ipykernel_77676/893423826.py:49: DeprecationWarning: The default strategy for standardize is currently 'zscore' which incorrectly uses population std to calculate sample zscores. The new strategy 'zscore_sample' corrects this behavior by using the sample std. In release 0.13, the default strategy will be replaced by the new strategy and the 'zscore' option will be removed. Please use 'zscore_sample' instead.\n",
      "  cleaned_data = nilearn.signal.clean(\n"
     ]
    },
    {
     "name": "stdout",
     "output_type": "stream",
     "text": [
      "(121, 10242)\n",
      "(121, 10242)\n"
     ]
    },
    {
     "name": "stderr",
     "output_type": "stream",
     "text": [
      "/var/folders/r2/f85nyfr1785fj4257wkdj7480000gn/T/ipykernel_77676/893423826.py:49: DeprecationWarning: The default strategy for standardize is currently 'zscore' which incorrectly uses population std to calculate sample zscores. The new strategy 'zscore_sample' corrects this behavior by using the sample std. In release 0.13, the default strategy will be replaced by the new strategy and the 'zscore' option will be removed. Please use 'zscore_sample' instead.\n",
      "  cleaned_data = nilearn.signal.clean(\n"
     ]
    },
    {
     "name": "stdout",
     "output_type": "stream",
     "text": [
      "(121, 10242)\n",
      "(121, 10242)\n"
     ]
    },
    {
     "name": "stderr",
     "output_type": "stream",
     "text": [
      "/var/folders/r2/f85nyfr1785fj4257wkdj7480000gn/T/ipykernel_77676/893423826.py:49: DeprecationWarning: The default strategy for standardize is currently 'zscore' which incorrectly uses population std to calculate sample zscores. The new strategy 'zscore_sample' corrects this behavior by using the sample std. In release 0.13, the default strategy will be replaced by the new strategy and the 'zscore' option will be removed. Please use 'zscore_sample' instead.\n",
      "  cleaned_data = nilearn.signal.clean(\n"
     ]
    },
    {
     "name": "stdout",
     "output_type": "stream",
     "text": [
      "(121, 10242)\n",
      "(121, 10242)\n"
     ]
    },
    {
     "name": "stderr",
     "output_type": "stream",
     "text": [
      "/var/folders/r2/f85nyfr1785fj4257wkdj7480000gn/T/ipykernel_77676/893423826.py:49: DeprecationWarning: The default strategy for standardize is currently 'zscore' which incorrectly uses population std to calculate sample zscores. The new strategy 'zscore_sample' corrects this behavior by using the sample std. In release 0.13, the default strategy will be replaced by the new strategy and the 'zscore' option will be removed. Please use 'zscore_sample' instead.\n",
      "  cleaned_data = nilearn.signal.clean(\n"
     ]
    },
    {
     "name": "stdout",
     "output_type": "stream",
     "text": [
      "(121, 10242)\n",
      "(121, 10242)\n"
     ]
    },
    {
     "name": "stderr",
     "output_type": "stream",
     "text": [
      "/var/folders/r2/f85nyfr1785fj4257wkdj7480000gn/T/ipykernel_77676/893423826.py:49: DeprecationWarning: The default strategy for standardize is currently 'zscore' which incorrectly uses population std to calculate sample zscores. The new strategy 'zscore_sample' corrects this behavior by using the sample std. In release 0.13, the default strategy will be replaced by the new strategy and the 'zscore' option will be removed. Please use 'zscore_sample' instead.\n",
      "  cleaned_data = nilearn.signal.clean(\n"
     ]
    },
    {
     "name": "stdout",
     "output_type": "stream",
     "text": [
      "(121, 10242)\n",
      "(121, 10242)\n"
     ]
    },
    {
     "name": "stderr",
     "output_type": "stream",
     "text": [
      "/var/folders/r2/f85nyfr1785fj4257wkdj7480000gn/T/ipykernel_77676/893423826.py:49: DeprecationWarning: The default strategy for standardize is currently 'zscore' which incorrectly uses population std to calculate sample zscores. The new strategy 'zscore_sample' corrects this behavior by using the sample std. In release 0.13, the default strategy will be replaced by the new strategy and the 'zscore' option will be removed. Please use 'zscore_sample' instead.\n",
      "  cleaned_data = nilearn.signal.clean(\n"
     ]
    },
    {
     "name": "stdout",
     "output_type": "stream",
     "text": [
      "(121, 10242)\n",
      "(121, 10242)\n"
     ]
    },
    {
     "name": "stderr",
     "output_type": "stream",
     "text": [
      "/var/folders/r2/f85nyfr1785fj4257wkdj7480000gn/T/ipykernel_77676/893423826.py:49: DeprecationWarning: The default strategy for standardize is currently 'zscore' which incorrectly uses population std to calculate sample zscores. The new strategy 'zscore_sample' corrects this behavior by using the sample std. In release 0.13, the default strategy will be replaced by the new strategy and the 'zscore' option will be removed. Please use 'zscore_sample' instead.\n",
      "  cleaned_data = nilearn.signal.clean(\n"
     ]
    },
    {
     "name": "stdout",
     "output_type": "stream",
     "text": [
      "(121, 10242)\n",
      "(121, 10242)\n"
     ]
    },
    {
     "name": "stderr",
     "output_type": "stream",
     "text": [
      "/var/folders/r2/f85nyfr1785fj4257wkdj7480000gn/T/ipykernel_77676/893423826.py:49: DeprecationWarning: The default strategy for standardize is currently 'zscore' which incorrectly uses population std to calculate sample zscores. The new strategy 'zscore_sample' corrects this behavior by using the sample std. In release 0.13, the default strategy will be replaced by the new strategy and the 'zscore' option will be removed. Please use 'zscore_sample' instead.\n",
      "  cleaned_data = nilearn.signal.clean(\n"
     ]
    }
   ],
   "source": [
    "def run_surface_confound_regression(layout, deriv_layout, data_dir, \n",
    "                                    overwrite=False, t_r=2.5):\n",
    "    cleaned_images = {}\n",
    "\n",
    "    subjects = [int(sub) for sub in layout.get_subjects()]\n",
    "    for subject in subjects:\n",
    "        cleaned_images[subject] = {}\n",
    "        runs = get_subject_runs(subject, data_dir)\n",
    "        print(f'Subject {subject} has {len(runs)} runs')\n",
    "\n",
    "        t_r = None\n",
    "        for run in runs:\n",
    "            # get confounds which are common to run\n",
    "            confound_file = deriv_layout.get(\n",
    "                subject=subject,\n",
    "                run=run,\n",
    "                desc='confounds',\n",
    "                suffix='timeseries',\n",
    "                extension='tsv',\n",
    "                return_type='file',\n",
    "            )\n",
    "            assert (\n",
    "                len(confound_file) == 1\n",
    "            ), f'Found {len(confound_file)} confound files for subject {subject} run {run}'\n",
    "            confounds = pd.read_csv(confound_file[0], sep='\\t').bfill()\n",
    "            # need to include cosine with acompcor\n",
    "            confound_prefixes = ['trans_', 'rot_', 'a_comp_cor_', 'cosine']\n",
    "            confound_cols = [\n",
    "                c\n",
    "                for c in list(confounds.columns)\n",
    "                if any([c.startswith(p) for p in confound_prefixes])\n",
    "            ]\n",
    "            confounds_selected = confounds[confound_cols]\n",
    "\n",
    "            # get data for each hemisphere\n",
    "            cleaned_images[subject][run] = {'L': None, 'R': None}\n",
    "            preproc_surf_files, preproc_surf_data = get_surface_files(subject, run)\n",
    "            for hemis in ['L', 'R']:\n",
    "                cleaned_img_file = preproc_surf_files[hemis].replace('_bold', '_desc-cleaned_bold')\n",
    "                assert cleaned_img_file != preproc_surf_files[hemis]\n",
    "                if os.path.exists(cleaned_img_file) and not overwrite:\n",
    "                    # print(f\"Using existing cleaned file for subject {subject} run {run}\")\n",
    "                    cleaned_img = nib.load(cleaned_img_file)\n",
    "                    cleaned_images[subject][run][hemis] = (cleaned_img_file, cleaned_img)\n",
    "                    continue\n",
    "                assert (\n",
    "                    len(preproc_surf_files) == 2\n",
    "                ), f'Found {len(preproc_file)} preproc files for subject {subject} run {run}'\n",
    "                cleaned_data = nilearn.signal.clean(\n",
    "                    preproc_surf_data[hemis],\n",
    "                    confounds=confounds_selected,\n",
    "                    t_r=t_r,\n",
    "                    standardize='zscore_sample',)\n",
    "                cleaned_img = nib.gifti.GiftiImage()\n",
    "                preproc_surf_img = nib.load(preproc_surf_files[hemis])\n",
    "                for i in range(cleaned_data.shape[0]):\n",
    "                    cleaned_img.add_gifti_data_array(\n",
    "                        nib.gifti.GiftiDataArray(\n",
    "                            cleaned_data[i, :],\n",
    "                            intent=preproc_surf_img.darrays[i].intent,\n",
    "                            datatype=preproc_surf_img.darrays[i].datatype,\n",
    "                            meta=preproc_surf_img.darrays[i].meta,\n",
    "                        )\n",
    "                    )\n",
    "                cleaned_img.to_filename(os.path.join(cleaned_img_file))\n",
    "                cleaned_images[subject][run] = (cleaned_img_file, cleaned_img)\n",
    "    return cleaned_images, t_r\n",
    "\n",
    "\n",
    "# refresh the layouts to detect the new res-3 files\n",
    "layout, deriv_layout = get_layouts(data_dir, fmriprep_dir)\n",
    "\n",
    "cleaned_images, t_r = run_surface_confound_regression(\n",
    "    layout, deriv_layout, data_dir, overwrite=True\n",
    ")\n"
   ]
  },
  {
   "cell_type": "code",
   "execution_count": 60,
   "id": "846c3c53",
   "metadata": {},
   "outputs": [
    {
     "data": {
      "text/plain": [
       "{1: {1: ('/Users/poldrack/data_unsynced/ds000105/derivatives/fmriprep/sub-1/func/sub-1_task-objectviewing_run-1_hemi-R_space-fsaverage5_desc-cleaned_bold.func.gii',\n",
       "   <nibabel.gifti.gifti.GiftiImage at 0x336c14e60>),\n",
       "  2: ('/Users/poldrack/data_unsynced/ds000105/derivatives/fmriprep/sub-1/func/sub-1_task-objectviewing_run-2_hemi-R_space-fsaverage5_desc-cleaned_bold.func.gii',\n",
       "   <nibabel.gifti.gifti.GiftiImage at 0x335caa8a0>),\n",
       "  3: ('/Users/poldrack/data_unsynced/ds000105/derivatives/fmriprep/sub-1/func/sub-1_task-objectviewing_run-3_hemi-R_space-fsaverage5_desc-cleaned_bold.func.gii',\n",
       "   <nibabel.gifti.gifti.GiftiImage at 0x335caa900>),\n",
       "  4: ('/Users/poldrack/data_unsynced/ds000105/derivatives/fmriprep/sub-1/func/sub-1_task-objectviewing_run-4_hemi-R_space-fsaverage5_desc-cleaned_bold.func.gii',\n",
       "   <nibabel.gifti.gifti.GiftiImage at 0x334b389b0>),\n",
       "  5: ('/Users/poldrack/data_unsynced/ds000105/derivatives/fmriprep/sub-1/func/sub-1_task-objectviewing_run-5_hemi-R_space-fsaverage5_desc-cleaned_bold.func.gii',\n",
       "   <nibabel.gifti.gifti.GiftiImage at 0x334b3a0c0>),\n",
       "  6: ('/Users/poldrack/data_unsynced/ds000105/derivatives/fmriprep/sub-1/func/sub-1_task-objectviewing_run-6_hemi-R_space-fsaverage5_desc-cleaned_bold.func.gii',\n",
       "   <nibabel.gifti.gifti.GiftiImage at 0x335c5b560>),\n",
       "  7: ('/Users/poldrack/data_unsynced/ds000105/derivatives/fmriprep/sub-1/func/sub-1_task-objectviewing_run-7_hemi-R_space-fsaverage5_desc-cleaned_bold.func.gii',\n",
       "   <nibabel.gifti.gifti.GiftiImage at 0x335cab830>),\n",
       "  8: ('/Users/poldrack/data_unsynced/ds000105/derivatives/fmriprep/sub-1/func/sub-1_task-objectviewing_run-8_hemi-R_space-fsaverage5_desc-cleaned_bold.func.gii',\n",
       "   <nibabel.gifti.gifti.GiftiImage at 0x335c59be0>),\n",
       "  9: ('/Users/poldrack/data_unsynced/ds000105/derivatives/fmriprep/sub-1/func/sub-1_task-objectviewing_run-9_hemi-R_space-fsaverage5_desc-cleaned_bold.func.gii',\n",
       "   <nibabel.gifti.gifti.GiftiImage at 0x33e724710>),\n",
       "  10: ('/Users/poldrack/data_unsynced/ds000105/derivatives/fmriprep/sub-1/func/sub-1_task-objectviewing_run-10_hemi-R_space-fsaverage5_desc-cleaned_bold.func.gii',\n",
       "   <nibabel.gifti.gifti.GiftiImage at 0x33124bec0>),\n",
       "  11: ('/Users/poldrack/data_unsynced/ds000105/derivatives/fmriprep/sub-1/func/sub-1_task-objectviewing_run-11_hemi-R_space-fsaverage5_desc-cleaned_bold.func.gii',\n",
       "   <nibabel.gifti.gifti.GiftiImage at 0x33003dbe0>),\n",
       "  12: ('/Users/poldrack/data_unsynced/ds000105/derivatives/fmriprep/sub-1/func/sub-1_task-objectviewing_run-12_hemi-R_space-fsaverage5_desc-cleaned_bold.func.gii',\n",
       "   <nibabel.gifti.gifti.GiftiImage at 0x335785d60>)},\n",
       " 2: {1: ('/Users/poldrack/data_unsynced/ds000105/derivatives/fmriprep/sub-2/func/sub-2_task-objectviewing_run-1_hemi-R_space-fsaverage5_desc-cleaned_bold.func.gii',\n",
       "   <nibabel.gifti.gifti.GiftiImage at 0x334e12c30>),\n",
       "  2: ('/Users/poldrack/data_unsynced/ds000105/derivatives/fmriprep/sub-2/func/sub-2_task-objectviewing_run-2_hemi-R_space-fsaverage5_desc-cleaned_bold.func.gii',\n",
       "   <nibabel.gifti.gifti.GiftiImage at 0x3372dedb0>),\n",
       "  3: ('/Users/poldrack/data_unsynced/ds000105/derivatives/fmriprep/sub-2/func/sub-2_task-objectviewing_run-3_hemi-R_space-fsaverage5_desc-cleaned_bold.func.gii',\n",
       "   <nibabel.gifti.gifti.GiftiImage at 0x3372ddac0>),\n",
       "  4: ('/Users/poldrack/data_unsynced/ds000105/derivatives/fmriprep/sub-2/func/sub-2_task-objectviewing_run-4_hemi-R_space-fsaverage5_desc-cleaned_bold.func.gii',\n",
       "   <nibabel.gifti.gifti.GiftiImage at 0x331746720>),\n",
       "  5: ('/Users/poldrack/data_unsynced/ds000105/derivatives/fmriprep/sub-2/func/sub-2_task-objectviewing_run-5_hemi-R_space-fsaverage5_desc-cleaned_bold.func.gii',\n",
       "   <nibabel.gifti.gifti.GiftiImage at 0x335023980>),\n",
       "  6: ('/Users/poldrack/data_unsynced/ds000105/derivatives/fmriprep/sub-2/func/sub-2_task-objectviewing_run-6_hemi-R_space-fsaverage5_desc-cleaned_bold.func.gii',\n",
       "   <nibabel.gifti.gifti.GiftiImage at 0x331745be0>),\n",
       "  7: ('/Users/poldrack/data_unsynced/ds000105/derivatives/fmriprep/sub-2/func/sub-2_task-objectviewing_run-7_hemi-R_space-fsaverage5_desc-cleaned_bold.func.gii',\n",
       "   <nibabel.gifti.gifti.GiftiImage at 0x3317448c0>),\n",
       "  8: ('/Users/poldrack/data_unsynced/ds000105/derivatives/fmriprep/sub-2/func/sub-2_task-objectviewing_run-8_hemi-R_space-fsaverage5_desc-cleaned_bold.func.gii',\n",
       "   <nibabel.gifti.gifti.GiftiImage at 0x33dd1bc20>),\n",
       "  9: ('/Users/poldrack/data_unsynced/ds000105/derivatives/fmriprep/sub-2/func/sub-2_task-objectviewing_run-9_hemi-R_space-fsaverage5_desc-cleaned_bold.func.gii',\n",
       "   <nibabel.gifti.gifti.GiftiImage at 0x332792b40>),\n",
       "  10: ('/Users/poldrack/data_unsynced/ds000105/derivatives/fmriprep/sub-2/func/sub-2_task-objectviewing_run-10_hemi-R_space-fsaverage5_desc-cleaned_bold.func.gii',\n",
       "   <nibabel.gifti.gifti.GiftiImage at 0x338504d10>),\n",
       "  11: ('/Users/poldrack/data_unsynced/ds000105/derivatives/fmriprep/sub-2/func/sub-2_task-objectviewing_run-11_hemi-R_space-fsaverage5_desc-cleaned_bold.func.gii',\n",
       "   <nibabel.gifti.gifti.GiftiImage at 0x33500fa70>),\n",
       "  12: ('/Users/poldrack/data_unsynced/ds000105/derivatives/fmriprep/sub-2/func/sub-2_task-objectviewing_run-12_hemi-R_space-fsaverage5_desc-cleaned_bold.func.gii',\n",
       "   <nibabel.gifti.gifti.GiftiImage at 0x33dd0c6e0>)},\n",
       " 3: {1: ('/Users/poldrack/data_unsynced/ds000105/derivatives/fmriprep/sub-3/func/sub-3_task-objectviewing_run-1_hemi-R_space-fsaverage5_desc-cleaned_bold.func.gii',\n",
       "   <nibabel.gifti.gifti.GiftiImage at 0x331746360>),\n",
       "  2: ('/Users/poldrack/data_unsynced/ds000105/derivatives/fmriprep/sub-3/func/sub-3_task-objectviewing_run-2_hemi-R_space-fsaverage5_desc-cleaned_bold.func.gii',\n",
       "   <nibabel.gifti.gifti.GiftiImage at 0x336526210>),\n",
       "  3: ('/Users/poldrack/data_unsynced/ds000105/derivatives/fmriprep/sub-3/func/sub-3_task-objectviewing_run-3_hemi-R_space-fsaverage5_desc-cleaned_bold.func.gii',\n",
       "   <nibabel.gifti.gifti.GiftiImage at 0x336526630>),\n",
       "  4: ('/Users/poldrack/data_unsynced/ds000105/derivatives/fmriprep/sub-3/func/sub-3_task-objectviewing_run-4_hemi-R_space-fsaverage5_desc-cleaned_bold.func.gii',\n",
       "   <nibabel.gifti.gifti.GiftiImage at 0x338217470>),\n",
       "  5: ('/Users/poldrack/data_unsynced/ds000105/derivatives/fmriprep/sub-3/func/sub-3_task-objectviewing_run-5_hemi-R_space-fsaverage5_desc-cleaned_bold.func.gii',\n",
       "   <nibabel.gifti.gifti.GiftiImage at 0x331e79640>),\n",
       "  6: ('/Users/poldrack/data_unsynced/ds000105/derivatives/fmriprep/sub-3/func/sub-3_task-objectviewing_run-6_hemi-R_space-fsaverage5_desc-cleaned_bold.func.gii',\n",
       "   <nibabel.gifti.gifti.GiftiImage at 0x332a79c10>),\n",
       "  7: ('/Users/poldrack/data_unsynced/ds000105/derivatives/fmriprep/sub-3/func/sub-3_task-objectviewing_run-7_hemi-R_space-fsaverage5_desc-cleaned_bold.func.gii',\n",
       "   <nibabel.gifti.gifti.GiftiImage at 0x3385a5d60>),\n",
       "  8: ('/Users/poldrack/data_unsynced/ds000105/derivatives/fmriprep/sub-3/func/sub-3_task-objectviewing_run-8_hemi-R_space-fsaverage5_desc-cleaned_bold.func.gii',\n",
       "   <nibabel.gifti.gifti.GiftiImage at 0x33264acf0>),\n",
       "  9: ('/Users/poldrack/data_unsynced/ds000105/derivatives/fmriprep/sub-3/func/sub-3_task-objectviewing_run-9_hemi-R_space-fsaverage5_desc-cleaned_bold.func.gii',\n",
       "   <nibabel.gifti.gifti.GiftiImage at 0x332a03a10>),\n",
       "  10: ('/Users/poldrack/data_unsynced/ds000105/derivatives/fmriprep/sub-3/func/sub-3_task-objectviewing_run-10_hemi-R_space-fsaverage5_desc-cleaned_bold.func.gii',\n",
       "   <nibabel.gifti.gifti.GiftiImage at 0x3325751c0>),\n",
       "  11: ('/Users/poldrack/data_unsynced/ds000105/derivatives/fmriprep/sub-3/func/sub-3_task-objectviewing_run-11_hemi-R_space-fsaverage5_desc-cleaned_bold.func.gii',\n",
       "   <nibabel.gifti.gifti.GiftiImage at 0x332575be0>),\n",
       "  12: ('/Users/poldrack/data_unsynced/ds000105/derivatives/fmriprep/sub-3/func/sub-3_task-objectviewing_run-12_hemi-R_space-fsaverage5_desc-cleaned_bold.func.gii',\n",
       "   <nibabel.gifti.gifti.GiftiImage at 0x3385a73b0>)},\n",
       " 4: {1: ('/Users/poldrack/data_unsynced/ds000105/derivatives/fmriprep/sub-4/func/sub-4_task-objectviewing_run-1_hemi-R_space-fsaverage5_desc-cleaned_bold.func.gii',\n",
       "   <nibabel.gifti.gifti.GiftiImage at 0x331eace00>),\n",
       "  2: ('/Users/poldrack/data_unsynced/ds000105/derivatives/fmriprep/sub-4/func/sub-4_task-objectviewing_run-2_hemi-R_space-fsaverage5_desc-cleaned_bold.func.gii',\n",
       "   <nibabel.gifti.gifti.GiftiImage at 0x3368b4d40>),\n",
       "  3: ('/Users/poldrack/data_unsynced/ds000105/derivatives/fmriprep/sub-4/func/sub-4_task-objectviewing_run-3_hemi-R_space-fsaverage5_desc-cleaned_bold.func.gii',\n",
       "   <nibabel.gifti.gifti.GiftiImage at 0x17fd48740>),\n",
       "  4: ('/Users/poldrack/data_unsynced/ds000105/derivatives/fmriprep/sub-4/func/sub-4_task-objectviewing_run-4_hemi-R_space-fsaverage5_desc-cleaned_bold.func.gii',\n",
       "   <nibabel.gifti.gifti.GiftiImage at 0x17fd4a7e0>),\n",
       "  5: ('/Users/poldrack/data_unsynced/ds000105/derivatives/fmriprep/sub-4/func/sub-4_task-objectviewing_run-5_hemi-R_space-fsaverage5_desc-cleaned_bold.func.gii',\n",
       "   <nibabel.gifti.gifti.GiftiImage at 0x3351900e0>),\n",
       "  6: ('/Users/poldrack/data_unsynced/ds000105/derivatives/fmriprep/sub-4/func/sub-4_task-objectviewing_run-6_hemi-R_space-fsaverage5_desc-cleaned_bold.func.gii',\n",
       "   <nibabel.gifti.gifti.GiftiImage at 0x17fd27950>),\n",
       "  7: ('/Users/poldrack/data_unsynced/ds000105/derivatives/fmriprep/sub-4/func/sub-4_task-objectviewing_run-7_hemi-R_space-fsaverage5_desc-cleaned_bold.func.gii',\n",
       "   <nibabel.gifti.gifti.GiftiImage at 0x33ff4f290>),\n",
       "  8: ('/Users/poldrack/data_unsynced/ds000105/derivatives/fmriprep/sub-4/func/sub-4_task-objectviewing_run-8_hemi-R_space-fsaverage5_desc-cleaned_bold.func.gii',\n",
       "   <nibabel.gifti.gifti.GiftiImage at 0x3381bcf50>),\n",
       "  9: ('/Users/poldrack/data_unsynced/ds000105/derivatives/fmriprep/sub-4/func/sub-4_task-objectviewing_run-9_hemi-R_space-fsaverage5_desc-cleaned_bold.func.gii',\n",
       "   <nibabel.gifti.gifti.GiftiImage at 0x3324a7d70>),\n",
       "  10: ('/Users/poldrack/data_unsynced/ds000105/derivatives/fmriprep/sub-4/func/sub-4_task-objectviewing_run-10_hemi-R_space-fsaverage5_desc-cleaned_bold.func.gii',\n",
       "   <nibabel.gifti.gifti.GiftiImage at 0x33ff4c440>),\n",
       "  11: ('/Users/poldrack/data_unsynced/ds000105/derivatives/fmriprep/sub-4/func/sub-4_task-objectviewing_run-11_hemi-R_space-fsaverage5_desc-cleaned_bold.func.gii',\n",
       "   <nibabel.gifti.gifti.GiftiImage at 0x33e109cd0>),\n",
       "  12: ('/Users/poldrack/data_unsynced/ds000105/derivatives/fmriprep/sub-4/func/sub-4_task-objectviewing_run-12_hemi-R_space-fsaverage5_desc-cleaned_bold.func.gii',\n",
       "   <nibabel.gifti.gifti.GiftiImage at 0x331eac9e0>)},\n",
       " 5: {1: ('/Users/poldrack/data_unsynced/ds000105/derivatives/fmriprep/sub-5/func/sub-5_task-objectviewing_run-1_hemi-R_space-fsaverage5_desc-cleaned_bold.func.gii',\n",
       "   <nibabel.gifti.gifti.GiftiImage at 0x33124b380>),\n",
       "  2: ('/Users/poldrack/data_unsynced/ds000105/derivatives/fmriprep/sub-5/func/sub-5_task-objectviewing_run-2_hemi-R_space-fsaverage5_desc-cleaned_bold.func.gii',\n",
       "   <nibabel.gifti.gifti.GiftiImage at 0x336594590>),\n",
       "  3: ('/Users/poldrack/data_unsynced/ds000105/derivatives/fmriprep/sub-5/func/sub-5_task-objectviewing_run-3_hemi-R_space-fsaverage5_desc-cleaned_bold.func.gii',\n",
       "   <nibabel.gifti.gifti.GiftiImage at 0x334a9c0e0>),\n",
       "  4: ('/Users/poldrack/data_unsynced/ds000105/derivatives/fmriprep/sub-5/func/sub-5_task-objectviewing_run-4_hemi-R_space-fsaverage5_desc-cleaned_bold.func.gii',\n",
       "   <nibabel.gifti.gifti.GiftiImage at 0x332a01ac0>),\n",
       "  5: ('/Users/poldrack/data_unsynced/ds000105/derivatives/fmriprep/sub-5/func/sub-5_task-objectviewing_run-5_hemi-R_space-fsaverage5_desc-cleaned_bold.func.gii',\n",
       "   <nibabel.gifti.gifti.GiftiImage at 0x3385797c0>),\n",
       "  6: ('/Users/poldrack/data_unsynced/ds000105/derivatives/fmriprep/sub-5/func/sub-5_task-objectviewing_run-6_hemi-R_space-fsaverage5_desc-cleaned_bold.func.gii',\n",
       "   <nibabel.gifti.gifti.GiftiImage at 0x3351462a0>),\n",
       "  7: ('/Users/poldrack/data_unsynced/ds000105/derivatives/fmriprep/sub-5/func/sub-5_task-objectviewing_run-7_hemi-R_space-fsaverage5_desc-cleaned_bold.func.gii',\n",
       "   <nibabel.gifti.gifti.GiftiImage at 0x3351449e0>),\n",
       "  8: ('/Users/poldrack/data_unsynced/ds000105/derivatives/fmriprep/sub-5/func/sub-5_task-objectviewing_run-8_hemi-R_space-fsaverage5_desc-cleaned_bold.func.gii',\n",
       "   <nibabel.gifti.gifti.GiftiImage at 0x336524470>),\n",
       "  9: ('/Users/poldrack/data_unsynced/ds000105/derivatives/fmriprep/sub-5/func/sub-5_task-objectviewing_run-9_hemi-R_space-fsaverage5_desc-cleaned_bold.func.gii',\n",
       "   <nibabel.gifti.gifti.GiftiImage at 0x3365955b0>),\n",
       "  10: ('/Users/poldrack/data_unsynced/ds000105/derivatives/fmriprep/sub-5/func/sub-5_task-objectviewing_run-10_hemi-R_space-fsaverage5_desc-cleaned_bold.func.gii',\n",
       "   <nibabel.gifti.gifti.GiftiImage at 0x33daf8b90>),\n",
       "  11: ('/Users/poldrack/data_unsynced/ds000105/derivatives/fmriprep/sub-5/func/sub-5_task-objectviewing_run-11_hemi-R_space-fsaverage5_desc-cleaned_bold.func.gii',\n",
       "   <nibabel.gifti.gifti.GiftiImage at 0x33015ed50>)},\n",
       " 6: {1: ('/Users/poldrack/data_unsynced/ds000105/derivatives/fmriprep/sub-6/func/sub-6_task-objectviewing_run-1_hemi-R_space-fsaverage5_desc-cleaned_bold.func.gii',\n",
       "   <nibabel.gifti.gifti.GiftiImage at 0x334a6cb90>),\n",
       "  2: ('/Users/poldrack/data_unsynced/ds000105/derivatives/fmriprep/sub-6/func/sub-6_task-objectviewing_run-2_hemi-R_space-fsaverage5_desc-cleaned_bold.func.gii',\n",
       "   <nibabel.gifti.gifti.GiftiImage at 0x331104b00>),\n",
       "  3: ('/Users/poldrack/data_unsynced/ds000105/derivatives/fmriprep/sub-6/func/sub-6_task-objectviewing_run-3_hemi-R_space-fsaverage5_desc-cleaned_bold.func.gii',\n",
       "   <nibabel.gifti.gifti.GiftiImage at 0x331107b60>),\n",
       "  4: ('/Users/poldrack/data_unsynced/ds000105/derivatives/fmriprep/sub-6/func/sub-6_task-objectviewing_run-4_hemi-R_space-fsaverage5_desc-cleaned_bold.func.gii',\n",
       "   <nibabel.gifti.gifti.GiftiImage at 0x331823b00>),\n",
       "  5: ('/Users/poldrack/data_unsynced/ds000105/derivatives/fmriprep/sub-6/func/sub-6_task-objectviewing_run-5_hemi-R_space-fsaverage5_desc-cleaned_bold.func.gii',\n",
       "   <nibabel.gifti.gifti.GiftiImage at 0x33dfe75c0>),\n",
       "  6: ('/Users/poldrack/data_unsynced/ds000105/derivatives/fmriprep/sub-6/func/sub-6_task-objectviewing_run-6_hemi-R_space-fsaverage5_desc-cleaned_bold.func.gii',\n",
       "   <nibabel.gifti.gifti.GiftiImage at 0x17ff2dd00>),\n",
       "  7: ('/Users/poldrack/data_unsynced/ds000105/derivatives/fmriprep/sub-6/func/sub-6_task-objectviewing_run-7_hemi-R_space-fsaverage5_desc-cleaned_bold.func.gii',\n",
       "   <nibabel.gifti.gifti.GiftiImage at 0x3324518b0>),\n",
       "  8: ('/Users/poldrack/data_unsynced/ds000105/derivatives/fmriprep/sub-6/func/sub-6_task-objectviewing_run-8_hemi-R_space-fsaverage5_desc-cleaned_bold.func.gii',\n",
       "   <nibabel.gifti.gifti.GiftiImage at 0x3348a43b0>),\n",
       "  9: ('/Users/poldrack/data_unsynced/ds000105/derivatives/fmriprep/sub-6/func/sub-6_task-objectviewing_run-9_hemi-R_space-fsaverage5_desc-cleaned_bold.func.gii',\n",
       "   <nibabel.gifti.gifti.GiftiImage at 0x335e49bb0>),\n",
       "  10: ('/Users/poldrack/data_unsynced/ds000105/derivatives/fmriprep/sub-6/func/sub-6_task-objectviewing_run-10_hemi-R_space-fsaverage5_desc-cleaned_bold.func.gii',\n",
       "   <nibabel.gifti.gifti.GiftiImage at 0x331e6f650>),\n",
       "  11: ('/Users/poldrack/data_unsynced/ds000105/derivatives/fmriprep/sub-6/func/sub-6_task-objectviewing_run-11_hemi-R_space-fsaverage5_desc-cleaned_bold.func.gii',\n",
       "   <nibabel.gifti.gifti.GiftiImage at 0x3313b5640>),\n",
       "  12: ('/Users/poldrack/data_unsynced/ds000105/derivatives/fmriprep/sub-6/func/sub-6_task-objectviewing_run-12_hemi-R_space-fsaverage5_desc-cleaned_bold.func.gii',\n",
       "   <nibabel.gifti.gifti.GiftiImage at 0x330136e40>)}}"
      ]
     },
     "execution_count": 60,
     "metadata": {},
     "output_type": "execute_result"
    }
   ],
   "source": [
    "cleaned_images"
   ]
  },
  {
   "cell_type": "markdown",
   "id": "8b7cab62",
   "metadata": {},
   "source": [
    "### select task block timepoints\n",
    "\n",
    "drop the first two TRs from each task block, and generate task labels for each timepoint"
   ]
  },
  {
   "cell_type": "code",
   "execution_count": 61,
   "id": "9df6707a",
   "metadata": {
    "lines_to_next_cell": 2
   },
   "outputs": [
    {
     "ename": "AttributeError",
     "evalue": "'GiftiImage' object has no attribute 'shape'",
     "output_type": "error",
     "traceback": [
      "\u001b[0;31m---------------------------------------------------------------------------\u001b[0m",
      "\u001b[0;31mAttributeError\u001b[0m                            Traceback (most recent call last)",
      "Cell \u001b[0;32mIn[61], line 54\u001b[0m\n\u001b[1;32m     50\u001b[0m             cond_info[subject][run] \u001b[38;5;241m=\u001b[39m cond_df\n\u001b[1;32m     51\u001b[0m     \u001b[38;5;28;01mreturn\u001b[39;00m cond_info\n\u001b[0;32m---> 54\u001b[0m cond_info \u001b[38;5;241m=\u001b[39m \u001b[43mget_cond_info\u001b[49m\u001b[43m(\u001b[49m\u001b[43mlayout\u001b[49m\u001b[43m,\u001b[49m\u001b[43m \u001b[49m\u001b[43mderiv_layout\u001b[49m\u001b[43m,\u001b[49m\u001b[43m \u001b[49m\u001b[43mt_r\u001b[49m\u001b[43m,\u001b[49m\u001b[43m \u001b[49m\u001b[43mcleaned_images\u001b[49m\u001b[43m)\u001b[49m\n",
      "Cell \u001b[0;32mIn[61], line 20\u001b[0m, in \u001b[0;36mget_cond_info\u001b[0;34m(layout, deriv_layout, t_r, cleaned_images, blocklen, n_trials_to_skip)\u001b[0m\n\u001b[1;32m     12\u001b[0m events_file \u001b[38;5;241m=\u001b[39m layout\u001b[38;5;241m.\u001b[39mget(\n\u001b[1;32m     13\u001b[0m     subject\u001b[38;5;241m=\u001b[39msubject,\n\u001b[1;32m     14\u001b[0m     run\u001b[38;5;241m=\u001b[39mrun,\n\u001b[0;32m   (...)\u001b[0m\n\u001b[1;32m     17\u001b[0m     return_type\u001b[38;5;241m=\u001b[39m\u001b[38;5;124m'\u001b[39m\u001b[38;5;124mfile\u001b[39m\u001b[38;5;124m'\u001b[39m,\n\u001b[1;32m     18\u001b[0m )[\u001b[38;5;241m0\u001b[39m]\n\u001b[1;32m     19\u001b[0m events \u001b[38;5;241m=\u001b[39m pd\u001b[38;5;241m.\u001b[39mread_csv(events_file, sep\u001b[38;5;241m=\u001b[39m\u001b[38;5;124m'\u001b[39m\u001b[38;5;130;01m\\t\u001b[39;00m\u001b[38;5;124m'\u001b[39m)\n\u001b[0;32m---> 20\u001b[0m n_timepoints \u001b[38;5;241m=\u001b[39m \u001b[43mcleaned_images\u001b[49m\u001b[43m[\u001b[49m\u001b[43msubject\u001b[49m\u001b[43m]\u001b[49m\u001b[43m[\u001b[49m\u001b[43mrun\u001b[49m\u001b[43m]\u001b[49m\u001b[43m[\u001b[49m\u001b[38;5;241;43m1\u001b[39;49m\u001b[43m]\u001b[49m\u001b[38;5;241;43m.\u001b[39;49m\u001b[43mshape\u001b[49m[\u001b[38;5;241m-\u001b[39m\u001b[38;5;241m1\u001b[39m]\n\u001b[1;32m     21\u001b[0m timepoints \u001b[38;5;241m=\u001b[39m np\u001b[38;5;241m.\u001b[39marange(\u001b[38;5;241m0\u001b[39m, n_timepoints \u001b[38;5;241m*\u001b[39m t_r, t_r)\n\u001b[1;32m     23\u001b[0m \u001b[38;5;66;03m# find task onsets in the events file\u001b[39;00m\n\u001b[1;32m     24\u001b[0m \u001b[38;5;66;03m# skip 2 trials i.e. 4 seconds\u001b[39;00m\n",
      "\u001b[0;31mAttributeError\u001b[0m: 'GiftiImage' object has no attribute 'shape'"
     ]
    }
   ],
   "source": [
    "# find the condition label for timepoints that are beyond the intial 4 seconds\n",
    "def get_cond_info(\n",
    "    layout, deriv_layout, t_r, cleaned_images, blocklen=20, n_trials_to_skip=2\n",
    "):\n",
    "    cond_info = {}\n",
    "\n",
    "    subjects = [int(sub) for sub in layout.get_subjects()]\n",
    "    for subject in subjects:\n",
    "        runs = get_subject_runs(subject, data_dir)\n",
    "        cond_info[subject] = {}\n",
    "        for run in runs:\n",
    "            events_file = layout.get(\n",
    "                subject=subject,\n",
    "                run=run,\n",
    "                datatype='func',\n",
    "                extension='tsv',\n",
    "                return_type='file',\n",
    "            )[0]\n",
    "            events = pd.read_csv(events_file, sep='\\t')\n",
    "            n_timepoints = cleaned_images[subject][run][1].shape[-1]\n",
    "            timepoints = np.arange(0, n_timepoints * t_r, t_r)\n",
    "\n",
    "            # find task onsets in the events file\n",
    "            # skip 2 trials i.e. 4 seconds\n",
    "            blocklen = (\n",
    "                20  # block length in seconds after removing first 4 seconds\n",
    "            )\n",
    "\n",
    "            conditions = events.trial_type.unique().tolist()\n",
    "            conditions.sort()\n",
    "            onsets = {}\n",
    "            for condition in conditions:\n",
    "                match_df = events[events.trial_type == condition]\n",
    "                onsets[condition] = match_df.onset.tolist()[n_trials_to_skip]\n",
    "            cond_df = pd.DataFrame(\n",
    "                {'timepoint': timepoints, 'condition': None}\n",
    "            )\n",
    "            for idx in cond_df.index:\n",
    "                for condition in conditions:\n",
    "                    if cond_df.loc[idx, 'timepoint'] >= onsets[\n",
    "                        condition\n",
    "                    ] and cond_df.loc[idx, 'timepoint'] < (\n",
    "                        onsets[condition] + blocklen\n",
    "                    ):\n",
    "                        cond_df.loc[idx, 'condition'] = condition\n",
    "            for cond in cond_df.condition.unique():\n",
    "                if cond is None:\n",
    "                    continue\n",
    "                assert len(cond_df[cond_df.condition == cond]) == 8\n",
    "            cond_info[subject][run] = cond_df\n",
    "    return cond_info\n",
    "\n",
    "\n",
    "cond_info = get_cond_info(layout, deriv_layout, t_r, cleaned_images)"
   ]
  },
  {
   "cell_type": "code",
   "execution_count": null,
   "id": "07f9813a",
   "metadata": {
    "lines_to_next_cell": 2
   },
   "outputs": [],
   "source": [
    "\n",
    "\n",
    "def get_task_images(cond_info, cleaned_images):\n",
    "    task_images = {}\n",
    "    task_info = {}\n",
    "    for subject, runs in cond_info.items():\n",
    "        task_images[subject] = {}\n",
    "        task_info[subject] = {}\n",
    "        for run, cond_df in runs.items():\n",
    "            good_trials = cond_df.dropna()\n",
    "            assert (\n",
    "                len(good_trials) == 64\n",
    "            ), f'Found {len(good_trials)} good trials for subject {subject} run {run}'\n",
    "            task_img_file = cleaned_images[subject][run][0].replace(\n",
    "                'cleaned', 'task'\n",
    "            )\n",
    "            assert task_img_file != cleaned_images[subject][run][0]\n",
    "            good_trials.to_csv(\n",
    "                task_img_file.replace('_bold.nii.gz', '_events.tsv'),\n",
    "                sep='\\t',\n",
    "                index=False,\n",
    "            )\n",
    "            task_info[subject][run] = good_trials\n",
    "            if not os.path.exists(task_img_file):\n",
    "                cleaned_img = cleaned_images[subject][run][1]\n",
    "                task_data = cleaned_img.get_fdata()[\n",
    "                    :, :, :, list(good_trials.index)\n",
    "                ]\n",
    "                task_img = nib.Nifti1Image(task_data, cleaned_img.affine)\n",
    "                task_img.to_filename(task_img_file)\n",
    "            else:\n",
    "                task_img = nib.load(task_img_file)\n",
    "            task_images[subject][run] = task_img\n",
    "    return task_images, task_info\n",
    "\n",
    "\n",
    "task_images, task_info = get_task_images(cond_info, cleaned_images)"
   ]
  },
  {
   "cell_type": "markdown",
   "id": "30340562",
   "metadata": {},
   "source": [
    "### save to HDF5 file"
   ]
  },
  {
   "cell_type": "code",
   "execution_count": null,
   "id": "ab0725fb",
   "metadata": {
    "lines_to_next_cell": 2
   },
   "outputs": [],
   "source": [
    "subjects = [int(sub) for sub in layout.get_subjects()]\n",
    "\n",
    "\n",
    "difumo = datasets.fetch_atlas_difumo(\n",
    "    dimension=1024, resolution_mm=3, legacy_format=False\n",
    ")\n",
    "difumo_masker = MultiNiftiMapsMasker(\n",
    "    maps_img=difumo.maps,\n",
    "    n_jobs=12,\n",
    ")\n",
    "\n",
    "vtmaskdir = os.path.join(data_dir, 'derivatives', 'vtmasks')\n",
    "with h5py.File(os.path.join(output_dir, 'haxby_data_cleaned.h5'), 'w') as hf:\n",
    "\n",
    "    for subject in subjects:\n",
    "        print(f'Processing subject {subject}')\n",
    "        g1 = hf.create_group(f'sub-{subject}')\n",
    "\n",
    "        runs = get_subject_runs(subject, data_dir)\n",
    "        sub_mask = get_subject_common_brain_mask(subject, data_dir)\n",
    "        masker = NiftiMasker(mask_img=sub_mask)\n",
    "        vt_mask = nib.load(\n",
    "            os.path.join(\n",
    "                vtmaskdir,\n",
    "                f'sub-{subject}_mask4vt_space-MNI152NLin2009cAsym_res-3.nii.gz',\n",
    "            )\n",
    "        )\n",
    "\n",
    "        vtmasker = NiftiMasker(mask_img=vt_mask)\n",
    "        for run in runs:\n",
    "            g2 = g1.create_group(f'run-{run}')\n",
    "\n",
    "            vt_data = vtmasker.fit_transform(task_images[subject][run])\n",
    "            assert vt_data.shape[0] == task_images[subject][run].shape[-1]\n",
    "            assert vt_data.shape[1] == np.sum(vt_mask.get_fdata())\n",
    "            g2.create_dataset('vtmaskdata', data=vt_data)\n",
    "\n",
    "            # get the whole brain data\n",
    "            braindata = masker.fit_transform(task_images[subject][run])\n",
    "            assert braindata.shape[0] == task_images[subject][run].shape[-1]\n",
    "            assert braindata.shape[1] == np.sum(sub_mask.get_fdata())\n",
    "            g2.create_dataset('braindata', data=braindata)\n",
    "\n",
    "            g2.create_dataset(\n",
    "                'conditions',\n",
    "                data=[\n",
    "                    c.encode('utf-8')\n",
    "                    for c in task_info[subject][run].condition.tolist()\n",
    "                ],\n",
    "            )\n",
    "\n",
    "            # get the difumo data\n",
    "            difumo_data = difumo_masker.fit_transform(\n",
    "                task_images[subject][run]\n",
    "            )\n",
    "            assert difumo_data.shape[0] == task_images[subject][run].shape[-1]\n",
    "            g2.create_dataset('difumodata', data=difumo_data)"
   ]
  },
  {
   "cell_type": "markdown",
   "id": "b95db5af",
   "metadata": {},
   "source": []
  },
  {
   "cell_type": "markdown",
   "id": "2248576a",
   "metadata": {},
   "source": [
    "### Average within blocks\n",
    "\n"
   ]
  },
  {
   "cell_type": "code",
   "execution_count": null,
   "id": "055b001a",
   "metadata": {
    "lines_to_next_cell": 2
   },
   "outputs": [],
   "source": [
    "with h5py.File(os.path.join(output_dir, 'haxby_data_cleaned.h5'), 'a') as hf:\n",
    "\n",
    "    subjects = [int(sub) for sub in layout.get_subjects()]\n",
    "    for subject in subjects:\n",
    "        runs = get_subject_runs(subject, data_dir)\n",
    "        for run in runs:\n",
    "            conditions = [\n",
    "                i.decode('utf-8')\n",
    "                for i in hf[f'sub-{subject}/run-{run}']['conditions'][:]\n",
    "            ]\n",
    "\n",
    "            vt_df = pd.DataFrame(\n",
    "                hf[f'sub-{subject}/run-{run}']['vtmaskdata'][:]\n",
    "            )\n",
    "            condition_mean_df = vt_df.groupby(conditions).mean().sort_index()\n",
    "            conditions_collapsed = condition_mean_df.index.values\n",
    "            hf[f'sub-{subject}/run-{run}'].create_dataset(\n",
    "                'mean_vtmaskdata', data=condition_mean_df\n",
    "            )\n",
    "            hf[f'sub-{subject}/run-{run}'].create_dataset(\n",
    "                'mean_conditions', data=condition_mean_df.index.values\n",
    "            )\n",
    "\n",
    "            # same for whole brain\n",
    "            brain_df = pd.DataFrame(\n",
    "                hf[f'sub-{subject}/run-{run}']['braindata'][:]\n",
    "            )\n",
    "            condition_mean_df = (\n",
    "                brain_df.groupby(conditions).mean().sort_index()\n",
    "            )\n",
    "            # make sure conditions are the same between the two\n",
    "            assert np.all(\n",
    "                condition_mean_df.index.values == conditions_collapsed\n",
    "            )\n",
    "            hf[f'sub-{subject}/run-{run}'].create_dataset(\n",
    "                'mean_braindata', data=condition_mean_df\n",
    "            )\n",
    "\n",
    "            # same for difumo\n",
    "            difumo_df = pd.DataFrame(\n",
    "                hf[f'sub-{subject}/run-{run}']['difumodata'][:]\n",
    "            )\n",
    "            condition_mean_df = (\n",
    "                difumo_df.groupby(conditions).mean().sort_index()\n",
    "            )\n",
    "            # make sure conditions are the same between the two\n",
    "            assert np.all(\n",
    "                condition_mean_df.index.values == conditions_collapsed\n",
    "            )\n",
    "            hf[f'sub-{subject}/run-{run}'].create_dataset(\n",
    "                'mean_difumodata', data=condition_mean_df\n",
    "            )"
   ]
  },
  {
   "cell_type": "code",
   "execution_count": null,
   "id": "9f1d053e",
   "metadata": {},
   "outputs": [],
   "source": [
    "condition_mean_df.sort_index()"
   ]
  },
  {
   "cell_type": "code",
   "execution_count": null,
   "id": "a1b8babe",
   "metadata": {
    "lines_to_next_cell": 2
   },
   "outputs": [],
   "source": [
    "\n",
    "with h5py.File(os.path.join(output_dir, 'haxby_data_cleaned.h5'), 'r') as hf:\n",
    "\n",
    "    # utils.list_all_datasets(hf)\n",
    "    print(hf[f'sub-{subject}/run-{run}']['braindata'].shape)\n",
    "    print(hf[f'sub-{subject}/run-{run}']['vtmaskdata'].shape)\n",
    "    print(hf[f'sub-{subject}/run-{run}']['difumodata'].shape)\n",
    "\n",
    "    print(hf[f'sub-{subject}/run-{run}']['conditions'].shape)\n",
    "    print(hf[f'sub-{subject}/run-{run}']['mean_conditions'].shape)"
   ]
  },
  {
   "cell_type": "code",
   "execution_count": null,
   "id": "9edf4002",
   "metadata": {},
   "outputs": [],
   "source": []
  }
 ],
 "metadata": {
  "kernelspec": {
   "display_name": "Python 3",
   "language": "python",
   "name": "python3"
  },
  "language_info": {
   "codemirror_mode": {
    "name": "ipython",
    "version": 3
   },
   "file_extension": ".py",
   "mimetype": "text/x-python",
   "name": "python",
   "nbconvert_exporter": "python",
   "pygments_lexer": "ipython3",
   "version": "3.12.4"
  }
 },
 "nbformat": 4,
 "nbformat_minor": 5
}
