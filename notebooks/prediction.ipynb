{
 "cells": [
  {
   "cell_type": "markdown",
   "metadata": {},
   "source": [
    "### Predicting individual differences from fMRI data\n",
    "\n",
    "We will use the data from the Consortium for Neuropsychiatric Phenomics ([Poldrack et al., 2016](https://www.ncbi.nlm.nih.gov/pmc/articles/PMC5139672/)) to examine prediction of individual differences from fMRI data."
   ]
  },
  {
   "cell_type": "code",
   "execution_count": 328,
   "metadata": {},
   "outputs": [],
   "source": [
    "import pandas as pd\n",
    "import numpy as np\n",
    "import matplotlib.pyplot as plt\n",
    "import seaborn as sns\n",
    "import nibabel as nib\n",
    "import os\n",
    "from pathlib import Path\n",
    "import nilearn\n",
    "import sklearn\n",
    "from nilearn.maskers import NiftiMasker\n",
    "from sklearn.svm import SVC, SVR\n",
    "from sklearn.model_selection import ShuffleSplit, StratifiedShuffleSplit, GridSearchCV\n",
    "from sklearn.linear_model import RidgeCV, SGDClassifier, SGDRegressor\n",
    "from scipy.stats import ks_2samp\n",
    "from nilearn.plotting import plot_stat_map\n",
    "import torch\n",
    "import torch.nn as nn\n",
    "import torch.optim as optim\n",
    "from torch.utils.data import DataLoader, TensorDataset\n",
    "import einops\n",
    "from sklearn.preprocessing import OneHotEncoder\n",
    "\n",
    "device = 'mps'"
   ]
  },
  {
   "cell_type": "code",
   "execution_count": 162,
   "metadata": {},
   "outputs": [
    {
     "data": {
      "text/plain": [
       "array(['SCHZ', 'ADHD', 'BIPOLAR', 'CONTROL'], dtype=object)"
      ]
     },
     "execution_count": 162,
     "metadata": {},
     "output_type": "execute_result"
    }
   ],
   "source": [
    "metadata_df.diagnosis.unique()"
   ]
  },
  {
   "cell_type": "markdown",
   "metadata": {},
   "source": [
    "### Load the data"
   ]
  },
  {
   "cell_type": "code",
   "execution_count": 281,
   "metadata": {},
   "outputs": [],
   "source": [
    "basedir = Path('/Users/poldrack/data_unsynced/CNP')\n",
    "output_dir = basedir / 'output'\n",
    "if not output_dir.exists():\n",
    "    output_dir.mkdir()\n",
    "\n",
    "# load the data\n",
    "contrast_dict = {\n",
    "    'stopsignal': {\n",
    "        \"Go\": 1,\n",
    "        \"GoRT\": 3,\n",
    "        \"StopSuccess\": 5,\n",
    "        \"StopUnsuccess\": 7,\n",
    "        \"StopUnsuccessRT\": 9,\n",
    "        \"Go-StopSuccess\": 11,\n",
    "        \"Go-StopUnsuccess\": 13,\n",
    "        \"StopSuccess-StopUnsuccess\": 15\n",
    "}   ,\n",
    "    'scap': {\n",
    "        \"All\": 1,\n",
    "        \"All_rt\": 3,\n",
    "        \"Load1\": 5,\n",
    "        \"Load3\": 7,\n",
    "        \"Load5\": 9,\n",
    "        \"Load7\": 11,\n",
    "        \"Delay1.5\": 13,\n",
    "        \"Delay3\": 15,\n",
    "        \"Delay4.5\": 17,\n",
    "        \"LinearUp_load\": 19,\n",
    "        \"LinearUp_delay\": 21,\n",
    "        \"Load3-load1\": 23,\n",
    "        \"Load5-load1\": 25,\n",
    "        \"Load7-load1\": 27,\n",
    "        \"Load5-load3\": 29,\n",
    "        \"Load7-load3\": 31,\n",
    "        \"Load7-load5\": 33,\n",
    "        \"Delay4_5-delay1_5\": 35,\n",
    "        \"Delay3-delay1_5\": 37,\n",
    "        \"Delay4_5-delay3\": 39\n",
    "    },\n",
    "    'bart': {\n",
    "        \"Accept\": 1,\n",
    "        \"AcceptRT\": 3,\n",
    "        \"AcceptParametric\": 5,\n",
    "        \"Control\": 7,\n",
    "        \"Explode\": 9,\n",
    "        \"ExplodeParametric\": 11,\n",
    "        \"Reject\": 13,\n",
    "        \"RejectRT\": 15,\n",
    "        \"RejectParametric\": 17,\n",
    "        \"AcceptParam-ExplodeParam\": 19,\n",
    "        \"AcceptParam-RejectParam\": 21,\n",
    "        \"Explode-Reject\": 23\n",
    "     },\n",
    "    'pamret': {\n",
    "        \"All\": 1,\n",
    "        \"All_RT\": 3,\n",
    "        \"Correct\": 5,\n",
    "        \"Incorrect\": 7,\n",
    "        \"TruePos\": 9,\n",
    "        \"TrueNeg\": 11,\n",
    "        \"FalsePos\": 13,\n",
    "        \"FalseNeg\": 15,\n",
    "        \"TruePos_RT\": 17,\n",
    "        \"TrueNeg_RT\": 19,\n",
    "        \"FalsePos_RT\": 21,\n",
    "        \"FalseNeg_RT\": 23,\n",
    "        \"Control\": 25,\n",
    "        \"TruePos-TrueNeg\": 27,\n",
    "        \"FalsePos-FalseNeg\": 29,\n",
    "        \"TruePos-FalsePos\": 31,\n",
    "        \"TrueNeg-FalseNeg\": 33,\n",
    "        \"Corr-Incorr\": 35,\n",
    "        \"Correct-Control\": 37,\n",
    "        \"Incorrect-Control\": 39,\n",
    "        \"TruePos-Control\": 41,\n",
    "        \"TrueNeg-Control\": 43,\n",
    "        \"FalsePos-Control\": 45,\n",
    "        \"FalseNeg-Control\": 47,\n",
    "        \"All-Control\": 49\n",
    "    },\n",
    "    'taskswitch': {\n",
    "        'All': 1,\n",
    "        'All_RT': 3,\n",
    "        'CONGRUENT-INCONGRUENT': 37,\n",
    "        'SWITCH-NOSWITCH': 39,\n",
    "    }\n",
    "}\n",
    "\n",
    "def add_pheno_var(metadata_df, basedir, phenotype, varname):\n",
    "    participants_file = basedir / 'participants.tsv'\n",
    "    phenotype_df = pd.read_csv(participants_file, sep='\\t')\n",
    "    if varname not in phenotype_df.columns:\n",
    "        phenotype_file = basedir / 'phenotype' / f'{phenotype}.tsv'\n",
    "        phenotype_df = pd.read_csv(phenotype_file, sep='\\t')\n",
    "        if varname not in phenotype_df.columns:\n",
    "            raise ValueError(f'Variable {varname} not found in either {phenotype_file} or {participants_file}')\n",
    "    metadata_df[varname] = metadata_df.participant_id.map(phenotype_df.set_index('participant_id')[varname])\n",
    "    return metadata_df\n",
    "\n",
    "task = 'pamret'\n",
    "contrast = 'All'\n",
    "pheno_var = 'age'\n",
    "\n",
    "def get_data(basedir, task, cope, pheno_var, \n",
    "             patientgroups=None, standardize=True):\n",
    "    if patientgroups is None:\n",
    "        patientgroups = ['SCHZ', 'BIPOLAR']\n",
    "    cope = contrast_dict[task][contrast]\n",
    "    metadata_df = pd.read_csv(basedir / 'combined' / task / 'metadata.csv')\n",
    "    metadata_df['patient'] = metadata_df.diagnosis.isin(['SCHZ', 'BIPOLAR']).astype('int')\n",
    "    #print('proportion of patients:', metadata_df.patient.mean())\n",
    "    metadata_df = add_pheno_var(metadata_df, basedir, task, pheno_var)\n",
    "    # print(metadata_df[pheno_var].describe())\n",
    "\n",
    "    taskdir = basedir / 'combined' / task \n",
    "    data_img = nib.load(taskdir/ f'cope{cope}_combat.nii.gz')\n",
    "    mask_img = nib.load(taskdir / 'mask.nii.gz')\n",
    "    masker = NiftiMasker(mask_img, standardize=standardize)\n",
    "    data = masker.fit_transform(data_img)\n",
    "\n",
    "    # remove subjects with NaN in pheno_var\n",
    "    if metadata_df[pheno_var].isnull().sum() > 0:\n",
    "        print(f'removing {metadata_df[pheno_var].isnull().sum()} subjects with missing {pheno_var}')\n",
    "        data = data[~metadata_df[pheno_var].isnull(), :]\n",
    "        metadata_df = metadata_df[~metadata_df[pheno_var].isnull()]\n",
    "        metadata_df = metadata_df.reset_index(drop=True)\n",
    "\n",
    "    assert metadata_df.shape[0] == data.shape[0]\n",
    "    return data, metadata_df\n",
    "\n",
    "data, metadata_df = get_data(basedir, task, contrast, pheno_var,\n",
    "                             patientgroups = ['SCHZ', 'BIPOLAR', 'ADHD'])"
   ]
  },
  {
   "cell_type": "markdown",
   "metadata": {},
   "source": [
    "### Continuous prediction is tricky\n",
    "\n",
    "First let's generate a y variable that we know to be correlated with the fMRI data, and make sure that we can predict it.  We will use a Weibull distribution to generate y values that are slightly skewed, like those in the real data.\n",
    "\n"
   ]
  },
  {
   "cell_type": "code",
   "execution_count": 315,
   "metadata": {},
   "outputs": [
    {
     "data": {
      "text/plain": [
       "<seaborn.axisgrid.FacetGrid at 0x57335cbf0>"
      ]
     },
     "execution_count": 315,
     "metadata": {},
     "output_type": "execute_result"
    },
    {
     "data": {
      "image/png": "[encoded data removed]",
      "text/plain": [
       "<Figure size 500x500 with 1 Axes>"
      ]
     },
     "metadata": {},
     "output_type": "display_data"
    }
   ],
   "source": [
    "def make_simulated_y(data, snr=0, weib_param=1.1, seed=None):\n",
    "    rng = np.random.RandomState(seed)\n",
    "    weights = np.random.randn(data.shape[1])\n",
    "    y_sim = data.dot(weights) * snr + rng.weibull(weib_param, size=data.shape[0])\n",
    "    return y_sim\n",
    "\n",
    "y_sim = make_simulated_y(data, snr=0)\n",
    "sns.displot(y_sim, kind='kde')\n"
   ]
  },
  {
   "cell_type": "markdown",
   "metadata": {},
   "source": [
    "Do ridge regression to see how strong the association is."
   ]
  },
  {
   "cell_type": "code",
   "execution_count": 316,
   "metadata": {},
   "outputs": [
    {
     "data": {
      "text/plain": [
       "np.float64(-0.104560259876129)"
      ]
     },
     "execution_count": 316,
     "metadata": {},
     "output_type": "execute_result"
    }
   ],
   "source": [
    "def run_ridgeCV(data, target, nsplits=100, test_size=0.3,\n",
    "                seed=None, verbose=False,\n",
    "                clf=None):\n",
    "    ss = ShuffleSplit(n_splits=nsplits,\n",
    "                      test_size=test_size, random_state=seed)\n",
    "    r2 = []\n",
    "    for split_idx, (train_idx, test_idx) in enumerate(ss.split(data)):\n",
    "        train_X = data[train_idx]\n",
    "        train_y = target[train_idx]\n",
    "        test_X = data[test_idx]\n",
    "        test_y = target[test_idx]\n",
    "\n",
    "        # fit the model\n",
    "        if clf is None:\n",
    "            clf = RidgeCV\n",
    "        model = clf()\n",
    "        model.fit(train_X, train_y)\n",
    "        pred_y = model.predict(test_X)\n",
    "        r2.append(sklearn.metrics.r2_score(test_y, pred_y))\n",
    "        if verbose:\n",
    "            print(f'split {split_idx}: r2={r2[-1]}')\n",
    "\n",
    "    return np.mean(r2)\n",
    "\n",
    "run_ridgeCV(data, y_sim)"
   ]
  },
  {
   "cell_type": "markdown",
   "metadata": {},
   "source": [
    "Why is the mean r2 negative?"
   ]
  },
  {
   "cell_type": "code",
   "execution_count": 331,
   "metadata": {},
   "outputs": [
    {
     "name": "stdout",
     "output_type": "stream",
     "text": [
      "split 226: r2=-0.1757612669186075\n",
      "split 687: r2=-0.05239580097155505\n",
      "split 1950: r2=-0.16828584005118996\n",
      "split 2391: r2=-0.2581739524967219\n",
      "split 2845: r2=-0.029566474424062683\n",
      "split 3061: r2=-0.007362517964631277\n",
      "split 3312: r2=-0.05951463666776102\n",
      "split 4646: r2=-0.058126110042105994\n",
      "split 5307: r2=-0.08308245347305565\n",
      "split 5352: r2=-0.23166017616031342\n",
      "split 6882: r2=-0.003396424278001575\n",
      "split 7051: r2=-0.13356899345870654\n",
      "split 9521: r2=-0.09053775958361943\n",
      "split 10430: r2=-0.04586941868100114\n",
      "split 11259: r2=-0.1557433769459735\n",
      "split 11572: r2=-0.12406319718974967\n",
      "split 11772: r2=0.06415578109459397\n",
      "split 12011: r2=-0.15416038252996045\n",
      "split 12064: r2=-0.05316351263110741\n",
      "split 12442: r2=-0.09802435268111354\n",
      "split 13561: r2=-0.16600075396238378\n",
      "split 13660: r2=-0.17327865562419786\n",
      "split 15163: r2=-0.05184579783603249\n",
      "split 15421: r2=-0.12944289782013163\n",
      "split 20086: r2=-0.05722616433830385\n",
      "split 20595: r2=-0.0383141723101057\n",
      "split 23579: r2=-0.06203453473921572\n",
      "split 24596: r2=-0.02003744613006808\n",
      "split 25025: r2=-0.1470151115894971\n",
      "split 25752: r2=-0.09471006727485798\n",
      "split 25937: r2=-0.07077749282662937\n",
      "split 27135: r2=-0.1178029796394251\n",
      "split 28124: r2=-0.05028864665995081\n",
      "split 28139: r2=-0.022495146708834346\n",
      "split 28725: r2=-0.18041310476018113\n",
      "split 29309: r2=-0.01791644991352448\n",
      "split 29566: r2=-0.18524300965509122\n",
      "split 29990: r2=-0.06633845986035114\n",
      "split 30951: r2=-0.0013347036351172292\n",
      "split 31188: r2=-0.0563831373695205\n",
      "split 31414: r2=-0.17865526688802835\n",
      "split 33018: r2=-0.15552572029590706\n",
      "split 33964: r2=-0.5096319509684974\n",
      "split 34687: r2=-0.1722119608268946\n",
      "split 37818: r2=0.0030177239996824756\n",
      "split 38336: r2=-0.049124047854006925\n",
      "split 39062: r2=-0.1634895726778718\n",
      "split 40225: r2=-0.042563014501654006\n",
      "split 43044: r2=-0.030102762600863864\n",
      "split 43429: r2=-0.19194236221236682\n",
      "split 43852: r2=-0.10158647143855837\n",
      "split 46595: r2=-0.12352108579558974\n",
      "split 47720: r2=0.05410787673918649\n",
      "split 48082: r2=0.0069212257738178184\n",
      "split 48640: r2=-0.07421418604148777\n",
      "split 49412: r2=0.0033844450563250694\n",
      "split 51993: r2=-0.09326861309841017\n",
      "split 55049: r2=-0.002691812134224536\n",
      "split 56781: r2=0.0042701245138807575\n",
      "split 57747: r2=-0.12753878939783725\n",
      "split 58240: r2=-0.22684129733723868\n",
      "split 58388: r2=-0.09643261548886506\n",
      "split 59585: r2=-0.14127988062875718\n",
      "split 60386: r2=0.004189647645206684\n",
      "split 63164: r2=-0.016092968177022993\n",
      "split 64964: r2=-0.16636785467002957\n",
      "split 65933: r2=-0.18064183089788188\n",
      "split 66375: r2=-0.09682568190214402\n",
      "split 68240: r2=-0.12996532427939722\n",
      "split 69405: r2=-0.13017098509622183\n",
      "split 73771: r2=-0.032546036641958764\n",
      "split 75278: r2=-0.07737891660470098\n",
      "split 78200: r2=-0.06750483396840612\n",
      "split 78352: r2=-0.06093725380172721\n",
      "split 78589: r2=-0.2001902460851126\n",
      "split 80559: r2=-0.11950888652820035\n",
      "split 81447: r2=-0.10049919971609622\n",
      "split 82044: r2=-0.07452466016657366\n",
      "split 82739: r2=-0.16813024044243718\n",
      "split 84125: r2=-0.0846588205520169\n",
      "split 84311: r2=-0.13342731645984252\n",
      "split 84604: r2=-0.08688127607483942\n",
      "split 84815: r2=-0.08159712103032635\n",
      "split 85035: r2=0.04537726961244226\n",
      "split 86283: r2=0.018769783207306046\n",
      "split 87677: r2=-0.17489500088024257\n",
      "split 88484: r2=-0.01729815985119809\n",
      "split 89172: r2=-0.025807544133432447\n",
      "split 89598: r2=-0.12201111611876048\n",
      "split 90501: r2=-0.050497131308565146\n",
      "split 90634: r2=-0.17421783605574692\n",
      "split 90888: r2=0.03667657555055204\n",
      "split 92128: r2=-0.049591172514822146\n",
      "split 93111: r2=-0.04687584808957479\n",
      "split 93490: r2=-0.08982901347704186\n",
      "split 99126: r2=-0.01843404049004138\n",
      "split 99144: r2=-0.07496919080358988\n",
      "split 99221: r2=-0.11524491018576022\n",
      "split 102557: r2=-0.04200946424713381\n",
      "split 103023: r2=-0.15991313617574465\n",
      "Completed 100 splits on 103023 attempts\n"
     ]
    },
    {
     "data": {
      "text/plain": [
       "np.float64(-0.09100549354223311)"
      ]
     },
     "execution_count": 331,
     "metadata": {},
     "output_type": "execute_result"
    }
   ],
   "source": [
    "\n",
    "def run_ridgeCV_equaldist(data, target, nsplits=100, test_size=0.3,\n",
    "                seed=None, verbose=False, splitmult=10000,\n",
    "                pthresh=.999, clf=None, shuffle_y=False):\n",
    "    \n",
    "    ss = ShuffleSplit(n_splits=nsplits*splitmult,\n",
    "                      test_size=test_size, random_state=seed)\n",
    "    r2 = []\n",
    "    if shuffle_y:\n",
    "        target = np.random.permutation(target)\n",
    "    for split_idx, (train_idx, test_idx) in enumerate(ss.split(data)):\n",
    "        if ks_2samp(target[train_idx], target[test_idx]).pvalue < pthresh:\n",
    "            continue\n",
    "        train_X = data[train_idx]\n",
    "        train_y = target[train_idx]\n",
    "        test_X = data[test_idx]\n",
    "        test_y = target[test_idx]\n",
    "\n",
    "        # fit the model\n",
    "        if clf is None:\n",
    "            clf = RidgeCV()\n",
    "        model = clf\n",
    "        model.fit(train_X, train_y)\n",
    "        pred_y = model.predict(test_X)\n",
    "        r2.append(sklearn.metrics.r2_score(test_y, pred_y))\n",
    "        if verbose:\n",
    "            print(f'split {split_idx}: r2={r2[-1]}')\n",
    "        if len(r2) == nsplits:\n",
    "            break\n",
    "    if verbose:\n",
    "        if len(r2) < nsplits:\n",
    "            print(f'Warning: only {len(r2)} splits completed on {split_idx} attempts')\n",
    "        else:\n",
    "            print(f'Completed {len(r2)} splits on {split_idx} attempts')\n",
    "    return np.mean(r2)\n",
    "\n",
    "run_ridgeCV_equaldist(data, y_sim, verbose=True)"
   ]
  },
  {
   "cell_type": "markdown",
   "metadata": {},
   "source": [
    "Now generate some data with true signal and make sure it works."
   ]
  },
  {
   "cell_type": "code",
   "execution_count": 130,
   "metadata": {},
   "outputs": [
    {
     "name": "stdout",
     "output_type": "stream",
     "text": [
      "-0.08798785744224638\n",
      "Completed 100 splits on 95567 attempts\n"
     ]
    },
    {
     "data": {
      "text/plain": [
       "np.float64(-0.06477731493951755)"
      ]
     },
     "execution_count": 130,
     "metadata": {},
     "output_type": "execute_result"
    }
   ],
   "source": [
    "y_sim = make_simulated_y(data, snr=1)\n",
    "print(run_ridgeCV(data, y_sim))\n",
    "run_ridgeCV_equaldist(data, y_sim)"
   ]
  },
  {
   "cell_type": "markdown",
   "metadata": {},
   "source": [
    "### Decoding continuous variables across subjects\n",
    "\n",
    "Let's decode age from the fMRI data."
   ]
  },
  {
   "cell_type": "code",
   "execution_count": 282,
   "metadata": {},
   "outputs": [
    {
     "data": {
      "text/plain": [
       "<seaborn.axisgrid.FacetGrid at 0x577987410>"
      ]
     },
     "execution_count": 282,
     "metadata": {},
     "output_type": "execute_result"
    },
    {
     "data": {
      "image/png": "[encoded data removed]",
      "text/plain": [
       "<Figure size 500x500 with 1 Axes>"
      ]
     },
     "metadata": {},
     "output_type": "display_data"
    }
   ],
   "source": [
    "sns.displot(metadata_df[pheno_var])"
   ]
  },
  {
   "cell_type": "code",
   "execution_count": 303,
   "metadata": {},
   "outputs": [
    {
     "name": "stdout",
     "output_type": "stream",
     "text": [
      "0.2069118115787831\n"
     ]
    },
    {
     "data": {
      "text/plain": [
       "np.float64(0.0)"
      ]
     },
     "execution_count": 303,
     "metadata": {},
     "output_type": "execute_result"
    }
   ],
   "source": [
    "# use shuffle split\n",
    "\n",
    "acc = run_ridgeCV_equaldist(data, metadata_df[pheno_var])\n",
    "print('Mean accuracy:', acc)\n",
    "\n",
    "shuf_acc = [acc] # include the actual accuracy to preven p=0\n",
    "for i in range(500):\n",
    "    shuf_acc.append(run_ridgeCV_equaldist(data, metadata_df[pheno_var], \n",
    "                                     shuffle_y=True))\n",
    "print('p-value under null:', np.mean(acc <= np.array(shuf_acc)))\n"
   ]
  },
  {
   "cell_type": "markdown",
   "metadata": {},
   "source": [
    "### Between-subject classification\n",
    "\n",
    "patient vs control"
   ]
  },
  {
   "cell_type": "code",
   "execution_count": 272,
   "metadata": {},
   "outputs": [
    {
     "name": "stdout",
     "output_type": "stream",
     "text": [
      "Patient classification using stopsignal GoRT: 0.4941846264367816\n"
     ]
    },
    {
     "data": {
      "text/plain": [
       "Text(0, 0.5, 'accuracy')"
      ]
     },
     "execution_count": 272,
     "metadata": {},
     "output_type": "execute_result"
    },
    {
     "data": {
      "image/png": "[encoded data removed]",
      "text/plain": [
       "<Figure size 640x480 with 1 Axes>"
      ]
     },
     "metadata": {},
     "output_type": "display_data"
    }
   ],
   "source": [
    "def run_clf_stratified(data, target, nsplits=100, test_size=0.3,\n",
    "                seed=None, verbose=False, splitmult=10000,\n",
    "                pthresh=.9, clf=None, shuffle_y=False):\n",
    "    \n",
    "    sss = StratifiedShuffleSplit(n_splits=nsplits*splitmult,\n",
    "                      test_size=test_size, random_state=seed)\n",
    "    acc = []\n",
    "    coefs = None\n",
    "    for split_idx, (train_idx, test_idx) in enumerate(sss.split(data, target)):\n",
    "        if shuffle_y:\n",
    "            target = np.random.permutation(target)\n",
    "        train_X = data[train_idx]\n",
    "        train_y = target[train_idx]\n",
    "        test_X = data[test_idx]\n",
    "        test_y = target[test_idx]\n",
    "\n",
    "        # fit the model\n",
    "        if clf is None:\n",
    "            clf = SGDClassifier\n",
    "        model = clf()\n",
    "        model.fit(train_X, train_y)\n",
    "        if coefs is None:\n",
    "            coefs = model.coef_\n",
    "        else:\n",
    "            coefs += model.coef_\n",
    "        pred_y = model.predict(test_X)\n",
    "        acc.append(sklearn.metrics.balanced_accuracy_score(test_y, pred_y))\n",
    "        if verbose:\n",
    "            print(f'split {split_idx}: r2={acc[-1]}')\n",
    "        if len(acc) == nsplits:\n",
    "            break\n",
    "    coefs /= (split_idx + 1)\n",
    "    return acc, coefs\n",
    "\n",
    "acc, _ = run_clf_stratified(data, metadata_df.patient)\n",
    "print(f'Patient classification using {task} {contrast}: {np.mean(acc)}')\n",
    "sns.boxenplot(acc)\n",
    "plt.ylabel('accuracy')\n"
   ]
  },
  {
   "cell_type": "code",
   "execution_count": 278,
   "metadata": {},
   "outputs": [
    {
     "name": "stdout",
     "output_type": "stream",
     "text": [
      "Patient classification using stopsignal Go: 0.506 (p = 0.443)\n",
      "\n",
      "Patient classification using stopsignal GoRT: 0.477 (p = 0.693)\n",
      "\n",
      "Patient classification using stopsignal StopSuccess: 0.481 (p = 0.651)\n",
      "\n",
      "Patient classification using stopsignal StopUnsuccess: 0.461 (p = 0.809)\n",
      "\n",
      "Patient classification using stopsignal StopUnsuccessRT: 0.510 (p = 0.416)\n",
      "\n"
     ]
    },
    {
     "ename": "KeyboardInterrupt",
     "evalue": "",
     "output_type": "error",
     "traceback": [
      "\u001b[0;31m---------------------------------------------------------------------------\u001b[0m",
      "\u001b[0;31mKeyboardInterrupt\u001b[0m                         Traceback (most recent call last)",
      "Cell \u001b[0;32mIn[278], line 11\u001b[0m\n\u001b[1;32m      8\u001b[0m data, metadata_df \u001b[38;5;241m=\u001b[39m get_data(basedir, task, contrast, pheno_var,\n\u001b[1;32m      9\u001b[0m                             patientgroups \u001b[38;5;241m=\u001b[39m [\u001b[38;5;124m'\u001b[39m\u001b[38;5;124mSCHZ\u001b[39m\u001b[38;5;124m'\u001b[39m, \u001b[38;5;124m'\u001b[39m\u001b[38;5;124mBIPOLAR\u001b[39m\u001b[38;5;124m'\u001b[39m])\n\u001b[1;32m     10\u001b[0m acc, _ \u001b[38;5;241m=\u001b[39m run_clf_stratified(data, metadata_df\u001b[38;5;241m.\u001b[39mpatient, nsplits \u001b[38;5;241m=\u001b[39m \u001b[38;5;241m100\u001b[39m)\n\u001b[0;32m---> 11\u001b[0m shuffle_acc, _ \u001b[38;5;241m=\u001b[39m \u001b[43mrun_clf_stratified\u001b[49m\u001b[43m(\u001b[49m\u001b[43mdata\u001b[49m\u001b[43m,\u001b[49m\u001b[43m \u001b[49m\u001b[43mmetadata_df\u001b[49m\u001b[38;5;241;43m.\u001b[39;49m\u001b[43mpatient\u001b[49m\u001b[43m,\u001b[49m\n\u001b[1;32m     12\u001b[0m \u001b[43m                                \u001b[49m\u001b[43mshuffle_y\u001b[49m\u001b[38;5;241;43m=\u001b[39;49m\u001b[38;5;28;43;01mTrue\u001b[39;49;00m\u001b[43m,\u001b[49m\u001b[43m \u001b[49m\u001b[43mnsplits\u001b[49m\u001b[38;5;241;43m=\u001b[39;49m\u001b[38;5;241;43m1000\u001b[39;49m\u001b[43m)\u001b[49m\n\u001b[1;32m     13\u001b[0m pval \u001b[38;5;241m=\u001b[39m np\u001b[38;5;241m.\u001b[39mmean(np\u001b[38;5;241m.\u001b[39mmean(acc) \u001b[38;5;241m<\u001b[39m shuffle_acc)\n\u001b[1;32m     14\u001b[0m \u001b[38;5;28mprint\u001b[39m(\u001b[38;5;124mf\u001b[39m\u001b[38;5;124m'\u001b[39m\u001b[38;5;124mPatient classification using \u001b[39m\u001b[38;5;132;01m{\u001b[39;00mtask\u001b[38;5;132;01m}\u001b[39;00m\u001b[38;5;124m \u001b[39m\u001b[38;5;132;01m{\u001b[39;00mcontrast\u001b[38;5;132;01m}\u001b[39;00m\u001b[38;5;124m: \u001b[39m\u001b[38;5;132;01m{\u001b[39;00mnp\u001b[38;5;241m.\u001b[39mmean(acc)\u001b[38;5;132;01m:\u001b[39;00m\u001b[38;5;124m.3f\u001b[39m\u001b[38;5;132;01m}\u001b[39;00m\u001b[38;5;124m (p = \u001b[39m\u001b[38;5;132;01m{\u001b[39;00mpval\u001b[38;5;132;01m:\u001b[39;00m\u001b[38;5;124m.3f\u001b[39m\u001b[38;5;132;01m}\u001b[39;00m\u001b[38;5;124m)\u001b[39m\u001b[38;5;124m'\u001b[39m)\n",
      "Cell \u001b[0;32mIn[272], line 21\u001b[0m, in \u001b[0;36mrun_clf_stratified\u001b[0;34m(data, target, nsplits, test_size, seed, verbose, splitmult, pthresh, clf, shuffle_y)\u001b[0m\n\u001b[1;32m     19\u001b[0m     clf \u001b[38;5;241m=\u001b[39m SGDClassifier\n\u001b[1;32m     20\u001b[0m model \u001b[38;5;241m=\u001b[39m clf()\n\u001b[0;32m---> 21\u001b[0m \u001b[43mmodel\u001b[49m\u001b[38;5;241;43m.\u001b[39;49m\u001b[43mfit\u001b[49m\u001b[43m(\u001b[49m\u001b[43mtrain_X\u001b[49m\u001b[43m,\u001b[49m\u001b[43m \u001b[49m\u001b[43mtrain_y\u001b[49m\u001b[43m)\u001b[49m\n\u001b[1;32m     22\u001b[0m \u001b[38;5;28;01mif\u001b[39;00m coefs \u001b[38;5;129;01mis\u001b[39;00m \u001b[38;5;28;01mNone\u001b[39;00m:\n\u001b[1;32m     23\u001b[0m     coefs \u001b[38;5;241m=\u001b[39m model\u001b[38;5;241m.\u001b[39mcoef_\n",
      "File \u001b[0;32m~/micromamba/envs/aineuro/lib/python3.12/site-packages/sklearn/base.py:1473\u001b[0m, in \u001b[0;36m_fit_context.<locals>.decorator.<locals>.wrapper\u001b[0;34m(estimator, *args, **kwargs)\u001b[0m\n\u001b[1;32m   1466\u001b[0m     estimator\u001b[38;5;241m.\u001b[39m_validate_params()\n\u001b[1;32m   1468\u001b[0m \u001b[38;5;28;01mwith\u001b[39;00m config_context(\n\u001b[1;32m   1469\u001b[0m     skip_parameter_validation\u001b[38;5;241m=\u001b[39m(\n\u001b[1;32m   1470\u001b[0m         prefer_skip_nested_validation \u001b[38;5;129;01mor\u001b[39;00m global_skip_validation\n\u001b[1;32m   1471\u001b[0m     )\n\u001b[1;32m   1472\u001b[0m ):\n\u001b[0;32m-> 1473\u001b[0m     \u001b[38;5;28;01mreturn\u001b[39;00m \u001b[43mfit_method\u001b[49m\u001b[43m(\u001b[49m\u001b[43mestimator\u001b[49m\u001b[43m,\u001b[49m\u001b[43m \u001b[49m\u001b[38;5;241;43m*\u001b[39;49m\u001b[43margs\u001b[49m\u001b[43m,\u001b[49m\u001b[43m \u001b[49m\u001b[38;5;241;43m*\u001b[39;49m\u001b[38;5;241;43m*\u001b[39;49m\u001b[43mkwargs\u001b[49m\u001b[43m)\u001b[49m\n",
      "File \u001b[0;32m~/micromamba/envs/aineuro/lib/python3.12/site-packages/sklearn/linear_model/_stochastic_gradient.py:938\u001b[0m, in \u001b[0;36mBaseSGDClassifier.fit\u001b[0;34m(self, X, y, coef_init, intercept_init, sample_weight)\u001b[0m\n\u001b[1;32m    909\u001b[0m \u001b[38;5;250m\u001b[39m\u001b[38;5;124;03m\"\"\"Fit linear model with Stochastic Gradient Descent.\u001b[39;00m\n\u001b[1;32m    910\u001b[0m \n\u001b[1;32m    911\u001b[0m \u001b[38;5;124;03mParameters\u001b[39;00m\n\u001b[0;32m   (...)\u001b[0m\n\u001b[1;32m    934\u001b[0m \u001b[38;5;124;03m    Returns an instance of self.\u001b[39;00m\n\u001b[1;32m    935\u001b[0m \u001b[38;5;124;03m\"\"\"\u001b[39;00m\n\u001b[1;32m    936\u001b[0m \u001b[38;5;28mself\u001b[39m\u001b[38;5;241m.\u001b[39m_more_validate_params()\n\u001b[0;32m--> 938\u001b[0m \u001b[38;5;28;01mreturn\u001b[39;00m \u001b[38;5;28;43mself\u001b[39;49m\u001b[38;5;241;43m.\u001b[39;49m\u001b[43m_fit\u001b[49m\u001b[43m(\u001b[49m\n\u001b[1;32m    939\u001b[0m \u001b[43m    \u001b[49m\u001b[43mX\u001b[49m\u001b[43m,\u001b[49m\n\u001b[1;32m    940\u001b[0m \u001b[43m    \u001b[49m\u001b[43my\u001b[49m\u001b[43m,\u001b[49m\n\u001b[1;32m    941\u001b[0m \u001b[43m    \u001b[49m\u001b[43malpha\u001b[49m\u001b[38;5;241;43m=\u001b[39;49m\u001b[38;5;28;43mself\u001b[39;49m\u001b[38;5;241;43m.\u001b[39;49m\u001b[43malpha\u001b[49m\u001b[43m,\u001b[49m\n\u001b[1;32m    942\u001b[0m \u001b[43m    \u001b[49m\u001b[43mC\u001b[49m\u001b[38;5;241;43m=\u001b[39;49m\u001b[38;5;241;43m1.0\u001b[39;49m\u001b[43m,\u001b[49m\n\u001b[1;32m    943\u001b[0m \u001b[43m    \u001b[49m\u001b[43mloss\u001b[49m\u001b[38;5;241;43m=\u001b[39;49m\u001b[38;5;28;43mself\u001b[39;49m\u001b[38;5;241;43m.\u001b[39;49m\u001b[43mloss\u001b[49m\u001b[43m,\u001b[49m\n\u001b[1;32m    944\u001b[0m \u001b[43m    \u001b[49m\u001b[43mlearning_rate\u001b[49m\u001b[38;5;241;43m=\u001b[39;49m\u001b[38;5;28;43mself\u001b[39;49m\u001b[38;5;241;43m.\u001b[39;49m\u001b[43mlearning_rate\u001b[49m\u001b[43m,\u001b[49m\n\u001b[1;32m    945\u001b[0m \u001b[43m    \u001b[49m\u001b[43mcoef_init\u001b[49m\u001b[38;5;241;43m=\u001b[39;49m\u001b[43mcoef_init\u001b[49m\u001b[43m,\u001b[49m\n\u001b[1;32m    946\u001b[0m \u001b[43m    \u001b[49m\u001b[43mintercept_init\u001b[49m\u001b[38;5;241;43m=\u001b[39;49m\u001b[43mintercept_init\u001b[49m\u001b[43m,\u001b[49m\n\u001b[1;32m    947\u001b[0m \u001b[43m    \u001b[49m\u001b[43msample_weight\u001b[49m\u001b[38;5;241;43m=\u001b[39;49m\u001b[43msample_weight\u001b[49m\u001b[43m,\u001b[49m\n\u001b[1;32m    948\u001b[0m \u001b[43m\u001b[49m\u001b[43m)\u001b[49m\n",
      "File \u001b[0;32m~/micromamba/envs/aineuro/lib/python3.12/site-packages/sklearn/linear_model/_stochastic_gradient.py:725\u001b[0m, in \u001b[0;36mBaseSGDClassifier._fit\u001b[0;34m(self, X, y, alpha, C, loss, learning_rate, coef_init, intercept_init, sample_weight)\u001b[0m\n\u001b[1;32m    722\u001b[0m \u001b[38;5;66;03m# Clear iteration count for multiple call to fit.\u001b[39;00m\n\u001b[1;32m    723\u001b[0m \u001b[38;5;28mself\u001b[39m\u001b[38;5;241m.\u001b[39mt_ \u001b[38;5;241m=\u001b[39m \u001b[38;5;241m1.0\u001b[39m\n\u001b[0;32m--> 725\u001b[0m \u001b[38;5;28;43mself\u001b[39;49m\u001b[38;5;241;43m.\u001b[39;49m\u001b[43m_partial_fit\u001b[49m\u001b[43m(\u001b[49m\n\u001b[1;32m    726\u001b[0m \u001b[43m    \u001b[49m\u001b[43mX\u001b[49m\u001b[43m,\u001b[49m\n\u001b[1;32m    727\u001b[0m \u001b[43m    \u001b[49m\u001b[43my\u001b[49m\u001b[43m,\u001b[49m\n\u001b[1;32m    728\u001b[0m \u001b[43m    \u001b[49m\u001b[43malpha\u001b[49m\u001b[43m,\u001b[49m\n\u001b[1;32m    729\u001b[0m \u001b[43m    \u001b[49m\u001b[43mC\u001b[49m\u001b[43m,\u001b[49m\n\u001b[1;32m    730\u001b[0m \u001b[43m    \u001b[49m\u001b[43mloss\u001b[49m\u001b[43m,\u001b[49m\n\u001b[1;32m    731\u001b[0m \u001b[43m    \u001b[49m\u001b[43mlearning_rate\u001b[49m\u001b[43m,\u001b[49m\n\u001b[1;32m    732\u001b[0m \u001b[43m    \u001b[49m\u001b[38;5;28;43mself\u001b[39;49m\u001b[38;5;241;43m.\u001b[39;49m\u001b[43mmax_iter\u001b[49m\u001b[43m,\u001b[49m\n\u001b[1;32m    733\u001b[0m \u001b[43m    \u001b[49m\u001b[43mclasses\u001b[49m\u001b[43m,\u001b[49m\n\u001b[1;32m    734\u001b[0m \u001b[43m    \u001b[49m\u001b[43msample_weight\u001b[49m\u001b[43m,\u001b[49m\n\u001b[1;32m    735\u001b[0m \u001b[43m    \u001b[49m\u001b[43mcoef_init\u001b[49m\u001b[43m,\u001b[49m\n\u001b[1;32m    736\u001b[0m \u001b[43m    \u001b[49m\u001b[43mintercept_init\u001b[49m\u001b[43m,\u001b[49m\n\u001b[1;32m    737\u001b[0m \u001b[43m\u001b[49m\u001b[43m)\u001b[49m\n\u001b[1;32m    739\u001b[0m \u001b[38;5;28;01mif\u001b[39;00m (\n\u001b[1;32m    740\u001b[0m     \u001b[38;5;28mself\u001b[39m\u001b[38;5;241m.\u001b[39mtol \u001b[38;5;129;01mis\u001b[39;00m \u001b[38;5;129;01mnot\u001b[39;00m \u001b[38;5;28;01mNone\u001b[39;00m\n\u001b[1;32m    741\u001b[0m     \u001b[38;5;129;01mand\u001b[39;00m \u001b[38;5;28mself\u001b[39m\u001b[38;5;241m.\u001b[39mtol \u001b[38;5;241m>\u001b[39m \u001b[38;5;241m-\u001b[39mnp\u001b[38;5;241m.\u001b[39minf\n\u001b[1;32m    742\u001b[0m     \u001b[38;5;129;01mand\u001b[39;00m \u001b[38;5;28mself\u001b[39m\u001b[38;5;241m.\u001b[39mn_iter_ \u001b[38;5;241m==\u001b[39m \u001b[38;5;28mself\u001b[39m\u001b[38;5;241m.\u001b[39mmax_iter\n\u001b[1;32m    743\u001b[0m ):\n\u001b[1;32m    744\u001b[0m     warnings\u001b[38;5;241m.\u001b[39mwarn(\n\u001b[1;32m    745\u001b[0m         (\n\u001b[1;32m    746\u001b[0m             \u001b[38;5;124m\"\u001b[39m\u001b[38;5;124mMaximum number of iteration reached before \u001b[39m\u001b[38;5;124m\"\u001b[39m\n\u001b[0;32m   (...)\u001b[0m\n\u001b[1;32m    750\u001b[0m         ConvergenceWarning,\n\u001b[1;32m    751\u001b[0m     )\n",
      "File \u001b[0;32m~/micromamba/envs/aineuro/lib/python3.12/site-packages/sklearn/linear_model/_stochastic_gradient.py:659\u001b[0m, in \u001b[0;36mBaseSGDClassifier._partial_fit\u001b[0;34m(self, X, y, alpha, C, loss, learning_rate, max_iter, classes, sample_weight, coef_init, intercept_init)\u001b[0m\n\u001b[1;32m    649\u001b[0m     \u001b[38;5;28mself\u001b[39m\u001b[38;5;241m.\u001b[39m_fit_multiclass(\n\u001b[1;32m    650\u001b[0m         X,\n\u001b[1;32m    651\u001b[0m         y,\n\u001b[0;32m   (...)\u001b[0m\n\u001b[1;32m    656\u001b[0m         max_iter\u001b[38;5;241m=\u001b[39mmax_iter,\n\u001b[1;32m    657\u001b[0m     )\n\u001b[1;32m    658\u001b[0m \u001b[38;5;28;01melif\u001b[39;00m n_classes \u001b[38;5;241m==\u001b[39m \u001b[38;5;241m2\u001b[39m:\n\u001b[0;32m--> 659\u001b[0m     \u001b[38;5;28;43mself\u001b[39;49m\u001b[38;5;241;43m.\u001b[39;49m\u001b[43m_fit_binary\u001b[49m\u001b[43m(\u001b[49m\n\u001b[1;32m    660\u001b[0m \u001b[43m        \u001b[49m\u001b[43mX\u001b[49m\u001b[43m,\u001b[49m\n\u001b[1;32m    661\u001b[0m \u001b[43m        \u001b[49m\u001b[43my\u001b[49m\u001b[43m,\u001b[49m\n\u001b[1;32m    662\u001b[0m \u001b[43m        \u001b[49m\u001b[43malpha\u001b[49m\u001b[38;5;241;43m=\u001b[39;49m\u001b[43malpha\u001b[49m\u001b[43m,\u001b[49m\n\u001b[1;32m    663\u001b[0m \u001b[43m        \u001b[49m\u001b[43mC\u001b[49m\u001b[38;5;241;43m=\u001b[39;49m\u001b[43mC\u001b[49m\u001b[43m,\u001b[49m\n\u001b[1;32m    664\u001b[0m \u001b[43m        \u001b[49m\u001b[43mlearning_rate\u001b[49m\u001b[38;5;241;43m=\u001b[39;49m\u001b[43mlearning_rate\u001b[49m\u001b[43m,\u001b[49m\n\u001b[1;32m    665\u001b[0m \u001b[43m        \u001b[49m\u001b[43msample_weight\u001b[49m\u001b[38;5;241;43m=\u001b[39;49m\u001b[43msample_weight\u001b[49m\u001b[43m,\u001b[49m\n\u001b[1;32m    666\u001b[0m \u001b[43m        \u001b[49m\u001b[43mmax_iter\u001b[49m\u001b[38;5;241;43m=\u001b[39;49m\u001b[43mmax_iter\u001b[49m\u001b[43m,\u001b[49m\n\u001b[1;32m    667\u001b[0m \u001b[43m    \u001b[49m\u001b[43m)\u001b[49m\n\u001b[1;32m    668\u001b[0m \u001b[38;5;28;01melse\u001b[39;00m:\n\u001b[1;32m    669\u001b[0m     \u001b[38;5;28;01mraise\u001b[39;00m \u001b[38;5;167;01mValueError\u001b[39;00m(\n\u001b[1;32m    670\u001b[0m         \u001b[38;5;124m\"\u001b[39m\u001b[38;5;124mThe number of classes has to be greater than one; got \u001b[39m\u001b[38;5;132;01m%d\u001b[39;00m\u001b[38;5;124m class\u001b[39m\u001b[38;5;124m\"\u001b[39m\n\u001b[1;32m    671\u001b[0m         \u001b[38;5;241m%\u001b[39m n_classes\n\u001b[1;32m    672\u001b[0m     )\n",
      "File \u001b[0;32m~/micromamba/envs/aineuro/lib/python3.12/site-packages/sklearn/linear_model/_stochastic_gradient.py:756\u001b[0m, in \u001b[0;36mBaseSGDClassifier._fit_binary\u001b[0;34m(self, X, y, alpha, C, sample_weight, learning_rate, max_iter)\u001b[0m\n\u001b[1;32m    754\u001b[0m \u001b[38;5;28;01mdef\u001b[39;00m \u001b[38;5;21m_fit_binary\u001b[39m(\u001b[38;5;28mself\u001b[39m, X, y, alpha, C, sample_weight, learning_rate, max_iter):\n\u001b[1;32m    755\u001b[0m \u001b[38;5;250m    \u001b[39m\u001b[38;5;124;03m\"\"\"Fit a binary classifier on X and y.\"\"\"\u001b[39;00m\n\u001b[0;32m--> 756\u001b[0m     coef, intercept, n_iter_ \u001b[38;5;241m=\u001b[39m \u001b[43mfit_binary\u001b[49m\u001b[43m(\u001b[49m\n\u001b[1;32m    757\u001b[0m \u001b[43m        \u001b[49m\u001b[38;5;28;43mself\u001b[39;49m\u001b[43m,\u001b[49m\n\u001b[1;32m    758\u001b[0m \u001b[43m        \u001b[49m\u001b[38;5;241;43m1\u001b[39;49m\u001b[43m,\u001b[49m\n\u001b[1;32m    759\u001b[0m \u001b[43m        \u001b[49m\u001b[43mX\u001b[49m\u001b[43m,\u001b[49m\n\u001b[1;32m    760\u001b[0m \u001b[43m        \u001b[49m\u001b[43my\u001b[49m\u001b[43m,\u001b[49m\n\u001b[1;32m    761\u001b[0m \u001b[43m        \u001b[49m\u001b[43malpha\u001b[49m\u001b[43m,\u001b[49m\n\u001b[1;32m    762\u001b[0m \u001b[43m        \u001b[49m\u001b[43mC\u001b[49m\u001b[43m,\u001b[49m\n\u001b[1;32m    763\u001b[0m \u001b[43m        \u001b[49m\u001b[43mlearning_rate\u001b[49m\u001b[43m,\u001b[49m\n\u001b[1;32m    764\u001b[0m \u001b[43m        \u001b[49m\u001b[43mmax_iter\u001b[49m\u001b[43m,\u001b[49m\n\u001b[1;32m    765\u001b[0m \u001b[43m        \u001b[49m\u001b[38;5;28;43mself\u001b[39;49m\u001b[38;5;241;43m.\u001b[39;49m\u001b[43m_expanded_class_weight\u001b[49m\u001b[43m[\u001b[49m\u001b[38;5;241;43m1\u001b[39;49m\u001b[43m]\u001b[49m\u001b[43m,\u001b[49m\n\u001b[1;32m    766\u001b[0m \u001b[43m        \u001b[49m\u001b[38;5;28;43mself\u001b[39;49m\u001b[38;5;241;43m.\u001b[39;49m\u001b[43m_expanded_class_weight\u001b[49m\u001b[43m[\u001b[49m\u001b[38;5;241;43m0\u001b[39;49m\u001b[43m]\u001b[49m\u001b[43m,\u001b[49m\n\u001b[1;32m    767\u001b[0m \u001b[43m        \u001b[49m\u001b[43msample_weight\u001b[49m\u001b[43m,\u001b[49m\n\u001b[1;32m    768\u001b[0m \u001b[43m        \u001b[49m\u001b[43mrandom_state\u001b[49m\u001b[38;5;241;43m=\u001b[39;49m\u001b[38;5;28;43mself\u001b[39;49m\u001b[38;5;241;43m.\u001b[39;49m\u001b[43mrandom_state\u001b[49m\u001b[43m,\u001b[49m\n\u001b[1;32m    769\u001b[0m \u001b[43m    \u001b[49m\u001b[43m)\u001b[49m\n\u001b[1;32m    771\u001b[0m     \u001b[38;5;28mself\u001b[39m\u001b[38;5;241m.\u001b[39mt_ \u001b[38;5;241m+\u001b[39m\u001b[38;5;241m=\u001b[39m n_iter_ \u001b[38;5;241m*\u001b[39m X\u001b[38;5;241m.\u001b[39mshape[\u001b[38;5;241m0\u001b[39m]\n\u001b[1;32m    772\u001b[0m     \u001b[38;5;28mself\u001b[39m\u001b[38;5;241m.\u001b[39mn_iter_ \u001b[38;5;241m=\u001b[39m n_iter_\n",
      "File \u001b[0;32m~/micromamba/envs/aineuro/lib/python3.12/site-packages/sklearn/linear_model/_stochastic_gradient.py:463\u001b[0m, in \u001b[0;36mfit_binary\u001b[0;34m(est, i, X, y, alpha, C, learning_rate, max_iter, pos_weight, neg_weight, sample_weight, validation_mask, random_state)\u001b[0m\n\u001b[1;32m    460\u001b[0m tol \u001b[38;5;241m=\u001b[39m est\u001b[38;5;241m.\u001b[39mtol \u001b[38;5;28;01mif\u001b[39;00m est\u001b[38;5;241m.\u001b[39mtol \u001b[38;5;129;01mis\u001b[39;00m \u001b[38;5;129;01mnot\u001b[39;00m \u001b[38;5;28;01mNone\u001b[39;00m \u001b[38;5;28;01melse\u001b[39;00m \u001b[38;5;241m-\u001b[39mnp\u001b[38;5;241m.\u001b[39minf\n\u001b[1;32m    462\u001b[0m _plain_sgd \u001b[38;5;241m=\u001b[39m _get_plain_sgd_function(input_dtype\u001b[38;5;241m=\u001b[39mcoef\u001b[38;5;241m.\u001b[39mdtype)\n\u001b[0;32m--> 463\u001b[0m coef, intercept, average_coef, average_intercept, n_iter_ \u001b[38;5;241m=\u001b[39m \u001b[43m_plain_sgd\u001b[49m\u001b[43m(\u001b[49m\n\u001b[1;32m    464\u001b[0m \u001b[43m    \u001b[49m\u001b[43mcoef\u001b[49m\u001b[43m,\u001b[49m\n\u001b[1;32m    465\u001b[0m \u001b[43m    \u001b[49m\u001b[43mintercept\u001b[49m\u001b[43m,\u001b[49m\n\u001b[1;32m    466\u001b[0m \u001b[43m    \u001b[49m\u001b[43maverage_coef\u001b[49m\u001b[43m,\u001b[49m\n\u001b[1;32m    467\u001b[0m \u001b[43m    \u001b[49m\u001b[43maverage_intercept\u001b[49m\u001b[43m,\u001b[49m\n\u001b[1;32m    468\u001b[0m \u001b[43m    \u001b[49m\u001b[43mest\u001b[49m\u001b[38;5;241;43m.\u001b[39;49m\u001b[43m_loss_function_\u001b[49m\u001b[43m,\u001b[49m\n\u001b[1;32m    469\u001b[0m \u001b[43m    \u001b[49m\u001b[43mpenalty_type\u001b[49m\u001b[43m,\u001b[49m\n\u001b[1;32m    470\u001b[0m \u001b[43m    \u001b[49m\u001b[43malpha\u001b[49m\u001b[43m,\u001b[49m\n\u001b[1;32m    471\u001b[0m \u001b[43m    \u001b[49m\u001b[43mC\u001b[49m\u001b[43m,\u001b[49m\n\u001b[1;32m    472\u001b[0m \u001b[43m    \u001b[49m\u001b[43mest\u001b[49m\u001b[38;5;241;43m.\u001b[39;49m\u001b[43ml1_ratio\u001b[49m\u001b[43m,\u001b[49m\n\u001b[1;32m    473\u001b[0m \u001b[43m    \u001b[49m\u001b[43mdataset\u001b[49m\u001b[43m,\u001b[49m\n\u001b[1;32m    474\u001b[0m \u001b[43m    \u001b[49m\u001b[43mvalidation_mask\u001b[49m\u001b[43m,\u001b[49m\n\u001b[1;32m    475\u001b[0m \u001b[43m    \u001b[49m\u001b[43mest\u001b[49m\u001b[38;5;241;43m.\u001b[39;49m\u001b[43mearly_stopping\u001b[49m\u001b[43m,\u001b[49m\n\u001b[1;32m    476\u001b[0m \u001b[43m    \u001b[49m\u001b[43mvalidation_score_cb\u001b[49m\u001b[43m,\u001b[49m\n\u001b[1;32m    477\u001b[0m \u001b[43m    \u001b[49m\u001b[38;5;28;43mint\u001b[39;49m\u001b[43m(\u001b[49m\u001b[43mest\u001b[49m\u001b[38;5;241;43m.\u001b[39;49m\u001b[43mn_iter_no_change\u001b[49m\u001b[43m)\u001b[49m\u001b[43m,\u001b[49m\n\u001b[1;32m    478\u001b[0m \u001b[43m    \u001b[49m\u001b[43mmax_iter\u001b[49m\u001b[43m,\u001b[49m\n\u001b[1;32m    479\u001b[0m \u001b[43m    \u001b[49m\u001b[43mtol\u001b[49m\u001b[43m,\u001b[49m\n\u001b[1;32m    480\u001b[0m \u001b[43m    \u001b[49m\u001b[38;5;28;43mint\u001b[39;49m\u001b[43m(\u001b[49m\u001b[43mest\u001b[49m\u001b[38;5;241;43m.\u001b[39;49m\u001b[43mfit_intercept\u001b[49m\u001b[43m)\u001b[49m\u001b[43m,\u001b[49m\n\u001b[1;32m    481\u001b[0m \u001b[43m    \u001b[49m\u001b[38;5;28;43mint\u001b[39;49m\u001b[43m(\u001b[49m\u001b[43mest\u001b[49m\u001b[38;5;241;43m.\u001b[39;49m\u001b[43mverbose\u001b[49m\u001b[43m)\u001b[49m\u001b[43m,\u001b[49m\n\u001b[1;32m    482\u001b[0m \u001b[43m    \u001b[49m\u001b[38;5;28;43mint\u001b[39;49m\u001b[43m(\u001b[49m\u001b[43mest\u001b[49m\u001b[38;5;241;43m.\u001b[39;49m\u001b[43mshuffle\u001b[49m\u001b[43m)\u001b[49m\u001b[43m,\u001b[49m\n\u001b[1;32m    483\u001b[0m \u001b[43m    \u001b[49m\u001b[43mseed\u001b[49m\u001b[43m,\u001b[49m\n\u001b[1;32m    484\u001b[0m \u001b[43m    \u001b[49m\u001b[43mpos_weight\u001b[49m\u001b[43m,\u001b[49m\n\u001b[1;32m    485\u001b[0m \u001b[43m    \u001b[49m\u001b[43mneg_weight\u001b[49m\u001b[43m,\u001b[49m\n\u001b[1;32m    486\u001b[0m \u001b[43m    \u001b[49m\u001b[43mlearning_rate_type\u001b[49m\u001b[43m,\u001b[49m\n\u001b[1;32m    487\u001b[0m \u001b[43m    \u001b[49m\u001b[43mest\u001b[49m\u001b[38;5;241;43m.\u001b[39;49m\u001b[43meta0\u001b[49m\u001b[43m,\u001b[49m\n\u001b[1;32m    488\u001b[0m \u001b[43m    \u001b[49m\u001b[43mest\u001b[49m\u001b[38;5;241;43m.\u001b[39;49m\u001b[43mpower_t\u001b[49m\u001b[43m,\u001b[49m\n\u001b[1;32m    489\u001b[0m \u001b[43m    \u001b[49m\u001b[38;5;241;43m0\u001b[39;49m\u001b[43m,\u001b[49m\n\u001b[1;32m    490\u001b[0m \u001b[43m    \u001b[49m\u001b[43mest\u001b[49m\u001b[38;5;241;43m.\u001b[39;49m\u001b[43mt_\u001b[49m\u001b[43m,\u001b[49m\n\u001b[1;32m    491\u001b[0m \u001b[43m    \u001b[49m\u001b[43mintercept_decay\u001b[49m\u001b[43m,\u001b[49m\n\u001b[1;32m    492\u001b[0m \u001b[43m    \u001b[49m\u001b[43mest\u001b[49m\u001b[38;5;241;43m.\u001b[39;49m\u001b[43maverage\u001b[49m\u001b[43m,\u001b[49m\n\u001b[1;32m    493\u001b[0m \u001b[43m\u001b[49m\u001b[43m)\u001b[49m\n\u001b[1;32m    495\u001b[0m \u001b[38;5;28;01mif\u001b[39;00m est\u001b[38;5;241m.\u001b[39maverage:\n\u001b[1;32m    496\u001b[0m     \u001b[38;5;28;01mif\u001b[39;00m \u001b[38;5;28mlen\u001b[39m(est\u001b[38;5;241m.\u001b[39mclasses_) \u001b[38;5;241m==\u001b[39m \u001b[38;5;241m2\u001b[39m:\n",
      "\u001b[0;31mKeyboardInterrupt\u001b[0m: "
     ]
    }
   ],
   "source": [
    "accs = []\n",
    "\n",
    "for task in ['stopsignal', 'scap', 'bart']:\n",
    "    taskdir = basedir / 'combined' / task \n",
    "    copefiles = list(taskdir.glob('cope*.nii.gz'))\n",
    "    for contrast in contrast_dict[task].keys():\n",
    "        try:\n",
    "            data, metadata_df = get_data(basedir, task, contrast, pheno_var,\n",
    "                                        patientgroups = ['SCHZ', 'BIPOLAR'])\n",
    "            acc, _ = run_clf_stratified(data, metadata_df.patient, nsplits = 100)\n",
    "            shuffle_acc, _ = run_clf_stratified(data, metadata_df.patient,\n",
    "                                            shuffle_y=True, nsplits=1000)\n",
    "            pval = np.mean(np.mean(acc) < shuffle_acc)\n",
    "            print(f'Patient classification using {task} {contrast}: {np.mean(acc):.3f} (p = {pval:.3f})')\n",
    "            accs.append([task, contrast, np.mean(acc),  pval])\n",
    "            print('')\n",
    "        except Exception as e:\n",
    "            print(f'Error on {task} {contrast}: {e}')\n",
    "            continue\n"
   ]
  },
  {
   "cell_type": "markdown",
   "metadata": {},
   "source": [
    "### Predict using a nonlinear model\n",
    "\n",
    "There may be some nonlinear signals, so let's try a neural network."
   ]
  },
  {
   "cell_type": "code",
   "execution_count": 135,
   "metadata": {},
   "outputs": [
    {
     "name": "stdout",
     "output_type": "stream",
     "text": [
      "CNNModel(\n",
      "  (model): Sequential(\n",
      "    (0): Conv3d(1, 8, kernel_size=(4, 4, 4), stride=(2, 2, 2))\n",
      "    (1): BatchNorm3d(8, eps=1e-05, momentum=0.1, affine=True, track_running_stats=True)\n",
      "    (2): ReLU()\n",
      "    (3): Dropout3d(p=0.1, inplace=False)\n",
      "    (4): Conv3d(8, 8, kernel_size=(4, 4, 4), stride=(2, 2, 2))\n",
      "    (5): BatchNorm3d(8, eps=1e-05, momentum=0.1, affine=True, track_running_stats=True)\n",
      "    (6): ReLU()\n",
      "    (7): Dropout3d(p=0.1, inplace=False)\n",
      "    (8): Flatten(start_dim=1, end_dim=-1)\n",
      "    (9): Linear(in_features=19040, out_features=2, bias=True)\n",
      "  )\n",
      ")\n"
     ]
    }
   ],
   "source": [
    "from CNNModel import CNNModel\n",
    "\n",
    "model = CNNModel(\n",
    "    input_shape=[1],\n",
    "    out_shape=data_img.get_fdata().shape[:3],\n",
    "    num_classes=2\n",
    ")\n",
    "\n",
    "model.to(device)\n",
    "print(model)"
   ]
  },
  {
   "cell_type": "code",
   "execution_count": 136,
   "metadata": {},
   "outputs": [
    {
     "name": "stdout",
     "output_type": "stream",
     "text": [
      "torch.Size([3, 1, 65, 77, 49])\n"
     ]
    },
    {
     "data": {
      "text/plain": [
       "torch.Size([3, 2])"
      ]
     },
     "execution_count": 136,
     "metadata": {},
     "output_type": "execute_result"
    }
   ],
   "source": [
    "def get_dataloaders(train_idx, test_idx, data_img, labels, batch_size=20):\n",
    "    data = einops.rearrange(data_img.get_fdata(), 'x y z s -> s 1 x y z')\n",
    "    data_tensor = torch.tensor(in_data.astype('float32')).to(device).to(torch.float32)\n",
    "    enc = OneHotEncoder(handle_unknown='ignore')\n",
    "    labels = np.array(labels).reshape(-1, 1)\n",
    "    labels_tensor = torch.tensor(enc.fit_transform(labels).toarray().astype('float32')).to(device).to(torch.float32)\n",
    "\n",
    "    Dataset_train = TensorDataset(data_tensor[train_idx], labels_tensor[train_idx])\n",
    "    Loader_train = DataLoader(Dataset_train, batch_size=batch_size, shuffle=True)\n",
    "\n",
    "    Dataset_test = TensorDataset(data_tensor[test_idx], labels_tensor[test_idx])\n",
    "    Loader_test = DataLoader(Dataset_test, batch_size=batch_size, shuffle=True)\n",
    "    return Loader_train, Loader_test\n",
    "\n",
    "Loader_train, Loader_test = get_dataloaders([1,2,3], [4,5,6], data_img, metadata_df.patient)\n",
    "print(Loader_train.dataset.tensors[0].shape)\n",
    "Loader_train.dataset.tensors[1].shape\n",
    "\n"
   ]
  },
  {
   "cell_type": "code",
   "execution_count": 137,
   "metadata": {},
   "outputs": [],
   "source": [
    "def train_loop(dataloader, model, loss_fn, optimizer):\n",
    "    size = len(dataloader.dataset)\n",
    "    # Set the model to training mode - important for batch normalization and dropout layers\n",
    "    # Unnecessary in this situation but added for best practices\n",
    "    model.train()\n",
    "    lossvals = []\n",
    "\n",
    "    for batch, (X, y) in enumerate(dataloader):\n",
    "        # Compute prediction and loss\n",
    "        pred = model(X)\n",
    "        loss = loss_fn(pred, y)\n",
    "        lossvals.append(loss.detach().cpu().item())\n",
    "        # Backpropagation\n",
    "        loss.backward()\n",
    "        optimizer.step()\n",
    "        optimizer.zero_grad()\n",
    "    return np.mean(lossvals)\n",
    "\n",
    "\n",
    "\n",
    "def test_loop(dataloader, model, loss_fn):\n",
    "    # Set the model to evaluation mode - important for batch normalization and dropout layers\n",
    "    # Unnecessary in this situation but added for best practices\n",
    "    model.eval()\n",
    "    size = len(dataloader.dataset)\n",
    "    num_batches = len(dataloader)\n",
    "    test_loss, correct = 0, 0\n",
    "\n",
    "    # Evaluating the model with torch.no_grad() ensures that no gradients are computed during test mode\n",
    "    # also serves to reduce unnecessary gradient computations and memory usage for tensors with requires_grad=True\n",
    "    lossvals = []\n",
    "    with torch.no_grad():\n",
    "        for X, y in dataloader:\n",
    "            pred = model(X)\n",
    "            loss = loss_fn(pred, y)\n",
    "            lossvals.append(loss.detach().cpu().item())\n",
    "            predresp = pred.argmax(1)\n",
    "            correct += (predresp == y.argmax(1)).type(torch.float).sum().item()\n",
    "            #correct += (pred.argmax(1) == y.argmax(1)).type(torch.float).sum().item()\n",
    "\n",
    "    correct /= size\n",
    "    # print(f\"Test Error: \\n Accuracy: {(100*correct):>0.1f}%, Avg loss: {test_loss:>8f} \\n\")\n",
    "    return np.mean(lossvals), correct\n",
    "\n",
    "\n"
   ]
  },
  {
   "cell_type": "code",
   "execution_count": 138,
   "metadata": {},
   "outputs": [],
   "source": [
    "loss_fn = torch.nn.CrossEntropyLoss()\n",
    "optimizer = torch.optim.Adam(\n",
    "        model.parameters(),\n",
    "        lr=.01\n",
    "    )\n",
    "nepochs = 100\n",
    "\n",
    "ss = ShuffleSplit(n_splits=1, test_size=.2, random_state=None)\n",
    "\n",
    "train_loss = []\n",
    "test_loss = []\n",
    "test_correct = []\n",
    "\n",
    "for split_idx, (train_idx, test_idx) in enumerate(ss.split(data)):\n",
    "\n",
    "    for epoch in range(nepochs):\n",
    "        Loader_train, Loader_test = get_dataloaders(\n",
    "            train_idx, test_idx, data_img, metadata_df.patient.values)\n",
    "\n",
    "        train_loss.append(train_loop(Loader_train, model, loss_fn, optimizer))\n",
    "        t_loss, t_corr = test_loop(Loader_test, model, loss_fn)\n",
    "        test_loss.append(t_loss)\n",
    "        test_correct.append(t_corr)\n",
    "    \n"
   ]
  },
  {
   "cell_type": "code",
   "execution_count": 139,
   "metadata": {},
   "outputs": [
    {
     "data": {
      "text/plain": [
       "Text(0.5, 0, 'epoch')"
      ]
     },
     "execution_count": 139,
     "metadata": {},
     "output_type": "execute_result"
    },
    {
     "data": {
      "image/png": "[encoded data removed]",
      "text/plain": [
       "<Figure size 640x480 with 2 Axes>"
      ]
     },
     "metadata": {},
     "output_type": "display_data"
    }
   ],
   "source": [
    "plt.subplot(1, 2, 1)\n",
    "plt.plot(train_loss)\n",
    "plt.plot(test_loss)\n",
    "plt.legend(['train', 'test'])\n",
    "plt.ylabel('loss')\n",
    "plt.xlabel('epoch')\n",
    "\n",
    "plt.subplot(1, 2, 2)\n",
    "plt.plot(test_correct)\n",
    "plt.ylabel('accuracy')\n",
    "plt.xlabel('epoch')\n"
   ]
  },
  {
   "cell_type": "code",
   "execution_count": 140,
   "metadata": {},
   "outputs": [
    {
     "data": {
      "text/plain": [
       "[0.4117647058823529,\n",
       " 0.5686274509803921,\n",
       " 0.5294117647058824,\n",
       " 0.6470588235294118,\n",
       " 0.5490196078431373,\n",
       " 0.49019607843137253,\n",
       " 0.47058823529411764,\n",
       " 0.45098039215686275,\n",
       " 0.5294117647058824,\n",
       " 0.5098039215686274,\n",
       " 0.5098039215686274,\n",
       " 0.5294117647058824,\n",
       " 0.5098039215686274,\n",
       " 0.5098039215686274,\n",
       " 0.45098039215686275,\n",
       " 0.49019607843137253,\n",
       " 0.4117647058823529,\n",
       " 0.5294117647058824,\n",
       " 0.5098039215686274,\n",
       " 0.5294117647058824,\n",
       " 0.5294117647058824,\n",
       " 0.49019607843137253,\n",
       " 0.47058823529411764,\n",
       " 0.5098039215686274,\n",
       " 0.5098039215686274,\n",
       " 0.49019607843137253,\n",
       " 0.5098039215686274,\n",
       " 0.5294117647058824,\n",
       " 0.49019607843137253,\n",
       " 0.45098039215686275,\n",
       " 0.47058823529411764,\n",
       " 0.47058823529411764,\n",
       " 0.5294117647058824,\n",
       " 0.5098039215686274,\n",
       " 0.47058823529411764,\n",
       " 0.45098039215686275,\n",
       " 0.45098039215686275,\n",
       " 0.5098039215686274,\n",
       " 0.49019607843137253,\n",
       " 0.47058823529411764,\n",
       " 0.47058823529411764,\n",
       " 0.5490196078431373,\n",
       " 0.45098039215686275,\n",
       " 0.43137254901960786,\n",
       " 0.5294117647058824,\n",
       " 0.5098039215686274,\n",
       " 0.5294117647058824,\n",
       " 0.5294117647058824,\n",
       " 0.47058823529411764,\n",
       " 0.49019607843137253,\n",
       " 0.47058823529411764,\n",
       " 0.49019607843137253,\n",
       " 0.47058823529411764,\n",
       " 0.47058823529411764,\n",
       " 0.49019607843137253,\n",
       " 0.5098039215686274,\n",
       " 0.47058823529411764,\n",
       " 0.47058823529411764,\n",
       " 0.45098039215686275,\n",
       " 0.47058823529411764,\n",
       " 0.47058823529411764,\n",
       " 0.49019607843137253,\n",
       " 0.49019607843137253,\n",
       " 0.47058823529411764,\n",
       " 0.45098039215686275,\n",
       " 0.47058823529411764,\n",
       " 0.49019607843137253,\n",
       " 0.47058823529411764,\n",
       " 0.49019607843137253,\n",
       " 0.5098039215686274,\n",
       " 0.5098039215686274,\n",
       " 0.49019607843137253,\n",
       " 0.47058823529411764,\n",
       " 0.47058823529411764,\n",
       " 0.45098039215686275,\n",
       " 0.47058823529411764,\n",
       " 0.5098039215686274,\n",
       " 0.45098039215686275,\n",
       " 0.45098039215686275,\n",
       " 0.37254901960784315,\n",
       " 0.49019607843137253,\n",
       " 0.47058823529411764,\n",
       " 0.5098039215686274,\n",
       " 0.5098039215686274,\n",
       " 0.5294117647058824,\n",
       " 0.5294117647058824,\n",
       " 0.5294117647058824,\n",
       " 0.5490196078431373,\n",
       " 0.5294117647058824,\n",
       " 0.5098039215686274,\n",
       " 0.47058823529411764,\n",
       " 0.49019607843137253,\n",
       " 0.47058823529411764,\n",
       " 0.5098039215686274,\n",
       " 0.5098039215686274,\n",
       " 0.47058823529411764,\n",
       " 0.5098039215686274,\n",
       " 0.5098039215686274,\n",
       " 0.5098039215686274,\n",
       " 0.5098039215686274]"
      ]
     },
     "execution_count": 140,
     "metadata": {},
     "output_type": "execute_result"
    }
   ],
   "source": [
    "test_correct"
   ]
  },
  {
   "cell_type": "code",
   "execution_count": null,
   "metadata": {},
   "outputs": [],
   "source": []
  }
 ],
 "metadata": {
  "kernelspec": {
   "display_name": "Python 3",
   "language": "python",
   "name": "python3"
  },
  "language_info": {
   "codemirror_mode": {
    "name": "ipython",
    "version": 3
   },
   "file_extension": ".py",
   "mimetype": "text/x-python",
   "name": "python",
   "nbconvert_exporter": "python",
   "pygments_lexer": "ipython3",
   "version": "3.12.4"
  }
 },
 "nbformat": 4,
 "nbformat_minor": 2
}
