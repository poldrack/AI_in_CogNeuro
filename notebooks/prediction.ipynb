{
 "cells": [
  {
   "cell_type": "markdown",
   "metadata": {},
   "source": [
    "### Predicting individual differences from fMRI data\n",
    "\n",
    "We will use the data from the Consortium for Neuropsychiatric Phenomics ([Poldrack et al., 2016](https://www.ncbi.nlm.nih.gov/pmc/articles/PMC5139672/)) to examine prediction of individual differences from fMRI data."
   ]
  },
  {
   "cell_type": "code",
   "execution_count": 2,
   "metadata": {},
   "outputs": [],
   "source": [
    "%load_ext autoreload\n",
    "%autoreload 2\n",
    "\n",
    "import pandas as pd\n",
    "import numpy as np\n",
    "import matplotlib.pyplot as plt\n",
    "import seaborn as sns\n",
    "import nibabel as nib\n",
    "import os\n",
    "from pathlib import Path\n",
    "import nilearn\n",
    "import sklearn\n",
    "from nilearn.maskers import NiftiMasker\n",
    "from sklearn.svm import SVC, SVR\n",
    "from sklearn.model_selection import ShuffleSplit, StratifiedShuffleSplit, GridSearchCV\n",
    "from sklearn.linear_model import RidgeCV, SGDClassifier, SGDRegressor\n",
    "from scipy.stats import ks_2samp\n",
    "from nilearn.plotting import plot_stat_map\n",
    "import torch\n",
    "import torch.nn as nn\n",
    "import torch.optim as optim\n",
    "from torch.utils.data import DataLoader, TensorDataset\n",
    "import einops\n",
    "from sklearn.preprocessing import OneHotEncoder\n",
    "from sklearn.feature_selection import SelectKBest, f_classif\n",
    "from sklearn.ensemble import RandomForestRegressor\n",
    "from prediction_utils import (\n",
    "    contrast_dict,\n",
    "    add_pheno_var,\n",
    "    get_data\n",
    ")\n",
    "\n",
    "device = 'mps'"
   ]
  },
  {
   "cell_type": "markdown",
   "metadata": {},
   "source": [
    "### Load the data"
   ]
  },
  {
   "cell_type": "code",
   "execution_count": 3,
   "metadata": {},
   "outputs": [],
   "source": [
    "basedir = Path('/Users/poldrack/data_unsynced/CNP')\n",
    "output_dir = basedir / 'output'\n",
    "if not output_dir.exists():\n",
    "    output_dir.mkdir()\n",
    "\n",
    "\n",
    "task = 'pamret'\n",
    "contrast = 'All'\n",
    "pheno_var = 'age'\n",
    "\n",
    "data, metadata_df, data_img = get_data(basedir, task, contrast, pheno_var,\n",
    "                             patientgroups = ['SCHZ', 'BIPOLAR', 'ADHD'],\n",
    "                             smoothing_fwhm=4)"
   ]
  },
  {
   "cell_type": "markdown",
   "metadata": {},
   "source": [
    "### Continuous prediction is tricky\n",
    "\n",
    "First let's generate a y variable that we know to be correlated with the fMRI data, and make sure that we can predict it.  We will use a Weibull distribution to generate y values that are slightly skewed, like those often seen in real data.\n",
    "\n"
   ]
  },
  {
   "cell_type": "code",
   "execution_count": 4,
   "metadata": {},
   "outputs": [
    {
     "data": {
      "text/plain": [
       "<seaborn.axisgrid.FacetGrid at 0x3306c8fb0>"
      ]
     },
     "execution_count": 4,
     "metadata": {},
     "output_type": "execute_result"
    },
    {
     "data": {
      "image/png": "[encoded data removed]",
      "text/plain": [
       "<Figure size 500x500 with 1 Axes>"
      ]
     },
     "metadata": {},
     "output_type": "display_data"
    }
   ],
   "source": [
    "def make_simulated_y(data, snr=0, weib_param=1.1, seed=None):\n",
    "    rng = np.random.RandomState(seed)\n",
    "    weights = np.random.randn(data.shape[1])\n",
    "    y_sim = data.dot(weights) * snr + rng.weibull(weib_param, size=data.shape[0])\n",
    "    return y_sim\n",
    "\n",
    "y_sim = make_simulated_y(data, snr=0, seed=1234)\n",
    "sns.displot(y_sim, kind='kde')\n"
   ]
  },
  {
   "cell_type": "markdown",
   "metadata": {},
   "source": [
    "Do ridge regression to see how strong the association is."
   ]
  },
  {
   "cell_type": "code",
   "execution_count": 5,
   "metadata": {},
   "outputs": [
    {
     "data": {
      "text/plain": [
       "np.float64(-0.2161306712547651)"
      ]
     },
     "execution_count": 5,
     "metadata": {},
     "output_type": "execute_result"
    }
   ],
   "source": [
    "def run_ssCV(data, target, nsplits=100, test_size=0.3,\n",
    "                seed=None, verbose=False,\n",
    "                clf=None):\n",
    "    ss = ShuffleSplit(n_splits=nsplits,\n",
    "                      test_size=test_size, random_state=seed)\n",
    "    r2 = []\n",
    "    for split_idx, (train_idx, test_idx) in enumerate(ss.split(data)):\n",
    "        train_X = data[train_idx, :]\n",
    "        train_y = target[train_idx]\n",
    "        test_X = data[test_idx, :]\n",
    "        test_y = target[test_idx]\n",
    "\n",
    "        # fit the model\n",
    "        if clf is None:\n",
    "            clf = RidgeCV\n",
    "        model = clf()\n",
    "        model.fit(train_X, train_y)\n",
    "        pred_y = model.predict(test_X)\n",
    "        r2.append(sklearn.metrics.r2_score(test_y, pred_y))\n",
    "        if verbose:\n",
    "            print(f'split {split_idx}: r2={r2[-1]}')\n",
    "\n",
    "    return np.mean(r2)\n",
    "\n",
    "run_ssCV(data, y_sim, seed=12345)"
   ]
  },
  {
   "cell_type": "markdown",
   "metadata": {},
   "source": [
    "Why is the mean r2 negative?"
   ]
  },
  {
   "cell_type": "code",
   "execution_count": 6,
   "metadata": {},
   "outputs": [
    {
     "data": {
      "text/plain": [
       "(np.float64(-0.1653296490083761), RidgeCV())"
      ]
     },
     "execution_count": 6,
     "metadata": {},
     "output_type": "execute_result"
    }
   ],
   "source": [
    "\n",
    "def run_ssCV_equaldist(data, target, nsplits=100, test_size=0.3,\n",
    "                seed=None, verbose=False, splitmult=10000,\n",
    "                pthresh=.999, clf=None, shuffle_y=False):\n",
    "    \n",
    "    ss = ShuffleSplit(n_splits=nsplits*splitmult,\n",
    "                      test_size=test_size, random_state=seed)\n",
    "    r2 = []\n",
    "    if shuffle_y:\n",
    "        target = np.random.permutation(target)\n",
    "    for split_idx, (train_idx, test_idx) in enumerate(ss.split(data)):\n",
    "        if ks_2samp(target[train_idx], target[test_idx]).pvalue < pthresh:\n",
    "            continue\n",
    "        train_X = data[train_idx, :]\n",
    "        train_y = target[train_idx]\n",
    "        test_X = data[test_idx, :]\n",
    "        test_y = target[test_idx]\n",
    "\n",
    "        # fit the model\n",
    "        if clf is None:\n",
    "            clf = RidgeCV()\n",
    "        model = clf\n",
    "        model.fit(train_X, train_y)\n",
    "        pred_y = model.predict(test_X)\n",
    "        r2.append(sklearn.metrics.r2_score(test_y, pred_y))\n",
    "        if verbose:\n",
    "            print(f'split {split_idx}: r2={r2[-1]}')\n",
    "        if len(r2) == nsplits:\n",
    "            break\n",
    "    if verbose:\n",
    "        if len(r2) < nsplits:\n",
    "            print(f'Warning: only {len(r2)} splits completed on {split_idx} attempts')\n",
    "        else:\n",
    "            print(f'Completed {len(r2)} splits on {split_idx} attempts')\n",
    "    return np.mean(r2), clf\n",
    "\n",
    "run_ssCV_equaldist(data, y_sim, seed=23456)[0]"
   ]
  },
  {
   "cell_type": "markdown",
   "metadata": {},
   "source": [
    "Now generate some data with true signal and make sure it works."
   ]
  },
  {
   "cell_type": "code",
   "execution_count": 7,
   "metadata": {},
   "outputs": [
    {
     "name": "stdout",
     "output_type": "stream",
     "text": [
      "0.2995913527353865\n",
      "0.33773564900252495\n"
     ]
    }
   ],
   "source": [
    "y_sim = make_simulated_y(data, snr=1, seed=1234)\n",
    "print('standard shuffle split:', run_ssCV(data, y_sim))\n",
    "print('equal distribution split:', run_ssCV_equaldist(data, y_sim)[0])"
   ]
  },
  {
   "cell_type": "markdown",
   "metadata": {},
   "source": [
    "### Decoding continuous variables across subjects\n",
    "\n",
    "Let's decode age from the fMRI data."
   ]
  },
  {
   "cell_type": "code",
   "execution_count": 8,
   "metadata": {},
   "outputs": [
    {
     "data": {
      "text/plain": [
       "<seaborn.axisgrid.FacetGrid at 0x331307230>"
      ]
     },
     "execution_count": 8,
     "metadata": {},
     "output_type": "execute_result"
    },
    {
     "data": {
      "image/png": "[encoded data removed]",
      "text/plain": [
       "<Figure size 500x500 with 1 Axes>"
      ]
     },
     "metadata": {},
     "output_type": "display_data"
    }
   ],
   "source": [
    "sns.displot(metadata_df[pheno_var])"
   ]
  },
  {
   "cell_type": "code",
   "execution_count": 9,
   "metadata": {},
   "outputs": [
    {
     "name": "stdout",
     "output_type": "stream",
     "text": [
      "Mean accuracy: 0.211\n"
     ]
    }
   ],
   "source": [
    "# use shuffle split\n",
    "\n",
    "acc, _ = run_ssCV_equaldist(data, metadata_df[pheno_var])\n",
    "print(f'Mean accuracy (R-squared): {acc:.3f}')\n",
    "\n"
   ]
  },
  {
   "cell_type": "markdown",
   "metadata": {},
   "source": [
    "How can we determine whether this is greater than what would be expected by chance?"
   ]
  },
  {
   "cell_type": "code",
   "execution_count": null,
   "metadata": {},
   "outputs": [],
   "source": [
    "shuf_acc = [acc] # include the actual accuracy to preven p=0\n",
    "for i in range(500):\n",
    "    shuf_acc.append(run_ssCV_equaldist(data, metadata_df[pheno_var], \n",
    "                                     shuffle_y=True)[0])\n"
   ]
  },
  {
   "cell_type": "code",
   "execution_count": 11,
   "metadata": {},
   "outputs": [
    {
     "name": "stdout",
     "output_type": "stream",
     "text": [
      "p-value under null: 0.002\n"
     ]
    }
   ],
   "source": [
    "pval = np.mean(acc <= np.array(shuf_acc))\n",
    "\n",
    "print(f'p-value under null: {pval:.3f}')"
   ]
  },
  {
   "cell_type": "code",
   "execution_count": 12,
   "metadata": {},
   "outputs": [
    {
     "data": {
      "text/plain": [
       "<matplotlib.legend.Legend at 0x336862060>"
      ]
     },
     "execution_count": 12,
     "metadata": {},
     "output_type": "execute_result"
    },
    {
     "data": {
      "image/png": "[encoded data removed]",
      "text/plain": [
       "<Figure size 640x480 with 1 Axes>"
      ]
     },
     "metadata": {},
     "output_type": "display_data"
    }
   ],
   "source": [
    "plt.hist(shuf_acc, bins=50)\n",
    "plt.axvline(acc, color='r')\n",
    "plt.xlabel('R-squared')\n",
    "plt.ylabel('Frequency')\n",
    "plt.legend(['Actual'])"
   ]
  },
  {
   "cell_type": "code",
   "execution_count": null,
   "metadata": {},
   "outputs": [],
   "source": []
  },
  {
   "cell_type": "code",
   "execution_count": null,
   "metadata": {},
   "outputs": [],
   "source": []
  }
 ],
 "metadata": {
  "kernelspec": {
   "display_name": "Python 3",
   "language": "python",
   "name": "python3"
  },
  "language_info": {
   "codemirror_mode": {
    "name": "ipython",
    "version": 3
   },
   "file_extension": ".py",
   "mimetype": "text/x-python",
   "name": "python",
   "nbconvert_exporter": "python",
   "pygments_lexer": "ipython3",
   "version": "3.12.4"
  }
 },
 "nbformat": 4,
 "nbformat_minor": 2
}
